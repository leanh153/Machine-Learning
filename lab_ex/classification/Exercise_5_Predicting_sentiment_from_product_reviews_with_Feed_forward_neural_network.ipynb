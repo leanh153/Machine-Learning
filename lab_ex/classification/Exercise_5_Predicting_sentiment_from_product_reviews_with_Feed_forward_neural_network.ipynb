{
 "cells": [
  {
   "cell_type": "markdown",
   "metadata": {},
   "source": [
    "# Neural network with scikit-learn\n",
    "\n",
    "The goal of this notebook is to build feed forward neural network model using scikit-learn library to predicting sentiment from product reviews. You will do the following:\n",
    "\n",
    " * Load product reviews.\n",
    " * Implement feed forward neural network model using scikit-learn.\n",
    " * Tuning some parameters."
   ]
  },
  {
   "cell_type": "code",
   "execution_count": 1,
   "metadata": {},
   "outputs": [],
   "source": [
    "# Import some libs\n",
    "\n",
    "import pandas\n",
    "import numpy as np\n",
    "from utils import get_product_reviews_data"
   ]
  },
  {
   "cell_type": "markdown",
   "metadata": {},
   "source": [
    "## Load product reviews dataset\n",
    "Like previous module, we load, preprocess data, convert and split them into train and test datasets. We dont't focus on that in this notebook, so you can just run the following cells. You can check out the load data code inside the folder **utils**."
   ]
  },
  {
   "cell_type": "code",
   "execution_count": 2,
   "metadata": {},
   "outputs": [
    {
     "name": "stdout",
     "output_type": "stream",
     "text": [
      "*****Sentiment data shape*****\n",
      "sentiment_X_train.shape:  (42458, 194)\n",
      "sentiment_y_train.shape:  (42458,)\n",
      "sentiment_X_valid.shape:  (10614, 194)\n",
      "sentiment_y_valid.shape:  (10614,)\n"
     ]
    }
   ],
   "source": [
    "train_set, val_set = get_product_reviews_data()\n",
    "\n",
    "sentiment_X_train, sentiment_y_train = train_set\n",
    "sentiment_X_valid, sentiment_y_valid = val_set"
   ]
  },
  {
   "cell_type": "markdown",
   "metadata": {},
   "source": [
    "# Build Feed forward neural network classifier using scikit learn\n",
    "Now, let's use the built-in Feed forword Neural network learner [sklearn.neural_network.MLPClassifier](https://scikit-learn.org/stable/modules/generated/sklearn.neural_network.MLPClassifier.html#sklearn.neural_network.MLPClassifier).\n",
    "\n",
    "## Chose the hidden layer sizes\n",
    "Lets first check the number of features in each dataset then we will choose the hidden layer size appropriately."
   ]
  },
  {
   "cell_type": "code",
   "execution_count": 3,
   "metadata": {},
   "outputs": [
    {
     "name": "stdout",
     "output_type": "stream",
     "text": [
      "Sentiment feature size:  194\n"
     ]
    }
   ],
   "source": [
    "print (\"Sentiment feature size: \", sentiment_X_train.shape[1])"
   ]
  },
  {
   "cell_type": "markdown",
   "metadata": {},
   "source": [
    "For the sentiment dataset we will choose 2 hidden layers with 64, 8 neurons correspondingly."
   ]
  },
  {
   "cell_type": "code",
   "execution_count": 4,
   "metadata": {},
   "outputs": [
    {
     "name": "stderr",
     "output_type": "stream",
     "text": [
      "/home/leanh/anaconda3/envs/ml-301x/lib/python3.7/site-packages/sklearn/neural_network/_multilayer_perceptron.py:571: ConvergenceWarning: Stochastic Optimizer: Maximum iterations (200) reached and the optimization hasn't converged yet.\n",
      "  % self.max_iter, ConvergenceWarning)\n"
     ]
    },
    {
     "name": "stdout",
     "output_type": "stream",
     "text": [
      "***Sentiment result***\n",
      "Train accuracy: 0.9614206981016534\n",
      "Validation accuracy: 0.7157527793480309\n"
     ]
    }
   ],
   "source": [
    "from sklearn.neural_network import MLPClassifier\n",
    "\n",
    "clf_sentiment = MLPClassifier(solver='adam', alpha=1e-5, activation='relu',\n",
    "                    hidden_layer_sizes=(64, 8), random_state=1)\n",
    "\n",
    "clf_sentiment.fit(sentiment_X_train, sentiment_y_train)\n",
    "\n",
    "print (\"***Sentiment result***\")\n",
    "print(\"Train accuracy: {}\".format(clf_sentiment.score(sentiment_X_train, sentiment_y_train)))\n",
    "print(\"Validation accuracy: {}\".format(clf_sentiment.score(sentiment_X_valid, sentiment_y_valid)))"
   ]
  },
  {
   "cell_type": "markdown",
   "metadata": {},
   "source": [
    "As you can see a simple feed forward neural network can get pretty reasonable results and the neural network can fit the pattern in the train set really well.\n",
    "<br>\n",
    "**Quiz**: What is the validation accuracy?\n",
    "<br>\n",
    "**Your answer**:"
   ]
  },
  {
   "cell_type": "code",
   "execution_count": null,
   "metadata": {},
   "outputs": [],
   "source": []
  }
 ],
 "metadata": {
  "kernelspec": {
   "display_name": "Python 3",
   "language": "python",
   "name": "python3"
  },
  "language_info": {
   "codemirror_mode": {
    "name": "ipython",
    "version": 3
   },
   "file_extension": ".py",
   "mimetype": "text/x-python",
   "name": "python",
   "nbconvert_exporter": "python",
   "pygments_lexer": "ipython3",
   "version": "3.7.7"
  }
 },
 "nbformat": 4,
 "nbformat_minor": 4
}
