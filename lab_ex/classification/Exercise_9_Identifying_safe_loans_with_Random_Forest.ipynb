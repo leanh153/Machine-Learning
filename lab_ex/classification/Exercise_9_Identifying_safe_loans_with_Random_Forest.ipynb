{
 "cells": [
  {
   "cell_type": "markdown",
   "metadata": {},
   "source": [
    "# Naive Bayes and Random forest with scikit-learn\n",
    "\n",
    "The goal of this notebook is to a random forest model using scikit-learn library to identifying safe loans. You will do the following:\n",
    "\n",
    " * Load safe loans datasetse.\n",
    " * Implement random forest model using scikit-learn.\n",
    " * Tuning some parameters."
   ]
  },
  {
   "cell_type": "code",
   "execution_count": 1,
   "metadata": {},
   "outputs": [],
   "source": [
    "# Import some libs\n",
    "\n",
    "import pandas\n",
    "import numpy as np\n",
    "from utils import get_loans_data"
   ]
  },
  {
   "cell_type": "markdown",
   "metadata": {},
   "source": [
    "## Load product reviews dataset\n",
    "Like previous module, we load, preprocess data, convert and split them into train and test datasets. We dont't focus on that in this notebook, so you can just run the following cells. You can check out the load data code inside the folder **utils**."
   ]
  },
  {
   "cell_type": "code",
   "execution_count": 2,
   "metadata": {},
   "outputs": [
    {
     "name": "stdout",
     "output_type": "stream",
     "text": [
      "*****Loans data shape*****\n",
      "loans_X_train.shape:  (37035, 45)\n",
      "loans_y_train.shape:  (37035,)\n",
      "loans_X_valid.shape:  (9259, 45)\n",
      "loans_y_valid.shape:  (9259,)\n"
     ]
    }
   ],
   "source": [
    "train_set, val_set = get_loans_data()\n",
    "\n",
    "loans_X_train, loans_y_train = train_set\n",
    "loans_X_valid, loans_y_valid = val_set"
   ]
  },
  {
   "cell_type": "markdown",
   "metadata": {},
   "source": [
    "# Build Random forest classifiers using scikit learn\n",
    "Now, let's use the built-in Naive Bayes learner [sklearn.ensemble.RandomForestClassifier](https://scikit-learn.org/stable/modules/generated/sklearn.ensemble.RandomForestClassifier.html).\n",
    "## Choosing hyper parameters\n",
    "There are two important hyper parameters when building a random forest classifier which are the number of decision trees and the number of random features at each split; they are corresponding to **n_estimators** and **max_features** in RandomForestClassifier class in scikit-learn. We will use **max_features = 'auto'** which is equal to **sqrt(n_features)**."
   ]
  },
  {
   "cell_type": "code",
   "execution_count": 3,
   "metadata": {},
   "outputs": [
    {
     "name": "stdout",
     "output_type": "stream",
     "text": [
      "***Loans result***\n",
      "Train accuracy: 1.0\n",
      "Validation accuracy: 0.6705907765417431\n"
     ]
    }
   ],
   "source": [
    "from sklearn.ensemble import RandomForestClassifier\n",
    "\n",
    "rf_loans = RandomForestClassifier(n_estimators=500)\n",
    "\n",
    "rf_loans.fit(loans_X_train, loans_y_train)\n",
    "\n",
    "print (\"***Loans result***\")\n",
    "print(\"Train accuracy: {}\".format(rf_loans.score(loans_X_train, loans_y_train)))\n",
    "print(\"Validation accuracy: {}\".format(rf_loans.score(loans_X_valid, loans_y_valid)))"
   ]
  },
  {
   "cell_type": "markdown",
   "metadata": {},
   "source": [
    "As you can see the random forest classifiers take quite a long time to train.\n",
    "<br>\n",
    "**Quiz**: What is the validation accuracy?\n",
    "<br>\n",
    "**Your answer**:"
   ]
  },
  {
   "cell_type": "code",
   "execution_count": null,
   "metadata": {},
   "outputs": [],
   "source": []
  }
 ],
 "metadata": {
  "kernelspec": {
   "display_name": "Python [conda env:machine-learning] *",
   "language": "python",
   "name": "conda-env-machine-learning-py"
  },
  "language_info": {
   "codemirror_mode": {
    "name": "ipython",
    "version": 3
   },
   "file_extension": ".py",
   "mimetype": "text/x-python",
   "name": "python",
   "nbconvert_exporter": "python",
   "pygments_lexer": "ipython3",
   "version": "3.7.7"
  }
 },
 "nbformat": 4,
 "nbformat_minor": 4
}
