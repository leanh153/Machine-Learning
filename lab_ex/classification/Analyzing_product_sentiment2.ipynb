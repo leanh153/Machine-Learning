{
 "cells": [
  {
   "cell_type": "markdown",
   "metadata": {},
   "source": [
    "#Predicting sentiment from product reviews\n",
    "\n",
    "#Fire up GraphLab Create"
   ]
  },
  {
   "cell_type": "code",
   "execution_count": 1,
   "metadata": {},
   "outputs": [
    {
     "name": "stderr",
     "output_type": "stream",
     "text": [
      "[nltk_data] Downloading package punkt to /home/leanh/nltk_data...\n",
      "[nltk_data]   Package punkt is already up-to-date!\n"
     ]
    },
    {
     "data": {
      "text/plain": [
       "True"
      ]
     },
     "execution_count": 1,
     "metadata": {},
     "output_type": "execute_result"
    }
   ],
   "source": [
    "import sklearn, pandas\n",
    "import numpy as np\n",
    "\n",
    "import nltk\n",
    "nltk.download('punkt')"
   ]
  },
  {
   "cell_type": "markdown",
   "metadata": {},
   "source": [
    "#Read some product review data\n",
    "\n",
    "Loading reviews for a set of baby products. "
   ]
  },
  {
   "cell_type": "code",
   "execution_count": 2,
   "metadata": {},
   "outputs": [],
   "source": [
    "#products = graphlab.SFrame('amazon_baby.gl/')\n",
    "products = pandas.read_csv('amazon_baby.csv')"
   ]
  },
  {
   "cell_type": "markdown",
   "metadata": {},
   "source": [
    "#Let's explore this data together\n",
    "\n",
    "Data includes the product name, the review text and the rating of the review. "
   ]
  },
  {
   "cell_type": "code",
   "execution_count": 3,
   "metadata": {},
   "outputs": [
    {
     "data": {
      "text/html": [
       "<div>\n",
       "<style scoped>\n",
       "    .dataframe tbody tr th:only-of-type {\n",
       "        vertical-align: middle;\n",
       "    }\n",
       "\n",
       "    .dataframe tbody tr th {\n",
       "        vertical-align: top;\n",
       "    }\n",
       "\n",
       "    .dataframe thead th {\n",
       "        text-align: right;\n",
       "    }\n",
       "</style>\n",
       "<table border=\"1\" class=\"dataframe\">\n",
       "  <thead>\n",
       "    <tr style=\"text-align: right;\">\n",
       "      <th></th>\n",
       "      <th>name</th>\n",
       "      <th>review</th>\n",
       "      <th>rating</th>\n",
       "    </tr>\n",
       "  </thead>\n",
       "  <tbody>\n",
       "    <tr>\n",
       "      <th>0</th>\n",
       "      <td>Planetwise Flannel Wipes</td>\n",
       "      <td>These flannel wipes are OK, but in my opinion ...</td>\n",
       "      <td>3</td>\n",
       "    </tr>\n",
       "    <tr>\n",
       "      <th>1</th>\n",
       "      <td>Planetwise Wipe Pouch</td>\n",
       "      <td>it came early and was not disappointed. i love...</td>\n",
       "      <td>5</td>\n",
       "    </tr>\n",
       "    <tr>\n",
       "      <th>2</th>\n",
       "      <td>Annas Dream Full Quilt with 2 Shams</td>\n",
       "      <td>Very soft and comfortable and warmer than it l...</td>\n",
       "      <td>5</td>\n",
       "    </tr>\n",
       "    <tr>\n",
       "      <th>3</th>\n",
       "      <td>Stop Pacifier Sucking without tears with Thumb...</td>\n",
       "      <td>This is a product well worth the purchase.  I ...</td>\n",
       "      <td>5</td>\n",
       "    </tr>\n",
       "    <tr>\n",
       "      <th>4</th>\n",
       "      <td>Stop Pacifier Sucking without tears with Thumb...</td>\n",
       "      <td>All of my kids have cried non-stop when I trie...</td>\n",
       "      <td>5</td>\n",
       "    </tr>\n",
       "  </tbody>\n",
       "</table>\n",
       "</div>"
      ],
      "text/plain": [
       "                                                name  \\\n",
       "0                           Planetwise Flannel Wipes   \n",
       "1                              Planetwise Wipe Pouch   \n",
       "2                Annas Dream Full Quilt with 2 Shams   \n",
       "3  Stop Pacifier Sucking without tears with Thumb...   \n",
       "4  Stop Pacifier Sucking without tears with Thumb...   \n",
       "\n",
       "                                              review  rating  \n",
       "0  These flannel wipes are OK, but in my opinion ...       3  \n",
       "1  it came early and was not disappointed. i love...       5  \n",
       "2  Very soft and comfortable and warmer than it l...       5  \n",
       "3  This is a product well worth the purchase.  I ...       5  \n",
       "4  All of my kids have cried non-stop when I trie...       5  "
      ]
     },
     "execution_count": 3,
     "metadata": {},
     "output_type": "execute_result"
    }
   ],
   "source": [
    "products.head()"
   ]
  },
  {
   "cell_type": "markdown",
   "metadata": {},
   "source": [
    "#Build the word count vector for each review"
   ]
  },
  {
   "cell_type": "code",
   "execution_count": 4,
   "metadata": {},
   "outputs": [],
   "source": [
    "#products['review'].dtype\n",
    "from nltk.tokenize import word_tokenize\n",
    "def word_count_function(string):\n",
    "  count = {}\n",
    "  for word in word_tokenize(string.strip()):\n",
    "    count[word] = count.get(word, 0) + 1\n",
    "  return count\n",
    "products['word_count'] = products['review'].map(word_count_function, na_action=\"ignore\")"
   ]
  },
  {
   "cell_type": "code",
   "execution_count": 5,
   "metadata": {},
   "outputs": [
    {
     "data": {
      "text/html": [
       "<div>\n",
       "<style scoped>\n",
       "    .dataframe tbody tr th:only-of-type {\n",
       "        vertical-align: middle;\n",
       "    }\n",
       "\n",
       "    .dataframe tbody tr th {\n",
       "        vertical-align: top;\n",
       "    }\n",
       "\n",
       "    .dataframe thead th {\n",
       "        text-align: right;\n",
       "    }\n",
       "</style>\n",
       "<table border=\"1\" class=\"dataframe\">\n",
       "  <thead>\n",
       "    <tr style=\"text-align: right;\">\n",
       "      <th></th>\n",
       "      <th>name</th>\n",
       "      <th>review</th>\n",
       "      <th>rating</th>\n",
       "      <th>word_count</th>\n",
       "    </tr>\n",
       "  </thead>\n",
       "  <tbody>\n",
       "    <tr>\n",
       "      <th>0</th>\n",
       "      <td>Planetwise Flannel Wipes</td>\n",
       "      <td>These flannel wipes are OK, but in my opinion ...</td>\n",
       "      <td>3</td>\n",
       "      <td>{'These': 1, 'flannel': 1, 'wipes': 2, 'are': ...</td>\n",
       "    </tr>\n",
       "    <tr>\n",
       "      <th>1</th>\n",
       "      <td>Planetwise Wipe Pouch</td>\n",
       "      <td>it came early and was not disappointed. i love...</td>\n",
       "      <td>5</td>\n",
       "      <td>{'it': 3, 'came': 1, 'early': 1, 'and': 3, 'wa...</td>\n",
       "    </tr>\n",
       "    <tr>\n",
       "      <th>2</th>\n",
       "      <td>Annas Dream Full Quilt with 2 Shams</td>\n",
       "      <td>Very soft and comfortable and warmer than it l...</td>\n",
       "      <td>5</td>\n",
       "      <td>{'Very': 1, 'soft': 1, 'and': 2, 'comfortable'...</td>\n",
       "    </tr>\n",
       "    <tr>\n",
       "      <th>3</th>\n",
       "      <td>Stop Pacifier Sucking without tears with Thumb...</td>\n",
       "      <td>This is a product well worth the purchase.  I ...</td>\n",
       "      <td>5</td>\n",
       "      <td>{'This': 1, 'is': 4, 'a': 2, 'product': 2, 'we...</td>\n",
       "    </tr>\n",
       "    <tr>\n",
       "      <th>4</th>\n",
       "      <td>Stop Pacifier Sucking without tears with Thumb...</td>\n",
       "      <td>All of my kids have cried non-stop when I trie...</td>\n",
       "      <td>5</td>\n",
       "      <td>{'All': 1, 'of': 1, 'my': 1, 'kids': 2, 'have'...</td>\n",
       "    </tr>\n",
       "  </tbody>\n",
       "</table>\n",
       "</div>"
      ],
      "text/plain": [
       "                                                name  \\\n",
       "0                           Planetwise Flannel Wipes   \n",
       "1                              Planetwise Wipe Pouch   \n",
       "2                Annas Dream Full Quilt with 2 Shams   \n",
       "3  Stop Pacifier Sucking without tears with Thumb...   \n",
       "4  Stop Pacifier Sucking without tears with Thumb...   \n",
       "\n",
       "                                              review  rating  \\\n",
       "0  These flannel wipes are OK, but in my opinion ...       3   \n",
       "1  it came early and was not disappointed. i love...       5   \n",
       "2  Very soft and comfortable and warmer than it l...       5   \n",
       "3  This is a product well worth the purchase.  I ...       5   \n",
       "4  All of my kids have cried non-stop when I trie...       5   \n",
       "\n",
       "                                          word_count  \n",
       "0  {'These': 1, 'flannel': 1, 'wipes': 2, 'are': ...  \n",
       "1  {'it': 3, 'came': 1, 'early': 1, 'and': 3, 'wa...  \n",
       "2  {'Very': 1, 'soft': 1, 'and': 2, 'comfortable'...  \n",
       "3  {'This': 1, 'is': 4, 'a': 2, 'product': 2, 'we...  \n",
       "4  {'All': 1, 'of': 1, 'my': 1, 'kids': 2, 'have'...  "
      ]
     },
     "execution_count": 5,
     "metadata": {},
     "output_type": "execute_result"
    }
   ],
   "source": [
    "products.head()"
   ]
  },
  {
   "cell_type": "code",
   "execution_count": 6,
   "metadata": {},
   "outputs": [],
   "source": [
    "#graphlab.canvas.set_target('ipynb')\n",
    "import matplotlib.pyplot as plt\n",
    "%matplotlib inline"
   ]
  },
  {
   "cell_type": "code",
   "execution_count": 7,
   "metadata": {},
   "outputs": [
    {
     "name": "stdout",
     "output_type": "stream",
     "text": [
      "[('Vulli Sophie the Giraffe Teether', 785), ('Simple Wishes Hands-Free Breastpump Bra, Pink, XS-L', 562), ('Infant Optics DXR-5 2.4 GHz Digital Video Baby Monitor with Night Vision', 561), ('Baby Einstein Take Along Tunes', 547), ('Cloud b Twilight Constellation Night Light, Turtle', 520)]\n"
     ]
    }
   ],
   "source": [
    "#products['name'].show()\n",
    "#products['name'].dropna().apply(pandas.value_counts) #.plot(kind='bar')\n",
    "from collections import Counter\n",
    "product_counter = Counter(products['name'].dropna().values)\n",
    "print(product_counter.most_common(5))"
   ]
  },
  {
   "cell_type": "code",
   "execution_count": 8,
   "metadata": {},
   "outputs": [
    {
     "data": {
      "image/png": "[encoded data removed]",
      "text/plain": [
       "<Figure size 432x288 with 1 Axes>"
      ]
     },
     "metadata": {
      "needs_background": "light"
     },
     "output_type": "display_data"
    }
   ],
   "source": [
    "# Plot the products with the most reviews\n",
    "best_products_plotted = 20\n",
    "products_plotted = product_counter.most_common(best_products_plotted)\n",
    "counter_labels, counts = zip(*products_plotted)\n",
    "counter_pos = np.arange(best_products_plotted)\n",
    "plt.barh(counter_pos, counts)\n",
    "plt.yticks(counter_pos, counter_labels)\n",
    "plt.show()"
   ]
  },
  {
   "cell_type": "markdown",
   "metadata": {
    "collapsed": true
   },
   "source": [
    "#Examining the reviews for most-sold product:  'Vulli Sophie the Giraffe Teether'"
   ]
  },
  {
   "cell_type": "code",
   "execution_count": 9,
   "metadata": {},
   "outputs": [],
   "source": [
    "giraffe_reviews = products.loc[products['name'] == 'Vulli Sophie the Giraffe Teether']"
   ]
  },
  {
   "cell_type": "code",
   "execution_count": 10,
   "metadata": {},
   "outputs": [
    {
     "data": {
      "text/plain": [
       "785"
      ]
     },
     "execution_count": 10,
     "metadata": {},
     "output_type": "execute_result"
    }
   ],
   "source": [
    "len(giraffe_reviews)"
   ]
  },
  {
   "cell_type": "code",
   "execution_count": 11,
   "metadata": {},
   "outputs": [
    {
     "data": {
      "image/png": "[encoded data removed]",
      "text/plain": [
       "<Figure size 432x288 with 1 Axes>"
      ]
     },
     "metadata": {
      "needs_background": "light"
     },
     "output_type": "display_data"
    }
   ],
   "source": [
    "#giraffe_reviews['rating'].show(view='Categorical')\n",
    "rating_counter = Counter(giraffe_reviews['rating'].values)\n",
    "counter_pos = np.arange(len(rating_counter))\n",
    "counter_labels, counts = zip(*rating_counter.items())\n",
    "plt.bar(counter_pos, counts)\n",
    "plt.xticks(counter_pos, counter_labels)\n",
    "for i, v in enumerate(counts):\n",
    "    plt.text(x=i, y=v+4.0, s=str(v), horizontalalignment='center', color='black', fontweight=\"bold\")\n",
    "plt.show()"
   ]
  },
  {
   "cell_type": "markdown",
   "metadata": {},
   "source": [
    "#Build a sentiment classifier"
   ]
  },
  {
   "cell_type": "code",
   "execution_count": 12,
   "metadata": {},
   "outputs": [
    {
     "data": {
      "image/png": "[encoded data removed]",
      "text/plain": [
       "<Figure size 432x288 with 1 Axes>"
      ]
     },
     "metadata": {
      "needs_background": "light"
     },
     "output_type": "display_data"
    }
   ],
   "source": [
    "#products['rating'].show(view='Categorical')\n",
    "rating_counter = Counter(products['rating'].values)\n",
    "counter_pos = np.arange(len(rating_counter))\n",
    "counter_labels, counts = zip(*rating_counter.items())\n",
    "plt.bar(counter_pos, counts)\n",
    "plt.xticks(counter_pos, counter_labels)\n",
    "for i, v in enumerate(counts):\n",
    "    plt.text(x=i, y=v+500.0, s=str(v), horizontalalignment='center', color='black', fontweight=\"bold\")\n",
    "plt.show()"
   ]
  },
  {
   "cell_type": "markdown",
   "metadata": {},
   "source": [
    "##Define what's a positive and a negative sentiment\n",
    "\n",
    "We will ignore all reviews with rating = 3, since they tend to have a neutral sentiment.  Reviews with a rating of 4 or higher will be considered positive, while the ones with rating of 2 or lower will have a negative sentiment.   "
   ]
  },
  {
   "cell_type": "code",
   "execution_count": 13,
   "metadata": {},
   "outputs": [],
   "source": [
    "#ignore all 3* reviews\n",
    "products = products.loc[products['rating'] != 3]"
   ]
  },
  {
   "cell_type": "code",
   "execution_count": 14,
   "metadata": {},
   "outputs": [],
   "source": [
    "#positive sentiment = 4* or 5* reviews\n",
    "products['sentiment'] = products['rating'] >=4"
   ]
  },
  {
   "cell_type": "code",
   "execution_count": 15,
   "metadata": {},
   "outputs": [
    {
     "data": {
      "text/html": [
       "<div>\n",
       "<style scoped>\n",
       "    .dataframe tbody tr th:only-of-type {\n",
       "        vertical-align: middle;\n",
       "    }\n",
       "\n",
       "    .dataframe tbody tr th {\n",
       "        vertical-align: top;\n",
       "    }\n",
       "\n",
       "    .dataframe thead th {\n",
       "        text-align: right;\n",
       "    }\n",
       "</style>\n",
       "<table border=\"1\" class=\"dataframe\">\n",
       "  <thead>\n",
       "    <tr style=\"text-align: right;\">\n",
       "      <th></th>\n",
       "      <th>name</th>\n",
       "      <th>review</th>\n",
       "      <th>rating</th>\n",
       "      <th>word_count</th>\n",
       "      <th>sentiment</th>\n",
       "    </tr>\n",
       "  </thead>\n",
       "  <tbody>\n",
       "    <tr>\n",
       "      <th>1</th>\n",
       "      <td>Planetwise Wipe Pouch</td>\n",
       "      <td>it came early and was not disappointed. i love...</td>\n",
       "      <td>5</td>\n",
       "      <td>{'it': 3, 'came': 1, 'early': 1, 'and': 3, 'wa...</td>\n",
       "      <td>True</td>\n",
       "    </tr>\n",
       "    <tr>\n",
       "      <th>2</th>\n",
       "      <td>Annas Dream Full Quilt with 2 Shams</td>\n",
       "      <td>Very soft and comfortable and warmer than it l...</td>\n",
       "      <td>5</td>\n",
       "      <td>{'Very': 1, 'soft': 1, 'and': 2, 'comfortable'...</td>\n",
       "      <td>True</td>\n",
       "    </tr>\n",
       "    <tr>\n",
       "      <th>3</th>\n",
       "      <td>Stop Pacifier Sucking without tears with Thumb...</td>\n",
       "      <td>This is a product well worth the purchase.  I ...</td>\n",
       "      <td>5</td>\n",
       "      <td>{'This': 1, 'is': 4, 'a': 2, 'product': 2, 'we...</td>\n",
       "      <td>True</td>\n",
       "    </tr>\n",
       "    <tr>\n",
       "      <th>4</th>\n",
       "      <td>Stop Pacifier Sucking without tears with Thumb...</td>\n",
       "      <td>All of my kids have cried non-stop when I trie...</td>\n",
       "      <td>5</td>\n",
       "      <td>{'All': 1, 'of': 1, 'my': 1, 'kids': 2, 'have'...</td>\n",
       "      <td>True</td>\n",
       "    </tr>\n",
       "    <tr>\n",
       "      <th>5</th>\n",
       "      <td>Stop Pacifier Sucking without tears with Thumb...</td>\n",
       "      <td>When the Binky Fairy came to our house, we did...</td>\n",
       "      <td>5</td>\n",
       "      <td>{'When': 1, 'the': 5, 'Binky': 3, 'Fairy': 3, ...</td>\n",
       "      <td>True</td>\n",
       "    </tr>\n",
       "  </tbody>\n",
       "</table>\n",
       "</div>"
      ],
      "text/plain": [
       "                                                name  \\\n",
       "1                              Planetwise Wipe Pouch   \n",
       "2                Annas Dream Full Quilt with 2 Shams   \n",
       "3  Stop Pacifier Sucking without tears with Thumb...   \n",
       "4  Stop Pacifier Sucking without tears with Thumb...   \n",
       "5  Stop Pacifier Sucking without tears with Thumb...   \n",
       "\n",
       "                                              review  rating  \\\n",
       "1  it came early and was not disappointed. i love...       5   \n",
       "2  Very soft and comfortable and warmer than it l...       5   \n",
       "3  This is a product well worth the purchase.  I ...       5   \n",
       "4  All of my kids have cried non-stop when I trie...       5   \n",
       "5  When the Binky Fairy came to our house, we did...       5   \n",
       "\n",
       "                                          word_count  sentiment  \n",
       "1  {'it': 3, 'came': 1, 'early': 1, 'and': 3, 'wa...       True  \n",
       "2  {'Very': 1, 'soft': 1, 'and': 2, 'comfortable'...       True  \n",
       "3  {'This': 1, 'is': 4, 'a': 2, 'product': 2, 'we...       True  \n",
       "4  {'All': 1, 'of': 1, 'my': 1, 'kids': 2, 'have'...       True  \n",
       "5  {'When': 1, 'the': 5, 'Binky': 3, 'Fairy': 3, ...       True  "
      ]
     },
     "execution_count": 15,
     "metadata": {},
     "output_type": "execute_result"
    }
   ],
   "source": [
    "products.head()"
   ]
  },
  {
   "cell_type": "markdown",
   "metadata": {},
   "source": [
    "##Let's train the sentiment classifier"
   ]
  },
  {
   "cell_type": "code",
   "execution_count": 16,
   "metadata": {},
   "outputs": [
    {
     "name": "stdout",
     "output_type": "stream",
     "text": [
      "132780 33195\n"
     ]
    }
   ],
   "source": [
    "from sklearn.model_selection import train_test_split\n",
    "train_data, test_data = train_test_split(products.dropna(subset=(\"review\", \"sentiment\")), train_size=0.8, test_size=0.2, random_state=0)\n",
    "#train_data,test_data = products.random_split(.8, seed=0)\n",
    "print(len(train_data), len(test_data))"
   ]
  },
  {
   "cell_type": "code",
   "execution_count": 17,
   "metadata": {},
   "outputs": [],
   "source": [
    "# create training and test data\n",
    "from sklearn.feature_extraction.text import CountVectorizer\n",
    "vectorizer = CountVectorizer(tokenizer=word_tokenize)\n",
    "train_features = vectorizer.fit_transform(train_data['review'].values)\n",
    "train_labels = train_data['sentiment'].astype(int).values\n",
    "test_features = vectorizer.transform(test_data['review'].values)\n",
    "test_labels = test_data['sentiment'].astype(int).values"
   ]
  },
  {
   "cell_type": "code",
   "execution_count": 18,
   "metadata": {},
   "outputs": [
    {
     "name": "stderr",
     "output_type": "stream",
     "text": [
      "/home/leanh/anaconda3/envs/ml-301x/lib/python3.7/site-packages/sklearn/linear_model/_logistic.py:940: ConvergenceWarning: lbfgs failed to converge (status=1):\n",
      "STOP: TOTAL NO. of ITERATIONS REACHED LIMIT.\n",
      "\n",
      "Increase the number of iterations (max_iter) or scale the data as shown in:\n",
      "    https://scikit-learn.org/stable/modules/preprocessing.html\n",
      "Please also refer to the documentation for alternative solver options:\n",
      "    https://scikit-learn.org/stable/modules/linear_model.html#logistic-regression\n",
      "  extra_warning_msg=_LOGISTIC_SOLVER_CONVERGENCE_MSG)\n"
     ]
    }
   ],
   "source": [
    "#sentiment_model = graphlab.logistic_classifier.create(train_data,\n",
    "#                                                     target='sentiment',\n",
    "#                                                     features=['word_count'],\n",
    "#                                                     validation_set=test_data)\n",
    "from sklearn.linear_model import LogisticRegression\n",
    "sentiment_model = LogisticRegression(max_iter=1000).fit(train_features, train_labels)"
   ]
  },
  {
   "cell_type": "markdown",
   "metadata": {},
   "source": [
    "#Evaluate the sentiment model"
   ]
  },
  {
   "cell_type": "code",
   "execution_count": 19,
   "metadata": {},
   "outputs": [
    {
     "name": "stdout",
     "output_type": "stream",
     "text": [
      "[[1.17978642e-04 9.99882021e-01]\n",
      " [9.99986006e-01 1.39942467e-05]]\n",
      "[1 0]\n"
     ]
    }
   ],
   "source": [
    "print(sentiment_model.predict_proba(test_features[:2]))\n",
    "print(sentiment_model.predict(test_features[:2]))"
   ]
  },
  {
   "cell_type": "code",
   "execution_count": 24,
   "metadata": {},
   "outputs": [
    {
     "name": "stdout",
     "output_type": "stream",
     "text": [
      "Model score: 0.9353215845759904\n",
      "FPR/TPR amount: 3283 3283\n"
     ]
    },
    {
     "data": {
      "image/png": "[encoded data removed]",
      "text/plain": [
       "<Figure size 432x288 with 1 Axes>"
      ]
     },
     "metadata": {
      "needs_background": "light"
     },
     "output_type": "display_data"
    }
   ],
   "source": [
    "#sentiment_model.evaluate(test_data, metric='roc_curve')\n",
    "from sklearn.metrics import roc_curve, roc_auc_score, auc\n",
    "#print(\"Model predict proba\", sentiment_model.predict_proba(test_features))\n",
    "#print(\"Model predict proba column 2\", sentiment_model.predict_proba(test_features)[:,1])\n",
    "test_predictions = sentiment_model.predict_proba(test_features)[:, 1]\n",
    "fpr, tpr, threshold = roc_curve(test_labels, test_predictions)\n",
    "roc_auc = auc(fpr, tpr)\n",
    "print(\"Model score:\", sentiment_model.score(test_features, test_labels))\n",
    "print(\"FPR/TPR amount:\", len(fpr), len(tpr))\n",
    "\n",
    "plt.plot(fpr, tpr, 'b', label = 'AUC = %0.2f' % roc_auc)\n",
    "plt.plot([0, 1], [0, 1],'r--')\n",
    "plt.xlim([0, 1])\n",
    "plt.ylim([0, 1])\n",
    "plt.ylabel('True Positive Rate')\n",
    "plt.xlabel('False Positive Rate')\n",
    "plt.legend(loc = 'lower right')\n",
    "plt.show()"
   ]
  },
  {
   "cell_type": "code",
   "execution_count": 22,
   "metadata": {},
   "outputs": [],
   "source": [
    "#sentiment_model.show(view='Evaluation')"
   ]
  },
  {
   "cell_type": "markdown",
   "metadata": {},
   "source": [
    "#Applying the learned model to understand sentiment for Giraffe"
   ]
  },
  {
   "cell_type": "code",
   "execution_count": 23,
   "metadata": {},
   "outputs": [],
   "source": [
    "giraffe_reviews = giraffe_reviews.dropna(subset=['review'])\n",
    "giraffe_reviews_features = vectorizer.transform(giraffe_reviews['review'].values)\n",
    "giraffe_reviews['predicted_sentiment'] = sentiment_model.predict_proba(giraffe_reviews_features)[:, 1]"
   ]
  },
  {
   "cell_type": "code",
   "execution_count": 24,
   "metadata": {},
   "outputs": [
    {
     "data": {
      "text/html": [
       "<div>\n",
       "<style scoped>\n",
       "    .dataframe tbody tr th:only-of-type {\n",
       "        vertical-align: middle;\n",
       "    }\n",
       "\n",
       "    .dataframe tbody tr th {\n",
       "        vertical-align: top;\n",
       "    }\n",
       "\n",
       "    .dataframe thead th {\n",
       "        text-align: right;\n",
       "    }\n",
       "</style>\n",
       "<table border=\"1\" class=\"dataframe\">\n",
       "  <thead>\n",
       "    <tr style=\"text-align: right;\">\n",
       "      <th></th>\n",
       "      <th>name</th>\n",
       "      <th>review</th>\n",
       "      <th>rating</th>\n",
       "      <th>word_count</th>\n",
       "      <th>predicted_sentiment</th>\n",
       "    </tr>\n",
       "  </thead>\n",
       "  <tbody>\n",
       "    <tr>\n",
       "      <th>34313</th>\n",
       "      <td>Vulli Sophie the Giraffe Teether</td>\n",
       "      <td>He likes chewing on all the parts especially t...</td>\n",
       "      <td>5</td>\n",
       "      <td>{'of': 1, 'he': 1, 'because': 1, 'the': 3, '.'...</td>\n",
       "      <td>0.998953</td>\n",
       "    </tr>\n",
       "    <tr>\n",
       "      <th>34314</th>\n",
       "      <td>Vulli Sophie the Giraffe Teether</td>\n",
       "      <td>My son loves this toy and fits great in the di...</td>\n",
       "      <td>5</td>\n",
       "      <td>{'son': 1, 'great': 1, 'a': 1, 'just': 1, 'fit...</td>\n",
       "      <td>0.999739</td>\n",
       "    </tr>\n",
       "    <tr>\n",
       "      <th>34315</th>\n",
       "      <td>Vulli Sophie the Giraffe Teether</td>\n",
       "      <td>There really should be a large warning on the ...</td>\n",
       "      <td>1</td>\n",
       "      <td>{'.': 2, '2011': 1, 'for': 1, 'should': 1, 'be...</td>\n",
       "      <td>0.172617</td>\n",
       "    </tr>\n",
       "    <tr>\n",
       "      <th>34316</th>\n",
       "      <td>Vulli Sophie the Giraffe Teether</td>\n",
       "      <td>All the moms in my moms\\' group got Sophie for...</td>\n",
       "      <td>5</td>\n",
       "      <td>{'do': 1, 'for': 1, 'was': 1, 'another': 1, 't...</td>\n",
       "      <td>0.976369</td>\n",
       "    </tr>\n",
       "    <tr>\n",
       "      <th>34317</th>\n",
       "      <td>Vulli Sophie the Giraffe Teether</td>\n",
       "      <td>I was a little skeptical on whether Sophie was...</td>\n",
       "      <td>5</td>\n",
       "      <td>{'Everything': 1, 'He': 1, 'for': 1, 'going': ...</td>\n",
       "      <td>0.396807</td>\n",
       "    </tr>\n",
       "  </tbody>\n",
       "</table>\n",
       "</div>"
      ],
      "text/plain": [
       "                                   name  \\\n",
       "34313  Vulli Sophie the Giraffe Teether   \n",
       "34314  Vulli Sophie the Giraffe Teether   \n",
       "34315  Vulli Sophie the Giraffe Teether   \n",
       "34316  Vulli Sophie the Giraffe Teether   \n",
       "34317  Vulli Sophie the Giraffe Teether   \n",
       "\n",
       "                                                  review  rating  \\\n",
       "34313  He likes chewing on all the parts especially t...       5   \n",
       "34314  My son loves this toy and fits great in the di...       5   \n",
       "34315  There really should be a large warning on the ...       1   \n",
       "34316  All the moms in my moms\\' group got Sophie for...       5   \n",
       "34317  I was a little skeptical on whether Sophie was...       5   \n",
       "\n",
       "                                              word_count  predicted_sentiment  \n",
       "34313  {'of': 1, 'he': 1, 'because': 1, 'the': 3, '.'...             0.998953  \n",
       "34314  {'son': 1, 'great': 1, 'a': 1, 'just': 1, 'fit...             0.999739  \n",
       "34315  {'.': 2, '2011': 1, 'for': 1, 'should': 1, 'be...             0.172617  \n",
       "34316  {'do': 1, 'for': 1, 'was': 1, 'another': 1, 't...             0.976369  \n",
       "34317  {'Everything': 1, 'He': 1, 'for': 1, 'going': ...             0.396807  "
      ]
     },
     "execution_count": 24,
     "metadata": {},
     "output_type": "execute_result"
    }
   ],
   "source": [
    "giraffe_reviews.head()"
   ]
  },
  {
   "cell_type": "markdown",
   "metadata": {},
   "source": [
    "##Sort the reviews based on the predicted sentiment and explore"
   ]
  },
  {
   "cell_type": "code",
   "execution_count": 25,
   "metadata": {},
   "outputs": [],
   "source": [
    "giraffe_reviews = giraffe_reviews.sort_values('predicted_sentiment', ascending=False)"
   ]
  },
  {
   "cell_type": "code",
   "execution_count": 26,
   "metadata": {},
   "outputs": [
    {
     "data": {
      "text/html": [
       "<div>\n",
       "<style scoped>\n",
       "    .dataframe tbody tr th:only-of-type {\n",
       "        vertical-align: middle;\n",
       "    }\n",
       "\n",
       "    .dataframe tbody tr th {\n",
       "        vertical-align: top;\n",
       "    }\n",
       "\n",
       "    .dataframe thead th {\n",
       "        text-align: right;\n",
       "    }\n",
       "</style>\n",
       "<table border=\"1\" class=\"dataframe\">\n",
       "  <thead>\n",
       "    <tr style=\"text-align: right;\">\n",
       "      <th></th>\n",
       "      <th>name</th>\n",
       "      <th>review</th>\n",
       "      <th>rating</th>\n",
       "      <th>word_count</th>\n",
       "      <th>predicted_sentiment</th>\n",
       "    </tr>\n",
       "  </thead>\n",
       "  <tbody>\n",
       "    <tr>\n",
       "      <th>34892</th>\n",
       "      <td>Vulli Sophie the Giraffe Teether</td>\n",
       "      <td>Sophie, oh Sophie, your time has come. My gran...</td>\n",
       "      <td>5</td>\n",
       "      <td>{'unheard': 1, 'mouth': 1, 'prisrob': 1, 'for'...</td>\n",
       "      <td>1.0</td>\n",
       "    </tr>\n",
       "    <tr>\n",
       "      <th>34434</th>\n",
       "      <td>Vulli Sophie the Giraffe Teether</td>\n",
       "      <td>My Mom-in-Law bought Sophie for my son when he...</td>\n",
       "      <td>5</td>\n",
       "      <td>{'seem': 1, 'for': 3, 'he\\': 2, '''': 1, 'as':...</td>\n",
       "      <td>1.0</td>\n",
       "    </tr>\n",
       "    <tr>\n",
       "      <th>34515</th>\n",
       "      <td>Vulli Sophie the Giraffe Teether</td>\n",
       "      <td>As every mom knows, you always want to give yo...</td>\n",
       "      <td>5</td>\n",
       "      <td>{'for': 6, 'girl': 3, 'every': 1, 'long': 1, '...</td>\n",
       "      <td>1.0</td>\n",
       "    </tr>\n",
       "    <tr>\n",
       "      <th>34442</th>\n",
       "      <td>Vulli Sophie the Giraffe Teether</td>\n",
       "      <td>Yes, it\\'s imported. Yes, it\\'s expensive. And...</td>\n",
       "      <td>5</td>\n",
       "      <td>{'mouth': 3, 'great': 1, 'for': 2, 'at': 1, 'n...</td>\n",
       "      <td>1.0</td>\n",
       "    </tr>\n",
       "    <tr>\n",
       "      <th>34746</th>\n",
       "      <td>Vulli Sophie the Giraffe Teether</td>\n",
       "      <td>Sophie the Giraffe is the perfect teething toy...</td>\n",
       "      <td>5</td>\n",
       "      <td>{'gnawed': 1, 'for': 3, 'makes': 1, 'price': 1...</td>\n",
       "      <td>1.0</td>\n",
       "    </tr>\n",
       "  </tbody>\n",
       "</table>\n",
       "</div>"
      ],
      "text/plain": [
       "                                   name  \\\n",
       "34892  Vulli Sophie the Giraffe Teether   \n",
       "34434  Vulli Sophie the Giraffe Teether   \n",
       "34515  Vulli Sophie the Giraffe Teether   \n",
       "34442  Vulli Sophie the Giraffe Teether   \n",
       "34746  Vulli Sophie the Giraffe Teether   \n",
       "\n",
       "                                                  review  rating  \\\n",
       "34892  Sophie, oh Sophie, your time has come. My gran...       5   \n",
       "34434  My Mom-in-Law bought Sophie for my son when he...       5   \n",
       "34515  As every mom knows, you always want to give yo...       5   \n",
       "34442  Yes, it\\'s imported. Yes, it\\'s expensive. And...       5   \n",
       "34746  Sophie the Giraffe is the perfect teething toy...       5   \n",
       "\n",
       "                                              word_count  predicted_sentiment  \n",
       "34892  {'unheard': 1, 'mouth': 1, 'prisrob': 1, 'for'...                  1.0  \n",
       "34434  {'seem': 1, 'for': 3, 'he\\': 2, '''': 1, 'as':...                  1.0  \n",
       "34515  {'for': 6, 'girl': 3, 'every': 1, 'long': 1, '...                  1.0  \n",
       "34442  {'mouth': 3, 'great': 1, 'for': 2, 'at': 1, 'n...                  1.0  \n",
       "34746  {'gnawed': 1, 'for': 3, 'makes': 1, 'price': 1...                  1.0  "
      ]
     },
     "execution_count": 26,
     "metadata": {},
     "output_type": "execute_result"
    }
   ],
   "source": [
    "giraffe_reviews.head()"
   ]
  },
  {
   "cell_type": "markdown",
   "metadata": {},
   "source": [
    "##Most positive reviews for the giraffe"
   ]
  },
  {
   "cell_type": "code",
   "execution_count": null,
   "metadata": {},
   "outputs": [],
   "source": [
    "giraffe_reviews['review'].values[0]"
   ]
  },
  {
   "cell_type": "code",
   "execution_count": null,
   "metadata": {},
   "outputs": [],
   "source": [
    "giraffe_reviews['review'].values[1]"
   ]
  },
  {
   "cell_type": "markdown",
   "metadata": {},
   "source": [
    "##Show most negative reviews for giraffe"
   ]
  },
  {
   "cell_type": "code",
   "execution_count": null,
   "metadata": {},
   "outputs": [],
   "source": [
    "giraffe_reviews['review'].values[-1]"
   ]
  },
  {
   "cell_type": "code",
   "execution_count": null,
   "metadata": {},
   "outputs": [],
   "source": [
    "giraffe_reviews['review'].values[-2]"
   ]
  },
  {
   "cell_type": "code",
   "execution_count": null,
   "metadata": {},
   "outputs": [],
   "source": []
  }
 ],
 "metadata": {
  "kernelspec": {
   "display_name": "Python 3",
   "language": "python",
   "name": "python3"
  },
  "language_info": {
   "codemirror_mode": {
    "name": "ipython",
    "version": 3
   },
   "file_extension": ".py",
   "mimetype": "text/x-python",
   "name": "python",
   "nbconvert_exporter": "python",
   "pygments_lexer": "ipython3",
   "version": "3.7.6"
  }
 },
 "nbformat": 4,
 "nbformat_minor": 1
}
