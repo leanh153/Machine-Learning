{
 "cells": [
  {
   "cell_type": "markdown",
   "metadata": {},
   "source": [
    "# Naive Bayes with scikit-learn\n",
    "\n",
    "The goal of this notebook is to build naive bayes model using scikit-learn library to predicting sentiment from product reviews. You will do the following:\n",
    "\n",
    " * Load product reviews.\n",
    " * Implement naive bayes model using scikit-learn."
   ]
  },
  {
   "cell_type": "code",
   "execution_count": 1,
   "metadata": {},
   "outputs": [],
   "source": [
    "# Import some libs\n",
    "\n",
    "import pandas\n",
    "import numpy as np\n",
    "from utils import get_product_reviews_data"
   ]
  },
  {
   "cell_type": "markdown",
   "metadata": {},
   "source": [
    "## Load product reviews dataset\n",
    "Like previous module, we load, preprocess data, convert and split them into train and test datasets. We dont't focus on that in this notebook, so you can just run the following cells. You can check out the load data code inside the folder **utils**."
   ]
  },
  {
   "cell_type": "code",
   "execution_count": 2,
   "metadata": {},
   "outputs": [
    {
     "name": "stdout",
     "output_type": "stream",
     "text": [
      "*****Sentiment data shape*****\n",
      "sentiment_X_train.shape:  (42458, 194)\n",
      "sentiment_y_train.shape:  (42458,)\n",
      "sentiment_X_valid.shape:  (10614, 194)\n",
      "sentiment_y_valid.shape:  (10614,)\n"
     ]
    }
   ],
   "source": [
    "train_set, val_set = get_product_reviews_data()\n",
    "\n",
    "sentiment_X_train, sentiment_y_train = train_set\n",
    "sentiment_X_valid, sentiment_y_valid = val_set"
   ]
  },
  {
   "cell_type": "markdown",
   "metadata": {},
   "source": [
    "# Build Naive Bayes classifiers using scikit learn\n",
    "Now, let's use the built-in Naive Bayes learner [Naive Bayes](https://scikit-learn.org/stable/modules/naive_bayes.html). We will check the type of the data and we will use appropriate Naive Bayes for each type of data. We will use **Multinomial Naive Bayes** since the product reviews dataset's features are words count."
   ]
  },
  {
   "cell_type": "code",
   "execution_count": 3,
   "metadata": {},
   "outputs": [
    {
     "name": "stdout",
     "output_type": "stream",
     "text": [
      "***Sentiment result***\n",
      "Train accuracy: 0.767158132742946\n",
      "Validation accuracy: 0.7629545882796307\n"
     ]
    }
   ],
   "source": [
    "from sklearn.naive_bayes import GaussianNB, MultinomialNB\n",
    "\n",
    "mnb_sentiment = MultinomialNB()\n",
    "\n",
    "mnb_sentiment.fit(sentiment_X_train, sentiment_y_train)\n",
    "\n",
    "print (\"***Sentiment result***\")\n",
    "print(\"Train accuracy: {}\".format(mnb_sentiment.score(sentiment_X_train, sentiment_y_train)))\n",
    "print(\"Validation accuracy: {}\".format(mnb_sentiment.score(sentiment_X_valid, sentiment_y_valid)))\n"
   ]
  },
  {
   "cell_type": "markdown",
   "metadata": {},
   "source": [
    "As you can see the naive bayes classifers can run really fast and give a reasonable accuracy.\n",
    "As you can see we get a little bit better results.\n",
    "<br>\n",
    "**Quiz**: What is the validation accuracy?\n",
    "<br>\n",
    "**Your answer**:"
   ]
  },
  {
   "cell_type": "code",
   "execution_count": null,
   "metadata": {},
   "outputs": [],
   "source": []
  }
 ],
 "metadata": {
  "kernelspec": {
   "display_name": "Python [conda env:machine-learning] *",
   "language": "python",
   "name": "conda-env-machine-learning-py"
  },
  "language_info": {
   "codemirror_mode": {
    "name": "ipython",
    "version": 3
   },
   "file_extension": ".py",
   "mimetype": "text/x-python",
   "name": "python",
   "nbconvert_exporter": "python",
   "pygments_lexer": "ipython3",
   "version": "3.7.7"
  }
 },
 "nbformat": 4,
 "nbformat_minor": 4
}
