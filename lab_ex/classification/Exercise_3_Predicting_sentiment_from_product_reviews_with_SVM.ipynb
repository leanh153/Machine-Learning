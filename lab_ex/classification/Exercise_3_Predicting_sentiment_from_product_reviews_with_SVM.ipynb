{
 "cells": [
  {
   "cell_type": "markdown",
   "metadata": {},
   "source": [
    "# SVM with scikit-learn\n",
    "\n",
    "The goal of this notebook is to build SVM model using scikit-learn library to predicting sentiment from product reviews. You will do the following:\n",
    "\n",
    " * Load product reviews and safe loans datasets like previous module.\n",
    " * Implement SVM model using scikit-learn.\n",
    " * Tuning some parameters."
   ]
  },
  {
   "cell_type": "code",
   "execution_count": 4,
   "metadata": {},
   "outputs": [],
   "source": [
    "# Import some libs\n",
    "\n",
    "import pandas\n",
    "import numpy as np\n",
    "from utils import get_product_reviews_data"
   ]
  },
  {
   "cell_type": "markdown",
   "metadata": {},
   "source": [
    "## Load product reviews dataset\n",
    "Like previous module, we load, preprocess data, convert and split them into train and test datasets. We dont't focus on that in this notebook, so you can just run the following cells. You can check out the load data code inside the folder **utils**."
   ]
  },
  {
   "cell_type": "code",
   "execution_count": 5,
   "metadata": {
    "scrolled": true
   },
   "outputs": [
    {
     "name": "stdout",
     "output_type": "stream",
     "text": [
      "*****Sentiment data shape*****\n",
      "sentiment_X_train.shape:  (42458, 194)\n",
      "sentiment_y_train.shape:  (42458,)\n",
      "sentiment_X_valid.shape:  (10614, 194)\n",
      "sentiment_y_valid.shape:  (10614,)\n"
     ]
    }
   ],
   "source": [
    "train_set, val_set = get_product_reviews_data()\n",
    "\n",
    "sentiment_X_train, sentiment_y_train = train_set\n",
    "sentiment_X_valid, sentiment_y_valid = val_set"
   ]
  },
  {
   "cell_type": "markdown",
   "metadata": {},
   "source": [
    "# Build classifier using scikit learn\n",
    "Now, let's use the built-in SVM learner [sklearn.svm.LinearSVC](https://scikit-learn.org/stable/modules/generated/sklearn.svm.LinearSVC.html). For more details about the LinearSVC class you can check the sklearn doc. LinearSVC classifer is equivalent to SVM with linear kernel so we will use it because our datasets are pretty large."
   ]
  },
  {
   "cell_type": "code",
   "execution_count": 6,
   "metadata": {
    "scrolled": true
   },
   "outputs": [
    {
     "name": "stderr",
     "output_type": "stream",
     "text": [
      "/home/leanh/anaconda3/envs/ml-301x/lib/python3.7/site-packages/sklearn/svm/_base.py:947: ConvergenceWarning: Liblinear failed to converge, increase the number of iterations.\n",
      "  \"the number of iterations.\", ConvergenceWarning)\n"
     ]
    },
    {
     "name": "stdout",
     "output_type": "stream",
     "text": [
      "***Sentiment result***\n",
      "Train accuracy: 0.7777332893683169\n",
      "Validation accuracy: 0.7710570944036179\n"
     ]
    }
   ],
   "source": [
    "from sklearn.svm import LinearSVC\n",
    "sentiment_clf = LinearSVC(C=1, random_state=0, max_iter=2000)\n",
    "sentiment_clf.fit(sentiment_X_train, sentiment_y_train)\n",
    "\n",
    "print (\"***Sentiment result***\")\n",
    "print(\"Train accuracy: {}\".format(sentiment_clf.score(sentiment_X_train, sentiment_y_train)))\n",
    "print(\"Validation accuracy: {}\".format(sentiment_clf.score(sentiment_X_valid, sentiment_y_valid)))"
   ]
  },
  {
   "cell_type": "markdown",
   "metadata": {},
   "source": [
    "# Hyper parameters tuning\n",
    "Let's try to tune some hyper parameters to see if we can get any better results. We will use [sklearn.model_selection.GridSearchCV](https://scikit-learn.org/stable/modules/generated/sklearn.model_selection.GridSearchCV.html) to tune the C hyper parameters in SVM classifer."
   ]
  },
  {
   "cell_type": "code",
   "execution_count": 7,
   "metadata": {
    "scrolled": true
   },
   "outputs": [
    {
     "name": "stdout",
     "output_type": "stream",
     "text": [
      "Fitting 5 folds for each of 6 candidates, totalling 30 fits\n"
     ]
    },
    {
     "name": "stderr",
     "output_type": "stream",
     "text": [
      "[Parallel(n_jobs=2)]: Using backend LokyBackend with 2 concurrent workers.\n",
      "[Parallel(n_jobs=2)]: Done  30 out of  30 | elapsed:  2.5min finished\n",
      "/home/leanh/anaconda3/envs/ml-301x/lib/python3.7/site-packages/sklearn/svm/_base.py:947: ConvergenceWarning: Liblinear failed to converge, increase the number of iterations.\n",
      "  \"the number of iterations.\", ConvergenceWarning)\n"
     ]
    },
    {
     "name": "stdout",
     "output_type": "stream",
     "text": [
      "***Sentiment result***\n",
      "Train accuracy: 0.7778039474304018\n",
      "Validation accuracy: 0.771528170341059\n"
     ]
    }
   ],
   "source": [
    "from sklearn.model_selection import GridSearchCV\n",
    "\n",
    "tuned_parameters = {\n",
    "    \"C\": [1, 2, 5, 10, 20, 100]\n",
    "}\n",
    "\n",
    "tuned_sentiment_cls = GridSearchCV(\n",
    "                        LinearSVC(C=1),\n",
    "                        param_grid=tuned_parameters,\n",
    "                        n_jobs=2,\n",
    "                        verbose=1,\n",
    ")\n",
    "\n",
    "tuned_sentiment_cls.fit(sentiment_X_train, sentiment_y_train)\n",
    "\n",
    "print (\"***Sentiment result***\")\n",
    "print(\"Train accuracy: {}\".format(tuned_sentiment_cls.score(sentiment_X_train, sentiment_y_train)))\n",
    "print(\"Validation accuracy: {}\".format(tuned_sentiment_cls.score(sentiment_X_valid, sentiment_y_valid)))"
   ]
  },
  {
   "cell_type": "markdown",
   "metadata": {},
   "source": [
    "As you can see we get a little bit better results.\n",
    "<br>\n",
    "**Quiz**: What is the validation accuracy?\n",
    "<br>\n",
    "**Your answer**:"
   ]
  },
  {
   "cell_type": "code",
   "execution_count": null,
   "metadata": {},
   "outputs": [],
   "source": []
  }
 ],
 "metadata": {
  "kernelspec": {
   "display_name": "xpython [conda env:ml-301x] *",
   "language": "python",
   "name": "conda-env-ml-301x-xpython"
  },
  "language_info": {
   "file_extension": ".py",
   "mimetype": "text/x-python",
   "name": "python",
   "version": "3.7.6"
  }
 },
 "nbformat": 4,
 "nbformat_minor": 4
}
