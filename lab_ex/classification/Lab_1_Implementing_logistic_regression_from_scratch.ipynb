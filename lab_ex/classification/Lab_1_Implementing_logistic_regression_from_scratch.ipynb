{
 "cells": [
  {
   "cell_type": "markdown",
   "metadata": {
    "colab_type": "text",
    "id": "D_a8s7wXW9wQ"
   },
   "source": [
    "# Implementing logistic regression from scratch\n",
    "\n",
    "The goal of this notebook is to implement your own logistic regression classifier. You will:\n",
    "\n",
    " * Extract features from Amazon product reviews.\n",
    " * Convert an pandas DataFrame into a NumPy array.\n",
    " * Implement the link function for logistic regression.\n",
    " * Write a function to compute the derivative of the log likelihood function with respect to a single coefficient.\n",
    " * Implement gradient ascent.\n",
    " * Given a set of coefficients, predict sentiments.\n",
    " * Compute classification accuracy for the logistic regression model.\n",
    " \n",
    "Let's get started!"
   ]
  },
  {
   "cell_type": "code",
   "execution_count": null,
   "metadata": {
    "colab": {},
    "colab_type": "code",
    "id": "62tsqHX3W9wR"
   },
   "outputs": [],
   "source": [
    "# Import some libs\n",
    "import pandas\n",
    "import numpy as np\n",
    "from sklearn.model_selection import train_test_split"
   ]
  },
  {
   "cell_type": "markdown",
   "metadata": {
    "colab_type": "text",
    "id": "IIMlZ313W9wY"
   },
   "source": [
    "### Load review dataset\n",
    "For this assignment, we will use a subset of the Amazon product review dataset. The subset was chosen to contain similar numbers of positive and negative reviews, as the original dataset consisted primarily of positive reviews.\n",
    "\n",
    "Load the dataset into a data frame named **products**. One column of this dataset is **sentiment**, corresponding to the class label with +1 indicating a review with positive sentiment and -1 for negative sentiment.\n",
    "\n",
    "Let us quickly explore more of this dataset. The **name** column indicates the name of the product. Try listing the name of the first 10 products in the dataset.\n",
    "\n",
    "After that, try counting the number of positive and negative reviews."
   ]
  },
  {
   "cell_type": "code",
   "execution_count": null,
   "metadata": {
    "colab": {},
    "colab_type": "code",
    "id": "JLBpAmKoW9wZ"
   },
   "outputs": [],
   "source": [
    "# Import amazon_baby.csv data to pandas dataframe\n",
    "products_df = pandas.read_csv('datasets/amazon_baby_subset.csv')"
   ]
  },
  {
   "cell_type": "code",
   "execution_count": null,
   "metadata": {
    "colab": {},
    "colab_type": "code",
    "id": "LQkSwcdGW9wd",
    "outputId": "2631d622-3a15-42fc-aa28-71e1993db593"
   },
   "outputs": [
    {
     "name": "stdout",
     "output_type": "stream",
     "text": [
      "                                                name  ... sentiment\n",
      "0  Stop Pacifier Sucking without tears with Thumb...  ...         1\n",
      "1    Nature's Lullabies Second Year Sticker Calendar  ...         1\n",
      "2    Nature's Lullabies Second Year Sticker Calendar  ...         1\n",
      "3                        Lamaze Peekaboo, I Love You  ...         1\n",
      "4  SoftPlay Peek-A-Boo Where's Elmo A Children's ...  ...         1\n",
      "5                          Our Baby Girl Memory Book  ...         1\n",
      "6  Hunnt&reg; Falling Flowers and Birds Kids Nurs...  ...         1\n",
      "7  Blessed By Pope Benedict XVI Divine Mercy Full...  ...         1\n",
      "8  Cloth Diaper Pins Stainless Steel Traditional ...  ...         1\n",
      "9  Cloth Diaper Pins Stainless Steel Traditional ...  ...         1\n",
      "\n",
      "[10 rows x 4 columns]\n",
      "            name  ...  rating\n",
      "sentiment         ...        \n",
      "-1         26461  ...   26493\n",
      " 1         26521  ...   26579\n",
      "\n",
      "[2 rows x 3 columns]\n"
     ]
    }
   ],
   "source": [
    "print(products_df[0:10])\n",
    "print(products_df.groupby('sentiment').count())"
   ]
  },
  {
   "cell_type": "markdown",
   "metadata": {
    "colab_type": "text",
    "id": "f74RC3SKW9wi"
   },
   "source": [
    "### Apply text cleaning on the review data\n",
    "In this section, we will perform some simple feature cleaning using data frames. The last assignment used all words in building bag-of-words features, but here we limit ourselves to 193 words (for simplicity). We compiled a list of 193 most frequent words into the JSON file named **important_words.json**. Load the words into a list **important_words**."
   ]
  },
  {
   "cell_type": "code",
   "execution_count": null,
   "metadata": {
    "colab": {},
    "colab_type": "code",
    "id": "8blOEEVFW9wj",
    "outputId": "bbb9cc63-567d-4720-ce97-33163bfc4d9d"
   },
   "outputs": [
    {
     "name": "stdout",
     "output_type": "stream",
     "text": [
      "['baby', 'one', 'great', 'love', 'use', 'would', 'like', 'easy', 'little', 'seat', 'old', 'well', 'get', 'also', 'really', 'son', 'time', 'bought', 'product', 'good', 'daughter', 'much', 'loves', 'stroller', 'put', 'months', 'car', 'still', 'back', 'used', 'recommend', 'first', 'even', 'perfect', 'nice', 'bag', 'two', 'using', 'got', 'fit', 'around', 'diaper', 'enough', 'month', 'price', 'go', 'could', 'soft', 'since', 'buy', 'room', 'works', 'made', 'child', 'keep', 'size', 'small', 'need', 'year', 'big', 'make', 'take', 'easily', 'think', 'crib', 'clean', 'way', 'quality', 'thing', 'better', 'without', 'set', 'new', 'every', 'cute', 'best', 'bottles', 'work', 'purchased', 'right', 'lot', 'side', 'happy', 'comfortable', 'toy', 'able', 'kids', 'bit', 'night', 'long', 'fits', 'see', 'us', 'another', 'play', 'day', 'money', 'monitor', 'tried', 'thought', 'never', 'item', 'hard', 'plastic', 'however', 'disappointed', 'reviews', 'something', 'going', 'pump', 'bottle', 'cup', 'waste', 'return', 'amazon', 'different', 'top', 'want', 'problem', 'know', 'water', 'try', 'received', 'sure', 'times', 'chair', 'find', 'hold', 'gate', 'open', 'bottom', 'away', 'actually', 'cheap', 'worked', 'getting', 'ordered', 'came', 'milk', 'bad', 'part', 'worth', 'found', 'cover', 'many', 'design', 'looking', 'weeks', 'say', 'wanted', 'look', 'place', 'purchase', 'looks', 'second', 'piece', 'box', 'pretty', 'trying', 'difficult', 'together', 'though', 'give', 'started', 'anything', 'last', 'company', 'come', 'returned', 'maybe', 'took', 'broke', 'makes', 'stay', 'instead', 'idea', 'head', 'said', 'less', 'went', 'working', 'high', 'unit', 'seems', 'picture', 'completely', 'wish', 'buying', 'babies', 'won', 'tub', 'almost', 'either']\n"
     ]
    }
   ],
   "source": [
    "import json\n",
    "\n",
    "with open('datasets/important_words.json', 'r') as f:\n",
    "    important_words = json.loads(f.read())\n",
    "print (important_words)"
   ]
  },
  {
   "cell_type": "markdown",
   "metadata": {
    "colab_type": "text",
    "id": "WO5NCFWyW9wn"
   },
   "source": [
    "Here we remove **remove_punctuation** and fill in N/A's with empty reivew"
   ]
  },
  {
   "cell_type": "code",
   "execution_count": null,
   "metadata": {
    "colab": {},
    "colab_type": "code",
    "id": "Qh9eQJPJW9wo"
   },
   "outputs": [],
   "source": [
    "def remove_punctuation(text):\n",
    "    import string\n",
    "    return text.translate(text.maketrans('', '', string.punctuation))\n",
    "\n",
    "products_df = products_df.fillna({'review':''})  # fill in N/A's in the review column\n",
    "products_df['review_clean'] = products_df['review'].apply(remove_punctuation)"
   ]
  },
  {
   "cell_type": "markdown",
   "metadata": {
    "colab_type": "text",
    "id": "RL3eaZ_fW9ws"
   },
   "source": [
    "Now we proceed with the second item. For each word in **important_words**, we compute a count for the number of times the word occurs in the review. We will store this count in a separate column (one for each word). The result of this feature processing is a single column for each word in **important_words** which keeps a count of the number of times the respective word occurs in the review text."
   ]
  },
  {
   "cell_type": "code",
   "execution_count": null,
   "metadata": {
    "colab": {},
    "colab_type": "code",
    "id": "hYjiAKfQW9wt"
   },
   "outputs": [],
   "source": [
    "for word in important_words:\n",
    "    products_df[word] = products_df['review_clean'].apply(lambda s : s.split().count(word))"
   ]
  },
  {
   "cell_type": "markdown",
   "metadata": {
    "colab_type": "text",
    "id": "5_gywSaAW9wx"
   },
   "source": [
    "Now, write some code to compute the number of product reviews that contain the word perfect.\n",
    "<br>\n",
    "**Quiz Question:** How many reviews contain the word **\"perfect\"**?\n",
    "<br>\n",
    "**Your answer:** "
   ]
  },
  {
   "cell_type": "code",
   "execution_count": null,
   "metadata": {
    "colab": {},
    "colab_type": "code",
    "id": "HTkYQ0k-W9wy",
    "outputId": "cce16270-0ac6-429b-a787-8851ef6bd852"
   },
   "outputs": [
    {
     "data": {
      "text/plain": [
       "2955"
      ]
     },
     "execution_count": 7,
     "metadata": {
      "tags": []
     },
     "output_type": "execute_result"
    }
   ],
   "source": [
    "# YOUR CODE HERE\n",
    "# print(products_df[products_df.perfect > 0].perfect.count())\n",
    "sum(1 for x in products_df['perfect'] if x > 0)\n",
    "# YOUR CODE HERE"
   ]
  },
  {
   "cell_type": "markdown",
   "metadata": {
    "colab_type": "text",
    "id": "PJMbRk65W9w3"
   },
   "source": [
    "### Convert data frame to multi-dimensional array\n",
    "Write a function that extracts columns from a data frame and converts them into a multi-dimensional array. We plan to use them throughout the course, so make sure to get this function right.\n",
    "<br>\n",
    "The function should accept three parameters:\n",
    "<br>\n",
    "- **dataframe:** a data frame to be converted\n",
    "- **features:** a list of string, containing the names of the columns that are used as features.\n",
    "- **label:** a string, containing the name of the single column that is used as class labels.\n",
    "<br>\n",
    "<br>\n",
    "The function should return two values:\n",
    "<br>\n",
    "- one 2D array for features\n",
    "- one 1D array for class labels\n",
    "<br>\n",
    "<br>\n",
    "The function should do the following:\n",
    "<br>\n",
    "- Prepend a new column constant to dataframe and fill it with 1's. This column takes account of the intercept term. Make sure that the constant column appears first in the data frame.\n",
    "- Prepend a string 'constant' to the list features. Make sure the string 'constant' appears first in the list.\n",
    "- Extract columns in dataframe whose names appear in the list features.\n",
    "- Convert the extracted columns into a 2D array using a function in the data frame library. If you are using Pandas, you would use as_matrix() function.\n",
    "- Extract the single column in dataframe whose name corresponds to the string label.\n",
    "- Convert the column into a 1D array.\n",
    "- Return the 2D array and the 1D array."
   ]
  },
  {
   "cell_type": "code",
   "execution_count": null,
   "metadata": {
    "colab": {},
    "colab_type": "code",
    "id": "kE8U7EX2W9w3"
   },
   "outputs": [],
   "source": [
    "def get_numpy_data(dataframe, features, label):\n",
    "    dataframe['constant'] = 1\n",
    "    features = ['constant'] + features\n",
    "    features_frame = dataframe[features]\n",
    "    feature_matrix = features_frame.values\n",
    "    label_array = dataframe[label].values\n",
    "    return (feature_matrix, label_array)"
   ]
  },
  {
   "cell_type": "markdown",
   "metadata": {
    "colab_type": "text",
    "id": "8BVgVBOyW9w7"
   },
   "source": [
    "Using the function **get_numpy_data**, extract two arrays **feature_matrix** and **sentiment**. The 2D array **feature_matrix** would contain the content of the columns given by the list **important_words**. The 1D array sentiment would contain the content of the column **sentiment**."
   ]
  },
  {
   "cell_type": "code",
   "execution_count": null,
   "metadata": {
    "colab": {},
    "colab_type": "code",
    "id": "236IDQPAW9w7"
   },
   "outputs": [],
   "source": [
    "feature_matrix, sentiment = get_numpy_data(products_df, important_words, 'sentiment')"
   ]
  },
  {
   "cell_type": "markdown",
   "metadata": {
    "colab_type": "text",
    "id": "w2XLn85OW9w_"
   },
   "source": [
    "**Quiz Question:** How many features are there in the feature_matrix?\n",
    "<br>\n",
    "**Your answer:**"
   ]
  },
  {
   "cell_type": "code",
   "execution_count": null,
   "metadata": {
    "colab": {},
    "colab_type": "code",
    "id": "pmVv4_o5W9xA",
    "outputId": "57afdce7-468a-4ee3-aecd-55459796d431"
   },
   "outputs": [
    {
     "data": {
      "text/plain": [
       "194"
      ]
     },
     "execution_count": 10,
     "metadata": {
      "tags": []
     },
     "output_type": "execute_result"
    }
   ],
   "source": [
    "# YOUR CODE HERE\n",
    "np.shape(feature_matrix)[1]\n",
    "# YOUR CODE HERE"
   ]
  },
  {
   "cell_type": "markdown",
   "metadata": {
    "colab_type": "text",
    "id": "UmANn0laW9xD"
   },
   "source": [
    "Recall from lecture that the link function is given by\n",
    "<br>\n",
    "$P(y_i = +1 | \\mathbf{x}_i, \\mathbf{w}) = \\dfrac{1}{1 + \\exp{(-\\mathbf{w}^\\intercal h(\\mathbf{x}_i))}}$\n",
    "<br>\n",
    "where the feature vector $h(\\mathbf{x}_i)$ represents the word counts of **important_words** in the review $\\mathbf{x}_i$\n",
    "<br>\n",
    "Write a function named **predict_probability** that implements the link function.\n",
    "<br>\n",
    "- Take two parameters: **feature_matrix** and **coefficients**.\n",
    "- First compute the dot product of **feature_matrix** and **coefficients**.\n",
    "- Then compute the link function $P(y = +1 | \\mathbf{x}, \\mathbf{w})$\n",
    "- Return the predictions given by the link function."
   ]
  },
  {
   "cell_type": "code",
   "execution_count": null,
   "metadata": {
    "colab": {},
    "colab_type": "code",
    "id": "KOJAyXVDW9xE"
   },
   "outputs": [],
   "source": [
    "'''\n",
    "produces probablistic estimate for P(y_i = +1 | x_i, w).\n",
    "estimate ranges between 0 and 1.\n",
    "'''\n",
    "def predict_probability(feature_matrix, coefficients):\n",
    "    # Take dot product of feature_matrix and coefficients  \n",
    "    # YOUR CODE HERE\n",
    "    scores = np.dot(feature_matrix, coefficients)\n",
    "    # Compute P(y_i = +1 | x_i, w) using the link function\n",
    "    predictions = 1/(1+np.exp(-scores))\n",
    "    # return predictions\n",
    "    return scores, predictions"
   ]
  },
  {
   "cell_type": "markdown",
   "metadata": {
    "colab_type": "text",
    "id": "T2CGRapuW9xJ"
   },
   "source": [
    "**Aside**. How the link function works with matrix algebra\n",
    "\n",
    "Since the word counts are stored as columns in **feature_matrix**, each i-th row of the matrix corresponds to the feature vector $h(\\mathbf{x}_i)$:\n",
    "$$[\\mbox{feature_matrix}] = \\left[\\begin{array}{c} h(\\mathbf{x}_1)^\\intercal \\\\ h(\\mathbf{x}_2)^\\intercal \\\\ \\vdots \\\\ h(\\mathbf{x}_N)^\\intercal\\end{array}\\right] = \\left[\\begin{array}{cccc}h_0(\\mathbf{x}_1) & h_1(\\mathbf{x}_1) & \\cdots & h_D(\\mathbf{x}_1) \\\\ h_0(\\mathbf{x}_2) & h_1(\\mathbf{x}_2) & \\cdots & h_D(\\mathbf{x}_2) \\\\ \\vdots & \\vdots & \\ddots & \\vdots \\\\ h_0(\\mathbf{x}_N) & h_1(\\mathbf{x}_N) & \\cdots & h_D(\\mathbf{x}_N) \\end{array}\\right]$$\n",
    "By the rules of matrix multiplication, the score vector containing elements $\\mathbf{w}^\\intercal h(\\mathbf{x}_i)$ is obtained by multiplying **feature_matrix** and the coefficient vector $\\mathbf{w}$:\n",
    "$$[\\mbox{score}] = [\\mbox{feature_matrix}]\\mathbf{w} = \\left[\\begin{array}{c} h(\\mathbf{x}_1)^\\intercal \\\\ h(\\mathbf{x}_2)^\\intercal \\\\ \\vdots \\\\ h(\\mathbf{x}_N)^\\intercal\\end{array}\\right] \\mathbf{w} = \\left[\\begin{array}{c} h(\\mathbf{x}_1)^\\intercal \\mathbf{w} \\\\ h(\\mathbf{x}_2)^\\intercal \\mathbf{w} \\\\ \\vdots \\\\ h(\\mathbf{x}_N)^\\intercal \\mathbf{w}\\end{array}\\right] = \\left[\\begin{array}{c} \\mathbf{w}^\\intercal h(\\mathbf{x}_1) \\\\ \\mathbf{w}^\\intercal h(\\mathbf{x}_2) \\\\ \\vdots \\\\ \\mathbf{w}^\\intercal h(\\mathbf{x}_N) \\end{array}\\right]$$"
   ]
  },
  {
   "cell_type": "markdown",
   "metadata": {
    "colab_type": "text",
    "id": "M8IY05IOW9xJ"
   },
   "source": [
    "### Compute derivative of log likelihood with respect to a single coefficient\n",
    "Recall from lecture:\n",
    "$$\\displaystyle \\frac{\\partial \\ell}{\\partial w_j} = \\sum_{i=1}^N h_j(\\mathbf{x}_i) (\\mathbf{1}[y_i = +1] - P(y_i = +1 | \\mathbf{x}_i, \\mathbf{w}))$$\n",
    "- **errors:** vector whose i-th value contains\n",
    "$$\\mathbf{1}[y_i = +1] - P(y_i = +1 | \\mathbf{x}_i, \\mathbf{w})$$\n",
    "- **feature:** vector whose i-th value contains\n",
    "$h_j(\\mathbf{x}_i)$\n",
    "<br>\n",
    "This corresponds to the j-th column of feature_matrix.\n",
    "<br>\n",
    "The function should do the following:\n",
    "<br>\n",
    "- Take two parameters **errors** and **feature**.\n",
    "- Compute the dot product of **errors** and **feature**.\n",
    "- Return the dot product. This is the derivative with respect to a single coefficient w_j."
   ]
  },
  {
   "cell_type": "code",
   "execution_count": null,
   "metadata": {
    "colab": {},
    "colab_type": "code",
    "id": "LWil0ceOW9xK"
   },
   "outputs": [],
   "source": [
    "def feature_derivative(errors, feature):     \n",
    "    # YOUR CODE HERE\n",
    "    # Compute the dot product of errors and feature\n",
    "    derivative = np.dot(errors, feature)\n",
    "    # Return the derivative\n",
    "    # YOUR CODE HERE\n",
    "    return derivative"
   ]
  },
  {
   "cell_type": "markdown",
   "metadata": {
    "colab_type": "text",
    "id": "jFyqvHzHW9xO"
   },
   "source": [
    "In the main lecture, our focus was on the likelihood. In the advanced optional video, however, we introduced a transformation of this likelihood---called the log-likelihood---that simplifies the derivation of the gradient and is more numerically stable. Due to its numerical stability, we will use the log-likelihood instead of the likelihood to assess the algorithm.\n",
    "\n",
    "The log-likelihood is computed using the following formula (see the advanced optional video if you are curious about the derivation of this equation):\n",
    "$$\\displaystyle \\ell \\ell (\\mathbf{w}) = \\sum_{i=1}^N \\Big( (\\mathbf{1}[y_i = +1] - 1) \\mathbf{w}^\\intercal h(\\mathbf{x}_i) - \\ln{\\big(1 + \\exp{(-\\mathbf{w}^\\intercal h(\\mathbf{x}_i) )} \\big)} \\Big)$$\n",
    "<br>\n",
    "Write a function **compute_log_likelihood** that implements the equation\n",
    "<br>\n",
    "The function has two parameters:\n",
    "<br>\n",
    "**indicator**: Has shape (N, 1). **indicator[i]** = True if **yi** = +1 otherwise **indicator[i]** = False\n",
    "<br>\n",
    "**scores**: The scores return by the **predict_probability** function. Refer to the above section for more details about the **scores** parameter."
   ]
  },
  {
   "cell_type": "code",
   "execution_count": null,
   "metadata": {
    "colab": {},
    "colab_type": "code",
    "id": "nzCh2NFHW9xP"
   },
   "outputs": [],
   "source": [
    "def compute_log_likelihood(indicator, scores):\n",
    "    lp = np.sum((indicator-1)*scores - np.log(1. + np.exp(-scores)))\n",
    "    return lp"
   ]
  },
  {
   "cell_type": "markdown",
   "metadata": {
    "colab_type": "text",
    "id": "uKxPWD3MW9xT"
   },
   "source": [
    "### Taking gradient steps\n",
    "Now we are ready to implement our own logistic regression. All we have to do is to write a gradient ascent function that takes gradient steps towards the optimum.\n",
    "<br>\n",
    "Write a function **logistic_regression** to fit a logistic regression model using gradient ascent.\n",
    "<br>\n",
    "The function accepts the following parameters:\n",
    "<br>\n",
    "- **feature_matrix:** 2D array of features\n",
    "- **sentiment:** 1D array of class labels\n",
    "- **initial_coefficients:** 1D array containing initial values of coefficients\n",
    "- **step_size:** a parameter controlling the size of the gradient steps\n",
    "- **max_iter:** number of iterations to run gradient ascent\n",
    "<br>\n",
    "The function returns the last set of coefficients after performing gradient ascent.\n",
    "<br>\n",
    "The function carries out the following steps:\n",
    "<br>\n",
    "1. Initialize vector **coefficients** to **initial_coefficients**.\n",
    "2. Predict the class probability $P(y_i = +1 | \\mathbf{x}_i,\\mathbf{w})$ using your **predict_probability** function and save it to variable **predictions**.\n",
    "3. Compute indicator value for $(y_i = +1)$ by comparing **sentiment** against +1. Save it to variable **indicator**.\n",
    "4. Compute the errors as difference between **indicator** and **predictions**. Save the errors to variable **errors**.\n",
    "5. For each j-th coefficient, compute the per-coefficient derivative by calling **feature_derivative** with the j-th column of **feature_matrix**. Then increment the j-th coefficient by (step_size*derivative).\n",
    "6. Once in a while, insert code to print out the log likelihood.\n",
    "7. Repeat steps 2-6 for **max_iter** times."
   ]
  },
  {
   "cell_type": "code",
   "execution_count": null,
   "metadata": {
    "colab": {},
    "colab_type": "code",
    "id": "NIUkyC3-W9xU"
   },
   "outputs": [],
   "source": [
    "from math import sqrt\n",
    "def logistic_regression(feature_matrix, sentiment, initial_coefficients, step_size, max_iter):\n",
    "    coefficients = initial_coefficients.copy() # make sure it's a numpy array\n",
    "    for itr in range(max_iter):\n",
    "        # Predict P(y_i = +1|x_1,w) using your predict_probability() function\n",
    "        # YOUR CODE HERE\n",
    "        scores, predictions = predict_probability(feature_matrix, coefficients)\n",
    "        # YOUR CODE HERE\n",
    "\n",
    "        # Compute indicator value for (y_i = +1)\n",
    "        indicator = (sentiment==+1)\n",
    "\n",
    "        # Compute the errors as indicator - predictions\n",
    "        errors = indicator - predictions\n",
    "\n",
    "        for j in range(coefficients.shape[0]): # loop over each coefficient\n",
    "            # Recall that feature_matrix[:,j] is the feature column associated with coefficients[j]\n",
    "            # compute the derivative for coefficients[j]. Save it in a variable called derivative\n",
    "            # YOUR CODE HERE\n",
    "            derivative = feature_derivative(errors, feature_matrix[:,j])\n",
    "            # YOUR CODE HERE\n",
    "\n",
    "            # add the step size times the derivative to the current coefficient\n",
    "            # YOUR CODE HERE\n",
    "            coefficients[j] = coefficients[j] + step_size*derivative\n",
    "            # YOUR CODE HERE\n",
    "        \n",
    "        if itr % 100 == 0:\n",
    "            lp = compute_log_likelihood(indicator, scores)\n",
    "            print ('iteration: {}, log likelihood: {}'.format(itr, lp))\n",
    "\n",
    "    return coefficients"
   ]
  },
  {
   "cell_type": "markdown",
   "metadata": {
    "colab_type": "text",
    "id": "yBM42PGyW9xZ"
   },
   "source": [
    "Now, let us run the logistic regression solver with the parameters below:\n",
    "<br>\n",
    "- **feature_matrix** = feature_matrix extracted\n",
    "- **sentiment** = sentiment extracted\n",
    "- **initial_coefficients** = a 194-dimensional vector filled with zeros\n",
    "- **step_size** = 1e-7\n",
    "- **max_ite**r = 301\n",
    "<br>\n",
    "Save the returned **coefficients** to variable **coefficients**."
   ]
  },
  {
   "cell_type": "code",
   "execution_count": null,
   "metadata": {
    "colab": {},
    "colab_type": "code",
    "id": "cbDsrjaDW9xa"
   },
   "outputs": [],
   "source": [
    "initial_coefficients = np.zeros((feature_matrix.shape[1]))\n",
    "step_size = 1e-7\n",
    "max_iter = 301"
   ]
  },
  {
   "cell_type": "code",
   "execution_count": null,
   "metadata": {
    "colab": {},
    "colab_type": "code",
    "id": "fcbSRA7JW9xe",
    "outputId": "41502051-d1d1-414f-9332-c1fb9e574604"
   },
   "outputs": [
    {
     "name": "stdout",
     "output_type": "stream",
     "text": [
      "iteration: 0, log likelihood: -36786.70716667741\n",
      "iteration: 100, log likelihood: -36235.70757728472\n",
      "iteration: 200, log likelihood: -35733.69577367936\n",
      "iteration: 300, log likelihood: -35272.93069887046\n"
     ]
    }
   ],
   "source": [
    "coefficients = logistic_regression(feature_matrix, sentiment, initial_coefficients, step_size, max_iter)"
   ]
  },
  {
   "cell_type": "markdown",
   "metadata": {
    "colab_type": "text",
    "id": "ju1cinknW9xj"
   },
   "source": [
    "**Quiz question:** As each iteration of gradient ascent passes, does the log likelihood increase or decrease?\n",
    "<br>\n",
    "**Your answer:** increase"
   ]
  },
  {
   "cell_type": "markdown",
   "metadata": {
    "colab_type": "text",
    "id": "MQkE0PukW9xj"
   },
   "source": [
    "### Predicting sentiments\n",
    "Recall from lecture that class predictions for a data point x can be computed from the coefficients w using the following formula:\n",
    "<br>\n",
    "$$\\hat{y}_i = \\begin{cases} +1 & \\text{if }\\mathbf{x}_i^\\intercal \\mathbf{w} > 0 \\\\ -1 & \\text{if }\\mathbf{x}_i^\\intercal \\mathbf{w} \\leq 0\\end{cases}$$\n",
    "Now, we write some code to compute class predictions. We do this in two steps:\n",
    "- First compute the scores using feature_matrix and coefficients using a dot product.\n",
    "- Then apply threshold 0 on the scores to compute the class predictions. Refer to the formula above.\n",
    "<br>"
   ]
  },
  {
   "cell_type": "markdown",
   "metadata": {
    "colab_type": "text",
    "id": "PbWY5gqoW9xk"
   },
   "source": [
    "**Quiz question:** How many reviews were predicted to have positive sentiment?\n",
    "<br>\n",
    "**Your answer:**"
   ]
  },
  {
   "cell_type": "code",
   "execution_count": null,
   "metadata": {
    "colab": {},
    "colab_type": "code",
    "id": "09t6y5alW9xl"
   },
   "outputs": [],
   "source": [
    "scores = feature_matrix.dot(coefficients)"
   ]
  },
  {
   "cell_type": "code",
   "execution_count": null,
   "metadata": {
    "colab": {},
    "colab_type": "code",
    "id": "x5ATLUUjW9xq",
    "outputId": "98b82097-03a1-4357-9e2c-775fff4e767b"
   },
   "outputs": [
    {
     "name": "stdout",
     "output_type": "stream",
     "text": [
      "Number of positive sentiments: 25126\n"
     ]
    }
   ],
   "source": [
    "# YOUR CODE HERE\n",
    "pred_sentiments = [1 if x > 0 else -1 for x in scores]\n",
    "print(\"Number of positive sentiments: {}\".format(sum(1 for x in pred_sentiments if x == 1)))\n",
    "# YOUR CODE HERE"
   ]
  },
  {
   "cell_type": "markdown",
   "metadata": {
    "colab_type": "text",
    "id": "OkmwsB5eW9xt"
   },
   "source": [
    "### Measuring accuracy\n",
    "We will now measure the classification accuracy of the model. Recall from the lecture that the classification accuracy can be computed as follows:\n",
    "$$\\mbox{accuracy} = \\dfrac{\\mbox{# correctly classified data points}}{\\mbox{# total data points}}$$\n",
    "**Quiz question:** hat is the accuracy of the model on predictions made above? (round to 2 digits of accuracy)\n",
    "<br>\n",
    "**Your answer:**"
   ]
  },
  {
   "cell_type": "code",
   "execution_count": null,
   "metadata": {
    "colab": {},
    "colab_type": "code",
    "id": "8tj7MsZdW9xu",
    "outputId": "c54bf895-d331-4f1f-f643-228c472922a8"
   },
   "outputs": [
    {
     "data": {
      "text/plain": [
       "array([ True, False,  True, ..., False,  True, False])"
      ]
     },
     "execution_count": 45,
     "metadata": {
      "tags": []
     },
     "output_type": "execute_result"
    }
   ],
   "source": [
    "len(diff)"
   ]
  },
  {
   "cell_type": "code",
   "execution_count": null,
   "metadata": {
    "colab": {},
    "colab_type": "code",
    "id": "zhLOMa_zW9xx",
    "outputId": "e7f6de33-7d2e-4813-8fcf-6fdba3794fbf"
   },
   "outputs": [
    {
     "name": "stdout",
     "output_type": "stream",
     "text": [
      "Accuracy: 0.7518653904130238\n"
     ]
    }
   ],
   "source": [
    "diff = (scores > 0) == (sentiment > 0)\n",
    "print ('Accuracy: {}'.format(np.sum(diff) / len(diff)))"
   ]
  },
  {
   "cell_type": "markdown",
   "metadata": {
    "colab_type": "text",
    "id": "maWm_e0EW9x1"
   },
   "source": [
    "Recall that in the earlier assignment, we were able to compute the \"**most positive words**\". These are words that correspond most strongly with positive reviews. In order to do this, we will first do the following:\n",
    "- Treat each coefficient as a tuple, i.e. (**word, coefficient_value**). The intercept has no corresponding word, so throw it out.\n",
    "- Sort all the (**word, coefficient_value**) tuples by **coefficient_value** in descending order. Save the sorted list of tuples to **word_coefficient_tuples**."
   ]
  },
  {
   "cell_type": "markdown",
   "metadata": {
    "colab_type": "text",
    "id": "1VGRwMPBW9x1"
   },
   "source": [
    "Now, **word_coefficient_tuples** contains a sorted list of (**word, coefficient_value**) tuples. The first 10 elements in this list correspond to the words that are most positive.\n",
    "<br>\n",
    "**Quiz question:** What is the top 10 positive words?\n",
    "<br>\n",
    "**Your answer:**\n",
    "<br>\n",
    "**Quiz question:** What is the top 10 negative words?\n",
    "<br>\n",
    "**Your answer:**"
   ]
  },
  {
   "cell_type": "code",
   "execution_count": null,
   "metadata": {
    "colab": {},
    "colab_type": "code",
    "id": "NqsZA0WVW9x2"
   },
   "outputs": [],
   "source": [
    "coefficients = list(coefficients[1:]) # exclude intercept\n",
    "word_coefficient_tuples = [(word, coefficient) for word, coefficient in zip(important_words, coefficients)]\n",
    "word_coefficient_tuples = sorted(word_coefficient_tuples, key=lambda x:x[1], reverse=True)\n"
   ]
  },
  {
   "cell_type": "code",
   "execution_count": null,
   "metadata": {
    "colab": {},
    "colab_type": "code",
    "id": "_4UYMdudW9x9",
    "outputId": "a9500a66-eb66-41e2-c69e-2b064aadd4f4"
   },
   "outputs": [
    {
     "name": "stdout",
     "output_type": "stream",
     "text": [
      "Top 10 positive words: ['great' 'love' 'easy' 'little' 'loves' 'well' 'perfect' 'old' 'nice'\n",
      " 'daughter']\n",
      "Top 10 negative words: ['monitor' 'return' 'back' 'get' 'disappointed' 'even' 'work' 'money'\n",
      " 'product' 'would']\n"
     ]
    }
   ],
   "source": [
    "# YOUR CODE\n",
    "print(\"Top 10 positive words: {}\".format(np.array(word_coefficient_tuples)[:10, 0]))\n",
    "print(\"Top 10 negative words: {}\".format(np.array(word_coefficient_tuples)[-10:, 0]))\n",
    "# YOUR CODE"
   ]
  }
 ],
 "metadata": {
  "colab": {
   "name": "Lab_1 Implementing logistic regression from scratch.ipynb",
   "provenance": []
  },
  "kernelspec": {
   "display_name": "Python [conda env:machine-learning] *",
   "language": "python",
   "name": "conda-env-machine-learning-py"
  },
  "language_info": {
   "codemirror_mode": {
    "name": "ipython",
    "version": 3
   },
   "file_extension": ".py",
   "mimetype": "text/x-python",
   "name": "python",
   "nbconvert_exporter": "python",
   "pygments_lexer": "ipython3",
   "version": "3.7.7"
  }
 },
 "nbformat": 4,
 "nbformat_minor": 4
}
