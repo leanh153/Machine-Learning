{
 "cells": [
  {
   "cell_type": "markdown",
   "metadata": {},
   "source": [
    "# Multiple Regression (Interpretation)"
   ]
  },
  {
   "cell_type": "markdown",
   "metadata": {},
   "source": [
    "The goal of this first notebook is to explore multiple regression and feature engineering with existing graphlab functions.\n",
    "\n",
    "In this notebook you will use data on house sales in King County to predict prices using multiple regression. You will:\n",
    "* Do some feature engineering by internal DataFrame functions\n",
    "* Use built-in sklearn functions to compute the regression and access its parameters (coefficients)\n",
    "* Given the regression weights, predictors and outcome write a function to compute the Residual Sum of Squares\n",
    "* Look at coefficients and interpret their meanings\n",
    "* Evaluate multiple models via RSS"
   ]
  },
  {
   "cell_type": "markdown",
   "metadata": {},
   "source": [
    "## Import libraries"
   ]
  },
  {
   "cell_type": "code",
   "execution_count": 1,
   "metadata": {},
   "outputs": [],
   "source": [
    "import sklearn, pandas\n",
    "import numpy as np"
   ]
  },
  {
   "cell_type": "markdown",
   "metadata": {},
   "source": [
    "## Load in house sales data\n",
    "\n",
    "Dataset is from house sales in King County, the region where the city of Seattle, WA is located."
   ]
  },
  {
   "cell_type": "code",
   "execution_count": 2,
   "metadata": {
    "scrolled": true
   },
   "outputs": [],
   "source": [
    "full_data = pandas.read_csv(\"kc_house_data.csv\", index_col=0)"
   ]
  },
  {
   "cell_type": "markdown",
   "metadata": {},
   "source": [
    "## Split data into training and testing.\n",
    "We use seed=0 so that everyone running this notebook gets the same results.  In practice, you may set your own random seed to ensure consistency.  "
   ]
  },
  {
   "cell_type": "code",
   "execution_count": 3,
   "metadata": {},
   "outputs": [],
   "source": [
    "from sklearn.model_selection import train_test_split\n",
    "train_data, test_data = train_test_split(full_data, train_size=0.8, test_size=0.2, random_state=0)\n",
    "train_data = train_data.copy()\n",
    "test_data = test_data.copy()"
   ]
  },
  {
   "cell_type": "markdown",
   "metadata": {},
   "source": [
    "# Learning a multiple regression model"
   ]
  },
  {
   "cell_type": "markdown",
   "metadata": {},
   "source": [
    "Recall we can use the following code to learn a multiple regression model predicting 'price' based on the following features:\n",
    "example_features = ['sqft_living', 'bedrooms', 'bathrooms'] on training data with the following code:"
   ]
  },
  {
   "cell_type": "code",
   "execution_count": 4,
   "metadata": {},
   "outputs": [],
   "source": [
    "def extract_features(data, features_title):\n",
    "    # take the features from the DataFrame\n",
    "    features = [data[title].values for title in features_title]\n",
    "    # stack them together for a 2d [examples, properties]\n",
    "    return np.stack(features, axis=-1)"
   ]
  },
  {
   "cell_type": "code",
   "execution_count": 5,
   "metadata": {},
   "outputs": [],
   "source": [
    "from sklearn.linear_model import LinearRegression\n",
    "\n",
    "example_features_title = ['sqft_living', 'bedrooms', 'bathrooms']\n",
    "# extract the features as numpy arrays, and stack them together per each examples\n",
    "example_features = extract_features(train_data, example_features_title)\n",
    "example_labels = train_data['price']\n",
    "example_model = LinearRegression().fit(example_features, example_labels)"
   ]
  },
  {
   "cell_type": "markdown",
   "metadata": {},
   "source": [
    "Now that we have fitted the model we can extract the regression weights (coefficients) from your model as follows:"
   ]
  },
  {
   "cell_type": "code",
   "execution_count": 6,
   "metadata": {},
   "outputs": [
    {
     "name": "stdout",
     "output_type": "stream",
     "text": [
      "[   313.17055038 -56754.66651422   6887.71910816]\n"
     ]
    }
   ],
   "source": [
    "example_weight_summary = example_model.coef_\n",
    "print(example_weight_summary)"
   ]
  },
  {
   "cell_type": "markdown",
   "metadata": {},
   "source": [
    "## Making Predictions\n",
    "\n",
    "In the gradient descent notebook we use numpy to do our regression. In this book we will use existing sklearn model's interface functions to analyze multiple regressions. \n",
    "\n",
    "Recall that once a model is built we can use the `predict` function to find the predicted values for data we pass. For example using the example model above:"
   ]
  },
  {
   "cell_type": "code",
   "execution_count": 7,
   "metadata": {},
   "outputs": [
    {
     "name": "stdout",
     "output_type": "stream",
     "text": [
      "395813.4988028944\n"
     ]
    }
   ],
   "source": [
    "example_predictions = example_model.predict(example_features)\n",
    "print(example_predictions[0]) # should be 395813.499"
   ]
  },
  {
   "cell_type": "markdown",
   "metadata": {},
   "source": [
    "## Compute RSS"
   ]
  },
  {
   "cell_type": "markdown",
   "metadata": {},
   "source": [
    "Now that we can make predictions given the model, let's write a function to compute the RSS of the model. Complete the function below to calculate RSS given the model, data, and the outcome."
   ]
  },
  {
   "cell_type": "code",
   "execution_count": 8,
   "metadata": {},
   "outputs": [],
   "source": [
    "def get_residual_sum_of_squares(model, data, outcome):\n",
    "    # First get the predictions\n",
    "    predicted_outcome = model.predict(data)\n",
    "    # Then compute the residuals/errors\n",
    "    RSS = np.sum(np.square(outcome - predicted_outcome))\n",
    "    return(RSS)    "
   ]
  },
  {
   "cell_type": "markdown",
   "metadata": {},
   "source": [
    "Test your function by computing the RSS on TEST data for the example model:"
   ]
  },
  {
   "cell_type": "code",
   "execution_count": 9,
   "metadata": {},
   "outputs": [
    {
     "name": "stdout",
     "output_type": "stream",
     "text": [
      "259213572106085.25\n"
     ]
    }
   ],
   "source": [
    "example_test_features = extract_features(test_data, example_features_title)\n",
    "example_test_labels = test_data['price']\n",
    "rss_example_test = get_residual_sum_of_squares(example_model, example_test_features, example_test_labels)\n",
    "print(rss_example_test) # should be ~ 2.5921e+14"
   ]
  },
  {
   "cell_type": "markdown",
   "metadata": {},
   "source": [
    "# Create some new features"
   ]
  },
  {
   "cell_type": "markdown",
   "metadata": {},
   "source": [
    "Although we often think of multiple regression as including multiple different features (e.g. # of bedrooms, squarefeet, and # of bathrooms) but we can also consider transformations of existing features e.g. the log of the squarefeet or even \"interaction\" features such as the product of bedrooms and bathrooms."
   ]
  },
  {
   "cell_type": "markdown",
   "metadata": {},
   "source": [
    "For now, we will use the default logarithm function of python to create a new feature. You must import it from the math library."
   ]
  },
  {
   "cell_type": "code",
   "execution_count": 10,
   "metadata": {},
   "outputs": [],
   "source": [
    "from math import log"
   ]
  },
  {
   "cell_type": "markdown",
   "metadata": {},
   "source": [
    "Next create the following 4 new features as column in both TEST and TRAIN data:\n",
    "* bedrooms_squared = bedrooms\\*bedrooms\n",
    "* bed_bath_rooms = bedrooms\\*bathrooms\n",
    "* log_sqft_living = log(sqft_living)\n",
    "* lat_plus_long = lat + long \n",
    "\n",
    "As an example here's the first one:"
   ]
  },
  {
   "cell_type": "code",
   "execution_count": 11,
   "metadata": {},
   "outputs": [],
   "source": [
    "train_data['bedrooms_squared'] = train_data['bedrooms'].map(lambda x: x**2)\n",
    "test_data['bedrooms_squared'] = test_data['bedrooms'].map(lambda x: x**2)"
   ]
  },
  {
   "cell_type": "code",
   "execution_count": 12,
   "metadata": {},
   "outputs": [],
   "source": [
    "# create the remaining 3 features in both TEST and TRAIN data\n",
    "train_data['bed_bath_rooms'] = train_data[['bedrooms', 'bathrooms']].apply(lambda row: row.bedrooms*row.bathrooms, axis=1)\n",
    "test_data['bed_bath_rooms'] = test_data[['bedrooms', 'bathrooms']].apply(lambda row: row.bedrooms*row.bathrooms, axis=1)\n",
    "train_data['log_sqft_living'] = train_data['sqft_living'].map(lambda x: log(x))\n",
    "test_data['log_sqft_living'] = test_data['sqft_living'].map(lambda x: log(x))\n",
    "train_data['lat_plus_long'] = train_data[['lat', \"long\"]].agg(sum, axis=1)\n",
    "test_data['lat_plus_long'] = test_data[['lat', \"long\"]].agg(sum, axis=1)"
   ]
  },
  {
   "cell_type": "markdown",
   "metadata": {},
   "source": [
    "* Squaring bedrooms will increase the separation between not many bedrooms (e.g. 1) and lots of bedrooms (e.g. 4) since 1^2 = 1 but 4^2 = 16. Consequently this feature will mostly affect houses with many bedrooms.\n",
    "* bedrooms times bathrooms gives what's called an \"interaction\" feature. It is large when *both* of them are large.\n",
    "* Taking the log of squarefeet has the effect of bringing large values closer together and spreading out small values.\n",
    "* Adding latitude to longitude is totally non-sensical but we will do it anyway (you'll see why)"
   ]
  },
  {
   "cell_type": "markdown",
   "metadata": {},
   "source": [
    "**Quiz Question: What is the mean (arithmetic average) value of your 4 new features on TEST data? (round to 2 digits)**"
   ]
  },
  {
   "cell_type": "code",
   "execution_count": 14,
   "metadata": {},
   "outputs": [
    {
     "name": "stdout",
     "output_type": "stream",
     "text": [
      "12.21\n",
      "7.45\n",
      "7.55\n",
      "-74.65\n"
     ]
    }
   ],
   "source": [
    "# the pandas.Series have a function called exactly that.\n",
    "print(round(test_data.bedrooms_squared.mean(), 2))\n",
    "print(round(test_data.bed_bath_rooms.mean(), 2))\n",
    "print(round(test_data.log_sqft_living.mean(), 2))\n",
    "print(round(test_data.lat_plus_long.mean(), 2))"
   ]
  },
  {
   "cell_type": "markdown",
   "metadata": {},
   "source": [
    "## Learning Multiple Models"
   ]
  },
  {
   "cell_type": "markdown",
   "metadata": {},
   "source": [
    "Now we will learn the weights for three (nested) models for predicting house prices. The first model will have the fewest features the second model will add one more feature and the third will add a few more:\n",
    "* Model 1: squarefeet, # bedrooms, # bathrooms, latitude & longitude\n",
    "* Model 2: add bedrooms\\*bathrooms\n",
    "* Model 3: Add log squarefeet, bedrooms squared, and the (nonsensical) latitude + longitude"
   ]
  },
  {
   "cell_type": "code",
   "execution_count": 16,
   "metadata": {},
   "outputs": [],
   "source": [
    "model_1_features = ['sqft_living', 'bedrooms', 'bathrooms', 'lat', 'long']\n",
    "model_2_features = model_1_features + ['bed_bath_rooms']\n",
    "model_3_features = model_2_features + ['bedrooms_squared', 'log_sqft_living', 'lat_plus_long']"
   ]
  },
  {
   "cell_type": "markdown",
   "metadata": {},
   "source": [
    "Now that you have the features, learn the weights for the three different models for predicting target = 'price' using sklearn's LinearRegression and look at the value of the weights/coefficients:\n",
    "\n",
    "*Note: regression models in this course often have `coef_`*"
   ]
  },
  {
   "cell_type": "code",
   "execution_count": 17,
   "metadata": {},
   "outputs": [],
   "source": [
    "# Learn the three models. Extract the features and fit your models onto respective features.\n",
    "# If a goldfish is reading, see the example_model above\n",
    "features_1 = extract_features(train_data, model_1_features)\n",
    "features_2 = extract_features(train_data, model_2_features)\n",
    "features_3 = extract_features(train_data, model_3_features)\n",
    "output_labels = train_data['price']\n",
    "model_1 = LinearRegression().fit(features_1, output_labels)\n",
    "model_2 = LinearRegression().fit(features_2, output_labels)\n",
    "model_3 = LinearRegression().fit(features_3, output_labels)"
   ]
  },
  {
   "cell_type": "code",
   "execution_count": 18,
   "metadata": {},
   "outputs": [
    {
     "name": "stdout",
     "output_type": "stream",
     "text": [
      "model 1 coefficient:  [ 3.12942010e+02 -5.30962691e+04  1.47770428e+04  6.53983343e+05\n",
      " -3.25707336e+05]\n",
      "model 2 coefficient:  [ 3.06819573e+02 -1.04604718e+05 -7.01815289e+04  6.50590952e+05\n",
      " -3.09965751e+05  2.49441497e+04]\n",
      "model 3 coefficient:  [ 5.37808086e+02  2.78047949e+03  1.01363769e+05  5.82469453e+12\n",
      "  5.82469359e+12 -1.81822557e+04  7.24579914e+02 -5.71030022e+05\n",
      " -5.82469388e+12]\n"
     ]
    }
   ],
   "source": [
    "# Examine/extract each model's coefficients. When in doubt, consult the sklearn document.\n",
    "print('model 1 coefficient: ', model_1.coef_)\n",
    "print('model 2 coefficient: ', model_2.coef_)\n",
    "print('model 3 coefficient: ', model_3.coef_)"
   ]
  },
  {
   "cell_type": "markdown",
   "metadata": {},
   "source": [
    "**Quiz Question: What is the sign (positive or negative) for the coefficient/weight for 'bathrooms' in model 1?**\n",
    "\n",
    "**Quiz Question: What is the sign (positive or negative) for the coefficient/weight for 'bathrooms' in model 2?**\n",
    "\n",
    "Think about what this means."
   ]
  },
  {
   "cell_type": "code",
   "execution_count": 20,
   "metadata": {},
   "outputs": [
    {
     "name": "stdout",
     "output_type": "stream",
     "text": [
      "model 1 bathrooms coef:  14777.042799376417\n",
      "model 2 bathrooms coef:  -70181.52885557742\n"
     ]
    }
   ],
   "source": [
    "print('model 1 bathrooms coef: ', model_1.coef_[2])\n",
    "print('model 2 bathrooms coef: ', model_2.coef_[2])"
   ]
  },
  {
   "cell_type": "markdown",
   "metadata": {},
   "source": [
    "## Comparing multiple models\n",
    "\n",
    "Now that you've learned three models and extracted the model weights we want to evaluate which model is best."
   ]
  },
  {
   "cell_type": "markdown",
   "metadata": {},
   "source": [
    "First use your functions from earlier to compute the RSS on TRAINING Data for each of the three models."
   ]
  },
  {
   "cell_type": "code",
   "execution_count": 104,
   "metadata": {},
   "outputs": [
    {
     "name": "stdout",
     "output_type": "stream",
     "text": [
      "Model 1 RSS:  979843597588328.2\n",
      "Model 2 RSS:  970799199729578.2\n",
      "Model 3 RSS:  913653640285401.4\n"
     ]
    }
   ],
   "source": [
    "# Compute the RSS on TRAINING data for each of the three models and display the values. \n",
    "# See the prior lab if you have already forgotten how.\n",
    "print(\"Model 1 RSS: \", get_residual_sum_of_squares(model_1, features_1, output_labels))\n",
    "print(\"Model 2 RSS: \", get_residual_sum_of_squares(model_2, features_2, output_labels))\n",
    "print(\"Model 3 RSS: \", get_residual_sum_of_squares(model_3, features_3, output_labels))"
   ]
  },
  {
   "cell_type": "markdown",
   "metadata": {},
   "source": [
    "**Quiz Question: Which model (1, 2 or 3) has lowest RSS on TRAINING Data?** Is this what you expected?"
   ]
  },
  {
   "cell_type": "markdown",
   "metadata": {},
   "source": [
    "Now compute the RSS on on TEST data for each of the three models."
   ]
  },
  {
   "cell_type": "code",
   "execution_count": 105,
   "metadata": {},
   "outputs": [
    {
     "name": "stdout",
     "output_type": "stream",
     "text": [
      "Model 1 RSS:  213487129319103.7\n",
      "Model 2 RSS:  210778544168942.25\n",
      "Model 3 RSS:  203972368954298.3\n"
     ]
    }
   ],
   "source": [
    "# Compute the RSS on TESTING data for each of the three models and display the values:\n",
    "features_1_test = extract_features(test_data, model_1_features)\n",
    "features_2_test = extract_features(test_data, model_2_features)\n",
    "features_3_test = extract_features(test_data, model_3_features)\n",
    "output_labels_test = test_data['price']\n",
    "print(\"Model 1 RSS: \", get_residual_sum_of_squares(model_1, features_1_test, output_labels_test))\n",
    "print(\"Model 2 RSS: \", get_residual_sum_of_squares(model_2, features_2_test, output_labels_test))\n",
    "print(\"Model 3 RSS: \", get_residual_sum_of_squares(model_3, features_3_test, output_labels_test))"
   ]
  },
  {
   "cell_type": "markdown",
   "metadata": {},
   "source": [
    "**Quiz Question: Which model (1, 2 or 3) has lowest RSS on TESTING Data?** Is this what you expected? Think about the features that were added to each model from the previous."
   ]
  },
  {
   "cell_type": "code",
   "execution_count": null,
   "metadata": {},
   "outputs": [],
   "source": []
  }
 ],
 "metadata": {
  "kernelspec": {
   "display_name": "Python [conda env:ml-301x] *",
   "language": "python",
   "name": "conda-env-ml-301x-py"
  },
  "language_info": {
   "codemirror_mode": {
    "name": "ipython",
    "version": 3
   },
   "file_extension": ".py",
   "mimetype": "text/x-python",
   "name": "python",
   "nbconvert_exporter": "python",
   "pygments_lexer": "ipython3",
   "version": "3.7.7"
  }
 },
 "nbformat": 4,
 "nbformat_minor": 4
}
