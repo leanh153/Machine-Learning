{
 "cells": [
  {
   "cell_type": "markdown",
   "metadata": {},
   "source": [
    "# Hierarchical Clustering"
   ]
  },
  {
   "cell_type": "markdown",
   "metadata": {},
   "source": [
    "**Hierarchical clustering** refers to a class of clustering methods that seek to build a **hierarchy** of clusters, in which some clusters contain others. In this assignment, we will explore a top-down approach, recursively bipartitioning the data using k-means."
   ]
  },
  {
   "cell_type": "markdown",
   "metadata": {},
   "source": [
    "**Note to Amazon EC2 users**: To conserve memory, make sure to stop all the other notebooks before running this notebook."
   ]
  },
  {
   "cell_type": "markdown",
   "metadata": {},
   "source": [
    "## Import packages"
   ]
  },
  {
   "cell_type": "code",
   "execution_count": 53,
   "metadata": {},
   "outputs": [],
   "source": [
    "# from __future__ import print_function # to conform python 2.x print to python 3.x\n",
    "import matplotlib.pyplot as plt\n",
    "import numpy as np\n",
    "import pandas as pd\n",
    "import sys\n",
    "import os\n",
    "import time\n",
    "from scipy.sparse import csr_matrix\n",
    "from sklearn.cluster import KMeans\n",
    "from sklearn.metrics import pairwise_distances\n",
    "%matplotlib inline"
   ]
  },
  {
   "cell_type": "markdown",
   "metadata": {},
   "source": [
    "## Load the Wikipedia dataset"
   ]
  },
  {
   "cell_type": "code",
   "execution_count": 54,
   "metadata": {},
   "outputs": [],
   "source": [
    "#wiki = turicreate.SFrame('people_wiki.sframe/')\n",
    "data = pd.read_csv(\"people_wiki.csv\", header=0)"
   ]
  },
  {
   "cell_type": "markdown",
   "metadata": {},
   "source": [
    "As we did in previous assignments, let's extract the TF-IDF features:"
   ]
  },
  {
   "cell_type": "code",
   "execution_count": 55,
   "metadata": {},
   "outputs": [],
   "source": [
    "#wiki['tf_idf'] = turicreate.text_analytics.tf_idf(wiki['text'])\n",
    "from sklearn.feature_extraction.text import TfidfVectorizer\n",
    "vectorizer = TfidfVectorizer(max_features=200000, stop_words='english', sublinear_tf=True) # \n",
    "data_matrix = tf_idf = vectorizer.fit_transform(data[\"text\"])\n",
    "map_word_to_index = vectorizer.vocabulary_"
   ]
  },
  {
   "cell_type": "markdown",
   "metadata": {},
   "source": [
    "## Bipartition the Wikipedia dataset using k-means"
   ]
  },
  {
   "cell_type": "markdown",
   "metadata": {},
   "source": [
    "Recall our workflow for clustering text data with k-means:\n",
    "\n",
    "1. Load the dataframe containing a dataset, such as the Wikipedia text dataset.\n",
    "2. Extract the data matrix from the dataframe.\n",
    "3. Run k-means on the data matrix with some value of k.\n",
    "4. Visualize the clustering results using the centroids, cluster assignments, and the original dataframe. We keep the original dataframe around because the data matrix does not keep auxiliary information (in the case of the text dataset, the title of each article).\n",
    "\n",
    "Let us modify the workflow to perform bipartitioning:\n",
    "\n",
    "1. Load the dataframe containing a dataset, such as the Wikipedia text dataset.\n",
    "2. Extract the data matrix from the dataframe.\n",
    "3. Run k-means on the data matrix with k=2.\n",
    "4. Divide the data matrix into two parts using the cluster assignments.\n",
    "5. Divide the dataframe into two parts, again using the cluster assignments. This step is necessary to allow for visualization.\n",
    "6. Visualize the bipartition of data.\n",
    "\n",
    "We'd like to be able to repeat Steps 3-6 multiple times to produce a **hierarchy** of clusters such as the following:\n",
    "```\n",
    "                      (root)\n",
    "                         |\n",
    "            +------------+-------------+\n",
    "            |                          |\n",
    "         Cluster                    Cluster\n",
    "     +------+-----+             +------+-----+\n",
    "     |            |             |            |\n",
    "   Cluster     Cluster       Cluster      Cluster\n",
    "```\n",
    "Each **parent cluster** is bipartitioned to produce two **child clusters**. At the very top is the **root cluster**, which consists of the entire dataset.\n",
    "\n",
    "Now we write a wrapper function to bipartition a given cluster using k-means. There are three variables that together comprise the cluster:\n",
    "\n",
    "* `dataframe`: a subset of the original dataframe that correspond to member rows of the cluster\n",
    "* `matrix`: same set of rows, stored in sparse matrix format\n",
    "* `centroid`: the centroid of the cluster (not applicable for the root cluster)\n",
    "\n",
    "Rather than passing around the three variables separately, we package them into a Python dictionary. The wrapper function takes a single dictionary (representing a parent cluster) and returns two dictionaries (representing the child clusters)."
   ]
  },
  {
   "cell_type": "code",
   "execution_count": 56,
   "metadata": {},
   "outputs": [],
   "source": [
    "def bipartition(cluster, maxiter=400, num_runs=4, seed=None):\n",
    "    '''cluster: should be a dictionary containing the following keys\n",
    "                * dataframe: dataframe that concern the current cluster\n",
    "                * matrix:    the TF-IDF representation of points within the cluster\n",
    "                * centroid:  centroid for this particular cluster'''\n",
    "    \n",
    "    data_matrix = cluster['matrix']\n",
    "    dataframe   = cluster['dataframe']\n",
    "    \n",
    "    # Run k-means on the data matrix with k=2.\n",
    "    kmeans_model = KMeans(n_clusters=2, max_iter=maxiter, n_init=num_runs, random_state=seed)\n",
    "    kmeans_model.fit_predict(data_matrix)\n",
    "    centroids, cluster_assignment = kmeans_model.cluster_centers_, kmeans_model.labels_\n",
    "    \n",
    "    # Divide the data matrix into two parts using the cluster assignments.\n",
    "    data_matrix_left_child, data_matrix_right_child = data_matrix[cluster_assignment==0], data_matrix[cluster_assignment==1] # Your code here\n",
    "    \n",
    "    # Divide the dataframe into two parts, again using the cluster assignments.\n",
    "    dataframe_left_child, dataframe_right_child  = dataframe[cluster_assignment==0], dataframe[cluster_assignment==1] # Your code here\n",
    "        \n",
    "    \n",
    "    # Package relevant variables for the child clusters\n",
    "    cluster_left_child  = {'matrix': data_matrix_left_child,\n",
    "                           'dataframe': dataframe_left_child,\n",
    "                           'centroid': centroids[0]}\n",
    "    cluster_right_child = {'matrix': data_matrix_right_child,\n",
    "                           'dataframe': dataframe_right_child,\n",
    "                           'centroid': centroids[1]}\n",
    "    \n",
    "    return (cluster_left_child, cluster_right_child)"
   ]
  },
  {
   "cell_type": "markdown",
   "metadata": {},
   "source": [
    "The following cell performs bipartitioning of the Wikipedia dataset. Allow 2+ minutes to finish.\n",
    "\n",
    "Note. For the purpose of the assignment, we set an explicit seed (`seed=0`) to produce identical outputs for every run. In pratical applications, you might want to use different random seeds for all runs."
   ]
  },
  {
   "cell_type": "code",
   "execution_count": 57,
   "metadata": {},
   "outputs": [],
   "source": [
    "# %%time\n",
    "wiki_data = {'matrix': tf_idf, 'dataframe': data} # no 'centroid' for the root cluster\n",
    "left_child, right_child = bipartition(wiki_data, maxiter=100, num_runs=1, seed=0)"
   ]
  },
  {
   "cell_type": "markdown",
   "metadata": {},
   "source": [
    "Let's examine the contents of one of the two clusters, which we call the `left_child`, referring to the tree visualization above."
   ]
  },
  {
   "cell_type": "code",
   "execution_count": 58,
   "metadata": {},
   "outputs": [
    {
     "data": {
      "text/html": [
       "<div>\n",
       "<style scoped>\n",
       "    .dataframe tbody tr th:only-of-type {\n",
       "        vertical-align: middle;\n",
       "    }\n",
       "\n",
       "    .dataframe tbody tr th {\n",
       "        vertical-align: top;\n",
       "    }\n",
       "\n",
       "    .dataframe thead th {\n",
       "        text-align: right;\n",
       "    }\n",
       "</style>\n",
       "<table border=\"1\" class=\"dataframe\">\n",
       "  <thead>\n",
       "    <tr style=\"text-align: right;\">\n",
       "      <th></th>\n",
       "      <th>URI</th>\n",
       "      <th>name</th>\n",
       "      <th>text</th>\n",
       "    </tr>\n",
       "  </thead>\n",
       "  <tbody>\n",
       "    <tr>\n",
       "      <th>1</th>\n",
       "      <td>&lt;http://dbpedia.org/resource/Alfred_J._Lewy&gt;</td>\n",
       "      <td>Alfred J. Lewy</td>\n",
       "      <td>alfred j lewy aka sandy lewy graduated from un...</td>\n",
       "    </tr>\n",
       "    <tr>\n",
       "      <th>2</th>\n",
       "      <td>&lt;http://dbpedia.org/resource/Harpdog_Brown&gt;</td>\n",
       "      <td>Harpdog Brown</td>\n",
       "      <td>harpdog brown is a singer and harmonica player...</td>\n",
       "    </tr>\n",
       "    <tr>\n",
       "      <th>3</th>\n",
       "      <td>&lt;http://dbpedia.org/resource/Franz_Rottensteiner&gt;</td>\n",
       "      <td>Franz Rottensteiner</td>\n",
       "      <td>franz rottensteiner born in waidmannsfeld lowe...</td>\n",
       "    </tr>\n",
       "    <tr>\n",
       "      <th>4</th>\n",
       "      <td>&lt;http://dbpedia.org/resource/G-Enka&gt;</td>\n",
       "      <td>G-Enka</td>\n",
       "      <td>henry krvits born 30 december 1974 in tallinn ...</td>\n",
       "    </tr>\n",
       "    <tr>\n",
       "      <th>5</th>\n",
       "      <td>&lt;http://dbpedia.org/resource/Sam_Henderson&gt;</td>\n",
       "      <td>Sam Henderson</td>\n",
       "      <td>sam henderson born october 18 1969 is an ameri...</td>\n",
       "    </tr>\n",
       "  </tbody>\n",
       "</table>\n",
       "</div>"
      ],
      "text/plain": [
       "                                                 URI                 name  \\\n",
       "1       <http://dbpedia.org/resource/Alfred_J._Lewy>       Alfred J. Lewy   \n",
       "2        <http://dbpedia.org/resource/Harpdog_Brown>        Harpdog Brown   \n",
       "3  <http://dbpedia.org/resource/Franz_Rottensteiner>  Franz Rottensteiner   \n",
       "4               <http://dbpedia.org/resource/G-Enka>               G-Enka   \n",
       "5        <http://dbpedia.org/resource/Sam_Henderson>        Sam Henderson   \n",
       "\n",
       "                                                text  \n",
       "1  alfred j lewy aka sandy lewy graduated from un...  \n",
       "2  harpdog brown is a singer and harmonica player...  \n",
       "3  franz rottensteiner born in waidmannsfeld lowe...  \n",
       "4  henry krvits born 30 december 1974 in tallinn ...  \n",
       "5  sam henderson born october 18 1969 is an ameri...  "
      ]
     },
     "execution_count": 58,
     "metadata": {},
     "output_type": "execute_result"
    }
   ],
   "source": [
    "left_child[\"dataframe\"].head()"
   ]
  },
  {
   "cell_type": "markdown",
   "metadata": {},
   "source": [
    "And here is the content of the other cluster we named `right_child`."
   ]
  },
  {
   "cell_type": "code",
   "execution_count": 59,
   "metadata": {},
   "outputs": [
    {
     "data": {
      "text/html": [
       "<div>\n",
       "<style scoped>\n",
       "    .dataframe tbody tr th:only-of-type {\n",
       "        vertical-align: middle;\n",
       "    }\n",
       "\n",
       "    .dataframe tbody tr th {\n",
       "        vertical-align: top;\n",
       "    }\n",
       "\n",
       "    .dataframe thead th {\n",
       "        text-align: right;\n",
       "    }\n",
       "</style>\n",
       "<table border=\"1\" class=\"dataframe\">\n",
       "  <thead>\n",
       "    <tr style=\"text-align: right;\">\n",
       "      <th></th>\n",
       "      <th>URI</th>\n",
       "      <th>name</th>\n",
       "      <th>text</th>\n",
       "    </tr>\n",
       "  </thead>\n",
       "  <tbody>\n",
       "    <tr>\n",
       "      <th>0</th>\n",
       "      <td>&lt;http://dbpedia.org/resource/Digby_Morrell&gt;</td>\n",
       "      <td>Digby Morrell</td>\n",
       "      <td>digby morrell born 10 october 1979 is a former...</td>\n",
       "    </tr>\n",
       "    <tr>\n",
       "      <th>17</th>\n",
       "      <td>&lt;http://dbpedia.org/resource/Paddy_Dunne_(Gael...</td>\n",
       "      <td>Paddy Dunne (Gaelic footballer)</td>\n",
       "      <td>paddy dunne was a gaelic football player from ...</td>\n",
       "    </tr>\n",
       "    <tr>\n",
       "      <th>21</th>\n",
       "      <td>&lt;http://dbpedia.org/resource/Ceiron_Thomas&gt;</td>\n",
       "      <td>Ceiron Thomas</td>\n",
       "      <td>ceiron thomas born 23 october 1983 is a welsh ...</td>\n",
       "    </tr>\n",
       "    <tr>\n",
       "      <th>22</th>\n",
       "      <td>&lt;http://dbpedia.org/resource/Adel_Sellimi&gt;</td>\n",
       "      <td>Adel Sellimi</td>\n",
       "      <td>adel sellimi arabic was born on 16 november 19...</td>\n",
       "    </tr>\n",
       "    <tr>\n",
       "      <th>25</th>\n",
       "      <td>&lt;http://dbpedia.org/resource/Vic_Stasiuk&gt;</td>\n",
       "      <td>Vic Stasiuk</td>\n",
       "      <td>victor john stasiuk born may 23 1929 is a reti...</td>\n",
       "    </tr>\n",
       "  </tbody>\n",
       "</table>\n",
       "</div>"
      ],
      "text/plain": [
       "                                                  URI  \\\n",
       "0         <http://dbpedia.org/resource/Digby_Morrell>   \n",
       "17  <http://dbpedia.org/resource/Paddy_Dunne_(Gael...   \n",
       "21        <http://dbpedia.org/resource/Ceiron_Thomas>   \n",
       "22         <http://dbpedia.org/resource/Adel_Sellimi>   \n",
       "25          <http://dbpedia.org/resource/Vic_Stasiuk>   \n",
       "\n",
       "                               name  \\\n",
       "0                     Digby Morrell   \n",
       "17  Paddy Dunne (Gaelic footballer)   \n",
       "21                    Ceiron Thomas   \n",
       "22                     Adel Sellimi   \n",
       "25                      Vic Stasiuk   \n",
       "\n",
       "                                                 text  \n",
       "0   digby morrell born 10 october 1979 is a former...  \n",
       "17  paddy dunne was a gaelic football player from ...  \n",
       "21  ceiron thomas born 23 october 1983 is a welsh ...  \n",
       "22  adel sellimi arabic was born on 16 november 19...  \n",
       "25  victor john stasiuk born may 23 1929 is a reti...  "
      ]
     },
     "execution_count": 59,
     "metadata": {},
     "output_type": "execute_result"
    }
   ],
   "source": [
    "right_child[\"dataframe\"].head()"
   ]
  },
  {
   "cell_type": "markdown",
   "metadata": {},
   "source": [
    "## Visualize the bipartition"
   ]
  },
  {
   "cell_type": "markdown",
   "metadata": {},
   "source": [
    "We provide you with a modified version of the visualization function from the k-means assignment. For each cluster, we print the top 5 words with highest TF-IDF weights in the centroid and display excerpts for the 8 nearest neighbors of the centroid."
   ]
  },
  {
   "cell_type": "code",
   "execution_count": 60,
   "metadata": {
    "scrolled": true
   },
   "outputs": [],
   "source": [
    "def display_single_tf_idf_cluster(cluster, map_index_to_word):\n",
    "    '''map_index_to_word: the reverse vocabulary from Vectorizer specifying the mapping betweeen words and column indices'''\n",
    "    \n",
    "    wiki_subset   = cluster['dataframe']\n",
    "    tf_idf_subset = cluster['matrix']\n",
    "    centroid      = cluster['centroid']\n",
    "    \n",
    "    # Print top 5 words with largest TF-IDF weights in the cluster. \n",
    "    # Use .argsort and reverse indices to select the highest 5 features index, and refer to the word with map_index_to_word\n",
    "    top_5_words = [map_index_to_word[idx] for idx in centroid.argsort()[::-1][:5]]# Your code here\n",
    "    print(\",\".join(top_5_words) + \"\\n\")\n",
    "    \n",
    "    # Compute distances from the centroid to all data points in the cluster.\n",
    "    distances = pairwise_distances(tf_idf_subset, [centroid], metric='euclidean').flatten()\n",
    "    # compute nearest neighbors of the centroid within the cluster.\n",
    "    nearest_neighbors = distances.argsort()\n",
    "    # For 8 nearest neighbors, print the title as well as first 180 characters of text.\n",
    "    # Wrap the text at 80-character mark.\n",
    "    for i in range(8):\n",
    "        text = ' '.join(wiki_subset.iloc[nearest_neighbors[i]]['text'].split(None, 25)[0:25])\n",
    "        print('* {0:50s} {1:.5f}\\n  {2:s}\\n  {3:s}'.format(wiki_subset.iloc[nearest_neighbors[i]]['name'],\n",
    "              distances[nearest_neighbors[i]], text[:90], text[90:180] if len(text) > 90 else ''))\n",
    "    print('')"
   ]
  },
  {
   "cell_type": "markdown",
   "metadata": {},
   "source": [
    "Let's visualize the two child clusters:"
   ]
  },
  {
   "cell_type": "code",
   "execution_count": 61,
   "metadata": {},
   "outputs": [
    {
     "name": "stdout",
     "output_type": "stream",
     "text": [
      "university,new,born,music,member\n",
      "\n",
      "* Yuri Cunza                                         0.96937\n",
      "  yuri cunza is a hispanicamerican social entrepreneur media professional journalist visual \n",
      "  artist business leader humanitarian and community advocate cunza currently serves as presi\n",
      "* Loren Schoenberg                                   0.97004\n",
      "  loren schoenberg born july 23 1958 in fair lawn new jersey is a jazz historian writer of l\n",
      "  iner notes and tenor saxophonist he began playing\n",
      "* Lawrence W. Green                                  0.97059\n",
      "  lawrence w green is best known by health education researchers as the originator of the pr\n",
      "  ecede model and codeveloper of the precedeproceed model which has\n",
      "* Tomas J. Philipson                                 0.97097\n",
      "  tomas j philipson is a professor of health economics at the university of chicago with pos\n",
      "  ts in the harris school of public policy studies department\n",
      "* James A. Paul                                      0.97222\n",
      "  james a paul born june 10 1941 is a writer and nonprofit executive who has worked througho\n",
      "  ut his career in the field of international relations\n",
      "* Luciano L'Abate                                    0.97241\n",
      "  luciano labate born 1928 is the father of relational theory and author coauthor editor or \n",
      "  coeditor of more than 55 books in the field of\n",
      "* Archie Brown                                       0.97276\n",
      "  archibald haworth brown cmg fba commonly known as archie brown born 10 may 1938 is a briti\n",
      "  sh political scientist and historian in 2005 he became\n",
      "* Wilson McLean                                      0.97279\n",
      "  wilson mclean born 1937 is a scottish illustrator and artist he has illustrated primarily \n",
      "  in the field of advertising but has also provided cover art\n",
      "\n"
     ]
    }
   ],
   "source": [
    "#map_word_to_index = vectorizer.vocabulary_\n",
    "map_idx_to_word = {i:w for w, i in map_word_to_index.items()}\n",
    "display_single_tf_idf_cluster(left_child, map_idx_to_word)"
   ]
  },
  {
   "cell_type": "code",
   "execution_count": 62,
   "metadata": {},
   "outputs": [
    {
     "name": "stdout",
     "output_type": "stream",
     "text": [
      "season,league,team,played,games\n",
      "\n",
      "* Todd Williams                                      0.94494\n",
      "  todd michael williams born february 13 1971 in syracuse new york is a former major league \n",
      "  baseball relief pitcher he attended east syracuseminoa high school\n",
      "* Daniel Healy                                       0.94587\n",
      "  daniel healy born 3 may 1974 is a former australian rules footballer who played for st kil\n",
      "  da in the australian football league and for central\n",
      "* Kevin Nicholson (baseball)                         0.94946\n",
      "  kevin ronald nicholson born march 29 1976 is a canadian baseball shortstop he played part \n",
      "  of the 2000 season for the san diego padres of\n",
      "* David Beckham                                      0.94969\n",
      "  david robert joseph beckham obe bkm born 2 may 1975 is an english former professional foot\n",
      "  baller he has played for manchester united preston north end\n",
      "* Gord Sherven                                       0.95016\n",
      "  gordon r sherven born august 21 1963 in gravelbourg saskatchewan and raised in mankota sas\n",
      "  katchewan is a retired canadian professional ice hockey forward who played\n",
      "* Frank Lampard                                      0.95093\n",
      "  frank james lampard born 20 june 1978 is an english professional footballer who plays as a\n",
      "   central midfielder attacking midfielder or defensive midfielder for manchester\n",
      "* Greg Hamilton                                      0.95219\n",
      "  greg hamilton is a canadian baseball player coach and executivehamilton was born in toront\n",
      "  o and grew up in peterborough ontario he played hockey as a\n",
      "* Jason Roberts (footballer)                         0.95263\n",
      "  jason andre davis roberts mbe born 25 january 1978 is a former professional footballer and\n",
      "   now a football punditborn in park royal london roberts was\n",
      "\n"
     ]
    }
   ],
   "source": [
    "display_single_tf_idf_cluster(right_child, map_idx_to_word)"
   ]
  },
  {
   "cell_type": "markdown",
   "metadata": {},
   "source": [
    "The right cluster consists of athletes, or more specifically, team sport players, whereas the left cluster contains the rest. So far, we have a single-level hierarchy consisting of two clusters, as follows:"
   ]
  },
  {
   "cell_type": "markdown",
   "metadata": {},
   "source": [
    "```\n",
    "                                           Wikipedia\n",
    "                                               +\n",
    "                                               |\n",
    "                    +--------------------------+--------------------+\n",
    "                    |                                               |\n",
    "                    +                                               +\n",
    "                  Non-athletes                                     Athletes\n",
    "```"
   ]
  },
  {
   "cell_type": "markdown",
   "metadata": {},
   "source": [
    "Is this hierarchy good enough? **When building a hierarchy of clusters, we must keep our particular application in mind.** For instance, we might want to build a **directory** for Wikipedia articles. A good directory would let you quickly narrow down your search to a small set of related articles. The categories of athletes and non-athletes are too general to facilitate efficient search. For this reason, we decide to build another level into our hierarchy of clusters with the goal of getting more specific cluster structure at the lower level. To that end, we subdivide both the `athletes` and `non-athletes` clusters."
   ]
  },
  {
   "cell_type": "markdown",
   "metadata": {},
   "source": [
    "## Perform recursive bipartitioning"
   ]
  },
  {
   "cell_type": "markdown",
   "metadata": {},
   "source": [
    "### Cluster of athletes and artists"
   ]
  },
  {
   "cell_type": "markdown",
   "metadata": {},
   "source": [
    "To help identify the clusters we've built so far, let's give them easy-to-read aliases:"
   ]
  },
  {
   "cell_type": "code",
   "execution_count": 63,
   "metadata": {},
   "outputs": [],
   "source": [
    "non_athletes   = left_child\n",
    "athletes       = right_child"
   ]
  },
  {
   "cell_type": "markdown",
   "metadata": {},
   "source": [
    "Using the bipartition function, we produce two child clusters of the athlete cluster:"
   ]
  },
  {
   "cell_type": "code",
   "execution_count": 64,
   "metadata": {},
   "outputs": [],
   "source": [
    "# Bipartition the cluster of athletes and artists\n",
    "left_child_athletes, right_child_athletes = bipartition(athletes, maxiter=100, num_runs=6, seed=1)"
   ]
  },
  {
   "cell_type": "markdown",
   "metadata": {},
   "source": [
    "The left child cluster mainly consists of _pure_ athletes, e.g track & fields or olympic participants:"
   ]
  },
  {
   "cell_type": "code",
   "execution_count": 65,
   "metadata": {},
   "outputs": [
    {
     "name": "stdout",
     "output_type": "stream",
     "text": [
      "baseball,league,major,season,games\n",
      "\n",
      "* Dave Ford                                          0.89536\n",
      "  david alan ford born december 29 1956 is a former major league baseball pitcher for the ba\n",
      "  ltimore orioles born in cleveland ohio ford attended lincolnwest\n",
      "* Justin Knoedler                                    0.89609\n",
      "  justin joseph knoedler born july 17 1980 in springfield illinois is a former major league \n",
      "  baseball catcherknoedler was originally drafted by the st louis cardinals\n",
      "* Steve Springer                                     0.89672\n",
      "  steven michael springer born february 11 1961 is an american former professional baseball \n",
      "  player who appeared in major league baseball as a third baseman and\n",
      "* James Baldwin (baseball)                           0.89745\n",
      "  james j baldwin jr born july 15 1971 is a former major league baseball pitcher he batted a\n",
      "  nd threw righthanded in his 11season career he\n",
      "* Dom Zanni                                          0.89864\n",
      "  dominick thomas zanni born march 1 1932 in the bronx new york is a former professional bas\n",
      "  eball player a righthanded pitcher he pitched in 111\n",
      "* Danny Murphy (pitcher)                             0.89980\n",
      "  daniel francis murphy born august 23 1942 in beverly massachusetts is a retired american p\n",
      "  rofessional baseball player who played pitcher and outfielder in the major\n",
      "* Jamie Brewington                                   0.90273\n",
      "  jamie chancellor brewington born september 28 1971 in greenville north carolina is an amer\n",
      "  ican former major league baseball player the righthanded pitcher played for the\n",
      "* Javier L%C3%B3pez (baseball)                       0.90344\n",
      "  javier alfonso lpez born july 11 1977 is a puerto rican professional baseball pitcher for \n",
      "  the san francisco giants of major league baseball he is\n",
      "\n"
     ]
    }
   ],
   "source": [
    "display_single_tf_idf_cluster(left_child_athletes, map_idx_to_word)"
   ]
  },
  {
   "cell_type": "markdown",
   "metadata": {},
   "source": [
    "On the other hand, the right child cluster consists mainly of sport players (baseball, footballer, etc.):"
   ]
  },
  {
   "cell_type": "code",
   "execution_count": 66,
   "metadata": {},
   "outputs": [
    {
     "name": "stdout",
     "output_type": "stream",
     "text": [
      "team,season,played,football,league\n",
      "\n",
      "* Daniel Healy                                       0.94491\n",
      "  daniel healy born 3 may 1974 is a former australian rules footballer who played for st kil\n",
      "  da in the australian football league and for central\n",
      "* David Beckham                                      0.94829\n",
      "  david robert joseph beckham obe bkm born 2 may 1975 is an english former professional foot\n",
      "  baller he has played for manchester united preston north end\n",
      "* Frank Lampard                                      0.94915\n",
      "  frank james lampard born 20 june 1978 is an english professional footballer who plays as a\n",
      "   central midfielder attacking midfielder or defensive midfielder for manchester\n",
      "* Gord Sherven                                       0.94981\n",
      "  gordon r sherven born august 21 1963 in gravelbourg saskatchewan and raised in mankota sas\n",
      "  katchewan is a retired canadian professional ice hockey forward who played\n",
      "* Jason Roberts (footballer)                         0.95067\n",
      "  jason andre davis roberts mbe born 25 january 1978 is a former professional footballer and\n",
      "   now a football punditborn in park royal london roberts was\n",
      "* Alex Lawless                                       0.95158\n",
      "  alexander graham alex lawless born 26 march 1985 is a welsh professional footballer who pl\n",
      "  ays for luton town as a midfielderlawless began his career with\n",
      "* Sol Campbell                                       0.95171\n",
      "  sulzeer jeremiah sol campbell born 18 september 1974 is a former england international foo\n",
      "  tballer a central defender he had a 19year career playing in the\n",
      "* Barry Cable                                        0.95210\n",
      "  barry thomas cable mbe born 22 september 1943 is a former australian rules footballer and \n",
      "  coach considered one of the greatest rovers in the sports\n",
      "\n"
     ]
    }
   ],
   "source": [
    "display_single_tf_idf_cluster(right_child_athletes, map_idx_to_word)"
   ]
  },
  {
   "cell_type": "markdown",
   "metadata": {},
   "source": [
    "Our hierarchy of clusters now looks like this:\n",
    "```\n",
    "                                           Wikipedia\n",
    "                                               +\n",
    "                                               |\n",
    "                    +--------------------------+--------------------+\n",
    "                    |                                               |\n",
    "                    +                                               +\n",
    "                Non-athletes                                    Athletes\n",
    "                                                                    +\n",
    "                                                                    |\n",
    "                                                         +----------+----------+\n",
    "                                                         |                     |\n",
    "                                                         |                     |\n",
    "                                                         +                     |\n",
    "                                                     Athletic-typed          Team-typed\n",
    "```"
   ]
  },
  {
   "cell_type": "markdown",
   "metadata": {},
   "source": [
    "Should we keep subdividing the clusters? If so, which cluster should we subdivide? To answer this question, we again think about our application. Since we organize our directory by topics, it would be nice to have topics that are about as coarse as each other. For instance, if one cluster is about baseball, we expect some other clusters about football, basketball, volleyball, and so forth. That is, **we would like to achieve similar level of granularity for all clusters.**\n",
    "\n",
    "Both the athletic sport and team sport node can be subdivided more, as both have non-overlapping subdomains of specific sports (track/marathon/cross-country runs, or baseball/football/basketball, etc.). Let's explore subdividing the athletes cluster further to produce finer child clusters."
   ]
  },
  {
   "cell_type": "markdown",
   "metadata": {},
   "source": [
    "Let's give the clusters aliases as well:"
   ]
  },
  {
   "cell_type": "code",
   "execution_count": 67,
   "metadata": {},
   "outputs": [],
   "source": [
    "athletic    = left_child_athletes\n",
    "team_sport  = right_child_athletes"
   ]
  },
  {
   "cell_type": "markdown",
   "metadata": {},
   "source": [
    "### Cluster of athletic"
   ]
  },
  {
   "cell_type": "markdown",
   "metadata": {},
   "source": [
    "In answering the following quiz question, take a look at the topics represented in the top documents (those closest to the centroid), as well as the list of words with highest TF-IDF weights.\n",
    "\n",
    "Let us bipartition the cluster of athletes."
   ]
  },
  {
   "cell_type": "code",
   "execution_count": 68,
   "metadata": {},
   "outputs": [],
   "source": [
    "left_child_athletic, right_child_athletic = bipartition(athletic, maxiter=100, num_runs=6, seed=1)"
   ]
  },
  {
   "cell_type": "code",
   "execution_count": 69,
   "metadata": {},
   "outputs": [
    {
     "name": "stdout",
     "output_type": "stream",
     "text": [
      "baseball,pitcher,league,pitched,innings\n",
      "\n",
      "* Dave Ford                                          0.86090\n",
      "  david alan ford born december 29 1956 is a former major league baseball pitcher for the ba\n",
      "  ltimore orioles born in cleveland ohio ford attended lincolnwest\n",
      "* Dom Zanni                                          0.87622\n",
      "  dominick thomas zanni born march 1 1932 in the bronx new york is a former professional bas\n",
      "  eball player a righthanded pitcher he pitched in 111\n",
      "* Jamie Brewington                                   0.87978\n",
      "  jamie chancellor brewington born september 28 1971 in greenville north carolina is an amer\n",
      "  ican former major league baseball player the righthanded pitcher played for the\n",
      "* Fred Norman                                        0.88673\n",
      "  fredie hubert norman born august 20 1942 in san antonio texas is a former professional bas\n",
      "  eball player who pitched in major league baseball from 19621964\n",
      "* Rick Williams (baseball b. 1952)                   0.88675\n",
      "  richard allen williams born november 9 1952 at merced california is a retired american pro\n",
      "  fessional baseball player he was a 6 ft 1 in 185\n",
      "* Pat Underwood                                      0.88744\n",
      "  patrick john underwood born february 9 1957 in kokomo indiana was a major league baseball \n",
      "  pitcher from 1979 to 1983underwood was drafted by the detroit\n",
      "* Wayne Franklin                                     0.88761\n",
      "  gary wayne franklin born march 9 1974 in wilmington delaware is a retired american major l\n",
      "  eague baseball pitcher he played for the houston astros 20002001\n",
      "* Steve Baker (baseball)                             0.88803\n",
      "  steven byrne baker born august 30 1956 is a former major league baseball mlb pitcher who p\n",
      "  layed for four seasons he pitched for the detroit\n",
      "\n",
      "baseball,league,major,runs,season\n",
      "\n",
      "* Steve Springer                                     0.88593\n",
      "  steven michael springer born february 11 1961 is an american former professional baseball \n",
      "  player who appeared in major league baseball as a third baseman and\n",
      "* Tom Wright (baseball)                              0.89162\n",
      "  thomas everette wright born september 22 1923 is an american former professional baseball \n",
      "  player the outfielder born in shelby north carolina played all or part\n",
      "* Chad Allen (baseball)                              0.89395\n",
      "  john chad allen born february 6 1975 is a former outfielder in major league baseball he ba\n",
      "  tted and threw righthanded allen played for the minnesota\n",
      "* Tom Wilson (2000s catcher)                         0.89572\n",
      "  thomas leroy wilson born december 19 1970 in fullerton california is a former professional\n",
      "   baseball player he played all or part of four seasons in\n",
      "* George Hinshaw                                     0.89610\n",
      "  george addison hinshaw born october 23 1959 is an american former professional baseball pl\n",
      "  ayer hinshow appeared in 13 major league baseball games in 19821983 as\n",
      "* John Bowker (baseball)                             0.89629\n",
      "  john brite bowker born july 8 1983 is an american professional baseball outfielder and fir\n",
      "  st baseman who is a free agent he stands 6 feet\n",
      "* Ram%C3%B3n Nivar                                   0.89722\n",
      "  ramn a nivar martnez born february 22 1980 in san cristobal dominican republic is a former\n",
      "   major league baseball utility player who played for the\n",
      "* Fernando Gonz%C3%A1lez (baseball)                  0.89741\n",
      "  jos fernando gonzlez quinones born june 19 1950 in utuado puerto rico is a retired major l\n",
      "  eague baseball infielder after which he spent one season\n",
      "\n"
     ]
    }
   ],
   "source": [
    "display_single_tf_idf_cluster(left_child_athletic, map_idx_to_word)\n",
    "display_single_tf_idf_cluster(right_child_athletic, map_idx_to_word)"
   ]
  },
  {
   "cell_type": "markdown",
   "metadata": {},
   "source": [
    "**Quiz Question**. Which diagram best describes the hierarchy right after splitting the `athletic` cluster? Refer to the quiz form for the diagrams."
   ]
  },
  {
   "cell_type": "markdown",
   "metadata": {},
   "source": [
    "**Caution**. The granularity criteria is an imperfect heuristic and must be taken with a grain of salt. It takes a lot of manual intervention to obtain a good hierarchy of clusters.\n",
    "\n",
    "* **If a cluster is highly mixed, the top articles and words may not convey the full picture of the cluster.** Thus, we may be misled if we judge the purity of clusters solely by their top documents and words. \n",
    "* **Many interesting topics are hidden somewhere inside the clusters but do not appear in the visualization.** We may need to subdivide further to discover new topics. In this very instance, subdividing the `athletic` cluster led to the discovery of the `golfers` child cluster."
   ]
  },
  {
   "cell_type": "markdown",
   "metadata": {},
   "source": [
    "### Cluster of non-athletes"
   ]
  },
  {
   "cell_type": "markdown",
   "metadata": {},
   "source": [
    "Now let us subdivide the cluster of non-athletes."
   ]
  },
  {
   "cell_type": "code",
   "execution_count": 70,
   "metadata": {},
   "outputs": [],
   "source": [
    "#%%time \n",
    "# Bipartition the cluster of non-athletes\n",
    "left_child_non_athletes, right_child_non_athletes = bipartition(non_athletes, maxiter=100, num_runs=3, seed=1)"
   ]
  },
  {
   "cell_type": "code",
   "execution_count": 71,
   "metadata": {},
   "outputs": [
    {
     "name": "stdout",
     "output_type": "stream",
     "text": [
      "music,film,new,album,work\n",
      "\n",
      "* Loren Schoenberg                                   0.96441\n",
      "  loren schoenberg born july 23 1958 in fair lawn new jersey is a jazz historian writer of l\n",
      "  iner notes and tenor saxophonist he began playing\n",
      "* Craig Pruess                                       0.96732\n",
      "  craig pruess born 1950 is an american composer musician arranger and gold platinum record \n",
      "  producer who has been living in britain since 1973 his career\n",
      "* Wilson McLean                                      0.96874\n",
      "  wilson mclean born 1937 is a scottish illustrator and artist he has illustrated primarily \n",
      "  in the field of advertising but has also provided cover art\n",
      "* Bob Mintzer                                        0.96948\n",
      "  bob mintzer is a jazz saxophonist composer arranger and big band leader based in los angel\n",
      "  es californiabob mintzer born january 27 1953 and a native\n",
      "* Peter Combe                                        0.96951\n",
      "  peter combe born 20 october 1948 is an australian childrens entertainer and musicianmusica\n",
      "  l genre childrens musiche has had 22 releases including seven gold albums two\n",
      "* Michael Peter Smith                                0.96954\n",
      "  michael peter smith born september 7 1941 is a chicagobased singersongwriter rolling stone\n",
      "   magazine once called him the greatest songwriter in the english language he\n",
      "* Noel Osborne                                       0.96977\n",
      "  noel osborne is a los angeles based recording artist producer song writer actor and ceo of\n",
      "   o entertainment group inc noel osborne is best known\n",
      "* Julian Knowles                                     0.96990\n",
      "  julian knowles is an australian composer and performer specialising in new and emerging te\n",
      "  chnologies his creative work spans the fields of composition for theatre dance\n",
      "\n"
     ]
    }
   ],
   "source": [
    "display_single_tf_idf_cluster(left_child_non_athletes, map_idx_to_word)"
   ]
  },
  {
   "cell_type": "code",
   "execution_count": 72,
   "metadata": {},
   "outputs": [
    {
     "name": "stdout",
     "output_type": "stream",
     "text": [
      "university,served,member,president,party\n",
      "\n",
      "* Lawrence W. Green                                  0.95987\n",
      "  lawrence w green is best known by health education researchers as the originator of the pr\n",
      "  ecede model and codeveloper of the precedeproceed model which has\n",
      "* Barry Sullivan (lawyer)                            0.96135\n",
      "  barry sullivan is a chicago lawyer and as of july 1 2009 the cooney conway chair in advoca\n",
      "  cy at loyola university chicago school of law\n",
      "* John P. White                                      0.96140\n",
      "  john patrick white born february 27 1937 is an american university professor and a former \n",
      "  government official who served in the clinton administration he was\n",
      "* David Anderson (British Columbia politician)       0.96202\n",
      "  david a anderson pc oc born august 16 1937 in victoria british columbia is a former canadi\n",
      "  an cabinet minister educated at victoria college in victoria\n",
      "* Andrew Fois                                        0.96292\n",
      "  andrew fois is an attorney living and working in washington dc as of april 9 2012 he will \n",
      "  be serving as the deputy attorney general\n",
      "* Ewart Brown                                        0.96295\n",
      "  ewart frederick brown jr born 1946 was the ninth premier of bermuda former leader of the p\n",
      "  rogressive labour party plp and is a philanthropist dr\n",
      "* R. Nicholas Burns                                  0.96315\n",
      "  r nicholas burns born january 28 1956 is a university professor columnist lecturer and for\n",
      "  mer american diplomat he is currently professor of the practice of\n",
      "* Bruce George                                       0.96320\n",
      "  bruce thomas george born 1 june 1942 is a british labour party politician who served as th\n",
      "  e member of parliament mp for walsall south from\n",
      "\n"
     ]
    }
   ],
   "source": [
    "display_single_tf_idf_cluster(right_child_non_athletes, map_idx_to_word)"
   ]
  },
  {
   "cell_type": "markdown",
   "metadata": {},
   "source": [
    "This clusters are not as clear-cut as the previous one, but the left cluster has a tendency to show artists and musicians, and the right one to show politicians and government officials.\n",
    "\n",
    "Let's divide them further."
   ]
  },
  {
   "cell_type": "code",
   "execution_count": 73,
   "metadata": {},
   "outputs": [],
   "source": [
    "artists = left_child_non_athletes\n",
    "politicians_etc = right_child_non_athletes"
   ]
  },
  {
   "cell_type": "markdown",
   "metadata": {},
   "source": [
    "**Quiz Question**. Let us bipartition the clusters `artists` and `politicians`. Which diagram best describes the resulting hierarchy of clusters for the non-athletes? Refer to the quiz for the diagrams.\n",
    "\n",
    "**Note**. Use `maxiter=100, num_runs=6, seed=1` for consistency of output."
   ]
  },
  {
   "cell_type": "code",
   "execution_count": 74,
   "metadata": {},
   "outputs": [],
   "source": [
    "# Do the splitting and naming yourself\n",
    "left_child_artists, right_child_artists = bipartition(artists, maxiter=100, num_runs=6, seed=1)\n",
    "left_child_politicians_etc, right_child_politicians_etc = bipartition(politicians_etc, maxiter=100, num_runs=6, seed=1)"
   ]
  },
  {
   "cell_type": "code",
   "execution_count": 75,
   "metadata": {},
   "outputs": [
    {
     "name": "stdout",
     "output_type": "stream",
     "text": [
      "music,album,band,released,song\n",
      "\n",
      "* Dan Siegel (musician)                              0.95215\n",
      "  dan siegel born in seattle washington is a pianist composer and record producer his earlie\n",
      "  r music has been described as new age while his more\n",
      "* Graham Ord                                         0.95624\n",
      "  graham ord born 22 march 1961 is an english musician and songwriter he has garnered respec\n",
      "  t internationally as a fine musician and engaging communicator his\n",
      "* Bruno Mars                                         0.95658\n",
      "  peter gene hernandez born october 8 1985 professionally known by his stage name bruno mars\n",
      "   is an american singer songwriter record producer voice actor and\n",
      "* Frank Mills                                        0.95731\n",
      "  frank mills born june 27 1942 in montreal quebec is a canadian pianist and recording artis\n",
      "  t best known for his solo instrumental hit music box\n",
      "* Prince (musician)                                  0.95754\n",
      "  prince rogers nelson born june 7 1958 known by his mononym prince is an american singerson\n",
      "  gwriter multiinstrumentalist and actor he has produced ten platinum albums\n",
      "* Matthew Hager                                      0.95806\n",
      "  matthew hager is a multi platinum american record producer musician and songwriteroriginal\n",
      "  ly from houston texas hager now lives in los angeles before moving to los\n",
      "* Bob Mintzer                                        0.95818\n",
      "  bob mintzer is a jazz saxophonist composer arranger and big band leader based in los angel\n",
      "  es californiabob mintzer born january 27 1953 and a native\n",
      "* Adele                                              0.95837\n",
      "  adele laurie blue adkins mbe born 5 may 1988 known simply as adele is a british singer and\n",
      "   songwriter adele was offered a recording contract\n",
      "\n",
      "film,television,new,work,series\n",
      "\n",
      "* Wilson McLean                                      0.96723\n",
      "  wilson mclean born 1937 is a scottish illustrator and artist he has illustrated primarily \n",
      "  in the field of advertising but has also provided cover art\n",
      "* Allan Stratton                                     0.97048\n",
      "  allan stratton born 1951 is a canadian playwright and novelistborn in stratford ontario st\n",
      "  ratton began his professional arts career while he was still in high\n",
      "* Darrell Dennis                                     0.97107\n",
      "  darrell dennis is a native canadian comedian actor screenwriter and radio personality from\n",
      "   the secwepemc nation in the interior of british columbiadarrells acting career began\n",
      "* Michael Chaplin (writer)                           0.97109\n",
      "  michael chaplin born in 1951 in county durham is an english theatre radio television and n\n",
      "  onfiction writer and former television producer and executiveafter graduating from\n",
      "* Anita Kunz                                         0.97135\n",
      "  anita e kunz oc born 1956 is a canadianborn artist and illustratorkunz has lived in london\n",
      "   new york and toronto contributing to magazines and working\n",
      "* John Biguenet                                      0.97166\n",
      "  john biguenet has published seven books including oyster a novel and the torturers apprent\n",
      "  ice stories released in the us by eccoharpercollins and widely translated his\n",
      "* Ray Errol Fox                                      0.97187\n",
      "  ray errol fox is an american journalist who has written and produced award winning documen\n",
      "  taries written books and composedray errol foxs novel career in journalism\n",
      "* Julianne Moore                                     0.97190\n",
      "  julianne moore born julie anne smith december 3 1960 is an american actress and childrens \n",
      "  author prolific in cinema since the early 1990s moore is\n",
      "\n",
      "party,election,elected,minister,member\n",
      "\n",
      "* Don Bell                                           0.94415\n",
      "  donald h bell born march 10 1942 in new westminster british columbia is a canadian politic\n",
      "  ian he is currently serving as a councillor for the\n",
      "* Doug Lewis                                         0.94444\n",
      "  douglas grinslade doug lewis pc qc born april 17 1938 is a former canadian politician a ch\n",
      "  artered accountant and lawyer by training lewis entered the\n",
      "* Marcelle Mersereau                                 0.94733\n",
      "  marcelle mersereau born february 14 1942 in pointeverte new brunswick is a canadian politi\n",
      "  cian a civil servant for most of her career she also served\n",
      "* Kayee Griffin                                      0.94759\n",
      "  kayee frances griffin born 6 february 1950 is an australian politician and former australi\n",
      "  an labor party member of the new south wales legislative council serving\n",
      "* Joseph Doria                                       0.94806\n",
      "  joseph v doria jr b june 28 1946 is an american democratic party politician who served as \n",
      "  commissioner of the new jersey department of community\n",
      "* Marcel Mass%C3%A9                                  0.94846\n",
      "  marcel mass should not be confused with marcel massemarcel mass pc oc qc born june 23 1940\n",
      "   is a former canadian politician and civil servantmass\n",
      "* Roger Price (Australian politician)                0.94849\n",
      "  leo roger spurway price born 26 november 1945 is a former australian politician he was ele\n",
      "  cted as a member of the australian house of representatives\n",
      "* Bob Menendez                                       0.94897\n",
      "  robert bob menendez born january 1 1954 is the senior united states senator from new jerse\n",
      "  y he is a member of the democratic party first\n",
      "\n",
      "university,research,professor,served,president\n",
      "\n",
      "* Lawrence W. Green                                  0.95355\n",
      "  lawrence w green is best known by health education researchers as the originator of the pr\n",
      "  ecede model and codeveloper of the precedeproceed model which has\n",
      "* Tomas J. Philipson                                 0.95993\n",
      "  tomas j philipson is a professor of health economics at the university of chicago with pos\n",
      "  ts in the harris school of public policy studies department\n",
      "* John P. White                                      0.96071\n",
      "  john patrick white born february 27 1937 is an american university professor and a former \n",
      "  government official who served in the clinton administration he was\n",
      "* Michael J. Dowling                                 0.96101\n",
      "  michael j dowling is president and chief executive officer of the north shorelong island j\n",
      "  ewish health system prior to becoming president and ceo on january\n",
      "* James A. Paul                                      0.96157\n",
      "  james a paul born june 10 1941 is a writer and nonprofit executive who has worked througho\n",
      "  ut his career in the field of international relations\n",
      "* Barry Sullivan (lawyer)                            0.96164\n",
      "  barry sullivan is a chicago lawyer and as of july 1 2009 the cooney conway chair in advoca\n",
      "  cy at loyola university chicago school of law\n",
      "* Lisa Anderson                                      0.96202\n",
      "  lisa anderson is an american political scientist and the current president of the american\n",
      "   university in cairo auc a specialist on middle eastern and north\n",
      "* David Floyd Lambertson                             0.96207\n",
      "  david f lambertson of kansas served as united states ambassador to thailand from september\n",
      "   1991 until august 1995lambertson entered the us foreign service in february\n",
      "\n"
     ]
    }
   ],
   "source": [
    "display_single_tf_idf_cluster(left_child_artists, map_idx_to_word)\n",
    "display_single_tf_idf_cluster(right_child_artists, map_idx_to_word)\n",
    "\n",
    "display_single_tf_idf_cluster(left_child_politicians_etc, map_idx_to_word)\n",
    "display_single_tf_idf_cluster(right_child_politicians_etc, map_idx_to_word)"
   ]
  },
  {
   "cell_type": "markdown",
   "metadata": {},
   "source": [
    "                                                                 Wikipedia\n",
    "                                                                     +\n",
    "                                                                     |\n",
    "                                          +--------------------------+--------------------+\n",
    "                                          |                                               |\n",
    "                                          +                                               +\n",
    "                                      Non-athletes                                    Athletes\n",
    "                                          +                                               +\n",
    "                                          |                                               |\n",
    "                   +----------------------+-------------+                        +----------+----------+\n",
    "                   |                                    |                        |                     |\n",
    "                   |                                    |                        |                     |\n",
    "                   +                                    +                        +                     |\n",
    "                artist                            politicians_etc           Athletic-typed          Team-typed\n",
    "                   +                                    +\n",
    "                   |                                    |\n",
    "      +---------------------+                +----------+--------------+\n",
    "      |                     |                |                         |\n",
    "      |                     |                |                         |\n",
    "      +                     +                +                         +                \n",
    "    music              tv and film     family and society     polistic, education, etc\n",
    "                            "
   ]
  },
  {
   "cell_type": "code",
   "execution_count": null,
   "metadata": {},
   "outputs": [],
   "source": []
  }
 ],
 "metadata": {
  "kernelspec": {
   "display_name": "Python [conda env:machine-learning] *",
   "language": "python",
   "name": "conda-env-machine-learning-py"
  },
  "language_info": {
   "codemirror_mode": {
    "name": "ipython",
    "version": 3
   },
   "file_extension": ".py",
   "mimetype": "text/x-python",
   "name": "python",
   "nbconvert_exporter": "python",
   "pygments_lexer": "ipython3",
   "version": "3.7.7"
  }
 },
 "nbformat": 4,
 "nbformat_minor": 4
}
