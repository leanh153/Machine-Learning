{
 "cells": [
  {
   "cell_type": "markdown",
   "metadata": {},
   "source": [
    "## Fitting a diagonal covariance Gaussian mixture model to text data\n",
    "\n",
    "In a previous assignment, we explored k-means clustering for a high-dimensional Wikipedia dataset. We can also model this data with a mixture of Gaussians, though with increasing dimension we run into two important issues associated with using a full covariance matrix for each component.\n",
    " * Computational cost becomes prohibitive in high dimensions: score calculations have complexity cubic in the number of dimensions M if the Gaussian has a full covariance matrix.\n",
    " * A model with many parameters require more data: observe that a full covariance matrix for an M-dimensional Gaussian will have M(M+1)/2 parameters to fit. With the number of parameters growing roughly as the square of the dimension, it may quickly become impossible to find a sufficient amount of data to make good inferences.\n",
    "\n",
    "Both of these issues are avoided if we require the covariance matrix of each component to be diagonal, as then it has only M parameters to fit and the score computation decomposes into M univariate score calculations. Recall from the lecture that the M-step for the full covariance is:\n",
    "\n",
    "\\begin{align*}\n",
    "\\hat{\\Sigma}_k &= \\frac{1}{N_k^{soft}} \\sum_{i=1}^N r_{ik} (x_i-\\hat{\\mu}_k)(x_i - \\hat{\\mu}_k)^T\n",
    "\\end{align*}\n",
    "\n",
    "Note that this is a square matrix with M rows and M columns, and the above equation implies that the (v, w) element is computed by\n",
    "\n",
    "\\begin{align*}\n",
    "\\hat{\\Sigma}_{k, v, w} &= \\frac{1}{N_k^{soft}} \\sum_{i=1}^N r_{ik} (x_{iv}-\\hat{\\mu}_{kv})(x_{iw} - \\hat{\\mu}_{kw})\n",
    "\\end{align*}\n",
    "\n",
    "When we assume that this is a diagonal matrix, then non-diagonal elements are assumed to be zero and we only need to compute each of the M elements along the diagonal independently using the following equation. \n",
    "\n",
    "\\begin{align*}\n",
    "\\hat{\\sigma}^2_{k, v} &= \\hat{\\Sigma}_{k, v, v}  \\\\\n",
    "&= \\frac{1}{N_k^{soft}} \\sum_{i=1}^N r_{ik} (x_{iv}-\\hat{\\mu}_{kv})^2\n",
    "\\end{align*}\n",
    "\n",
    "In this section, we will use an EM implementation to fit a Gaussian mixture model with **diagonal** covariances to a subset of the Wikipedia dataset. The implementation uses the above equation to compute each variance term. \n",
    "\n",
    "We'll begin by importing the dataset and coming up with a useful representation for each article. After running our algorithm on the data, we will explore the output to see whether we can give a meaningful interpretation to the fitted parameters in our model."
   ]
  },
  {
   "cell_type": "markdown",
   "metadata": {},
   "source": [
    "**Note to Amazon EC2 users**: To conserve memory, make sure to stop all the other notebooks before running this notebook."
   ]
  },
  {
   "cell_type": "markdown",
   "metadata": {},
   "source": [
    "## Import necessary packages"
   ]
  },
  {
   "cell_type": "code",
   "execution_count": 9,
   "metadata": {},
   "outputs": [],
   "source": [
    "# use k-means to initialize weights, covariences and mean for EM and compare EM when\n",
    "# using these values and when random initialization\n",
    "#from __future__ import print_function # to conform python 2.x print to python 3.x\n",
    "import pandas as pd\n",
    "import numpy as np"
   ]
  },
  {
   "cell_type": "markdown",
   "metadata": {},
   "source": [
    "We also have a Python file containing implementations for several functions that will be used during the course of this assignment."
   ]
  },
  {
   "cell_type": "code",
   "execution_count": 29,
   "metadata": {},
   "outputs": [],
   "source": [
    "from em_utilities import *"
   ]
  },
  {
   "cell_type": "markdown",
   "metadata": {},
   "source": [
    "## Load Wikipedia data and extract TF-IDF features"
   ]
  },
  {
   "cell_type": "markdown",
   "metadata": {},
   "source": [
    "Load Wikipedia data and transform each of the first 5000 document into a TF-IDF representation."
   ]
  },
  {
   "cell_type": "code",
   "execution_count": 10,
   "metadata": {},
   "outputs": [],
   "source": [
    "#wiki = turicreate.SFrame('people_wiki.sframe/').head(5000)\n",
    "from sklearn.feature_extraction.text import TfidfVectorizer\n",
    "data = pd.read_csv(\"people_wiki.csv\")\n",
    "vectorizer = TfidfVectorizer(max_features=200000, stop_words='english', sublinear_tf=True)\n",
    "data_matrix = tf_idf = vectorizer.fit_transform(data.head(5000)[\"text\"])\n",
    "#wiki['tf_idf'] = turicreate.text_analytics.tf_idf(wiki['text'])\n",
    "map_index_to_word = {i:w for w, i in vectorizer.vocabulary_.items()}"
   ]
  },
  {
   "cell_type": "markdown",
   "metadata": {},
   "source": [
    "We can check that the length (Euclidean norm) of each row is now 1.0 for the result of TF-IDF. The vectorizer normalized its sparse array per row by default."
   ]
  },
  {
   "cell_type": "code",
   "execution_count": 11,
   "metadata": {
    "scrolled": true
   },
   "outputs": [
    {
     "name": "stdout",
     "output_type": "stream",
     "text": [
      "1.0\n",
      "1.0000000000000002\n",
      "1.0\n",
      "0.9999999999999998\n",
      "1.0000000000000002\n"
     ]
    }
   ],
   "source": [
    "for i in range(5):\n",
    "    doc = tf_idf[i]\n",
    "    print(np.linalg.norm(doc.todense()))"
   ]
  },
  {
   "cell_type": "markdown",
   "metadata": {},
   "source": [
    "## EM in high dimensions\n",
    "\n",
    "EM for high-dimensional data requires some special treatment:\n",
    " * E step and M step must be vectorized as much as possible, as explicit loops are dreadfully slow in Python.\n",
    " * All operations must be cast in terms of sparse matrix operations, to take advantage of computational savings enabled by sparsity of data.\n",
    " * Initially, some words may be entirely absent from a cluster, causing the M step to produce zero mean and variance for those words.  This means any data point with one of those words will have 0 probability of being assigned to that cluster since the cluster allows for no variability (0 variance) around that count being 0 (0 mean). Since there is a small chance for those words to later appear in the cluster, we instead assign a small positive variance (~1e-10). Doing so also prevents numerical overflow.\n",
    " \n",
    "We provide the complete implementation for you in the file `em_utilities.py`. For those who are interested, you can read through the code to see how the sparse matrix implementation differs from the previous assignment. \n",
    "\n",
    "You are expected to answer some quiz questions using the results of clustering."
   ]
  },
  {
   "cell_type": "markdown",
   "metadata": {},
   "source": [
    "**Initializing mean parameters using k-means**\n",
    "\n",
    "Recall from the lectures that EM for Gaussian mixtures is very sensitive to the choice of initial means. With a bad initial set of means, EM may produce clusters that span a large area and are mostly overlapping. To eliminate such bad outcomes, we first produce a suitable set of initial means by using the cluster centers from running k-means.  That is, we first run k-means and then take the final set of means from the converged solution as the initial means in our EM algorithm."
   ]
  },
  {
   "cell_type": "code",
   "execution_count": 12,
   "metadata": {},
   "outputs": [
    {
     "name": "stderr",
     "output_type": "stream",
     "text": [
      "/home/leanh/miniconda3/envs/machine-learning/lib/python3.7/site-packages/sklearn/cluster/_kmeans.py:974: FutureWarning: 'n_jobs' was deprecated in version 0.23 and will be removed in 0.25.\n",
      "  \" removed in 0.25.\", FutureWarning)\n"
     ]
    }
   ],
   "source": [
    "#%%time \n",
    "\n",
    "from sklearn.cluster import KMeans\n",
    "\n",
    "np.random.seed(5)\n",
    "num_clusters = 25\n",
    "\n",
    "# Use scikit-learn's k-means to simplify workflow\n",
    "#kmeans_model = KMeans(n_clusters=num_clusters, n_init=5, max_iter=400, random_state=1, n_jobs=-1) # uncomment to use parallelism -- may break on your installation\n",
    "kmeans_model = KMeans(n_clusters=num_clusters, n_init=5, max_iter=50, random_state=1, n_jobs=1)\n",
    "kmeans_model.fit(tf_idf)\n",
    "centroids, cluster_assignment = kmeans_model.cluster_centers_, kmeans_model.labels_\n",
    "\n",
    "means = [centroid for centroid in centroids]"
   ]
  },
  {
   "cell_type": "markdown",
   "metadata": {},
   "source": [
    "**Initializing cluster weights**\n",
    "\n",
    "We will initialize each cluster weight to be the proportion of documents assigned to that cluster by k-means above."
   ]
  },
  {
   "cell_type": "code",
   "execution_count": 22,
   "metadata": {},
   "outputs": [],
   "source": [
    "#%%time \n",
    "\n",
    "num_docs = tf_idf.shape[0]\n",
    "weights = []\n",
    "for i in range(num_clusters):\n",
    "    # Compute the number of data points assigned to cluster i:\n",
    "    num_assigned = np.count_nonzero(cluster_assignment==i) # YOUR CODE HERE\n",
    "    w = float(num_assigned) / num_docs\n",
    "    weights.append(w)"
   ]
  },
  {
   "cell_type": "markdown",
   "metadata": {},
   "source": [
    "**Initializing covariances**\n",
    "\n",
    "To initialize our covariance parameters, we compute $\\hat{\\sigma}_{k, j}^2 = \\sum_{i=1}^{N}(x_{i,j} - \\hat{\\mu}_{k, j})^2$ for each feature $j$.  For features with really tiny variances, we assign 1e-8 instead to prevent numerical instability. We do this computation in a vectorized fashion in the following code block."
   ]
  },
  {
   "cell_type": "code",
   "execution_count": 39,
   "metadata": {},
   "outputs": [],
   "source": [
    "covs = []\n",
    "for i in range(num_clusters):\n",
    "    member_rows = tf_idf[cluster_assignment==i]\n",
    "    cov = (member_rows.multiply(member_rows) - 2*member_rows.dot(diag(means[i]))).sum(axis=0).A1 / member_rows.shape[0] \\\n",
    "          + means[i]**2\n",
    "    cov[cov < 1e-8] = 1e-8\n",
    "    covs.append(cov)"
   ]
  },
  {
   "cell_type": "markdown",
   "metadata": {},
   "source": [
    "**Running EM**\n",
    "\n",
    "Now that we have initialized all of our parameters, run EM."
   ]
  },
  {
   "cell_type": "code",
   "execution_count": 40,
   "metadata": {
    "scrolled": true
   },
   "outputs": [],
   "source": [
    "out = EM_for_high_dimension(tf_idf, means, covs, weights, cov_smoothing=1e-10)"
   ]
  },
  {
   "cell_type": "code",
   "execution_count": 41,
   "metadata": {},
   "outputs": [
    {
     "data": {
      "text/plain": [
       "[3851305600.700117, 4848975110.509311, 4848975110.509311]"
      ]
     },
     "execution_count": 41,
     "metadata": {},
     "output_type": "execute_result"
    }
   ],
   "source": [
    "out['loglik']"
   ]
  },
  {
   "cell_type": "markdown",
   "metadata": {},
   "source": [
    "## Interpret clustering results"
   ]
  },
  {
   "cell_type": "markdown",
   "metadata": {},
   "source": [
    "In contrast to k-means, EM is able to explicitly model clusters of varying sizes and proportions. The relative magnitude of variances in the word dimensions tell us much about the nature of the clusters.\n",
    "\n",
    "Write yourself a cluster visualizer as follows.  Examining each cluster's mean vector, list the 5 words with the largest mean values (5 most common words in the cluster). For each word, also include the associated variance parameter (diagonal element of the covariance matrix). \n",
    "\n",
    "A sample output may be:\n",
    "```\n",
    "==========================================================\n",
    "Cluster 0: Largest mean parameters in cluster \n",
    "\n",
    "Word        Mean        Variance    \n",
    "football    1.08e-01    8.64e-03\n",
    "season      5.80e-02    2.93e-03\n",
    "club        4.48e-02    1.99e-03\n",
    "league      3.94e-02    1.08e-03\n",
    "played      3.83e-02    8.45e-04\n",
    "...\n",
    "```"
   ]
  },
  {
   "cell_type": "code",
   "execution_count": 53,
   "metadata": {},
   "outputs": [],
   "source": [
    "# Fill in the blanks\n",
    "def visualize_EM_clusters(tf_idf, means, covs, map_index_to_word):\n",
    "    print('')\n",
    "    print('==========================================================')\n",
    "    \n",
    "    num_clusters = len(means)\n",
    "    for c in range(num_clusters):\n",
    "        print('Cluster {0:d}: Largest mean parameters in cluster '.format(c))\n",
    "        print('\\n{0: <12}{1: <12}{2: <12}'.format('Word', 'Mean', 'Variance'))\n",
    "        \n",
    "        # The k'th element of sorted_word_ids should be the index of the word \n",
    "        # that has the k'th-largest value in the cluster mean. Hint: Use np.argsort().\n",
    "        sorted_word_ids = np.argsort(-means[c])  # -means: small number become large and vice versa\n",
    "\n",
    "        for i in sorted_word_ids[:5]:\n",
    "            print('{0: <12}{1:<10.2e}{2:10.2e}'.format(map_index_to_word[i], \n",
    "                                                       means[c][i],\n",
    "                                                       covs[c][i]))\n",
    "        print('\\n==========================================================')"
   ]
  },
  {
   "cell_type": "code",
   "execution_count": 54,
   "metadata": {
    "collapsed": true,
    "jupyter": {
     "outputs_hidden": true
    }
   },
   "outputs": [
    {
     "name": "stdout",
     "output_type": "stream",
     "text": [
      "\n",
      "==========================================================\n",
      "Cluster 0: Largest mean parameters in cluster \n",
      "\n",
      "Word        Mean        Variance    \n",
      "business    4.75e-02    1.61e-03\n",
      "company     3.30e-02    1.24e-03\n",
      "board       2.88e-02    1.23e-03\n",
      "executive   2.55e-02    1.24e-03\n",
      "president   2.49e-02    1.07e-03\n",
      "\n",
      "==========================================================\n",
      "Cluster 1: Largest mean parameters in cluster \n",
      "\n",
      "Word        Mean        Variance    \n",
      "baseball    1.04e-01    1.59e-03\n",
      "league      8.86e-02    6.95e-04\n",
      "pitcher     7.99e-02    1.76e-03\n",
      "era         7.34e-02    3.80e-03\n",
      "innings     6.79e-02    3.66e-03\n",
      "\n",
      "==========================================================\n",
      "Cluster 2: Largest mean parameters in cluster \n",
      "\n",
      "Word        Mean        Variance    \n",
      "president   2.29e-02    9.59e-04\n",
      "government  2.02e-02    9.29e-04\n",
      "served      1.99e-02    7.34e-04\n",
      "member      1.92e-02    5.19e-04\n",
      "minister    1.82e-02    1.37e-03\n",
      "\n",
      "==========================================================\n",
      "Cluster 3: Largest mean parameters in cluster \n",
      "\n",
      "Word        Mean        Variance    \n",
      "coach       5.82e-02    3.59e-03\n",
      "basketball  5.63e-02    5.28e-03\n",
      "season      5.29e-02    1.28e-03\n",
      "team        5.28e-02    1.09e-03\n",
      "played      4.83e-02    1.07e-03\n",
      "\n",
      "==========================================================\n",
      "Cluster 4: Largest mean parameters in cluster \n",
      "\n",
      "Word        Mean        Variance    \n",
      "television  5.75e-02    9.86e-04\n",
      "series      4.41e-02    1.27e-03\n",
      "film        3.19e-02    1.18e-03\n",
      "producer    2.96e-02    1.36e-03\n",
      "comedy      2.64e-02    2.06e-03\n",
      "\n",
      "==========================================================\n",
      "Cluster 5: Largest mean parameters in cluster \n",
      "\n",
      "Word        Mean        Variance    \n",
      "music       5.47e-02    1.05e-03\n",
      "opera       3.60e-02    3.88e-03\n",
      "performed   3.36e-02    9.28e-04\n",
      "concert     2.82e-02    1.47e-03\n",
      "orchestra   2.65e-02    1.86e-03\n",
      "\n",
      "==========================================================\n",
      "Cluster 6: Largest mean parameters in cluster \n",
      "\n",
      "Word        Mean        Variance    \n",
      "tour        1.46e-01    1.35e-03\n",
      "pga         1.42e-01    1.16e-02\n",
      "golf        9.16e-02    4.70e-03\n",
      "open        7.72e-02    2.74e-03\n",
      "golfer      7.71e-02    2.60e-03\n",
      "\n",
      "==========================================================\n",
      "Cluster 7: Largest mean parameters in cluster \n",
      "\n",
      "Word        Mean        Variance    \n",
      "film        7.16e-02    1.95e-03\n",
      "films       4.03e-02    1.69e-03\n",
      "theatre     3.55e-02    2.40e-03\n",
      "actor       3.30e-02    1.89e-03\n",
      "directed    2.93e-02    1.63e-03\n",
      "\n",
      "==========================================================\n",
      "Cluster 8: Largest mean parameters in cluster \n",
      "\n",
      "Word        Mean        Variance    \n",
      "university  4.99e-02    4.58e-04\n",
      "professor   4.31e-02    1.18e-03\n",
      "research    4.19e-02    1.61e-03\n",
      "studies     2.67e-02    1.41e-03\n",
      "phd         2.40e-02    7.51e-04\n",
      "\n",
      "==========================================================\n",
      "Cluster 9: Largest mean parameters in cluster \n",
      "\n",
      "Word        Mean        Variance    \n",
      "district    5.62e-02    2.63e-03\n",
      "law         5.17e-02    2.46e-03\n",
      "republican  4.37e-02    3.12e-03\n",
      "served      4.23e-02    8.64e-04\n",
      "senate      4.17e-02    2.77e-03\n",
      "\n",
      "==========================================================\n",
      "Cluster 10: Largest mean parameters in cluster \n",
      "\n",
      "Word        Mean        Variance    \n",
      "rugby       1.57e-01    1.61e-03\n",
      "cup         7.20e-02    1.76e-03\n",
      "played      6.10e-02    9.53e-04\n",
      "zealand     5.68e-02    3.54e-03\n",
      "union       5.66e-02    5.15e-04\n",
      "\n",
      "==========================================================\n",
      "Cluster 11: Largest mean parameters in cluster \n",
      "\n",
      "Word        Mean        Variance    \n",
      "league      8.06e-02    1.29e-03\n",
      "season      6.48e-02    1.42e-03\n",
      "club        6.40e-02    1.57e-03\n",
      "football    5.71e-02    1.81e-03\n",
      "town        4.61e-02    2.66e-03\n",
      "\n",
      "==========================================================\n",
      "Cluster 12: Largest mean parameters in cluster \n",
      "\n",
      "Word        Mean        Variance    \n",
      "album       5.87e-02    2.09e-03\n",
      "music       4.76e-02    1.15e-03\n",
      "band        4.55e-02    2.21e-03\n",
      "released    3.76e-02    1.13e-03\n",
      "song        2.75e-02    1.56e-03\n",
      "\n",
      "==========================================================\n",
      "Cluster 13: Largest mean parameters in cluster \n",
      "\n",
      "Word        Mean        Variance    \n",
      "news        1.98e-02    1.57e-03\n",
      "radio       1.69e-02    1.20e-03\n",
      "new         1.58e-02    4.14e-04\n",
      "book        1.50e-02    7.58e-04\n",
      "television  1.31e-02    5.83e-04\n",
      "\n",
      "==========================================================\n",
      "Cluster 14: Largest mean parameters in cluster \n",
      "\n",
      "Word        Mean        Variance    \n",
      "hockey      1.77e-01    1.99e-03\n",
      "nhl         1.41e-01    5.41e-03\n",
      "ice         8.40e-02    2.10e-03\n",
      "season      5.76e-02    1.56e-03\n",
      "league      5.68e-02    1.32e-03\n",
      "\n",
      "==========================================================\n",
      "Cluster 15: Largest mean parameters in cluster \n",
      "\n",
      "Word        Mean        Variance    \n",
      "football    5.96e-02    2.18e-03\n",
      "club        5.37e-02    1.88e-03\n",
      "team        5.04e-02    1.23e-03\n",
      "cup         4.68e-02    2.07e-03\n",
      "played      4.00e-02    9.17e-04\n",
      "\n",
      "==========================================================\n",
      "Cluster 16: Largest mean parameters in cluster \n",
      "\n",
      "Word        Mean        Variance    \n",
      "championship3.96e-02    2.33e-03\n",
      "won         3.85e-02    7.97e-04\n",
      "world       3.74e-02    1.03e-03\n",
      "champion    3.35e-02    1.74e-03\n",
      "racing      3.34e-02    3.16e-03\n",
      "\n",
      "==========================================================\n",
      "Cluster 17: Largest mean parameters in cluster \n",
      "\n",
      "Word        Mean        Variance    \n",
      "research    6.21e-02    1.39e-03\n",
      "physics     5.67e-02    4.87e-03\n",
      "science     4.59e-02    1.57e-03\n",
      "university  4.04e-02    4.86e-04\n",
      "professor   3.91e-02    1.01e-03\n",
      "\n",
      "==========================================================\n",
      "Cluster 18: Largest mean parameters in cluster \n",
      "\n",
      "Word        Mean        Variance    \n",
      "election    6.58e-02    2.10e-03\n",
      "party       6.51e-02    1.69e-03\n",
      "minister    5.06e-02    3.20e-03\n",
      "elected     4.83e-02    1.19e-03\n",
      "politician  4.07e-02    5.46e-04\n",
      "\n",
      "==========================================================\n",
      "Cluster 19: Largest mean parameters in cluster \n",
      "\n",
      "Word        Mean        Variance    \n",
      "football    1.02e-01    1.86e-03\n",
      "australian  9.05e-02    8.72e-04\n",
      "afl         8.27e-02    7.22e-03\n",
      "club        6.74e-02    1.59e-03\n",
      "season      6.51e-02    1.50e-03\n",
      "\n",
      "==========================================================\n",
      "Cluster 20: Largest mean parameters in cluster \n",
      "\n",
      "Word        Mean        Variance    \n",
      "novel       4.61e-02    3.11e-03\n",
      "published   4.60e-02    1.18e-03\n",
      "book        4.41e-02    1.31e-03\n",
      "books       3.54e-02    1.39e-03\n",
      "literary    3.22e-02    2.01e-03\n",
      "\n",
      "==========================================================\n",
      "Cluster 21: Largest mean parameters in cluster \n",
      "\n",
      "Word        Mean        Variance    \n",
      "baseball    1.05e-01    1.26e-03\n",
      "league      9.28e-02    6.93e-04\n",
      "major       5.78e-02    7.84e-04\n",
      "minor       5.43e-02    2.20e-03\n",
      "sox         5.41e-02    4.85e-03\n",
      "\n",
      "==========================================================\n",
      "Cluster 22: Largest mean parameters in cluster \n",
      "\n",
      "Word        Mean        Variance    \n",
      "music       8.52e-02    8.17e-04\n",
      "orchestra   6.84e-02    3.74e-03\n",
      "conductor   4.90e-02    4.70e-03\n",
      "composition 4.64e-02    2.89e-03\n",
      "symphony    4.56e-02    3.73e-03\n",
      "\n",
      "==========================================================\n",
      "Cluster 23: Largest mean parameters in cluster \n",
      "\n",
      "Word        Mean        Variance    \n",
      "championships9.06e-02    2.90e-03\n",
      "medal       6.44e-02    2.39e-03\n",
      "metres      6.42e-02    6.20e-03\n",
      "olympics    5.77e-02    3.03e-03\n",
      "olympic     5.33e-02    2.45e-03\n",
      "\n",
      "==========================================================\n",
      "Cluster 24: Largest mean parameters in cluster \n",
      "\n",
      "Word        Mean        Variance    \n",
      "art         9.32e-02    1.42e-03\n",
      "museum      5.22e-02    3.25e-03\n",
      "artist      4.48e-02    1.35e-03\n",
      "gallery     3.87e-02    2.64e-03\n",
      "work        3.85e-02    7.24e-04\n",
      "\n",
      "==========================================================\n"
     ]
    }
   ],
   "source": [
    "'''By EM'''\n",
    "visualize_EM_clusters(tf_idf, out['means'], out['covs'], map_index_to_word)"
   ]
  },
  {
   "cell_type": "markdown",
   "metadata": {},
   "source": [
    "**Quiz Question**. Select all the topics that have a cluster in the model created above. [multiple choice]\n",
    "\n",
    "- Baseball\n",
    "- Basketball\n",
    "- Soccer/Football\n",
    "- Music\n",
    "- Politics\n",
    "- Law\n",
    "- Finance"
   ]
  },
  {
   "cell_type": "markdown",
   "metadata": {},
   "source": [
    "## Comparing to random initialization"
   ]
  },
  {
   "cell_type": "markdown",
   "metadata": {},
   "source": [
    "Create variables for randomly initializing the EM algorithm. Complete the following code block."
   ]
  },
  {
   "cell_type": "code",
   "execution_count": 71,
   "metadata": {},
   "outputs": [],
   "source": [
    "np.random.seed(5) # See the note below to see why we set seed=5.\n",
    "num_clusters = len(means)\n",
    "num_docs, num_words = tf_idf.shape\n",
    "\n",
    "random_means = []\n",
    "random_covs = []\n",
    "random_weights = []\n",
    "\n",
    "for k in range(num_clusters):\n",
    "    \n",
    "    # Create a numpy array of length num_words with random normally distributed values.\n",
    "    # Use the standard univariate normal distribution (mean 0, variance 1).\n",
    "    # YOUR CODE HERE\n",
    "    mean = np.random.normal(0, 1, num_words) # create normal distribution mean: location 0, scale to 1 and num_docs length\n",
    "    \n",
    "    # Create a numpy array of length num_words with random values uniformly distributed between 1 and 5.\n",
    "    # YOUR CODE HERE the continuous uniform distribution or rectangular distribution \n",
    "    # is a family of symmetric probability distributions\n",
    "    cov = np.random.uniform(1, 5, num_words)\n",
    "\n",
    "    # Initially give each cluster equal weight.\n",
    "    # YOUR CODE HERE\n",
    "    weight = num_clusters/float(num_docs)\n",
    "    \n",
    "    random_means.append(mean)\n",
    "    random_covs.append(cov)\n",
    "    random_weights.append(weight)"
   ]
  },
  {
   "cell_type": "markdown",
   "metadata": {},
   "source": [
    "**Quiz Question**: Try fitting EM with the random initial parameters you created above. (Use `cov_smoothing=1e-5`.) Store the result to `out_random_init`. What is the final loglikelihood that the algorithm converges to?"
   ]
  },
  {
   "cell_type": "code",
   "execution_count": 83,
   "metadata": {},
   "outputs": [],
   "source": [
    "# calculate the values here\n",
    "out_random_init =  EM_for_high_dimension(tf_idf, random_means, random_covs, random_weights, cov_smoothing=1e-5)"
   ]
  },
  {
   "cell_type": "markdown",
   "metadata": {},
   "source": [
    "**Quiz Question:** Is the final loglikelihood larger or smaller than the final loglikelihood we obtained above when initializing EM with the results from running k-means?"
   ]
  },
  {
   "cell_type": "code",
   "execution_count": 84,
   "metadata": {},
   "outputs": [
    {
     "name": "stdout",
     "output_type": "stream",
     "text": [
      "smaller\n"
     ]
    }
   ],
   "source": [
    "print(\"larger\" if out_random_init['loglik'][-1] > out['loglik'][-1] else \"smaller\")"
   ]
  },
  {
   "cell_type": "markdown",
   "metadata": {},
   "source": [
    "**Quiz Question**: For theove model, `out_random_init`, use the `visualize_EM_clusters` method you created above. Are the clusters more or less interpretable than the ones found after initializing using k-means?"
   ]
  },
  {
   "cell_type": "code",
   "execution_count": 85,
   "metadata": {
    "collapsed": true,
    "jupyter": {
     "outputs_hidden": true
    }
   },
   "outputs": [
    {
     "name": "stdout",
     "output_type": "stream",
     "text": [
      "\n",
      "==========================================================\n",
      "Cluster 0: Largest mean parameters in cluster \n",
      "\n",
      "Word        Mean        Variance    \n",
      "born        1.67e-02    1.03e-04\n",
      "university  1.57e-02    5.70e-04\n",
      "national    1.52e-02    5.54e-04\n",
      "team        1.45e-02    8.24e-04\n",
      "new         1.40e-02    3.73e-04\n",
      "\n",
      "==========================================================\n",
      "Cluster 1: Largest mean parameters in cluster \n",
      "\n",
      "Word        Mean        Variance    \n",
      "university  1.85e-02    4.42e-04\n",
      "born        1.48e-02    1.19e-04\n",
      "new         1.45e-02    4.11e-04\n",
      "world       1.35e-02    5.55e-04\n",
      "school      1.32e-02    3.96e-04\n",
      "\n",
      "==========================================================\n",
      "Cluster 2: Largest mean parameters in cluster \n",
      "\n",
      "Word        Mean        Variance    \n",
      "league      2.00e-02    1.63e-03\n",
      "season      1.85e-02    1.06e-03\n",
      "new         1.79e-02    4.81e-04\n",
      "baseball    1.61e-02    1.66e-03\n",
      "university  1.59e-02    5.07e-04\n",
      "\n",
      "==========================================================\n",
      "Cluster 3: Largest mean parameters in cluster \n",
      "\n",
      "Word        Mean        Variance    \n",
      "league      1.70e-02    1.19e-03\n",
      "university  1.63e-02    6.06e-04\n",
      "football    1.63e-02    1.32e-03\n",
      "years       1.58e-02    3.41e-04\n",
      "career      1.53e-02    4.80e-04\n",
      "\n",
      "==========================================================\n",
      "Cluster 4: Largest mean parameters in cluster \n",
      "\n",
      "Word        Mean        Variance    \n",
      "new         1.66e-02    4.18e-04\n",
      "member      1.61e-02    5.04e-04\n",
      "born        1.47e-02    1.00e-04\n",
      "party       1.34e-02    1.02e-03\n",
      "university  1.34e-02    4.43e-04\n",
      "\n",
      "==========================================================\n",
      "Cluster 5: Largest mean parameters in cluster \n",
      "\n",
      "Word        Mean        Variance    \n",
      "football    1.89e-02    1.75e-03\n",
      "league      1.88e-02    1.28e-03\n",
      "season      1.83e-02    1.08e-03\n",
      "played      1.55e-02    7.03e-04\n",
      "club        1.47e-02    1.10e-03\n",
      "\n",
      "==========================================================\n",
      "Cluster 6: Largest mean parameters in cluster \n",
      "\n",
      "Word        Mean        Variance    \n",
      "new         1.39e-02    3.90e-04\n",
      "born        1.35e-02    1.06e-04\n",
      "american    1.30e-02    4.34e-04\n",
      "company     1.24e-02    7.34e-04\n",
      "years       1.17e-02    2.98e-04\n",
      "\n",
      "==========================================================\n",
      "Cluster 7: Largest mean parameters in cluster \n",
      "\n",
      "Word        Mean        Variance    \n",
      "university  1.83e-02    6.00e-04\n",
      "new         1.56e-02    4.26e-04\n",
      "music       1.43e-02    9.57e-04\n",
      "born        1.35e-02    9.88e-05\n",
      "school      1.35e-02    5.11e-04\n",
      "\n",
      "==========================================================\n",
      "Cluster 8: Largest mean parameters in cluster \n",
      "\n",
      "Word        Mean        Variance    \n",
      "university  2.00e-02    5.44e-04\n",
      "born        1.48e-02    8.64e-05\n",
      "new         1.46e-02    4.27e-04\n",
      "world       1.42e-02    5.51e-04\n",
      "award       1.41e-02    6.22e-04\n",
      "\n",
      "==========================================================\n",
      "Cluster 9: Largest mean parameters in cluster \n",
      "\n",
      "Word        Mean        Variance    \n",
      "university  1.64e-02    4.96e-04\n",
      "new         1.44e-02    4.38e-04\n",
      "born        1.43e-02    9.54e-05\n",
      "member      1.27e-02    3.95e-04\n",
      "american    1.27e-02    3.90e-04\n",
      "\n",
      "==========================================================\n",
      "Cluster 10: Largest mean parameters in cluster \n",
      "\n",
      "Word        Mean        Variance    \n",
      "university  2.51e-02    6.17e-04\n",
      "member      1.93e-02    5.79e-04\n",
      "state       1.63e-02    7.35e-04\n",
      "committee   1.60e-02    1.25e-03\n",
      "party       1.52e-02    1.13e-03\n",
      "\n",
      "==========================================================\n",
      "Cluster 11: Largest mean parameters in cluster \n",
      "\n",
      "Word        Mean        Variance    \n",
      "university  1.61e-02    4.53e-04\n",
      "born        1.55e-02    9.45e-05\n",
      "new         1.52e-02    4.76e-04\n",
      "world       1.47e-02    5.66e-04\n",
      "film        1.46e-02    1.06e-03\n",
      "\n",
      "==========================================================\n",
      "Cluster 12: Largest mean parameters in cluster \n",
      "\n",
      "Word        Mean        Variance    \n",
      "university  2.00e-02    5.32e-04\n",
      "new         1.47e-02    4.20e-04\n",
      "born        1.41e-02    1.00e-04\n",
      "american    1.25e-02    4.04e-04\n",
      "member      1.25e-02    4.31e-04\n",
      "\n",
      "==========================================================\n",
      "Cluster 13: Largest mean parameters in cluster \n",
      "\n",
      "Word        Mean        Variance    \n",
      "new         2.08e-02    4.60e-04\n",
      "united      1.37e-02    7.12e-04\n",
      "film        1.34e-02    8.75e-04\n",
      "university  1.33e-02    4.24e-04\n",
      "born        1.32e-02    1.04e-04\n",
      "\n",
      "==========================================================\n",
      "Cluster 14: Largest mean parameters in cluster \n",
      "\n",
      "Word        Mean        Variance    \n",
      "new         1.50e-02    4.23e-04\n",
      "born        1.48e-02    1.14e-04\n",
      "american    1.30e-02    3.97e-04\n",
      "world       1.29e-02    5.70e-04\n",
      "album       1.27e-02    1.16e-03\n",
      "\n",
      "==========================================================\n",
      "Cluster 15: Largest mean parameters in cluster \n",
      "\n",
      "Word        Mean        Variance    \n",
      "born        1.55e-02    9.90e-05\n",
      "university  1.40e-02    3.86e-04\n",
      "member      1.34e-02    4.16e-04\n",
      "played      1.30e-02    5.38e-04\n",
      "new         1.28e-02    2.96e-04\n",
      "\n",
      "==========================================================\n",
      "Cluster 16: Largest mean parameters in cluster \n",
      "\n",
      "Word        Mean        Variance    \n",
      "season      2.56e-02    1.45e-03\n",
      "played      2.41e-02    1.02e-03\n",
      "league      2.41e-02    1.51e-03\n",
      "team        1.92e-02    9.54e-04\n",
      "football    1.83e-02    1.54e-03\n",
      "\n",
      "==========================================================\n",
      "Cluster 17: Largest mean parameters in cluster \n",
      "\n",
      "Word        Mean        Variance    \n",
      "university  2.09e-02    4.81e-04\n",
      "served      1.69e-02    7.34e-04\n",
      "member      1.63e-02    4.62e-04\n",
      "new         1.60e-02    4.12e-04\n",
      "president   1.57e-02    7.99e-04\n",
      "\n",
      "==========================================================\n",
      "Cluster 18: Largest mean parameters in cluster \n",
      "\n",
      "Word        Mean        Variance    \n",
      "university  1.63e-02    4.42e-04\n",
      "national    1.45e-02    3.64e-04\n",
      "new         1.36e-02    3.96e-04\n",
      "born        1.32e-02    1.04e-04\n",
      "world       1.27e-02    4.27e-04\n",
      "\n",
      "==========================================================\n",
      "Cluster 19: Largest mean parameters in cluster \n",
      "\n",
      "Word        Mean        Variance    \n",
      "university  1.78e-02    5.17e-04\n",
      "born        1.54e-02    1.04e-04\n",
      "new         1.48e-02    3.95e-04\n",
      "years       1.30e-02    3.12e-04\n",
      "american    1.28e-02    4.20e-04\n",
      "\n",
      "==========================================================\n",
      "Cluster 20: Largest mean parameters in cluster \n",
      "\n",
      "Word        Mean        Variance    \n",
      "league      2.55e-02    1.63e-03\n",
      "season      2.34e-02    1.34e-03\n",
      "played      1.89e-02    8.45e-04\n",
      "team        1.84e-02    9.77e-04\n",
      "born        1.53e-02    8.61e-05\n",
      "\n",
      "==========================================================\n",
      "Cluster 21: Largest mean parameters in cluster \n",
      "\n",
      "Word        Mean        Variance    \n",
      "university  2.03e-02    5.49e-04\n",
      "born        1.56e-02    1.13e-04\n",
      "new         1.42e-02    3.82e-04\n",
      "film        1.35e-02    1.00e-03\n",
      "member      1.31e-02    4.03e-04\n",
      "\n",
      "==========================================================\n",
      "Cluster 22: Largest mean parameters in cluster \n",
      "\n",
      "Word        Mean        Variance    \n",
      "university  1.91e-02    5.66e-04\n",
      "tour        1.63e-02    1.72e-03\n",
      "world       1.46e-02    4.48e-04\n",
      "new         1.43e-02    3.80e-04\n",
      "born        1.38e-02    1.05e-04\n",
      "\n",
      "==========================================================\n",
      "Cluster 23: Largest mean parameters in cluster \n",
      "\n",
      "Word        Mean        Variance    \n",
      "played      1.97e-02    9.43e-04\n",
      "new         1.73e-02    4.82e-04\n",
      "york        1.41e-02    7.03e-04\n",
      "league      1.40e-02    9.68e-04\n",
      "born        1.39e-02    8.69e-05\n",
      "\n",
      "==========================================================\n",
      "Cluster 24: Largest mean parameters in cluster \n",
      "\n",
      "Word        Mean        Variance    \n",
      "university  1.64e-02    4.92e-04\n",
      "born        1.50e-02    9.65e-05\n",
      "new         1.42e-02    3.77e-04\n",
      "music       1.36e-02    7.87e-04\n",
      "years       1.33e-02    3.27e-04\n",
      "\n",
      "==========================================================\n"
     ]
    }
   ],
   "source": [
    "# YOUR CODE HERE. Use visualize_EM_clusters, which will require you to pass in tf_idf and map_index_to_word.\n",
    "visualize_EM_clusters(tf_idf, out_random_init['means'], out_random_init['covs'], map_index_to_word)"
   ]
  },
  {
   "cell_type": "markdown",
   "metadata": {},
   "source": [
    "**Note**: Random initialization may sometimes produce a superior fit than k-means initialization. We do not claim that random initialization is always worse. However, this section does illustrate that random initialization often produces much worse clustering than k-means counterpart. This is the reason why we provide the particular random seed (`np.random.seed(5)`)."
   ]
  },
  {
   "cell_type": "markdown",
   "metadata": {},
   "source": [
    "## Takeaway\n",
    "\n",
    "In this assignment we were able to apply the EM algorithm to a mixture of Gaussians model of text data. This was made possible by modifying the model to assume a diagonal covariance for each cluster, and by modifying the implementation to use a sparse matrix representation. In the second part you explored the role of k-means initialization on the convergence of the model as well as the interpretability of the clusters."
   ]
  }
 ],
 "metadata": {
  "anaconda-cloud": {},
  "kernelspec": {
   "display_name": "Python [conda env:machine-learning] *",
   "language": "python",
   "name": "conda-env-machine-learning-py"
  },
  "language_info": {
   "codemirror_mode": {
    "name": "ipython",
    "version": 3
   },
   "file_extension": ".py",
   "mimetype": "text/x-python",
   "name": "python",
   "nbconvert_exporter": "python",
   "pygments_lexer": "ipython3",
   "version": "3.7.7"
  }
 },
 "nbformat": 4,
 "nbformat_minor": 4
}
