{
 "cells": [
  {
   "cell_type": "markdown",
   "metadata": {},
   "source": [
    "# Insincere Question Analysis\n",
    "\n",
    "In this section we will have an original task: Given a question, how do you know if it was a genuine question from someone who are searching for an answer, or merely asked for some other reasons?"
   ]
  },
  {
   "cell_type": "markdown",
   "metadata": {},
   "source": [
    "## Input Data\n",
    "### Load libraries\n",
    "\n",
    "Nothing new here."
   ]
  },
  {
   "cell_type": "code",
   "execution_count": 1,
   "metadata": {},
   "outputs": [],
   "source": [
    "import pandas as pd\n",
    "import numpy as np\n",
    "import matplotlib.pyplot as plt"
   ]
  },
  {
   "cell_type": "markdown",
   "metadata": {},
   "source": [
    "### Load dataset\n",
    "\n",
    "The dataset is part of **Quora's <a href=\"https://www.kaggle.com/c/quora-insincere-questions-classification/data\">Insincere Questions Classification</a> Competition**. You are free to explore the data as you see fit."
   ]
  },
  {
   "cell_type": "code",
   "execution_count": 2,
   "metadata": {},
   "outputs": [],
   "source": [
    "data = pd.read_csv(\"train.csv\", header=0)"
   ]
  },
  {
   "cell_type": "code",
   "execution_count": 3,
   "metadata": {},
   "outputs": [
    {
     "name": "stdout",
     "output_type": "stream",
     "text": [
      "Number of questions: 1306122\n",
      "Insincere percentile: 6.19%\n",
      "Sample question (idx=6000): What starters should a person avoid when engaging a conversation?\n"
     ]
    },
    {
     "data": {
      "text/html": [
       "<div>\n",
       "<style scoped>\n",
       "    .dataframe tbody tr th:only-of-type {\n",
       "        vertical-align: middle;\n",
       "    }\n",
       "\n",
       "    .dataframe tbody tr th {\n",
       "        vertical-align: top;\n",
       "    }\n",
       "\n",
       "    .dataframe thead th {\n",
       "        text-align: right;\n",
       "    }\n",
       "</style>\n",
       "<table border=\"1\" class=\"dataframe\">\n",
       "  <thead>\n",
       "    <tr style=\"text-align: right;\">\n",
       "      <th></th>\n",
       "      <th>qid</th>\n",
       "      <th>question_text</th>\n",
       "      <th>target</th>\n",
       "    </tr>\n",
       "  </thead>\n",
       "  <tbody>\n",
       "    <tr>\n",
       "      <th>0</th>\n",
       "      <td>00002165364db923c7e6</td>\n",
       "      <td>How did Quebec nationalists see their province...</td>\n",
       "      <td>0</td>\n",
       "    </tr>\n",
       "    <tr>\n",
       "      <th>1</th>\n",
       "      <td>000032939017120e6e44</td>\n",
       "      <td>Do you have an adopted dog, how would you enco...</td>\n",
       "      <td>0</td>\n",
       "    </tr>\n",
       "    <tr>\n",
       "      <th>2</th>\n",
       "      <td>0000412ca6e4628ce2cf</td>\n",
       "      <td>Why does velocity affect time? Does velocity a...</td>\n",
       "      <td>0</td>\n",
       "    </tr>\n",
       "    <tr>\n",
       "      <th>3</th>\n",
       "      <td>000042bf85aa498cd78e</td>\n",
       "      <td>How did Otto von Guericke used the Magdeburg h...</td>\n",
       "      <td>0</td>\n",
       "    </tr>\n",
       "    <tr>\n",
       "      <th>4</th>\n",
       "      <td>0000455dfa3e01eae3af</td>\n",
       "      <td>Can I convert montra helicon D to a mountain b...</td>\n",
       "      <td>0</td>\n",
       "    </tr>\n",
       "    <tr>\n",
       "      <th>5</th>\n",
       "      <td>00004f9a462a357c33be</td>\n",
       "      <td>Is Gaza slowly becoming Auschwitz, Dachau or T...</td>\n",
       "      <td>0</td>\n",
       "    </tr>\n",
       "    <tr>\n",
       "      <th>6</th>\n",
       "      <td>00005059a06ee19e11ad</td>\n",
       "      <td>Why does Quora automatically ban conservative ...</td>\n",
       "      <td>0</td>\n",
       "    </tr>\n",
       "    <tr>\n",
       "      <th>7</th>\n",
       "      <td>0000559f875832745e2e</td>\n",
       "      <td>Is it crazy if I wash or wipe my groceries off...</td>\n",
       "      <td>0</td>\n",
       "    </tr>\n",
       "    <tr>\n",
       "      <th>8</th>\n",
       "      <td>00005bd3426b2d0c8305</td>\n",
       "      <td>Is there such a thing as dressing moderately, ...</td>\n",
       "      <td>0</td>\n",
       "    </tr>\n",
       "    <tr>\n",
       "      <th>9</th>\n",
       "      <td>00006e6928c5df60eacb</td>\n",
       "      <td>Is it just me or have you ever been in this ph...</td>\n",
       "      <td>0</td>\n",
       "    </tr>\n",
       "  </tbody>\n",
       "</table>\n",
       "</div>"
      ],
      "text/plain": [
       "                    qid                                      question_text  \\\n",
       "0  00002165364db923c7e6  How did Quebec nationalists see their province...   \n",
       "1  000032939017120e6e44  Do you have an adopted dog, how would you enco...   \n",
       "2  0000412ca6e4628ce2cf  Why does velocity affect time? Does velocity a...   \n",
       "3  000042bf85aa498cd78e  How did Otto von Guericke used the Magdeburg h...   \n",
       "4  0000455dfa3e01eae3af  Can I convert montra helicon D to a mountain b...   \n",
       "5  00004f9a462a357c33be  Is Gaza slowly becoming Auschwitz, Dachau or T...   \n",
       "6  00005059a06ee19e11ad  Why does Quora automatically ban conservative ...   \n",
       "7  0000559f875832745e2e  Is it crazy if I wash or wipe my groceries off...   \n",
       "8  00005bd3426b2d0c8305  Is there such a thing as dressing moderately, ...   \n",
       "9  00006e6928c5df60eacb  Is it just me or have you ever been in this ph...   \n",
       "\n",
       "   target  \n",
       "0       0  \n",
       "1       0  \n",
       "2       0  \n",
       "3       0  \n",
       "4       0  \n",
       "5       0  \n",
       "6       0  \n",
       "7       0  \n",
       "8       0  \n",
       "9       0  "
      ]
     },
     "execution_count": 3,
     "metadata": {},
     "output_type": "execute_result"
    }
   ],
   "source": [
    "print(\"Number of questions: {:d}\".format(len(data)))\n",
    "print(\"Insincere percentile: {:.2f}%\".format( float(len(data[data[\"target\"] == 1])) / len(data) * 100.0))\n",
    "print(\"Sample question (idx=6000): {:s}\".format(data.iloc[6000][\"question_text\"]))\n",
    "data.head(10)"
   ]
  },
  {
   "cell_type": "markdown",
   "metadata": {},
   "source": [
    "### Sampling\n",
    "\n",
    "We can reduce the number of samples used in order to make the process faster, but this isn't proper."
   ]
  },
  {
   "cell_type": "code",
   "execution_count": 4,
   "metadata": {},
   "outputs": [
    {
     "name": "stdout",
     "output_type": "stream",
     "text": [
      "Number of questions (sample): 130612\n",
      "Insincere percentile (sample): 6.19%\n"
     ]
    }
   ],
   "source": [
    "sample_data = data.sample(frac=0.1, random_state=13)\n",
    "print(\"Number of questions (sample): {:d}\".format(len(sample_data)))\n",
    "print(\"Insincere percentile (sample): {:.2f}%\".format( float(len(sample_data[sample_data[\"target\"] == 1])) / len(sample_data) * 100.0))\n",
    "data = sample_data"
   ]
  },
  {
   "cell_type": "markdown",
   "metadata": {},
   "source": [
    "### Tokenization\n",
    "\n",
    "Unlike in our usual working on perfect data during the course, the `question_text` field had not yet tokenized. If you just blindly put them into a model, the performance would be atrocious (for, say, <u>conversation?</u> will be counted as a single token instead of two tokens <u>conversation</u> and <u>?</u>). Good thing that the questions are in english, and we already have a well-trusted tool for this matter: <a href=\"\">NLTK</a>"
   ]
  },
  {
   "cell_type": "code",
   "execution_count": 5,
   "metadata": {},
   "outputs": [
    {
     "name": "stdout",
     "output_type": "stream",
     "text": [
      "Requirement already satisfied: nltk in /home/leanh/miniconda3/envs/machine-learning/lib/python3.7/site-packages (3.5)\n",
      "Requirement already satisfied: click in /home/leanh/miniconda3/envs/machine-learning/lib/python3.7/site-packages (from nltk) (7.1.2)\n",
      "Requirement already satisfied: joblib in /home/leanh/miniconda3/envs/machine-learning/lib/python3.7/site-packages (from nltk) (0.15.1)\n",
      "Requirement already satisfied: regex in /home/leanh/miniconda3/envs/machine-learning/lib/python3.7/site-packages (from nltk) (2020.5.14)\n",
      "Requirement already satisfied: tqdm in /home/leanh/miniconda3/envs/machine-learning/lib/python3.7/site-packages (from nltk) (4.46.0)\n"
     ]
    }
   ],
   "source": [
    "!pip install nltk"
   ]
  },
  {
   "cell_type": "code",
   "execution_count": 6,
   "metadata": {},
   "outputs": [
    {
     "name": "stderr",
     "output_type": "stream",
     "text": [
      "[nltk_data] Downloading package punkt to /home/leanh/nltk_data...\n",
      "[nltk_data]   Package punkt is already up-to-date!\n"
     ]
    },
    {
     "data": {
      "text/html": [
       "<div>\n",
       "<style scoped>\n",
       "    .dataframe tbody tr th:only-of-type {\n",
       "        vertical-align: middle;\n",
       "    }\n",
       "\n",
       "    .dataframe tbody tr th {\n",
       "        vertical-align: top;\n",
       "    }\n",
       "\n",
       "    .dataframe thead th {\n",
       "        text-align: right;\n",
       "    }\n",
       "</style>\n",
       "<table border=\"1\" class=\"dataframe\">\n",
       "  <thead>\n",
       "    <tr style=\"text-align: right;\">\n",
       "      <th></th>\n",
       "      <th>qid</th>\n",
       "      <th>raw_text</th>\n",
       "      <th>target</th>\n",
       "      <th>tokenized_text</th>\n",
       "    </tr>\n",
       "  </thead>\n",
       "  <tbody>\n",
       "    <tr>\n",
       "      <th>961946</th>\n",
       "      <td>bc768fbe7af71e7907ee</td>\n",
       "      <td>How do I view my boyfriend's call log?</td>\n",
       "      <td>0</td>\n",
       "      <td>how do i view my boyfriend 's call log ?</td>\n",
       "    </tr>\n",
       "    <tr>\n",
       "      <th>469183</th>\n",
       "      <td>5bdfa94ab3e7301e0d67</td>\n",
       "      <td>Are laundry mats safe to use or will you get b...</td>\n",
       "      <td>0</td>\n",
       "      <td>are laundry mats safe to use or will you get b...</td>\n",
       "    </tr>\n",
       "    <tr>\n",
       "      <th>1279716</th>\n",
       "      <td>face98c2b2f520b5c151</td>\n",
       "      <td>What is the CU college registration number of ...</td>\n",
       "      <td>0</td>\n",
       "      <td>what is the cu college registration number of ...</td>\n",
       "    </tr>\n",
       "    <tr>\n",
       "      <th>244661</th>\n",
       "      <td>2fda9c6f2ffbd4a365ce</td>\n",
       "      <td>How was Lost Tapes (TV documentary) created?</td>\n",
       "      <td>0</td>\n",
       "      <td>how was lost tapes ( tv documentary ) created ?</td>\n",
       "    </tr>\n",
       "    <tr>\n",
       "      <th>448591</th>\n",
       "      <td>57de4118196354f132fa</td>\n",
       "      <td>How many calories does each cup of green tea b...</td>\n",
       "      <td>0</td>\n",
       "      <td>how many calories does each cup of green tea b...</td>\n",
       "    </tr>\n",
       "  </tbody>\n",
       "</table>\n",
       "</div>"
      ],
      "text/plain": [
       "                          qid  \\\n",
       "961946   bc768fbe7af71e7907ee   \n",
       "469183   5bdfa94ab3e7301e0d67   \n",
       "1279716  face98c2b2f520b5c151   \n",
       "244661   2fda9c6f2ffbd4a365ce   \n",
       "448591   57de4118196354f132fa   \n",
       "\n",
       "                                                  raw_text  target  \\\n",
       "961946              How do I view my boyfriend's call log?       0   \n",
       "469183   Are laundry mats safe to use or will you get b...       0   \n",
       "1279716  What is the CU college registration number of ...       0   \n",
       "244661        How was Lost Tapes (TV documentary) created?       0   \n",
       "448591   How many calories does each cup of green tea b...       0   \n",
       "\n",
       "                                            tokenized_text  \n",
       "961946            how do i view my boyfriend 's call log ?  \n",
       "469183   are laundry mats safe to use or will you get b...  \n",
       "1279716  what is the cu college registration number of ...  \n",
       "244661     how was lost tapes ( tv documentary ) created ?  \n",
       "448591   how many calories does each cup of green tea b...  "
      ]
     },
     "execution_count": 6,
     "metadata": {},
     "output_type": "execute_result"
    }
   ],
   "source": [
    "import nltk\n",
    "from nltk.tokenize import word_tokenize\n",
    "nltk.download('punkt')\n",
    "data = data.rename(columns={\"question_text\": \"raw_text\"})\n",
    "data[\"tokenized_text\"] = data[\"raw_text\"].map(lambda raw_text: (\" \".join(word_tokenize(raw_text.strip()))).lower())\n",
    "data.head(5)"
   ]
  },
  {
   "cell_type": "markdown",
   "metadata": {},
   "source": [
    "## Common topic modeling choices\n",
    "### Build a model on the data\n",
    "\n",
    "The easiest way to go on is to use good old sklearn's LDA as we learned them (<a href=\"https://scikit-learn.org/stable/modules/generated/sklearn.decomposition.LatentDirichletAllocation.html\">link</a>). Use CountVectorizer and LDA to search for underlying topics in the data. For this problem, we will assume to have 25 topics presented in the data.\n",
    "\n",
    "*Note: The prefered arguments for CountVectorizer are max_df=0.98, min_df=5, ngram_range=(1, 2), stop_words=\"english\". This avoid stop words, construct 2-grams and remove both too frequent and infrequent words. However, students are free to choose the arguments in general.*\n",
    "\n",
    "Also, keep the component distribution. You will be grateful of it later."
   ]
  },
  {
   "cell_type": "code",
   "execution_count": 7,
   "metadata": {},
   "outputs": [
    {
     "data": {
      "text/plain": [
       "LatentDirichletAllocation(n_components=25, random_state=1)"
      ]
     },
     "execution_count": 7,
     "metadata": {},
     "output_type": "execute_result"
    }
   ],
   "source": [
    "from sklearn.decomposition import LatentDirichletAllocation\n",
    "from sklearn.feature_extraction.text import CountVectorizer\n",
    "# the number of topics\n",
    "topic_count = 25\n",
    "# Construct the CountVectorizer and create word count matrix\n",
    "vectorizer = CountVectorizer(max_df=0.98, min_df=5, ngram_range=(1, 2), stop_words=\"english\")\n",
    "data_matrix = vectorizer.fit_transform(data['tokenized_text'])\n",
    "# fit transform the LDA model on the word count\n",
    "lda_model = LatentDirichletAllocation(n_components=topic_count, random_state=1)\n",
    "lda_model.fit(data_matrix)"
   ]
  },
  {
   "cell_type": "markdown",
   "metadata": {},
   "source": [
    "### Interpret the topics generated\n",
    "\n",
    "You are free to do whatever you want to demonstrate the topics that had been chosen. Our recommended practice is to use a function to extract the values per words."
   ]
  },
  {
   "cell_type": "code",
   "execution_count": 8,
   "metadata": {},
   "outputs": [],
   "source": [
    "def retrieve_top_words(topic, feature_names, n_top_words=3):\n",
    "    # Note that `topic` will already contain a vector of [features]\n",
    "    return np.array(feature_names)[np.argsort(-topic)][:n_top_words]"
   ]
  },
  {
   "cell_type": "code",
   "execution_count": 9,
   "metadata": {},
   "outputs": [
    {
     "name": "stdout",
     "output_type": "stream",
     "text": [
      "Topic #0: long, money, phone, account, business, does, facebook, website, company, use\n",
      "Topic #1: ways, food, tips, data, technology, best, north, causes, starting, korea\n",
      "Topic #2: engineering, college, university, student, science, class, study, good, students, computer\n",
      "Topic #3: power, american, really, value, win, party, law, culture, gun, vs\n",
      "Topic #4: quora, good, job, questions, answer, question, ca, getting, answers, short\n",
      "Topic #5: think, difference, school, high, social, media, people, friends, idea, gay\n",
      "Topic #6: world, countries, china, war, country, want, makes, russia, does, development\n",
      "Topic #7: women, stop, men, software, sex, group, bad, indians, time, happened\n",
      "Topic #8: make, water, 10, years, experience, does, air, design, star, favorite\n",
      "Topic #9: different, does, common, earth, muslims, energy, movie, light, types, speed\n",
      "Topic #10: trump, does, work, did, donald, donald trump, purpose, effects, think, intelligence\n",
      "Topic #11: day, face, safe, relationship, process, 2017, wife, president, night, style\n",
      "Topic #12: use, music, tv, meaning, video, series, android, known, word, good\n",
      "Topic #13: does, mean, does mean, cost, city, control, salary, new, tax, time\n",
      "Topic #14: states, 2018, united, working, usa, united states, jobs, google, paper, government\n",
      "Topic #15: like, does, life, feel, look, say, family, real, make, feel like\n",
      "Topic #16: year, old, year old, years, hair, indian, baby, role, game, function\n",
      "Topic #17: know, deal, life, does, popular, exist, years, partner, religion, ago\n",
      "Topic #18: english, using, books, language, read, learn, card, female, market, know\n",
      "Topic #19: best, way, online, best way, learning, book, buy, examples, learn, writing\n",
      "Topic #20: people, live, believe, hate, major, make, like, pain, avoid, chinese\n",
      "Topic #21: man, white, black, woman, write, date, wear, ask, seen, muslim\n",
      "Topic #22: did, thing, parents, end, tell, kids, benefits, leave, worst, child\n",
      "Topic #23: india, did, use, does, big, pakistan, dog, math, effect, health\n",
      "Topic #24: love, number, girls, body, start, human, weight, having, lose, increase\n"
     ]
    }
   ],
   "source": [
    "for topic_idx, topic in enumerate(lda_model.components_):\n",
    "    top_words = retrieve_top_words(topic, vectorizer.get_feature_names(), n_top_words=10)\n",
    "    print(\"Topic #{:d}: {:s}\".format( topic_idx, \", \".join(top_words) ))"
   ]
  },
  {
   "cell_type": "markdown",
   "metadata": {},
   "source": [
    "### Distribution of insincere questions\n",
    "\n",
    "Alright, that's a pretty neat division of topics you might have there, but how do we apply it to our problem? It turns out that while all topics is equal, some just attract far more junk than the other. Calculate the percentage of insincere questions per each topics.\n",
    "\n",
    "The code below assumes that you already have a variable `distribution` of shape *\\[num_samples, topic_count\\]* denoting the topic distribution for each sample. If you don't have any such values, please modify the code as you see fit."
   ]
  },
  {
   "cell_type": "code",
   "execution_count": 10,
   "metadata": {},
   "outputs": [
    {
     "name": "stdout",
     "output_type": "stream",
     "text": [
      "Topic 0 insincere percentage: 1.09%\n",
      "Topic 1 insincere percentage: 2.08%\n",
      "Topic 2 insincere percentage: 0.49%\n",
      "Topic 3 insincere percentage: 11.89%\n",
      "Topic 4 insincere percentage: 7.41%\n",
      "Topic 5 insincere percentage: 7.04%\n",
      "Topic 6 insincere percentage: 11.35%\n",
      "Topic 7 insincere percentage: 16.02%\n",
      "Topic 8 insincere percentage: 2.38%\n",
      "Topic 9 insincere percentage: 6.44%\n",
      "Topic 10 insincere percentage: 10.84%\n",
      "Topic 11 insincere percentage: 4.21%\n",
      "Topic 12 insincere percentage: 1.93%\n",
      "Topic 13 insincere percentage: 3.67%\n",
      "Topic 14 insincere percentage: 6.27%\n",
      "Topic 15 insincere percentage: 5.73%\n",
      "Topic 16 insincere percentage: 5.70%\n",
      "Topic 17 insincere percentage: 6.23%\n",
      "Topic 18 insincere percentage: 2.93%\n",
      "Topic 19 insincere percentage: 0.85%\n",
      "Topic 20 insincere percentage: 19.01%\n",
      "Topic 21 insincere percentage: 12.67%\n",
      "Topic 22 insincere percentage: 5.66%\n",
      "Topic 23 insincere percentage: 5.66%\n",
      "Topic 24 insincere percentage: 6.38%\n"
     ]
    },
    {
     "data": {
      "image/png": "[encoded data removed]",
      "text/plain": [
       "<Figure size 432x288 with 1 Axes>"
      ]
     },
     "metadata": {
      "needs_background": "light"
     },
     "output_type": "display_data"
    }
   ],
   "source": [
    "distribution = lda_model.transform(data_matrix)\n",
    "\n",
    "assignment = np.argmax(distribution, axis=1)\n",
    "percs = []\n",
    "for i in range(topic_count):\n",
    "    i_topic = data.iloc[assignment == i]\n",
    "    insincere_perc = len(i_topic[i_topic[\"target\"] == 1]) / len(i_topic) * 100.0\n",
    "    print(\"Topic {:d} insincere percentage: {:.2f}%\".format(i, insincere_perc))\n",
    "    percs.append(insincere_perc)\n",
    "\n",
    "ax = plt.subplot()\n",
    "ax.bar(range(topic_count), percs)\n",
    "ax.set_xticks(range(topic_count))\n",
    "plt.show()"
   ]
  },
  {
   "cell_type": "markdown",
   "metadata": {},
   "source": [
    "Write some code to calculate and show a bar chart denoting the percentages(and/or count) of each topic contributing to the number of insincere questions."
   ]
  },
  {
   "cell_type": "code",
   "execution_count": 11,
   "metadata": {},
   "outputs": [],
   "source": [
    "def set_labels(rects):\n",
    "    for rect in rects:\n",
    "        height = rect.get_height()\n",
    "        ax.annotate('{}'.format(round(height, 2)),\n",
    "                    xy=(rect.get_x() + rect.get_width() / 2, height),\n",
    "                    xytext=(0, 3),  \n",
    "                    textcoords=\"offset points\",\n",
    "                    ha='center', va='bottom')"
   ]
  },
  {
   "cell_type": "code",
   "execution_count": 12,
   "metadata": {},
   "outputs": [
    {
     "name": "stdout",
     "output_type": "stream",
     "text": [
      "Topic 0 insincere percentage: 0.99%\n",
      "Topic 1 insincere percentage: 1.13%\n",
      "Topic 2 insincere percentage: 0.58%\n",
      "Topic 3 insincere percentage: 6.58%\n",
      "Topic 4 insincere percentage: 4.53%\n",
      "Topic 5 insincere percentage: 4.31%\n",
      "Topic 6 insincere percentage: 7.03%\n",
      "Topic 7 insincere percentage: 10.58%\n",
      "Topic 8 insincere percentage: 1.65%\n",
      "Topic 9 insincere percentage: 3.84%\n",
      "Topic 10 insincere percentage: 6.55%\n",
      "Topic 11 insincere percentage: 2.09%\n",
      "Topic 12 insincere percentage: 1.36%\n",
      "Topic 13 insincere percentage: 2.19%\n",
      "Topic 14 insincere percentage: 2.94%\n",
      "Topic 15 insincere percentage: 4.29%\n",
      "Topic 16 insincere percentage: 3.11%\n",
      "Topic 17 insincere percentage: 3.69%\n",
      "Topic 18 insincere percentage: 1.58%\n",
      "Topic 19 insincere percentage: 0.77%\n",
      "Topic 20 insincere percentage: 12.62%\n",
      "Topic 21 insincere percentage: 7.23%\n",
      "Topic 22 insincere percentage: 3.13%\n",
      "Topic 23 insincere percentage: 3.60%\n",
      "Topic 24 insincere percentage: 3.65%\n"
     ]
    },
    {
     "data": {
      "image/png": "[encoded data removed]",
      "text/plain": [
       "<Figure size 1080x360 with 1 Axes>"
      ]
     },
     "metadata": {
      "needs_background": "light"
     },
     "output_type": "display_data"
    }
   ],
   "source": [
    "# get data\n",
    "percs_num_insincere = []\n",
    "num_insincere = len(data[data['target']==1])\n",
    "for i in range(topic_count):\n",
    "    i_topic = data.iloc[assignment == i]\n",
    "    insincere_perc = len(i_topic[i_topic[\"target\"] == 1]) / num_insincere * 100.0\n",
    "    print(\"Topic {:d} insincere percentage: {:.2f}%\".format(i, insincere_perc))\n",
    "    percs_num_insincere.append(insincere_perc)\n",
    "# draw graph\n",
    "fig = plt.figure(figsize=(15, 5))\n",
    "ax = plt.subplot()\n",
    "rects = ax.bar(np.arange(topic_count), percs_num_insincere)\n",
    "set_labels(rects)\n",
    "ax.set_xticks(range(topic_count))\n",
    "fig.tight_layout()\n",
    "plt.show()"
   ]
  },
  {
   "cell_type": "markdown",
   "metadata": {},
   "source": [
    "Specific topics have an disproportionate amount of insincere questions. Use `.sample` to take some questions from the topic with the highest and lowest percentage of insincere questions."
   ]
  },
  {
   "cell_type": "code",
   "execution_count": 13,
   "metadata": {},
   "outputs": [
    {
     "name": "stdout",
     "output_type": "stream",
     "text": [
      "Highest topic samples:\n",
      "\tHow do you treat a person that has to feel needed to feel powerful?\n",
      "\tHow does it feel being white and privileged at the expense of black people, such as the apartheid regime which was designed for one race to rape the other for instance?\n",
      "\tWhat was Iceland like in the 1950s?\n",
      "\tHow do I settle in Paris?\n",
      "\tI seem to be governed by immense hate, how do I calm myself?\n",
      "\tSince global warming is an obvious hoax, how do we out these liars?\n",
      "\tHow can one enter into investment banking? Will CFA charter help?\n",
      "\tHow did people in Japan react to logan pauls suicide vid?\n",
      "\tHow do you get a pet cat and pet dog and make them friends?\n",
      "\tIs karwachaut sexist?\n",
      "Lowest topic samples:\n",
      "\tIs it worth doing BLIS (Bachelor in Library & Information Science) through distance mode?\n",
      "\tIs it good to study engineering or diploma after twelfth?\n",
      "\tWhat course has the best scope in science related to biology other than MBBS?\n",
      "\tWhat causes time to advance in space-time?\n",
      "\tHow can an M.Tech student at any IIT make contacts with organizations like Infinity Foundation(USA) for his events?\n",
      "\tWould those that failed to get a good GPA at an elite school for stem majors have succeeded at lower schools so that they can attend grad school?\n",
      "\tWhat are the requirements for CA after graduation?\n",
      "\tWhat are the dangers of licking clay?\n",
      "\tHow do I get an A in a course that I don't want to study in?\n",
      "\tWhat should be the long term goal of an MBA aspirant who have his graduation in arts background?\n"
     ]
    }
   ],
   "source": [
    "state = 5\n",
    "\n",
    "highest_idx = np.argmax(percs_num_insincere)\n",
    "highest_samples = data.iloc[assignment == highest_idx].sample(n=10, random_state=state)\n",
    "print(\"Highest topic samples:\\n\\t{:s}\".format(\"\\n\\t\".join(highest_samples[\"raw_text\"])))\n",
    "lowest_idx = np.argmin(percs_num_insincere)\n",
    "lowest_samples = data.iloc[assignment == lowest_idx].sample(n=10, random_state=state)\n",
    "print(\"Lowest topic samples:\\n\\t{:s}\".format(\"\\n\\t\".join(lowest_samples[\"raw_text\"])))"
   ]
  },
  {
   "cell_type": "markdown",
   "metadata": {},
   "source": [
    "### Alternative: Build the topic model on solely insincere data\n",
    "\n",
    "Flipping the question since we now know that insincere questions tend to gravitate toward specific topics: Can we instead isolate the specific topics directly from the insincere portions of the data? Let's try it out. \n",
    "\n",
    "Build the same topic model and extract related topics just as above."
   ]
  },
  {
   "cell_type": "code",
   "execution_count": 14,
   "metadata": {},
   "outputs": [
    {
     "data": {
      "text/plain": [
       "LatentDirichletAllocation(n_components=25, random_state=1)"
      ]
     },
     "execution_count": 14,
     "metadata": {},
     "output_type": "execute_result"
    }
   ],
   "source": [
    "vectorizer_solely = CountVectorizer(max_df=0.98, min_df=5, ngram_range=(1, 2), stop_words=\"english\")\n",
    "solely_matrix = vectorizer_solely.fit_transform(data[data['target']==1]['tokenized_text'])\n",
    "# fit transform the LDA model on the word count\n",
    "lda_solely_model = LatentDirichletAllocation(n_components=topic_count, random_state=1)\n",
    "lda_solely_model.fit(solely_matrix)"
   ]
  },
  {
   "cell_type": "code",
   "execution_count": 15,
   "metadata": {},
   "outputs": [
    {
     "name": "stdout",
     "output_type": "stream",
     "text": [
      "Topic #0: like, just, people, right, know, does, countries, make, look, things\n",
      "Topic #1: fake, wear, house, despite, true, like, movies, indians, fucking, difference\n",
      "Topic #2: america, usa, europe, world, trump, country, english, war, hate, american\n",
      "Topic #3: people, anti, non, kill, getting, religious, right, want, support, finally\n",
      "Topic #4: girls, questions, quora, guys, ask, question, people, indian, dumb, good\n",
      "Topic #5: chinese, china, christian, poor, eat, money, like, government, rich, arrogant\n",
      "Topic #6: quora, stupid, new, people, answers, think, just, does, turn, question\n",
      "Topic #7: trump, supporters, gun, control, does, trump supporters, democrats, republicans, die, gun control\n",
      "Topic #8: india, indians, country, north, south, indian, muslims, world, hindus, pakistan\n",
      "Topic #9: god, jesus, conservatives, liberals, dog, party, hell, hindi, middle, language\n",
      "Topic #10: trump, did, jewish, happen, israel, castrated, saying, working, state, called\n",
      "Topic #11: women, men, woman, think, feminists, like, sex, man, mental, gender\n",
      "Topic #12: states, does, united, mean, mother, united states, child, math, girls, boys\n",
      "Topic #13: old, year, girl, year old, years, guy, boy, penis, okay, 12\n",
      "Topic #14: people, human, iq, say, accept, use, did, feel, atheists, change\n",
      "Topic #15: people, white, black, americans, racist, white people, black people, african, british, american\n",
      "Topic #16: earth, female, best, wife, school, does, male, just, high, news\n",
      "Topic #17: muslims, hindus, bjp, religion, modi, india, does, rape, christians, ok\n",
      "Topic #18: muslims, hate, jews, indian, people, muslim, christians, islam, israel, think\n",
      "Topic #19: sex, gay, does, mom, people, sister, like, feel, want, son\n",
      "Topic #20: women, men, indian, white, asian, big, like, american, young, look\n",
      "Topic #21: hillary, did, clinton, man, hillary clinton, fuck, black, think, people, live\n",
      "Topic #22: indians, trump, like, donald, donald trump, does, pakistan, pakistanis, atheists, majority\n",
      "Topic #23: trump, world, president, chinese, does, hitler, americans, chinese people, president trump, think\n",
      "Topic #24: trump, obama, liberals, president, donald, donald trump, did, stop, real, media\n"
     ]
    }
   ],
   "source": [
    "top_words_lst = np.array([])\n",
    "for topic_idx, topic in enumerate(lda_solely_model.components_):\n",
    "    top_words = retrieve_top_words(topic, vectorizer_solely.get_feature_names(), n_top_words=10)\n",
    "    print(\"Topic #{:d}: {:s}\".format( topic_idx, \", \".join(top_words) ))\n",
    "    top_words_lst = np.append(top_words_lst, top_words)"
   ]
  },
  {
   "cell_type": "markdown",
   "metadata": {},
   "source": [
    "### Analysis\n",
    "\n",
    "From the distribution above, we can clearly detect some words that are hotbeds for inflamatory purpose, for example, *\"trump\"*. Let's plug it back into our dataset as a keywords and see how many insincere questions are asked with it and how many isn't.\n",
    "\n",
    "Set `safe_check` to False to trade accuracy for speed."
   ]
  },
  {
   "cell_type": "code",
   "execution_count": 16,
   "metadata": {},
   "outputs": [
    {
     "name": "stdout",
     "output_type": "stream",
     "text": [
      "Percentage for keyword \"trump\": 43.01%\n"
     ]
    }
   ],
   "source": [
    "def keyword_percentage(dataframe, word, safe_check=True):\n",
    "    if(safe_check):\n",
    "        checker_fn = lambda text: word in text.lower().strip().split()\n",
    "    else:\n",
    "        checker_fn = lambda text: word in text.lower()\n",
    "    contain = dataframe[dataframe[\"tokenized_text\"].map(checker_fn)]\n",
    "    try:\n",
    "        return float(len(contain[contain[\"target\"] == 1])) / len(contain)\n",
    "    except ZeroDivisionError:\n",
    "        return 0.0\n",
    "\n",
    "test_keyword = \"trump\"\n",
    "print(\"Percentage for keyword \\\"{:s}\\\": {:.2f}%\".format(test_keyword, keyword_percentage(data, test_keyword) * 100.0))"
   ]
  },
  {
   "cell_type": "markdown",
   "metadata": {},
   "source": [
    "We could easily streamline the process for the topic words generated from the model. With **3** best words per topic, display the above insincere percentage for each of them in another <u>bar chart</u>."
   ]
  },
  {
   "cell_type": "code",
   "execution_count": 17,
   "metadata": {},
   "outputs": [
    {
     "data": {
      "image/png": "[encoded data removed]",
      "text/plain": [
       "<Figure size 2160x720 with 1 Axes>"
      ]
     },
     "metadata": {
      "needs_background": "light"
     },
     "output_type": "display_data"
    }
   ],
   "source": [
    "x = np.arange(topic_count)\n",
    "top_words_percs = np.array([keyword_percentage(data, word)*100 for word in top_words_lst]).reshape(-1, 10)\n",
    "width = 0.3\n",
    "plt.figure(figsize=(30, 10))\n",
    "ax = plt.subplot()\n",
    "all_rects = [ax.bar(x - width, top_words_percs[:, 0], width),\n",
    "             ax.bar(x        , top_words_percs[:, 1], width),\n",
    "             ax.bar(x + width, top_words_percs[:, 2], width)]\n",
    "for rects in all_rects:\n",
    "    set_labels(rects)\n",
    "ax.set_xticks(x)\n",
    "fig.tight_layout()\n",
    "plt.show()"
   ]
  },
  {
   "cell_type": "markdown",
   "metadata": {},
   "source": [
    "**Optional: sample a number of random keyword (say, 5 of them) in the dataset and draw them on the bar chart along the other values.**"
   ]
  },
  {
   "cell_type": "code",
   "execution_count": 18,
   "metadata": {},
   "outputs": [
    {
     "data": {
      "image/png": "[encoded data removed]",
      "text/plain": [
       "<Figure size 2160x720 with 1 Axes>"
      ]
     },
     "metadata": {
      "needs_background": "light"
     },
     "output_type": "display_data"
    }
   ],
   "source": [
    "np.random.seed(1)\n",
    "all_features_vectorizer = CountVectorizer().fit(data['tokenized_text'])\n",
    "feature_names = all_features_vectorizer.get_feature_names() \n",
    "num_random_word = 5\n",
    "x = np.arange(25)\n",
    "\n",
    "width = 0.3\n",
    "plt.figure(figsize=(30, 10))\n",
    "ax = plt.subplot()\n",
    "all_rects = [ax.bar(x - width, top_words_percs[:, 0], width),\n",
    "             ax.bar(x        , top_words_percs[:, 1], width),\n",
    "             ax.bar(x + width, top_words_percs[:, 2], width),\n",
    "             ax.bar(np.linspace(24.7, 24.7+num_random_word*width, num_random_word), \\\n",
    "                   [keyword_percentage(data, word)*100.0 for word in \\\n",
    "                    np.random.choice(feature_names, num_random_word)], width)]\n",
    "for rects in all_rects:\n",
    "    set_labels(rects)\n",
    "ax.set_xticks(x)\n",
    "fig.tight_layout()\n",
    "plt.show()\n"
   ]
  },
  {
   "cell_type": "markdown",
   "metadata": {},
   "source": [
    "It is pretty clear that many keywords constitute a fair amount of abuse, with special cases have more than 40% of their question flagged as insincere. These keywords can be used in conjuntion with other classification methods to catch most insincere questions."
   ]
  },
  {
   "cell_type": "markdown",
   "metadata": {},
   "source": [
    "## (Optional) Advanced methods and alternatives\n",
    "\n",
    "### Non-Negative Matrix Factorization\n",
    "An alternative choice for topic modeling that we haven't had the chance to explore is Non-Negative Matrix Factorization (<a href=\"https://scikit-learn.org/stable/modules/generated/sklearn.decomposition.NMF.html#sklearn.decomposition.NMF\">link</a>). You can redo the above case with this module instead and see if the result improves."
   ]
  },
  {
   "cell_type": "code",
   "execution_count": 19,
   "metadata": {},
   "outputs": [
    {
     "data": {
      "text/plain": [
       "NMF(init='random', n_components=25, random_state=1)"
      ]
     },
     "execution_count": 19,
     "metadata": {},
     "output_type": "execute_result"
    }
   ],
   "source": [
    "from sklearn.decomposition import NMF\n",
    "nmf_model = NMF(n_components=topic_count, init='random', random_state=1)\n",
    "nmf_model.fit(data_matrix)"
   ]
  },
  {
   "cell_type": "code",
   "execution_count": 20,
   "metadata": {},
   "outputs": [
    {
     "name": "stdout",
     "output_type": "stream",
     "text": [
      "Topic #0: know, need, really, things, love, girl, need know, does know, friend, want know\n",
      "Topic #1: did, war, start, change, come, american, end, did people, obama, face\n",
      "Topic #2: does, mean, does mean, long, long does, affect, feel, does feel, cost, look\n",
      "Topic #3: people, white, black, white people, people think, black people, say, believe, chinese, hate\n",
      "Topic #4: good, bad, good bad, business, idea, good idea, books, book, term, short\n",
      "Topic #5: years, old, years old, 10, possible, experience, ago, love, years ago, 10 years\n",
      "Topic #6: like, feel, look, feel like, look like, people like, girl, girls, just, really\n",
      "Topic #7: best, best way, friend, book, online, best friend, ways, best ways, books, institute\n",
      "Topic #8: use, using, app, people use, possible, word, instead, online, data, phone\n",
      "Topic #9: way, best way, learn, way learn, money, easiest, effective, way make, start, right\n",
      "Topic #10: new, york, new york, start, business, new zealand, zealand, used, company, account\n",
      "Topic #11: person, feel, love, bad, does person, white, ve, average, phone, black\n",
      "Topic #12: time, long, long time, feel, spend, possible, best time, travel, right, period\n",
      "Topic #13: year, old, year old, girl, boy, 14, 15, 18, 14 year, old girl\n",
      "Topic #14: india, pakistan, china, indian, country, muslims, indians, buy, government, south\n",
      "Topic #15: world, war, country, countries, world war, happen, today, states, united, china\n",
      "Topic #16: think, people think, americans, really, right, indians, think people, girls, think good, god\n",
      "Topic #17: quora, questions, answer, question, answers, ask, does quora, questions quora, asked, write\n",
      "Topic #18: trump, donald, donald trump, president, president trump, states, united, united states, supporters, obama\n",
      "Topic #19: make, money, make money, possible, does make, using, feel, ways, online, sure\n",
      "Topic #20: better, job, engineering, school, college, science, university, computer, student, high\n",
      "Topic #21: work, tips, starting, useful, experience, useful tips, starting work, tips starting, company, hard\n",
      "Topic #22: want, just, start, really, ca, love, feel, friend, business, relationship\n",
      "Topic #23: life, real, real life, live, day, thing, life like, feel, living, social\n",
      "Topic #24: women, men, indian, sex, white, black, man, woman, feel, love\n"
     ]
    }
   ],
   "source": [
    "for topic_idx, topic in enumerate(nmf_model.components_):\n",
    "    top_words = retrieve_top_words(topic, vectorizer.get_feature_names(), n_top_words=10)\n",
    "    print(\"Topic #{:d}: {:s}\".format( topic_idx, \", \".join(top_words) ))"
   ]
  },
  {
   "cell_type": "code",
   "execution_count": 21,
   "metadata": {},
   "outputs": [
    {
     "name": "stdout",
     "output_type": "stream",
     "text": [
      "Topic 0 insincere percentage: 4.16%\n",
      "Topic 1 insincere percentage: 7.39%\n",
      "Topic 2 insincere percentage: 5.40%\n",
      "Topic 3 insincere percentage: 21.93%\n",
      "Topic 4 insincere percentage: 2.83%\n",
      "Topic 5 insincere percentage: 3.22%\n",
      "Topic 6 insincere percentage: 9.87%\n",
      "Topic 7 insincere percentage: 0.83%\n",
      "Topic 8 insincere percentage: 1.68%\n",
      "Topic 9 insincere percentage: 2.66%\n",
      "Topic 10 insincere percentage: 1.86%\n",
      "Topic 11 insincere percentage: 4.36%\n",
      "Topic 12 insincere percentage: 2.86%\n",
      "Topic 13 insincere percentage: 7.26%\n",
      "Topic 14 insincere percentage: 10.86%\n",
      "Topic 15 insincere percentage: 7.34%\n",
      "Topic 16 insincere percentage: 12.74%\n",
      "Topic 17 insincere percentage: 12.22%\n",
      "Topic 18 insincere percentage: 26.90%\n",
      "Topic 19 insincere percentage: 4.13%\n",
      "Topic 20 insincere percentage: 1.29%\n",
      "Topic 21 insincere percentage: 1.97%\n",
      "Topic 22 insincere percentage: 7.08%\n",
      "Topic 23 insincere percentage: 2.88%\n",
      "Topic 24 insincere percentage: 22.02%\n"
     ]
    },
    {
     "data": {
      "image/png": "[encoded data removed]",
      "text/plain": [
       "<Figure size 432x288 with 1 Axes>"
      ]
     },
     "metadata": {
      "needs_background": "light"
     },
     "output_type": "display_data"
    }
   ],
   "source": [
    "nmf_distribution = nmf_model.transform(data_matrix)\n",
    "\n",
    "assignment = np.argmax(nmf_distribution, axis=1)\n",
    "percs = []\n",
    "for i in range(topic_count):\n",
    "    i_topic = data.iloc[assignment == i]\n",
    "    insincere_perc = len(i_topic[i_topic[\"target\"] == 1]) / len(i_topic) * 100.0\n",
    "    print(\"Topic {:d} insincere percentage: {:.2f}%\".format(i, insincere_perc))\n",
    "    percs.append(insincere_perc)\n",
    "\n",
    "ax = plt.subplot()\n",
    "ax.bar(range(topic_count), percs)\n",
    "ax.set_xticks(range(topic_count))\n",
    "plt.show()"
   ]
  },
  {
   "cell_type": "code",
   "execution_count": 22,
   "metadata": {},
   "outputs": [
    {
     "name": "stdout",
     "output_type": "stream",
     "text": [
      "Topic 0 insincere percentage: 7.13%\n",
      "Topic 1 insincere percentage: 6.17%\n",
      "Topic 2 insincere percentage: 6.17%\n",
      "Topic 3 insincere percentage: 12.06%\n",
      "Topic 4 insincere percentage: 1.63%\n",
      "Topic 5 insincere percentage: 3.20%\n",
      "Topic 6 insincere percentage: 3.45%\n",
      "Topic 7 insincere percentage: 0.69%\n",
      "Topic 8 insincere percentage: 1.09%\n",
      "Topic 9 insincere percentage: 0.83%\n",
      "Topic 10 insincere percentage: 1.57%\n",
      "Topic 11 insincere percentage: 1.71%\n",
      "Topic 12 insincere percentage: 0.68%\n",
      "Topic 13 insincere percentage: 1.72%\n",
      "Topic 14 insincere percentage: 4.16%\n",
      "Topic 15 insincere percentage: 4.40%\n",
      "Topic 16 insincere percentage: 2.55%\n",
      "Topic 17 insincere percentage: 6.31%\n",
      "Topic 18 insincere percentage: 8.18%\n",
      "Topic 19 insincere percentage: 1.21%\n",
      "Topic 20 insincere percentage: 2.78%\n",
      "Topic 21 insincere percentage: 0.61%\n",
      "Topic 22 insincere percentage: 3.70%\n",
      "Topic 23 insincere percentage: 1.29%\n",
      "Topic 24 insincere percentage: 16.69%\n"
     ]
    },
    {
     "data": {
      "image/png": "[encoded data removed]",
      "text/plain": [
       "<Figure size 1080x360 with 1 Axes>"
      ]
     },
     "metadata": {
      "needs_background": "light"
     },
     "output_type": "display_data"
    }
   ],
   "source": [
    "# get data\n",
    "nmf_percs_num_insincere = []\n",
    "for i in range(topic_count):\n",
    "    i_topic = data.iloc[assignment == i]\n",
    "    insincere_perc = len(i_topic[i_topic[\"target\"] == 1]) / num_insincere * 100.0\n",
    "    print(\"Topic {:d} insincere percentage: {:.2f}%\".format(i, insincere_perc))\n",
    "    nmf_percs_num_insincere.append(insincere_perc)\n",
    "# plot bar\n",
    "fig = plt.figure(figsize=(15, 5))\n",
    "ax = plt.subplot()\n",
    "rects = ax.bar(np.arange(topic_count), nmf_percs_num_insincere)\n",
    "set_labels(rects)\n",
    "ax.set_xticks(range(topic_count))\n",
    "fig.tight_layout()\n",
    "plt.show()"
   ]
  },
  {
   "cell_type": "code",
   "execution_count": 23,
   "metadata": {},
   "outputs": [
    {
     "name": "stdout",
     "output_type": "stream",
     "text": [
      "Highest topic samples:\n",
      "\tIs there anyone here who has been sexually harassed by their (biological) mother?\n",
      "\tWhy are women more sure of what they want than men?\n",
      "\tWhere do you source X-Men Viper Cosplay Costume?\n",
      "\tIs it a coincidence that the jumbo straw size is exactly the same diameter as a NATO bullet size (5.56mm)?\n",
      "\tWhere can I download soundtracks from White Collar?\n",
      "\tHow do flower children affect society?\n",
      "\tWhich language is required for black hacking?\n",
      "\tWhere can I find young fashion designer in Indore?\n",
      "\tDo many men and women enjoy anal play?\n",
      "\tIs it true that Prince Harry was born with both the male and female anatomy?\n",
      "Lowest topic samples:\n",
      "\tIn simple terms, what does an IT technician do?\n",
      "\tHow does Erik Karlsson compare to Bobby Orr as a hockey player in the NHL?\n",
      "\tDoes joining the military give you the discipline and leadership to become a successful entrepreneur?\n",
      "\tHow does the button that launches Google or Siri with a bluetooth headset works?\n",
      "\tDoes becoming religious have any benefits?\n",
      "\tWhat is the glimpse phrase?\n",
      "\tWhat does the song disorder (by Joy Division) mean?\n",
      "\tCan I add raw egg into my body cream?\n",
      "\tHow does resistance of a coil changes with temperature in Carey Foster bridge?\n",
      "\tWhich part of the body is affected by typhoid?\n"
     ]
    }
   ],
   "source": [
    "state = 5\n",
    "\n",
    "highest_idx = np.argmax(nmf_percs_num_insincere)\n",
    "highest_samples = data.iloc[assignment == highest_idx].sample(n=10, random_state=state)\n",
    "print(\"Highest topic samples:\\n\\t{:s}\".format(\"\\n\\t\".join(highest_samples[\"raw_text\"])))\n",
    "lowest_idx = np.argmin(percs_num_insincere)\n",
    "lowest_samples = data.iloc[assignment == lowest_idx].sample(n=10, random_state=state)\n",
    "print(\"Lowest topic samples:\\n\\t{:s}\".format(\"\\n\\t\".join(lowest_samples[\"raw_text\"])))"
   ]
  },
  {
   "cell_type": "code",
   "execution_count": 24,
   "metadata": {},
   "outputs": [
    {
     "data": {
      "text/plain": [
       "NMF(n_components=25, random_state=1)"
      ]
     },
     "execution_count": 24,
     "metadata": {},
     "output_type": "execute_result"
    }
   ],
   "source": [
    "# fit transform the LDA model on the word count\n",
    "nmf_solely_model = NMF(n_components=topic_count, random_state=1)\n",
    "nmf_solely_model.fit(solely_matrix)"
   ]
  },
  {
   "cell_type": "code",
   "execution_count": 25,
   "metadata": {},
   "outputs": [
    {
     "name": "stdout",
     "output_type": "stream",
     "text": [
      "Topic #0: people, white people, black people, believe, gay, stupid, people think, ca, people like, religious\n",
      "Topic #1: trump, donald, donald trump, president, supporters, trump supporters, president trump, obama, hillary, liberals\n",
      "Topic #2: women, white women, man, rape, women like, american women, black women, respect, day, indian women\n",
      "Topic #3: muslims, christians, hindus, religion, indian muslims, islam, non, jews, true, muslim\n",
      "Topic #4: does, make, mean, say, know, look, does quora, does mean, want, gay\n",
      "Topic #5: like, feel, feel like, people like, look like, look, women like, things, just like, countries\n",
      "Topic #6: white, white people, non, asian, non white, racist, privilege, white person, person, race\n",
      "Topic #7: did, obama, make, jews, did obama, kill, russia, use, russian, europeans\n",
      "Topic #8: quora, questions, question, answers, stupid, answer, ask, does quora, questions quora, people quora\n",
      "Topic #9: think, people think, life, men think, better, democrats, women think, americans think, christians, best\n",
      "Topic #10: indian, indian muslims, hindus, indian girls, north, indian men, girl, north indian, culture, indian people\n",
      "Topic #11: old, year, year old, girl, 13, boy, 13 year, years, old girl, old boy\n",
      "Topic #12: india, pakistan, modi, country, hindu, hindus, bjp, south, north, nepal\n",
      "Topic #13: americans, country, african, african americans, feel, white americans, gun, black americans, native, believe\n",
      "Topic #14: men, white men, asian, feminists, indian men, black men, woman, feel, asian men, men women\n",
      "Topic #15: indians, south, north, south indians, north indians, pakistan, ask, pakistanis, feel, look\n",
      "Topic #16: black, black people, man, racist, black men, person, black women, black man, police, woman\n",
      "Topic #17: just, know, believe, really, ca, just like, true, make, bad, gun\n",
      "Topic #18: girls, guys, boys, hindu, muslim, indian girls, asian, hindu girls, marry, life\n",
      "Topic #19: sex, gay, having, sister, mom, want, having sex, mother, woman, girl\n",
      "Topic #20: world, muslim, countries, country, jews, china, america, western, islam, religion\n",
      "Topic #21: chinese, china, chinese people, japanese, feel, good, government, asian, want, eat\n",
      "Topic #22: hate, liberals, want, conservatives, jews, america, love, christians, people hate, liberals hate\n",
      "Topic #23: math, right, left, area, sin, cost, prove, supposed, sure, solve\n",
      "Topic #24: american, african, america, say, american women, anti, president, african american, culture, gun\n"
     ]
    }
   ],
   "source": [
    "nmf_top_words = np.array([])\n",
    "for topic_idx, topic in enumerate(nmf_solely_model.components_):\n",
    "    top_words = retrieve_top_words(topic, vectorizer_solely.get_feature_names(), n_top_words=10)\n",
    "    print(\"Topic #{:d}: {:s}\".format( topic_idx, \", \".join(top_words) ))\n",
    "    nmf_top_words = np.append(nmf_top_words, top_words[:3])"
   ]
  },
  {
   "cell_type": "code",
   "execution_count": 26,
   "metadata": {},
   "outputs": [
    {
     "data": {
      "image/png": "[encoded data removed]",
      "text/plain": [
       "<Figure size 2160x720 with 1 Axes>"
      ]
     },
     "metadata": {
      "needs_background": "light"
     },
     "output_type": "display_data"
    }
   ],
   "source": [
    "np.random.seed(1)\n",
    "num_random_word = 5\n",
    "x = np.arange(25)\n",
    "nmf_top_words_percs = np.array([keyword_percentage(data, word)*100 for word in nmf_top_words]).reshape(-1, 3)\n",
    "width = 0.3\n",
    "plt.figure(figsize=(30, 10))\n",
    "ax = plt.subplot()\n",
    "all_rects = [ax.bar(x - width, nmf_top_words_percs[:,0], width),\n",
    "             ax.bar(x        , nmf_top_words_percs[:,1], width),\n",
    "             ax.bar(x + width, nmf_top_words_percs[:,2], width),\n",
    "             ax.bar(np.linspace(24.7, 24.7+num_random_word*width, num_random_word),\\\n",
    "                   [keyword_percentage(data, word)*100.0 for word in \\\n",
    "                    np.random.choice(feature_names, num_random_word)], width)]\n",
    "for rects in all_rects:\n",
    "    set_labels(rects)\n",
    "ax.set_xticks(x)\n",
    "fig.tight_layout()\n",
    "plt.show()"
   ]
  },
  {
   "cell_type": "markdown",
   "metadata": {},
   "source": [
    "### Implementation of Classification\n",
    "\n",
    "Student who had ran through the previous Classification course can try tackle this problem and see if the new insights offered in this notebook would translate to a higher accuracy score."
   ]
  },
  {
   "cell_type": "code",
   "execution_count": 27,
   "metadata": {},
   "outputs": [],
   "source": [
    "from sklearn.linear_model import LogisticRegression\n",
    "from sklearn.model_selection import train_test_split\n",
    "from sklearn.feature_extraction.text import CountVectorizer\n",
    "# get train and test data\n",
    "train_data, test_data = train_test_split(data.dropna(subset=(\"tokenized_text\", \"target\")), train_size=0.8, test_size=0.2, random_state=0)\n",
    "\n",
    "# classifier_vectorizer = CountVectorizer()\n",
    "train_features = vectorizer.transform(train_data['tokenized_text'])\n",
    "train_labels = train_data['target'].astype(int).values\n",
    "test_features = vectorizer.transform(test_data['tokenized_text'].values)\n",
    "test_labels = test_data['target'].astype(int).values\n",
    "# train model\n",
    "classifier_model = LogisticRegression(max_iter=1000).fit(train_features, train_labels)"
   ]
  },
  {
   "cell_type": "code",
   "execution_count": 28,
   "metadata": {},
   "outputs": [
    {
     "name": "stdout",
     "output_type": "stream",
     "text": [
      "f1 score on:\n",
      "train set: 0.676967\n",
      "test set: 0.470965\n"
     ]
    }
   ],
   "source": [
    "from sklearn.metrics import f1_score\n",
    "print(\"f1 score on:\\ntrain set: {:f}\\ntest set: {:f}\".\\\n",
    "      format(f1_score(train_labels, classifier_model.predict(train_features)),\n",
    "             f1_score(test_labels, classifier_model.predict(test_features))))"
   ]
  },
  {
   "cell_type": "code",
   "execution_count": 38,
   "metadata": {},
   "outputs": [],
   "source": [
    "# models_topic = []\n",
    "# for i in range(topic_count):\n",
    "#     i_topic = data.iloc[assignment == i]\n",
    "#     features = vectorizer.transform(data.iloc[assignment == i]['tokenized_text'])\n",
    "#     labels = data.iloc[assignment==i]['target'].astype(int).values\n",
    "#     models_topic.append(LogisticRegression(max_iter=1000).fit(features, labels))"
   ]
  },
  {
   "cell_type": "code",
   "execution_count": 30,
   "metadata": {},
   "outputs": [],
   "source": [
    "def check_text(words_list):\n",
    "    return np.any([word in key_words for word in words_list])"
   ]
  },
  {
   "cell_type": "code",
   "execution_count": 62,
   "metadata": {},
   "outputs": [],
   "source": [
    "def predict(X):\n",
    "    n_samples = np.shape(X)[0]\n",
    "    classify_prediction = classifier_model.predict(X)\n",
    "#     topic_assignment = np.argmax(lda_model.transform(X), axis=1)\n",
    "#     topic_model_prediction = np.array([models_topic[topic_assignment[i]]. \\\n",
    "#         predict(X.getrow(i)) for i in range(n_samples)]).reshape(n_samples)\n",
    "    invert_text = vectorizer.inverse_transform(X)\n",
    "    contain_keyword = pd.Series(invert_text).map(check_text) \n",
    "    return classify_prediction.tolist() and contain_keyword.tolist()"
   ]
  },
  {
   "cell_type": "code",
   "execution_count": 70,
   "metadata": {},
   "outputs": [
    {
     "name": "stdout",
     "output_type": "stream",
     "text": [
      "f1 score on:\n",
      "train set: 0.491231\n",
      "test set: 0.481690\n"
     ]
    }
   ],
   "source": [
    "key_words = set(top_words_lst.reshape(-1, 10)[top_words_percs > 35])\n",
    "print(\"f1 score on:\\ntrain set: {:f}\\ntest set: {:f}\".\\\n",
    "      format(f1_score(train_labels, predict(train_features)),\n",
    "             f1_score(test_labels, predict(test_features))))\n",
    "# 40 f1 score on:\n",
    "# train set: 0.484482\n",
    "# test set: 0.473960\n",
    "# 35 f1 score on:\n",
    "# train set: 0.491231\n",
    "# test set: 0.481690"
   ]
  },
  {
   "cell_type": "code",
   "execution_count": null,
   "metadata": {},
   "outputs": [],
   "source": []
  }
 ],
 "metadata": {
  "kernelspec": {
   "display_name": "Python [conda env:machine-learning] *",
   "language": "python",
   "name": "conda-env-machine-learning-py"
  },
  "language_info": {
   "codemirror_mode": {
    "name": "ipython",
    "version": 3
   },
   "file_extension": ".py",
   "mimetype": "text/x-python",
   "name": "python",
   "nbconvert_exporter": "python",
   "pygments_lexer": "ipython3",
   "version": "3.7.7"
  }
 },
 "nbformat": 4,
 "nbformat_minor": 4
}
