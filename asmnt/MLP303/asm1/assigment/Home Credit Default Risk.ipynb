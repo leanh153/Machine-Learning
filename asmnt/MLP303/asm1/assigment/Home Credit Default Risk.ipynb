{
 "cells": [
  {
   "cell_type": "markdown",
   "metadata": {
    "colab_type": "text",
    "id": "u1BiiYspTJ8c"
   },
   "source": [
    "# Assignment 1: Home Credit Default Risk\n",
    "\n",
    "In this assignment you will be solving a real world problem on Kaggle. Kaggle is an online community of data scientists and machine learners. There are alot of machine learning competitions on the site (kaggle.com) to help companies, organizations to solve their problems, also help machine learner to learn from real world examples.\n",
    "We will use the Home Credit Default Risk (https://www.kaggle.com/c/home-credit-default-risk/overview) competition to help Home Credit company predict their clients' repayment abilities. You are going to use all the classification algorithms you have learned and implement them using scikit-learn to predict wether a loan client can repay the loan money. You will also submit your result to Kaggle.\n",
    "<br>\n",
    "All classification algorithms you will implement:\n",
    "<br>\n",
    "Logistic Regression: https://scikit-learn.org/stable/modules/generated/sklearn.linear_model.LogisticRegression.html\n",
    "<br>\n",
    "LinearSVM: https://scikit-learn.org/stable/modules/generated/sklearn.svm.LinearSVC.html\n",
    "<br>\n",
    "Naive Bayes: https://scikit-learn.org/stable/modules/naive_bayes.html\n",
    "<br>\n",
    "Feed forward neural network: https://scikit-learn.org/stable/modules/generated/sklearn.neural_network.MLPClassifier.html#sklearn.neural_network.MLPClassifier\n",
    "<br>\n",
    "Decision Tree: https://scikit-learn.org/stable/modules/generated/sklearn.tree.DecisionTreeClassifier.html\n",
    "<br>\n",
    "Gradient Boosting: https://scikit-learn.org/stable/modules/generated/sklearn.ensemble.GradientBoostingClassifier.html\n",
    "<br>\n",
    "Random Forest: https://scikit-learn.org/stable/modules/generated/sklearn.ensemble.RandomForestClassifier.html\n",
    "<br>\n",
    "In this assignment you will be doing the following:\n",
    "- Understand the credit default risk problem and the data\n",
    "- Pre-process the data for different algorithms\n",
    "- Train baseline classifiers\n",
    "- Check the baseline classifiers by submitting to Kaggle\n",
    "- Analyzing the baseline results\n",
    "- Fine tune to improve the baseline classifiers\n",
    "- Submit fine-tuned results to Kaggle\n",
    "- Analyzing the fine-tuned results\n",
    "- Improve the classifiers using cross validation\n",
    "- Submit cross validation results to Kaggle\n",
    "- Analyzing the cross validation results"
   ]
  },
  {
   "cell_type": "markdown",
   "metadata": {
    "colab_type": "text",
    "id": "2yhIRMw5TJ8e"
   },
   "source": [
    "## Loading the data"
   ]
  },
  {
   "cell_type": "markdown",
   "metadata": {
    "colab_type": "text",
    "id": "Zc2lBez8TJ8e"
   },
   "source": [
    "You can see the data from the competition contains many files but for this assignment we only use the application_train|test.csv files. We have done some pre-processing for you like handlingn date features, one-hot encoding categorical features. Let's load the pre-processed data. If you are interested in the pre-processing code, there is a very details jupyter notebook on the competition's fourm, you can check it out here https://www.kaggle.com/willkoehrsen/start-here-a-gentle-introduction."
   ]
  },
  {
   "cell_type": "markdown",
   "metadata": {
    "colab_type": "text",
    "id": "mbBOTVRMTJ8f"
   },
   "source": [
    "### Load the data"
   ]
  },
  {
   "cell_type": "code",
   "execution_count": null,
   "metadata": {
    "colab": {
     "base_uri": "https://localhost:8080/",
     "height": 122
    },
    "colab_type": "code",
    "executionInfo": {
     "elapsed": 31138,
     "status": "ok",
     "timestamp": 1590449546421,
     "user": {
      "displayName": "Lê Văn Anh se00534x",
      "photoUrl": "https://lh3.googleusercontent.com/a-/AOh14GiL8_GCUbQBSKPnTQeOK1-sLJ_nM-_UhHbTHIWb=s64",
      "userId": "09784403525685332856"
     },
     "user_tz": -420
    },
    "id": "x8NleIHBUbu-",
    "outputId": "a041c8bc-5a00-46b4-c34c-6cd60e654a83"
   },
   "outputs": [
    {
     "name": "stdout",
     "output_type": "stream",
     "text": [
      "Go to this URL in a browser: https://accounts.google.com/o/oauth2/auth?client_id=947318989803-6bn6qk8qdgf4n4g3pfee6491hc0brc4i.apps.googleusercontent.com&redirect_uri=urn%3aietf%3awg%3aoauth%3a2.0%3aoob&response_type=code&scope=email%20https%3a%2f%2fwww.googleapis.com%2fauth%2fdocs.test%20https%3a%2f%2fwww.googleapis.com%2fauth%2fdrive%20https%3a%2f%2fwww.googleapis.com%2fauth%2fdrive.photos.readonly%20https%3a%2f%2fwww.googleapis.com%2fauth%2fpeopleapi.readonly\n",
      "\n",
      "Enter your authorization code:\n",
      "··········\n",
      "Mounted at /content/drive\n"
     ]
    }
   ],
   "source": [
    "from google.colab import drive\n",
    "drive.mount('/content/drive')"
   ]
  },
  {
   "cell_type": "code",
   "execution_count": 1,
   "metadata": {
    "colab": {
     "base_uri": "https://localhost:8080/",
     "height": 105
    },
    "colab_type": "code",
    "executionInfo": {
     "elapsed": 6604,
     "status": "ok",
     "timestamp": 1590449558333,
     "user": {
      "displayName": "Lê Văn Anh se00534x",
      "photoUrl": "https://lh3.googleusercontent.com/a-/AOh14GiL8_GCUbQBSKPnTQeOK1-sLJ_nM-_UhHbTHIWb=s64",
      "userId": "09784403525685332856"
     },
     "user_tz": -420
    },
    "id": "n-vpYqK4TJ8g",
    "outputId": "5ab9a432-0f1d-4319-b2ab-39171eef7a9a",
    "scrolled": true
   },
   "outputs": [
    {
     "name": "stdout",
     "output_type": "stream",
     "text": [
      "train_X shape: (307511, 240)\n",
      "train_y shape: (307511,)\n",
      "test_X shape: (48744, 240)\n",
      "feature_names:  ['SK_ID_CURR', 'NAME_CONTRACT_TYPE', 'FLAG_OWN_CAR', 'FLAG_OWN_REALTY', 'CNT_CHILDREN', 'AMT_INCOME_TOTAL', 'AMT_CREDIT', 'AMT_ANNUITY', 'AMT_GOODS_PRICE', 'REGION_POPULATION_RELATIVE', 'DAYS_BIRTH', 'DAYS_EMPLOYED', 'DAYS_REGISTRATION', 'DAYS_ID_PUBLISH', 'OWN_CAR_AGE', 'FLAG_MOBIL', 'FLAG_EMP_PHONE', 'FLAG_WORK_PHONE', 'FLAG_CONT_MOBILE', 'FLAG_PHONE', 'FLAG_EMAIL', 'CNT_FAM_MEMBERS', 'REGION_RATING_CLIENT', 'REGION_RATING_CLIENT_W_CITY', 'HOUR_APPR_PROCESS_START', 'REG_REGION_NOT_LIVE_REGION', 'REG_REGION_NOT_WORK_REGION', 'LIVE_REGION_NOT_WORK_REGION', 'REG_CITY_NOT_LIVE_CITY', 'REG_CITY_NOT_WORK_CITY', 'LIVE_CITY_NOT_WORK_CITY', 'EXT_SOURCE_1', 'EXT_SOURCE_2', 'EXT_SOURCE_3', 'APARTMENTS_AVG', 'BASEMENTAREA_AVG', 'YEARS_BEGINEXPLUATATION_AVG', 'YEARS_BUILD_AVG', 'COMMONAREA_AVG', 'ELEVATORS_AVG', 'ENTRANCES_AVG', 'FLOORSMAX_AVG', 'FLOORSMIN_AVG', 'LANDAREA_AVG', 'LIVINGAPARTMENTS_AVG', 'LIVINGAREA_AVG', 'NONLIVINGAPARTMENTS_AVG', 'NONLIVINGAREA_AVG', 'APARTMENTS_MODE', 'BASEMENTAREA_MODE', 'YEARS_BEGINEXPLUATATION_MODE', 'YEARS_BUILD_MODE', 'COMMONAREA_MODE', 'ELEVATORS_MODE', 'ENTRANCES_MODE', 'FLOORSMAX_MODE', 'FLOORSMIN_MODE', 'LANDAREA_MODE', 'LIVINGAPARTMENTS_MODE', 'LIVINGAREA_MODE', 'NONLIVINGAPARTMENTS_MODE', 'NONLIVINGAREA_MODE', 'APARTMENTS_MEDI', 'BASEMENTAREA_MEDI', 'YEARS_BEGINEXPLUATATION_MEDI', 'YEARS_BUILD_MEDI', 'COMMONAREA_MEDI', 'ELEVATORS_MEDI', 'ENTRANCES_MEDI', 'FLOORSMAX_MEDI', 'FLOORSMIN_MEDI', 'LANDAREA_MEDI', 'LIVINGAPARTMENTS_MEDI', 'LIVINGAREA_MEDI', 'NONLIVINGAPARTMENTS_MEDI', 'NONLIVINGAREA_MEDI', 'TOTALAREA_MODE', 'OBS_30_CNT_SOCIAL_CIRCLE', 'DEF_30_CNT_SOCIAL_CIRCLE', 'OBS_60_CNT_SOCIAL_CIRCLE', 'DEF_60_CNT_SOCIAL_CIRCLE', 'DAYS_LAST_PHONE_CHANGE', 'FLAG_DOCUMENT_2', 'FLAG_DOCUMENT_3', 'FLAG_DOCUMENT_4', 'FLAG_DOCUMENT_5', 'FLAG_DOCUMENT_6', 'FLAG_DOCUMENT_7', 'FLAG_DOCUMENT_8', 'FLAG_DOCUMENT_9', 'FLAG_DOCUMENT_10', 'FLAG_DOCUMENT_11', 'FLAG_DOCUMENT_12', 'FLAG_DOCUMENT_13', 'FLAG_DOCUMENT_14', 'FLAG_DOCUMENT_15', 'FLAG_DOCUMENT_16', 'FLAG_DOCUMENT_17', 'FLAG_DOCUMENT_18', 'FLAG_DOCUMENT_19', 'FLAG_DOCUMENT_20', 'FLAG_DOCUMENT_21', 'AMT_REQ_CREDIT_BUREAU_HOUR', 'AMT_REQ_CREDIT_BUREAU_DAY', 'AMT_REQ_CREDIT_BUREAU_WEEK', 'AMT_REQ_CREDIT_BUREAU_MON', 'AMT_REQ_CREDIT_BUREAU_QRT', 'AMT_REQ_CREDIT_BUREAU_YEAR', 'CODE_GENDER_F', 'CODE_GENDER_M', 'NAME_TYPE_SUITE_Children', 'NAME_TYPE_SUITE_Family', 'NAME_TYPE_SUITE_Group of people', 'NAME_TYPE_SUITE_Other_A', 'NAME_TYPE_SUITE_Other_B', 'NAME_TYPE_SUITE_Spouse, partner', 'NAME_TYPE_SUITE_Unaccompanied', 'NAME_INCOME_TYPE_Businessman', 'NAME_INCOME_TYPE_Commercial associate', 'NAME_INCOME_TYPE_Pensioner', 'NAME_INCOME_TYPE_State servant', 'NAME_INCOME_TYPE_Student', 'NAME_INCOME_TYPE_Unemployed', 'NAME_INCOME_TYPE_Working', 'NAME_EDUCATION_TYPE_Academic degree', 'NAME_EDUCATION_TYPE_Higher education', 'NAME_EDUCATION_TYPE_Incomplete higher', 'NAME_EDUCATION_TYPE_Lower secondary', 'NAME_EDUCATION_TYPE_Secondary / secondary special', 'NAME_FAMILY_STATUS_Civil marriage', 'NAME_FAMILY_STATUS_Married', 'NAME_FAMILY_STATUS_Separated', 'NAME_FAMILY_STATUS_Single / not married', 'NAME_FAMILY_STATUS_Widow', 'NAME_HOUSING_TYPE_Co-op apartment', 'NAME_HOUSING_TYPE_House / apartment', 'NAME_HOUSING_TYPE_Municipal apartment', 'NAME_HOUSING_TYPE_Office apartment', 'NAME_HOUSING_TYPE_Rented apartment', 'NAME_HOUSING_TYPE_With parents', 'OCCUPATION_TYPE_Accountants', 'OCCUPATION_TYPE_Cleaning staff', 'OCCUPATION_TYPE_Cooking staff', 'OCCUPATION_TYPE_Core staff', 'OCCUPATION_TYPE_Drivers', 'OCCUPATION_TYPE_HR staff', 'OCCUPATION_TYPE_High skill tech staff', 'OCCUPATION_TYPE_IT staff', 'OCCUPATION_TYPE_Laborers', 'OCCUPATION_TYPE_Low-skill Laborers', 'OCCUPATION_TYPE_Managers', 'OCCUPATION_TYPE_Medicine staff', 'OCCUPATION_TYPE_Private service staff', 'OCCUPATION_TYPE_Realty agents', 'OCCUPATION_TYPE_Sales staff', 'OCCUPATION_TYPE_Secretaries', 'OCCUPATION_TYPE_Security staff', 'OCCUPATION_TYPE_Waiters/barmen staff', 'WEEKDAY_APPR_PROCESS_START_FRIDAY', 'WEEKDAY_APPR_PROCESS_START_MONDAY', 'WEEKDAY_APPR_PROCESS_START_SATURDAY', 'WEEKDAY_APPR_PROCESS_START_SUNDAY', 'WEEKDAY_APPR_PROCESS_START_THURSDAY', 'WEEKDAY_APPR_PROCESS_START_TUESDAY', 'WEEKDAY_APPR_PROCESS_START_WEDNESDAY', 'ORGANIZATION_TYPE_Advertising', 'ORGANIZATION_TYPE_Agriculture', 'ORGANIZATION_TYPE_Bank', 'ORGANIZATION_TYPE_Business Entity Type 1', 'ORGANIZATION_TYPE_Business Entity Type 2', 'ORGANIZATION_TYPE_Business Entity Type 3', 'ORGANIZATION_TYPE_Cleaning', 'ORGANIZATION_TYPE_Construction', 'ORGANIZATION_TYPE_Culture', 'ORGANIZATION_TYPE_Electricity', 'ORGANIZATION_TYPE_Emergency', 'ORGANIZATION_TYPE_Government', 'ORGANIZATION_TYPE_Hotel', 'ORGANIZATION_TYPE_Housing', 'ORGANIZATION_TYPE_Industry: type 1', 'ORGANIZATION_TYPE_Industry: type 10', 'ORGANIZATION_TYPE_Industry: type 11', 'ORGANIZATION_TYPE_Industry: type 12', 'ORGANIZATION_TYPE_Industry: type 13', 'ORGANIZATION_TYPE_Industry: type 2', 'ORGANIZATION_TYPE_Industry: type 3', 'ORGANIZATION_TYPE_Industry: type 4', 'ORGANIZATION_TYPE_Industry: type 5', 'ORGANIZATION_TYPE_Industry: type 6', 'ORGANIZATION_TYPE_Industry: type 7', 'ORGANIZATION_TYPE_Industry: type 8', 'ORGANIZATION_TYPE_Industry: type 9', 'ORGANIZATION_TYPE_Insurance', 'ORGANIZATION_TYPE_Kindergarten', 'ORGANIZATION_TYPE_Legal Services', 'ORGANIZATION_TYPE_Medicine', 'ORGANIZATION_TYPE_Military', 'ORGANIZATION_TYPE_Mobile', 'ORGANIZATION_TYPE_Other', 'ORGANIZATION_TYPE_Police', 'ORGANIZATION_TYPE_Postal', 'ORGANIZATION_TYPE_Realtor', 'ORGANIZATION_TYPE_Religion', 'ORGANIZATION_TYPE_Restaurant', 'ORGANIZATION_TYPE_School', 'ORGANIZATION_TYPE_Security', 'ORGANIZATION_TYPE_Security Ministries', 'ORGANIZATION_TYPE_Self-employed', 'ORGANIZATION_TYPE_Services', 'ORGANIZATION_TYPE_Telecom', 'ORGANIZATION_TYPE_Trade: type 1', 'ORGANIZATION_TYPE_Trade: type 2', 'ORGANIZATION_TYPE_Trade: type 3', 'ORGANIZATION_TYPE_Trade: type 4', 'ORGANIZATION_TYPE_Trade: type 5', 'ORGANIZATION_TYPE_Trade: type 6', 'ORGANIZATION_TYPE_Trade: type 7', 'ORGANIZATION_TYPE_Transport: type 1', 'ORGANIZATION_TYPE_Transport: type 2', 'ORGANIZATION_TYPE_Transport: type 3', 'ORGANIZATION_TYPE_Transport: type 4', 'ORGANIZATION_TYPE_University', 'ORGANIZATION_TYPE_XNA', 'FONDKAPREMONT_MODE_not specified', 'FONDKAPREMONT_MODE_org spec account', 'FONDKAPREMONT_MODE_reg oper account', 'FONDKAPREMONT_MODE_reg oper spec account', 'HOUSETYPE_MODE_block of flats', 'HOUSETYPE_MODE_specific housing', 'HOUSETYPE_MODE_terraced house', 'WALLSMATERIAL_MODE_Block', 'WALLSMATERIAL_MODE_Mixed', 'WALLSMATERIAL_MODE_Monolithic', 'WALLSMATERIAL_MODE_Others', 'WALLSMATERIAL_MODE_Panel', 'WALLSMATERIAL_MODE_Stone, brick', 'WALLSMATERIAL_MODE_Wooden', 'EMERGENCYSTATE_MODE_No', 'EMERGENCYSTATE_MODE_Yes', 'DAYS_EMPLOYED_ANOM']\n"
     ]
    }
   ],
   "source": [
    "import pickle\n",
    "\n",
    "with open('data/home_credit_data.pickle', 'rb') as f:\n",
    "# with open('/content/drive/My Drive/funix/machine-learning/asmnt/MLP303/MLP303x_asm1_anhlvse00534x@funix.edu.vn/assigment/data/home_credit_data.pickle', 'rb') as f:\n",
    "    train_X, train_y, test_X, test_id_df = pickle.load(f)\n",
    "\n",
    "feature_names = list(train_X.columns)\n",
    "print ('train_X shape: {}'.format(train_X.shape))\n",
    "print ('train_y shape: {}'.format(train_y.shape))\n",
    "print ('test_X shape: {}'.format(test_X.shape))\n",
    "print ('feature_names: ', feature_names)\n",
    "\n",
    "# you should\n",
    "# train_X shape: (307511, 240)\n",
    "# train_y shape: (307511,)\n",
    "# test_X shape: (48744, 240)\n",
    "# feature_names: long array of string"
   ]
  },
  {
   "cell_type": "markdown",
   "metadata": {
    "colab_type": "text",
    "id": "r1yBrZbLTJ8n"
   },
   "source": [
    "### Count 0 and 1 samples"
   ]
  },
  {
   "cell_type": "code",
   "execution_count": null,
   "metadata": {
    "colab": {
     "base_uri": "https://localhost:8080/",
     "height": 51
    },
    "colab_type": "code",
    "executionInfo": {
     "elapsed": 787,
     "status": "ok",
     "timestamp": 1590320920023,
     "user": {
      "displayName": "Lê Văn Anh se00534x",
      "photoUrl": "https://lh3.googleusercontent.com/a-/AOh14GiL8_GCUbQBSKPnTQeOK1-sLJ_nM-_UhHbTHIWb=s64",
      "userId": "09784403525685332856"
     },
     "user_tz": -420
    },
    "id": "MNDRbuqNTJ8o",
    "outputId": "f8f3c827-155b-40a1-95a3-f2b6d913b5d6"
   },
   "outputs": [
    {
     "name": "stdout",
     "output_type": "stream",
     "text": [
      "y == 0 count: 282686, percentage: 91.92711805431351 %\n",
      "y == 1 count: 24825, percentage: 8.072881945686495 %\n"
     ]
    }
   ],
   "source": [
    "y_0_count = (train_y == 0).sum()\n",
    "y_1_count = (train_y == 1).sum()\n",
    "total = train_y.shape[0]\n",
    "\n",
    "print ('y == 0 count: {}, percentage: {} %'.format(y_0_count, y_0_count/total*100))\n",
    "print ('y == 1 count: {}, percentage: {} %'.format(y_1_count, y_1_count/total*100))\n",
    "\n",
    "# you should get\n",
    "# y == 0 count: 282686, percentage: 91.92711805431351 %\n",
    "# y == 1 count: 24825, percentage: 8.072881945686495 %"
   ]
  },
  {
   "cell_type": "markdown",
   "metadata": {
    "colab_type": "text",
    "id": "UhnGqLjRTJ8s"
   },
   "source": [
    "As you can see the **feature_names** is the array of string that includes names of the features on **train_X** and **test_X**.\n",
    "<br>\n",
    "**train_X** is a pandas DataFrame contains loan of 307511 clients's informations and it has 240 features.\n",
    "<br>\n",
    "**train_y** is a pandas array contains only 0s and 1s which indicating 0: the loan was repaid or 1: the loan was not repaid for each client in the **train_X**.\n",
    "<br>\n",
    "**test_id_df** is a pandas DataFrame contain only one colum `SK_ID_CURR` which is the clients's ids to help you submit your results to kaggle later.\n",
    "<br>\n",
    "You also notice that the **train_X** is a imbalanced dataset. Only 24825 out of 307511 clients (8%) who is labeled as not repaid.\n",
    "For that reason, in practice we usually don't use accuracy for measuring classifers's performances. Here is an example why we don't use accuracy for this problem, let's say you build a classifier which predicts every client is 0 then you should get a 91% accuracy for the **train_X** dataset beacause the percentage of clients who will not repay the loan are very small. \n",
    "<br>\n",
    "In particular, the competition uses ROCAUC ([ Receiver Operating Characteristic Area Under the Curve (ROC AUC, also sometimes called AUROC)](https://stats.stackexchange.com/questions/132777/what-does-auc-stand-for-and-what-is-it)) metric. For now, you don't need to care about the details of the metric yet (we will cover common evaluation metrics in the next module). What you should care is that the higher ROCAUC score is better and the minimum is 0 and maximum is 1.\n",
    "<br>\n",
    "You also notice that we don't have the **test_y** labels because you have to sumbit your results to kaggle to check your score."
   ]
  },
  {
   "cell_type": "markdown",
   "metadata": {
    "colab_type": "text",
    "id": "VO41jtqfTJ8t"
   },
   "source": [
    "### Handling missing data and scaling\n",
    "Let's fill in all the missing features's values with the median of that features. We also scale the data so we can train with different algorithms more effective."
   ]
  },
  {
   "cell_type": "code",
   "execution_count": 2,
   "metadata": {
    "colab": {},
    "colab_type": "code",
    "id": "DCVBMZG_TJ8t"
   },
   "outputs": [],
   "source": [
    "from sklearn.impute import SimpleImputer\n",
    "from sklearn.preprocessing import MinMaxScaler, StandardScaler\n",
    "\n",
    "# Median imputation of missing values\n",
    "imputer = SimpleImputer(strategy = 'median')\n",
    "\n",
    "imputer.fit(train_X)\n",
    "train_X = imputer.transform(train_X)\n",
    "test_X = imputer.transform(test_X)\n",
    "\n",
    "# Standardize features by removing the mean and scaling to unit variance\n",
    "std_scaler = StandardScaler()\n",
    "std_scaler.fit(train_X)\n",
    "train_X_norm = std_scaler.transform(train_X)\n",
    "test_X_norm = std_scaler.transform(test_X)\n",
    "\n",
    "# Scale each feature to 0-1\n",
    "mm_scaler = MinMaxScaler(feature_range = (0, 1))\n",
    "mm_scaler.fit(train_X)\n",
    "train_X_mm = mm_scaler.transform(train_X)\n",
    "test_X_mm = mm_scaler.transform(test_X)"
   ]
  },
  {
   "cell_type": "markdown",
   "metadata": {
    "colab_type": "text",
    "id": "PRho2l-3TJ8x"
   },
   "source": [
    "## Implement baseline models\n",
    "Now let's use what you have learned to create seven classifers using scikit-learn. You should store all your classifers into an array and use a for-loop to iterate through each one of them. For each classifer you will record some informations like train time, train accuracy, train roc_auc_score, test probability predictions for analyzing and improving from the baseline models later.\n",
    "<br>\n",
    "<br>\n",
    "Create seven classifers with order and parameters like following:\n",
    "<br>\n",
    "**LogisticRegression:** C=1e-4, solver='lbfgs'\n",
    "<br>\n",
    "**SVC:** C=1e-4, max_iter=1000, gamma='auto', probability=True\n",
    "<br>\n",
    "**MultinomialNB**: No parameters\n",
    "<br>\n",
    "**MLPClassifier:** solver='adam', alpha=1e-3, activation='relu', hidden_layer_sizes=(128, 64)\n",
    "<br>\n",
    "**DecisionTreeClassifier:** max_depth=30\n",
    "<br>\n",
    "**GradientBoostingClassifier:** n_estimators=100, max_depth=3\n",
    "<br>\n",
    "**RandomForestClassifier:** n_estimators=50, max_depth=30\n",
    "<br>\n",
    "<br>\n",
    "While traing you must use the right scaling datasets for the right algorithms:\n",
    "<br>\n",
    "Use **train_X_norm**, **test_X_norm** for LogisticRegression, MLPClassifier\n",
    "<br>\n",
    "Use **train_X_mm**, **test_X_mm** for MultinomialNB\n",
    "<br>\n",
    "Use non-scale datasets for other tree algorithms\n",
    "<br>\n",
    "<br>\n",
    "Fill all the YOUR CODE HERE comments with your code in the following cells:"
   ]
  },
  {
   "cell_type": "markdown",
   "metadata": {
    "colab_type": "text",
    "id": "tN-Bux29TJ8y"
   },
   "source": [
    "### Get appropriate data for different algorithms\n",
    "Complete the **get_train_data** function below to get appropiate datasets for different classifers."
   ]
  },
  {
   "cell_type": "code",
   "execution_count": 3,
   "metadata": {
    "colab": {},
    "colab_type": "code",
    "id": "kYxxxgzRTJ8z"
   },
   "outputs": [],
   "source": [
    "def get_train_data(classifier_name):\n",
    "    \"\"\"\n",
    "    Get appropiate scaling data for different algorithms\n",
    "\n",
    "    :param classifier_name: The name of the classifer\n",
    "\n",
    "    :return: X (train set), y (train labels), X_test (test set)\n",
    "    \"\"\"\n",
    "    y = train_y\n",
    "    if classifier_name in ['Logistic_Regression', 'Neural_Network', 'SVM']:\n",
    "        # ******** YOUR CODE HERE START ********\n",
    "        X = train_X_norm\n",
    "        X_test = test_X_norm\n",
    "        # ******** YOUR CODE HERE END ********\n",
    "    elif classifier_name == 'MultinomialNB':\n",
    "        # ******** YOUR CODE HERE START ********\n",
    "        X = train_X_mm\n",
    "        X_test = test_X_mm\n",
    "        # ******** YOUR CODE HERE END ********\n",
    "    else:\n",
    "        # ******** YOUR CODE HERE START ********\n",
    "        X = train_X\n",
    "        X_test = test_X\n",
    "        # ******** YOUR CODE HERE END ********\n",
    "    return X, y, X_test"
   ]
  },
  {
   "cell_type": "markdown",
   "metadata": {
    "colab_type": "text",
    "id": "cyk_TM4uTJ83"
   },
   "source": [
    "### Helper functions"
   ]
  },
  {
   "cell_type": "code",
   "execution_count": 4,
   "metadata": {
    "colab": {},
    "colab_type": "code",
    "id": "6nyKF-R_TJ84"
   },
   "outputs": [],
   "source": [
    "def to_submit_file(file_name, probs):\n",
    "    \"\"\"\n",
    "    A helper function helps generating submit files\n",
    "    \n",
    "    :param file_name: submit file name\n",
    "    :param probs: list of probabilities for test samples\n",
    "    \n",
    "    :return: None\n",
    "    \"\"\"\n",
    "    submit = test_id_df.copy()\n",
    "    submit['TARGET'] = probs\n",
    "    submit.to_csv(file_name, index = False)\n",
    "    print ('Done writting submit file: ', file_name)\n",
    "\n",
    "def plot_bar(title, x_labels, y, y_label):\n",
    "    \"\"\"\n",
    "    A helper function helps plotting bar graphs\n",
    "\n",
    "    :param title: title of the graph\n",
    "    :param x_labels: x labels\n",
    "    :param y: data for each x label\n",
    "    :param y_labels: label for y-axis\n",
    "\n",
    "    :return: None\n",
    "    \"\"\"\n",
    "    index = np.arange(len(x_labels))\n",
    "    plt.bar(index, y)\n",
    "    plt.ylabel(y_label, fontsize=15)\n",
    "    plt.xticks(index, x_labels, fontsize=15, rotation=90)\n",
    "    plt.title(title)\n",
    "    plt.show()"
   ]
  },
  {
   "cell_type": "markdown",
   "metadata": {
    "colab_type": "text",
    "id": "rJiveJAvTJ88"
   },
   "source": [
    "### Train classifers function\n",
    "Complete the **train_classifiers** function below. We iterate each classifer and train, calculate accuracy, auc, generate submit file."
   ]
  },
  {
   "cell_type": "code",
   "execution_count": 5,
   "metadata": {
    "colab": {},
    "colab_type": "code",
    "id": "V02FfiFITJ89"
   },
   "outputs": [],
   "source": [
    "from sklearn.metrics import roc_auc_score\n",
    "\n",
    "\n",
    "def train_classifiers(classifier_names, classifiers, prefix_submit='submits', suffix_submit='baseline'):\n",
    "    \"\"\"\n",
    "    Train an array of classifers\n",
    "\n",
    "    :param classifier_names: A list of classifer names\n",
    "    :param classifiers: A list of scikit-learn estimators (classifers)\n",
    "    :param prefix_submit: For exporting submit files\n",
    "    :param suffix_submit: For exporting submit files\n",
    "\n",
    "    :return: None\n",
    "    \"\"\"\n",
    "    train_accuracies = []\n",
    "    train_roc_auc_scores = []\n",
    "    train_times = []\n",
    "    test_prob_predictions = []\n",
    "    \n",
    "    for idx, clf in enumerate(classifiers):\n",
    "        classifier_name = classifier_names[idx]\n",
    "        \n",
    "        # ******** YOUR CODE HERE START ********\n",
    "        # call the get_train_data method\n",
    "        X, y, X_test = get_train_data(classifier_name)\n",
    "        # ******** YOUR CODE HERE END ********\n",
    "\n",
    "        print ('Training for classifier: ', classifier_name)\n",
    "        start_time = time.time()\n",
    "        # ******** YOUR CODE HERE START ********\n",
    "        # call fit method of the classifer\n",
    "        classifier = classifiers[idx].fit(X, y)\n",
    "        # ******** YOUR CODE HERE END ********\n",
    "        train_time = time.time() - start_time\n",
    "        print ('Done training for classifer: ', classifier_name)\n",
    "        \n",
    "        # ******** YOUR CODE HERE START ********\n",
    "        # calculate metrics\n",
    "        # test_probs is the probabilites for label 1 for X_test\n",
    "        train_accuracy = classifier.score(X, y)\n",
    "        train_probs = classifier.predict_proba(X)\n",
    "        train_roc_auc = roc_auc_score(y, train_probs[:, 1])\n",
    "        test_probs = classifier.predict_proba(X_test)[:, 1]\n",
    "        # ******** YOUR CODE HERE END ********\n",
    "\n",
    "        print('Train time: {} seconds'.format(train_time))\n",
    "        print ('Train accuracy: ', train_accuracy)\n",
    "        print ('Train roc auc score: ', train_roc_auc)\n",
    "        print ('*****************************')\n",
    "\n",
    "        train_accuracies.append(train_accuracy)\n",
    "        train_roc_auc_scores.append(train_roc_auc)\n",
    "        train_times.append(train_time)\n",
    "        test_prob_predictions.append(test_probs)\n",
    "        \n",
    "    for idx, classifier_name in enumerate(classifier_names):\n",
    "        to_submit_file(\n",
    "            \"{}/{}_{}.csv\".format(prefix_submit, classifier_name, suffix_submit),\n",
    "            test_prob_predictions[idx]\n",
    "        )\n",
    "\n",
    "    plot_bar('Train accuracies', classifier_names, train_accuracies, 'Train accuracy')\n",
    "    plot_bar('Train roc_auc scores', classifier_names, train_roc_auc_scores, 'Train roc_auc')\n",
    "    plot_bar('Train times', classifier_names, train_times, 'Train time')"
   ]
  },
  {
   "cell_type": "markdown",
   "metadata": {
    "colab_type": "text",
    "id": "JxjVEahxTJ9C"
   },
   "source": [
    "### Create and train classifers\n",
    "Complete the cell below by following the comments. You need to create seven classifers and use the **train_classifiers** function to train them. Some classifiers might take quite a long time to train like **SVC**, **Neural Network**, **Gradient Boosting** (around 20 minutes in a core 7 8th MSI laptop)."
   ]
  },
  {
   "cell_type": "code",
   "execution_count": null,
   "metadata": {
    "colab": {
     "base_uri": "https://localhost:8080/",
     "height": 1000
    },
    "colab_type": "code",
    "executionInfo": {
     "elapsed": 4385302,
     "status": "ok",
     "timestamp": 1590337673885,
     "user": {
      "displayName": "Lê Văn Anh se00534x",
      "photoUrl": "https://lh3.googleusercontent.com/a-/AOh14GiL8_GCUbQBSKPnTQeOK1-sLJ_nM-_UhHbTHIWb=s64",
      "userId": "09784403525685332856"
     },
     "user_tz": -420
    },
    "id": "z-5h-70nTJ9C",
    "outputId": "6e52b9b9-ae28-4ab2-e477-5338be64ef2c"
   },
   "outputs": [
    {
     "name": "stdout",
     "output_type": "stream",
     "text": [
      "Training for classifier:  Logistic_Regression\n",
      "Done training for classifer:  Logistic_Regression\n",
      "Train time: 3.3716952800750732 seconds\n",
      "Train accuracy:  0.9192776843755183\n",
      "Train roc auc score:  0.7450120498869429\n",
      "*****************************\n",
      "Training for classifier:  SVM\n"
     ]
    },
    {
     "name": "stderr",
     "output_type": "stream",
     "text": [
      "/usr/local/lib/python3.6/dist-packages/sklearn/svm/_base.py:231: ConvergenceWarning: Solver terminated early (max_iter=1000).  Consider pre-processing your data with StandardScaler or MinMaxScaler.\n",
      "  % self.max_iter, ConvergenceWarning)\n"
     ]
    },
    {
     "name": "stdout",
     "output_type": "stream",
     "text": [
      "Done training for classifer:  SVM\n",
      "Train time: 2009.847883939743 seconds\n",
      "Train accuracy:  0.6598007876141017\n",
      "Train roc auc score:  0.5421828335160825\n",
      "*****************************\n",
      "Training for classifier:  MultinomialNB\n",
      "Done training for classifer:  MultinomialNB\n",
      "Train time: 0.693519115447998 seconds\n",
      "Train accuracy:  0.9150599490749924\n",
      "Train roc auc score:  0.6453068655546197\n",
      "*****************************\n",
      "Training for classifier:  Neural_Network\n"
     ]
    },
    {
     "name": "stderr",
     "output_type": "stream",
     "text": [
      "/usr/local/lib/python3.6/dist-packages/sklearn/neural_network/_multilayer_perceptron.py:571: ConvergenceWarning: Stochastic Optimizer: Maximum iterations (200) reached and the optimization hasn't converged yet.\n",
      "  % self.max_iter, ConvergenceWarning)\n"
     ]
    },
    {
     "name": "stdout",
     "output_type": "stream",
     "text": [
      "Done training for classifer:  Neural_Network\n",
      "Train time: 1355.778296470642 seconds\n",
      "Train accuracy:  0.9581706020272446\n",
      "Train roc auc score:  0.9531542113145242\n",
      "*****************************\n",
      "Training for classifier:  Decision_Tree\n",
      "Done training for classifer:  Decision_Tree\n",
      "Train time: 38.00518822669983 seconds\n",
      "Train accuracy:  0.9817990250755257\n",
      "Train roc auc score:  0.9754114548213331\n",
      "*****************************\n",
      "Training for classifier:  Gradient_Boosting\n",
      "Done training for classifer:  Gradient_Boosting\n",
      "Train time: 369.96480345726013 seconds\n",
      "Train accuracy:  0.9198402658766678\n",
      "Train roc auc score:  0.7579898536837663\n",
      "*****************************\n",
      "Training for classifier:  Random_Forest\n",
      "Done training for classifer:  Random_Forest\n",
      "Train time: 81.83924221992493 seconds\n",
      "Train accuracy:  0.9737440286688931\n",
      "Train roc auc score:  0.9998546780407107\n",
      "*****************************\n",
      "Done writting submit file:  /content/drive/My Drive/funix/machine-learning/asmnt/MLP303/MLP303x_asm1_anhlvse00534x@funix.edu.vn/assigment/submits/Logistic_Regression_baseline.csv\n",
      "Done writting submit file:  /content/drive/My Drive/funix/machine-learning/asmnt/MLP303/MLP303x_asm1_anhlvse00534x@funix.edu.vn/assigment/submits/SVM_baseline.csv\n",
      "Done writting submit file:  /content/drive/My Drive/funix/machine-learning/asmnt/MLP303/MLP303x_asm1_anhlvse00534x@funix.edu.vn/assigment/submits/MultinomialNB_baseline.csv\n",
      "Done writting submit file:  /content/drive/My Drive/funix/machine-learning/asmnt/MLP303/MLP303x_asm1_anhlvse00534x@funix.edu.vn/assigment/submits/Neural_Network_baseline.csv\n",
      "Done writting submit file:  /content/drive/My Drive/funix/machine-learning/asmnt/MLP303/MLP303x_asm1_anhlvse00534x@funix.edu.vn/assigment/submits/Decision_Tree_baseline.csv\n",
      "Done writting submit file:  /content/drive/My Drive/funix/machine-learning/asmnt/MLP303/MLP303x_asm1_anhlvse00534x@funix.edu.vn/assigment/submits/Gradient_Boosting_baseline.csv\n",
      "Done writting submit file:  /content/drive/My Drive/funix/machine-learning/asmnt/MLP303/MLP303x_asm1_anhlvse00534x@funix.edu.vn/assigment/submits/Random_Forest_baseline.csv\n"
     ]
    },
    {
     "data": {
      "image/png": "[encoded data removed]",
      "text/plain": [
       "<Figure size 432x288 with 1 Axes>"
      ]
     },
     "metadata": {
      "needs_background": "light",
      "tags": []
     },
     "output_type": "display_data"
    },
    {
     "data": {
      "image/png": "[encoded data removed]",
      "text/plain": [
       "<Figure size 432x288 with 1 Axes>"
      ]
     },
     "metadata": {
      "needs_background": "light",
      "tags": []
     },
     "output_type": "display_data"
    },
    {
     "data": {
      "image/png": "[encoded data removed]",
      "text/plain": [
       "<Figure size 432x288 with 1 Axes>"
      ]
     },
     "metadata": {
      "needs_background": "light",
      "tags": []
     },
     "output_type": "display_data"
    }
   ],
   "source": [
    "import time\n",
    "import matplotlib.pyplot as plt\n",
    "import numpy as np\n",
    "#  ******************** YOUR CODE HERE START ********************\n",
    "\"\"\"\n",
    "Import all sklearn classifers classes here\n",
    "\"\"\"\n",
    "from sklearn.svm import LinearSVC\n",
    "from sklearn.calibration import CalibratedClassifierCV\n",
    "from sklearn.linear_model import LogisticRegression\n",
    "from sklearn.svm import SVC\n",
    "from sklearn.naive_bayes import MultinomialNB\n",
    "from sklearn.neural_network import MLPClassifier\n",
    "from sklearn.tree import DecisionTreeClassifier\n",
    "from sklearn.ensemble import GradientBoostingClassifier\n",
    "from sklearn.ensemble import RandomForestClassifier \n",
    "#  ******************** YOUR CODE HERE END ********************\n",
    "\n",
    "classifier_names = [\n",
    "    'Logistic_Regression',\n",
    "    'SVM',\n",
    "    'MultinomialNB',\n",
    "    'Neural_Network',\n",
    "    'Decision_Tree',\n",
    "    'Gradient_Boosting',\n",
    "    'Random_Forest',\n",
    "]\n",
    "# ******************** YOUR CODE HERE START ********************\n",
    "\"\"\"\n",
    "Create a list of classifers likes the order in the classifier_names variable\n",
    "\"\"\"\n",
    "# LogisticRegression: C=1e-4, solver='lbfgs'\n",
    "# SVC: C=1e-4, max_iter=1000, gamma='auto', probability=True\n",
    "# MultinomialNB: No parameters\n",
    "# MLPClassifier: solver='adam', alpha=1e-3, activation='relu', hidden_layer_sizes=(128, 64)\n",
    "# DecisionTreeClassifier: max_depth=30\n",
    "# GradientBoostingClassifier: n_estimators=100, max_depth=3\n",
    "# RandomForestClassifier: n_estimators=50, max_depth=30\n",
    "classifiers = [\n",
    "    LogisticRegression(C=1e-4, solver='lbfgs'), # LogisticRegression\n",
    "    SVC(C=1e-4, max_iter=1000, gamma='auto', probability=True), # SVC\n",
    "    MultinomialNB(), # MultinomialNB\n",
    "    MLPClassifier(solver='adam', alpha=1e-3, activation='relu', hidden_layer_sizes=(128, 64)), # MLPClassifier\n",
    "    DecisionTreeClassifier(max_depth=30), # DecisionTreeClassifier\n",
    "    GradientBoostingClassifier(n_estimators=100, max_depth=3), # GradientBoostingClassifier\n",
    "    RandomForestClassifier(n_estimators=50, max_depth=30), # RandomForestClassifier\n",
    "]\n",
    "\n",
    "# call the train_classifiers above\n",
    "# train classifers and generate submit files\n",
    "train_classifiers(classifier_names, classifiers,\n",
    "                  prefix_submit=\"/content/drive/My Drive/funix/machine-learning/asmnt/MLP303/MLP303x_asm1_anhlvse00534x@funix.edu.vn/assigment/submits\")\n",
    "\n",
    "#  ******************** YOUR CODE HERE END ********************"
   ]
  },
  {
   "cell_type": "markdown",
   "metadata": {
    "colab_type": "text",
    "id": "n2OJgFoZTJ9G"
   },
   "source": [
    "### Submit your results to kaggle\n",
    "After you have done training classifers, you can see submit files with the format **classifer_baseline.csv** in the **submits** folder. Now, submit all your baseline results to kaggle. Your scores might looks like the image below. Take a screen shot of your results and put it in the folder **images** with the name **student_baseline.png** and re-run the cell. Your private score should be equal or greater than the check scores. You get bonus points for each classifer that has a better private score than the check scores. You do not get any point for classifers that have scores which are **0.02** lower than the check scores.\n",
    "<br>\n",
    "**YOUR ANSWER (your image):**\n",
    "<br>\n",
    "![title](images/student_baseline.png)\n",
    "<br>\n",
    "**CHECK ANSWER:**\n",
    "<br>\n",
    "![title](images/baseline.png)"
   ]
  },
  {
   "cell_type": "markdown",
   "metadata": {
    "colab_type": "text",
    "id": "-oq9I_uBTJ9H"
   },
   "source": [
    "## Analyzing and tuning baseline models\n",
    "If you implement the baseline models correctly you will notice that **Logistic Regression** and **Gradient Boosting** have the highest score, it is about **0.73**. It is pretty good though, the highest score on the leader board is **0.8** and they did alot of feature engineering though. We will not be focusing on feature engineering though.\n",
    "<br>\n",
    "You also notice that **Nerual Network**, **Decision Tree**, **Random Forest** have very high accuracy (98%) and roc_auc (0.98) on the training dataset and very poorly on the test set (0.5, 0.6). They are definitely overfitting the training dataset so we will do some parameter tuing to prevent overfitting for these models.\n",
    "<br>\n",
    "Even though **Multinomial Naive Bayes** is weak classifer but they did pretty a reasonable result (0.63).\n",
    "<br>\n",
    "**SVM** has a very poorly result only **0.45** roc_auc, you might have noticed that when you were traing the **SVC** classifier from scikit-learn, there is a warning about coverging (ConvergenceWarning: Solver terminated early (max_iter=1000).  Consider pre-processing your data with StandardScaler or MinMaxScaler.). Even thoug we did scale our dataset but the waring still presents. We will try the **LinearSVC** classifier instead of the **SVC** classifier from scikit-learn to see if we can get a better result. By nature **LinearSVC** doesn't ouput probability scores, there is a work around by using the **CalibratedClassifierCV** in scikit-learn to get the Platt scaling, you can check out this discussion [Converting LinearSVC's decision function to probabilities (Scikit learn python )\n",
    "](https://stackoverflow.com/questions/26478000/converting-linearsvcs-decision-function-to-probabilities-scikit-learn-python). We need the probability ouputs in order to get the auc_oc score when submitting to kaggle.\n",
    "<br>\n",
    "<br>\n",
    "Let's implement new tuned baseline models to see if we can get a better resutls.\n",
    "Implement the following classifers with new parameters:\n",
    "<br>\n",
    "**CalibratedClassifierCV + LinearSVC**: C=1e-2, max_iter=1000, cv=3 (cv is short for cross validation, we use 3 folds here)\n",
    "<br>\n",
    "**MLPClassifier**: solver='adam', alpha=1e-1, activation='relu', hidden_layer_sizes=(128) (We increase the regularization effect, and use less complex layers)\n",
    "<br>\n",
    "**DecisionTreeClassifier**: max_depth=15 (We decrease the max_depth to decrease overfitting)\n",
    "<br>\n",
    "**RandomForestClassifier**: n_estimators=25, max_depth=15 (We decrease the max_depth and number of tree to decrease overfitting)"
   ]
  },
  {
   "cell_type": "code",
   "execution_count": null,
   "metadata": {
    "colab": {
     "base_uri": "https://localhost:8080/",
     "height": 1000
    },
    "colab_type": "code",
    "executionInfo": {
     "elapsed": 1409826,
     "status": "ok",
     "timestamp": 1590339084831,
     "user": {
      "displayName": "Lê Văn Anh se00534x",
      "photoUrl": "https://lh3.googleusercontent.com/a-/AOh14GiL8_GCUbQBSKPnTQeOK1-sLJ_nM-_UhHbTHIWb=s64",
      "userId": "09784403525685332856"
     },
     "user_tz": -420
    },
    "id": "ujn3D_FtTJ9I",
    "outputId": "978da95a-eff4-4619-f0d9-455bfc10efc0"
   },
   "outputs": [
    {
     "name": "stdout",
     "output_type": "stream",
     "text": [
      "Training for classifier:  SVM\n"
     ]
    },
    {
     "name": "stderr",
     "output_type": "stream",
     "text": [
      "/usr/local/lib/python3.6/dist-packages/sklearn/svm/_base.py:947: ConvergenceWarning: Liblinear failed to converge, increase the number of iterations.\n",
      "  \"the number of iterations.\", ConvergenceWarning)\n",
      "/usr/local/lib/python3.6/dist-packages/sklearn/svm/_base.py:947: ConvergenceWarning: Liblinear failed to converge, increase the number of iterations.\n",
      "  \"the number of iterations.\", ConvergenceWarning)\n",
      "/usr/local/lib/python3.6/dist-packages/sklearn/svm/_base.py:947: ConvergenceWarning: Liblinear failed to converge, increase the number of iterations.\n",
      "  \"the number of iterations.\", ConvergenceWarning)\n"
     ]
    },
    {
     "name": "stdout",
     "output_type": "stream",
     "text": [
      "Done training for classifer:  SVM\n",
      "Train time: 765.0790803432465 seconds\n",
      "Train accuracy:  0.9192191498840692\n",
      "Train roc auc score:  0.749069056077429\n",
      "*****************************\n",
      "Training for classifier:  Neural_Network\n",
      "Done training for classifer:  Neural_Network\n",
      "Train time: 571.5212128162384 seconds\n",
      "Train accuracy:  0.9194500359336739\n",
      "Train roc auc score:  0.7635192592389455\n",
      "*****************************\n",
      "Training for classifier:  Decision_Tree\n",
      "Done training for classifer:  Decision_Tree\n",
      "Train time: 23.18904399871826 seconds\n",
      "Train accuracy:  0.9345519347275382\n",
      "Train roc auc score:  0.7990116666691247\n",
      "*****************************\n",
      "Training for classifier:  Random_Forest\n",
      "Done training for classifer:  Random_Forest\n",
      "Train time: 26.818793773651123 seconds\n",
      "Train accuracy:  0.9200809076748474\n",
      "Train roc auc score:  0.8969843759403704\n",
      "*****************************\n",
      "Done writting submit file:  /content/drive/My Drive/funix/machine-learning/asmnt/MLP303/MLP303x_asm1_anhlvse00534x@funix.edu.vn/assigment/submits/tuned_baseline/SVM_tuned_baseline.csv\n",
      "Done writting submit file:  /content/drive/My Drive/funix/machine-learning/asmnt/MLP303/MLP303x_asm1_anhlvse00534x@funix.edu.vn/assigment/submits/tuned_baseline/Neural_Network_tuned_baseline.csv\n",
      "Done writting submit file:  /content/drive/My Drive/funix/machine-learning/asmnt/MLP303/MLP303x_asm1_anhlvse00534x@funix.edu.vn/assigment/submits/tuned_baseline/Decision_Tree_tuned_baseline.csv\n",
      "Done writting submit file:  /content/drive/My Drive/funix/machine-learning/asmnt/MLP303/MLP303x_asm1_anhlvse00534x@funix.edu.vn/assigment/submits/tuned_baseline/Random_Forest_tuned_baseline.csv\n"
     ]
    },
    {
     "data": {
      "image/png": "[encoded data removed]",
      "text/plain": [
       "<Figure size 432x288 with 1 Axes>"
      ]
     },
     "metadata": {
      "needs_background": "light",
      "tags": []
     },
     "output_type": "display_data"
    },
    {
     "data": {
      "image/png": "[encoded data removed]",
      "text/plain": [
       "<Figure size 432x288 with 1 Axes>"
      ]
     },
     "metadata": {
      "needs_background": "light",
      "tags": []
     },
     "output_type": "display_data"
    },
    {
     "data": {
      "image/png": "[encoded data removed]",
      "text/plain": [
       "<Figure size 432x288 with 1 Axes>"
      ]
     },
     "metadata": {
      "needs_background": "light",
      "tags": []
     },
     "output_type": "display_data"
    }
   ],
   "source": [
    "tuned_classifier_names = [\n",
    "    'SVM',\n",
    "    'Neural_Network',\n",
    "    'Decision_Tree',\n",
    "    'Random_Forest',\n",
    "]\n",
    "\n",
    "# ******************** YOUR CODE HERE START ********************\n",
    "\"\"\"\n",
    "Create a list of classifers likes the order in tuned_classifier_names variable\n",
    "\"\"\"\n",
    "# CalibratedClassifierCV + LinearSVC: C=1e-2, max_iter=1000, cv=3 (cv is short for cross validation, we use 3 folds here)\n",
    "# MLPClassifier: solver='adam', alpha=1e-1, activation='relu', hidden_layer_sizes=(128) (We increase the regularization effect, and use less complex layers)\n",
    "# DecisionTreeClassifier: max_depth=15 (We decrease the max_depth to decrease overfitting)\n",
    "# RandomForestClassifier: n_estimators=25, max_depth=15 (We decrease the max_depth and number of tree to decrease overfitting)\n",
    "tuned_classifiers = [\n",
    "    CalibratedClassifierCV(LinearSVC(C=1e-2, max_iter=1000), cv=3), # CalibratedClassifierCV\n",
    "    MLPClassifier(solver='adam', alpha=1e-1, activation='relu', hidden_layer_sizes=(128)), # MLPClassifier\n",
    "    DecisionTreeClassifier(max_depth=15), # DecisionTreeClassifier\n",
    "    RandomForestClassifier(n_estimators=25, max_depth=15), # RandomForestClassifier\n",
    "]\n",
    "# ******************** YOUR CODE HERE END ********************\n",
    "\n",
    "# train classifers and generate submit files\n",
    "train_classifiers(tuned_classifier_names, tuned_classifiers, '/content/drive/My Drive/funix/machine-learning/asmnt/MLP303/MLP303x_asm1_anhlvse00534x@funix.edu.vn/assigment/submits/tuned_baseline', 'tuned_baseline')"
   ]
  },
  {
   "cell_type": "markdown",
   "metadata": {
    "colab_type": "text",
    "id": "6FPVRCmDTJ9L"
   },
   "source": [
    "### Submit your results to kaggle\n",
    "Submit your result to kaggle. Your score should look like the image below. Take a screen shot of your results and put it in the folder images with the name **student_tuned_baseline.png**.\n",
    "<br>\n",
    "As you can see we got lower scores for the training set but better scores for test set. We encourage you to try more tuning to get better scores. Bonus points for those who can get higher scores.\n",
    "<br>\n",
    "**YOUR ANSWER (your image):**\n",
    "<br>\n",
    "![title](images/student_tuned_baseline.png)\n",
    "<br>\n",
    "**CHECK ANSWER:**\n",
    "<br>\n",
    "![title](images/tuned_baseline.png)"
   ]
  },
  {
   "cell_type": "markdown",
   "metadata": {
    "colab_type": "text",
    "id": "b20SyZHeTJ9M"
   },
   "source": [
    "## Hyper parameters tuning and  cross validation with GridSearchCV\n",
    "In the above section you have tried tuning one value for each parameter by creating a new classifer. What if you want to try many diffirent values for diffrent parameters, scikit-learn proves you the [**GridSearchCV**](https://scikit-learn.org/stable/modules/generated/sklearn.model_selection.GridSearchCV.html) class which help you to tune parameters much more efffective. The **GridSearchCV** will pick the best combination parameters for the classifers, the **scoring** parameter specifies metric for comparing classifer instances, here we use **accuracy**. You might wonder which dataset is used for scoring the classifers. A common approach is to split the original train dataset into new train and validation datasets and train the model on the new train dataset and scoring the model on the validation set, then we pick the model with the highest score on the validation dataset. You might also ask why don't we just use the test set for finding the best paramaters, the problem with that is that you might end up overfitting the test set, the hole point of training a classifier is to predict unseen data so we only use the test set for the final evaluation. Here we use [k folds cross-validation](https://en.wikipedia.org/wiki/Cross-validation_(statistics)) method for evaluating classifers when tuning parameters. The purpose of using cross-validation is that when you using train, validation method the model might misses informations from the validation set. There are few common cross-validation method here we use k folds cross-validation. The idea is that we split the train set into k folds (parts) we train the model on k - 1 folds and evaluate the model on 1 folds, we repeatedly do that k times for each k - 1 folds, the average over k folds is the final score. You can specify the number of folds by setting the **cv** parameter when you are creating the **GridSearchCV** instance.\n",
    "<br>\n",
    "<br>\n",
    "Let's use **GridSearchCV** to find good paramters for our baseline models. We have already done cross-validation for **SVM** by using **CalibratedClassifierCV** + **LinearSVC** with **cv=3** in the previous sections and get pretty good results (0.73) so to save our time we only do six other algorithms in this section and focusing on tree-based algorithms beacause they are sensitive to hyper-parameters and they are quit fast to train. For **Neural_Network** it takes quit a long time to train (20 minutes for 1 route cross validation) so could try different values of alpha if you want but in our answer we only consider 1 value for simplification."
   ]
  },
  {
   "cell_type": "code",
   "execution_count": 7,
   "metadata": {
    "colab": {
     "base_uri": "https://localhost:8080/",
     "height": 238
    },
    "colab_type": "code",
    "id": "6Qij8M9kTJ9N",
    "outputId": "a71b34d9-2a98-45d3-d54a-5d8abd06595f"
   },
   "outputs": [
    {
     "name": "stdout",
     "output_type": "stream",
     "text": [
      "Training for classifier:  Logistic_Regression\n",
      "Done training for classifer:  Logistic_Regression\n",
      "Train time: 98.1325786113739 seconds\n",
      "Train accuracy:  0.9192776843755183\n",
      "Train roc auc score:  0.7450120498869429\n",
      "*****************************\n",
      "Training for classifier:  MultinomialNB\n",
      "Done training for classifer:  MultinomialNB\n",
      "Train time: 14.384007453918457 seconds\n",
      "Train accuracy:  0.9150599490749924\n",
      "Train roc auc score:  0.6453068655546197\n",
      "*****************************\n",
      "Training for classifier:  Neural_Network\n",
      "Done training for classifer:  Neural_Network\n",
      "Train time: 36607.90539979935 seconds\n",
      "Train accuracy:  0.9248417129793731\n",
      "Train roc auc score:  0.8370732994171386\n",
      "*****************************\n",
      "Training for classifier:  Decision_Tree\n",
      "Done training for classifer:  Decision_Tree\n",
      "Train time: 720.741866350174 seconds\n",
      "Train accuracy:  0.9192841882079015\n",
      "Train roc auc score:  0.7124806644252849\n",
      "*****************************\n",
      "Training for classifier:  Gradient_Boosting\n",
      "Done training for classifer:  Gradient_Boosting\n",
      "Train time: 68756.42063474655 seconds\n",
      "Train accuracy:  0.920142694082488\n",
      "Train roc auc score:  0.7647032468330222\n",
      "*****************************\n",
      "Training for classifier:  Random_Forest\n",
      "Done training for classifer:  Random_Forest\n",
      "Train time: 3679.3481554985046 seconds\n",
      "Train accuracy:  0.9197784794690271\n",
      "Train roc auc score:  0.9077869802255659\n",
      "*****************************\n",
      "Done writting submit file:  submits/cross_validation/Logistic_Regression_cross_validation.csv\n",
      "Done writting submit file:  submits/cross_validation/MultinomialNB_cross_validation.csv\n",
      "Done writting submit file:  submits/cross_validation/Neural_Network_cross_validation.csv\n",
      "Done writting submit file:  submits/cross_validation/Decision_Tree_cross_validation.csv\n",
      "Done writting submit file:  submits/cross_validation/Gradient_Boosting_cross_validation.csv\n",
      "Done writting submit file:  submits/cross_validation/Random_Forest_cross_validation.csv\n"
     ]
    },
    {
     "data": {
      "image/png": "[encoded data removed]",
      "text/plain": [
       "<Figure size 432x288 with 1 Axes>"
      ]
     },
     "metadata": {
      "needs_background": "light"
     },
     "output_type": "display_data"
    },
    {
     "data": {
      "image/png": "[encoded data removed]",
      "text/plain": [
       "<Figure size 432x288 with 1 Axes>"
      ]
     },
     "metadata": {
      "needs_background": "light"
     },
     "output_type": "display_data"
    },
    {
     "data": {
      "image/png": "[encoded data removed]",
      "text/plain": [
       "<Figure size 432x288 with 1 Axes>"
      ]
     },
     "metadata": {
      "needs_background": "light"
     },
     "output_type": "display_data"
    }
   ],
   "source": [
    "from sklearn.model_selection import GridSearchCV\n",
    "\n",
    "cv_classifier_names = [\n",
    "    'Logistic_Regression',\n",
    "    'MultinomialNB',\n",
    "    'Neural_Network',\n",
    "    'Decision_Tree',\n",
    "    'Gradient_Boosting',\n",
    "    'Random_Forest',\n",
    "]\n",
    "\n",
    "# ******************** YOUR CODE HERE START ********************\n",
    "\"\"\"\n",
    "Try diffrent hyper parameters for each classifer here\n",
    "We provide an example for Logistic_Regression\n",
    "You try with Neural_Network, Decision_Tree, Gradient_Boosting, Random_Forest\n",
    "For Neural_Network you could try out different values for alpha like 1e-1, 1e-2, ... \n",
    "But it might take really long time to train.\n",
    "For tree-based algorithms try different max_dep likes 5, 10, 20, ... and\n",
    "different number of n_estimators likes 50, 100, ...\n",
    "\"\"\"\n",
    "tuning_parameters = [\n",
    "    {\n",
    "        'C': [1e-2, 1e-4], # YOUR CODE HERE for Logistic Regression\n",
    "        'solver': ['lbfgs'],\n",
    "    },\n",
    "    {}, # Empty for MultinomialNB\n",
    "    {\n",
    "        'alpha': [1e-2] # YOUR CODE HERE for Neural_Network\n",
    "    },\n",
    "    {\n",
    "        'max_depth': [5, 10, 15, 20], # YOUR CODE HERE for Decision_Tree\n",
    "    },\n",
    "    {\n",
    "        'n_estimators': [50, 100], # YOUR CODE HERE for Gradient_Boosting\n",
    "        'max_depth': [5, 10, 15],\n",
    "    },\n",
    "    {\n",
    "        'n_estimators': [50, 100], # YOUR CODE HERE for Random_Forest\n",
    "        'max_depth': [5, 10, 15],\n",
    "    },\n",
    "]\n",
    "# ******************** YOUR CODE HERE END ********************\n",
    "\n",
    "cv_classifiers = [\n",
    "    LogisticRegression(solver='lbfgs'),\n",
    "    MultinomialNB(),\n",
    "    MLPClassifier(solver='adam', activation='relu',\n",
    "                        hidden_layer_sizes=(128)),\n",
    "    DecisionTreeClassifier(),\n",
    "    GradientBoostingClassifier(),\n",
    "    RandomForestClassifier(),\n",
    "]\n",
    "\n",
    "grid_classifiers = []\n",
    "num_folds = 5\n",
    "\n",
    "\"\"\"\n",
    "Create GridSearchCV for each classifer in cv_classifiers variable\n",
    "Use scoring='accuracy', cv=num_folds\n",
    "\"\"\"\n",
    "for idx, clf in enumerate(cv_classifiers):\n",
    "    # ******************** YOUR CODE HERE START ********************\n",
    "    grid_classifiers.append(\n",
    "        GridSearchCV(clf, param_grid=tuning_parameters[idx],  cv=num_folds)\n",
    "    )\n",
    "    # ******************** YOUR CODE HERE END ********************\n",
    "\n",
    "# train classifers and generate submit files\n",
    "train_classifiers(cv_classifier_names, grid_classifiers, 'submits/cross_validation', 'cross_validation')\n",
    "# train_classifiers(cv_classifier_names, grid_classifiers, '/content/drive/My Drive/funix/machine-learning/asmnt/MLP303/MLP303x_asm1_anhlvse00534x@funix.edu.vn/assigment/submits/cross_validation', 'cross_validation')"
   ]
  },
  {
   "cell_type": "markdown",
   "metadata": {
    "colab_type": "text",
    "id": "JDXA9sqGTJ9S"
   },
   "source": [
    "  ### Submit your results to kaggle\n",
    "Submit your result to kaggle. Your score should look like the image below. Take a screen shot of your results and put it in the folder images with the name **student_cross_validation.png**.\n",
    "<br>\n",
    "As you can see we got lower scores for the training set but better scores for test set. We encourage you to try more tuning to get better scores. Bonus points for those who can get higher scores.\n",
    "<br>\n",
    "**YOUR ANSWER (your image):**\n",
    "<br>\n",
    "![title](images/student_cross_validation.png)\n",
    "<br>\n",
    "**CHECK ANSWER:**\n",
    "<br>\n",
    "![title](images/cross_validation.png)"
   ]
  },
  {
   "cell_type": "markdown",
   "metadata": {
    "colab_type": "text",
    "id": "TMbxxOS5TJ9T"
   },
   "source": [
    "As you can notice that our scores improve a little for **Decision_Tree**, for other algorithms almost is the same. "
   ]
  },
  {
   "cell_type": "code",
   "execution_count": null,
   "metadata": {
    "colab": {},
    "colab_type": "code",
    "id": "4CO4yvKOTJ9U"
   },
   "outputs": [],
   "source": []
  }
 ],
 "metadata": {
  "accelerator": "GPU",
  "colab": {
   "collapsed_sections": [],
   "name": "Assignment 1.ipynb",
   "provenance": []
  },
  "kernelspec": {
   "display_name": "Python [conda env:machine-learning] *",
   "language": "python",
   "name": "conda-env-machine-learning-py"
  },
  "language_info": {
   "codemirror_mode": {
    "name": "ipython",
    "version": 3
   },
   "file_extension": ".py",
   "mimetype": "text/x-python",
   "name": "python",
   "nbconvert_exporter": "python",
   "pygments_lexer": "ipython3",
   "version": "3.7.7"
  }
 },
 "nbformat": 4,
 "nbformat_minor": 4
}
