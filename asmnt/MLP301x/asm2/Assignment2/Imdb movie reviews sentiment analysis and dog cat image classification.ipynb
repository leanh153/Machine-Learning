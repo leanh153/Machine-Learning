{
 "cells": [
  {
   "cell_type": "markdown",
   "metadata": {},
   "source": [
    "# Imdb movie reviews sentiment analysis and dog cat image classification\n",
    "In this assignment we will build two machine learning classifers. The first classifier is trained to recognize if a movie review is negative or positive, here we use the [Imdb movie reviews](http://ai.stanford.edu/~amaas/data/sentiment/aclImdb_v1.tar.gz) dataset which contains 50000 reviews, half of which are positive and the other half are negative. The second classifier is an image classifer which can predict if an image is a dog image or a cat image. We use the [Dogs vs. Cats](https://www.kaggle.com/c/dogs-vs-cats/data) dataset from the \n",
    "Dogs vs. Cats competition on Kaggle which includes 25000 images of dogs and cats.\n",
    "<br>\n",
    "The main purpose of this notebook is to show you basic steps when training a machine learning model which are shown below.\n",
    "1. Get the data\n",
    "2. Load and preprocess the data\n",
    "3. Choose a model\n",
    "4. Train the model\n",
    "5. Evaluate the model\n",
    "6. Improve the model"
   ]
  },
  {
   "cell_type": "markdown",
   "metadata": {},
   "source": [
    "## Imdb movie reviews sentiment analysis\n",
    "Lets build our first classifer."
   ]
  },
  {
   "cell_type": "markdown",
   "metadata": {},
   "source": [
    "### Import some libs"
   ]
  },
  {
   "cell_type": "code",
   "execution_count": 1,
   "metadata": {},
   "outputs": [],
   "source": [
    "import re\n",
    "import os\n",
    "import numpy as np\n",
    "import pandas as pd\n",
    "from matplotlib import pyplot as plt"
   ]
  },
  {
   "cell_type": "markdown",
   "metadata": {},
   "source": [
    "### Download the data\n",
    "Down load the [Imdb movie reviews](http://ai.stanford.edu/~amaas/data/sentiment/aclImdb_v1.tar.gz) dataset, extract and put the **aclImdb** folder into the **data** folder."
   ]
  },
  {
   "cell_type": "markdown",
   "metadata": {},
   "source": [
    "### Load the dataset"
   ]
  },
  {
   "cell_type": "code",
   "execution_count": 2,
   "metadata": {},
   "outputs": [],
   "source": [
    "def load_train_test_imdb_data(data_dir):\n",
    "    \"\"\"Loads the IMDB train/test datasets from a folder path.\n",
    "    Input:\n",
    "    data_dir: path to the \"aclImdb\" folder.\n",
    "    \n",
    "    Returns:\n",
    "    train/test datasets as pandas dataframes.\n",
    "    \"\"\"\n",
    "\n",
    "    data = {}\n",
    "    for split in [\"train\", \"test\"]:\n",
    "        data[split] = []\n",
    "        for sentiment in [\"neg\", \"pos\"]:\n",
    "            score = 1 if sentiment == \"pos\" else 0\n",
    "\n",
    "            path = os.path.join(data_dir, split, sentiment)\n",
    "            file_names = os.listdir(path)\n",
    "            for f_name in file_names:\n",
    "                with open(os.path.join(path, f_name), \"r\", \n",
    "                encoding=\"utf-8\") as f:\n",
    "                    review = f.read()\n",
    "                    data[split].append([review, score])\n",
    "\n",
    "    np.random.shuffle(data[\"train\"])        \n",
    "    data[\"train\"] = pd.DataFrame(data[\"train\"],\n",
    "                                 columns=['text', 'sentiment'])\n",
    "\n",
    "    np.random.shuffle(data[\"test\"])\n",
    "    data[\"test\"] = pd.DataFrame(data[\"test\"],\n",
    "                                columns=['text', 'sentiment'])\n",
    "\n",
    "    return data[\"train\"], data[\"test\"]"
   ]
  },
  {
   "cell_type": "markdown",
   "metadata": {},
   "source": [
    "The **load_train_test_imdb_data** help us load the datasets in inside the folder **acllmdb**.\n",
    "<br>\n",
    "Complete the cell below in order to load datasets inside the **acllmdb** folder by using the **load_train_test_imdb_data** above.\n",
    "<br>\n",
    "It might takes a few minutes to load the datasets.\n",
    "After load the datasets we now have the **train_data** and the **test_data** dataframes."
   ]
  },
  {
   "cell_type": "code",
   "execution_count": 3,
   "metadata": {},
   "outputs": [],
   "source": [
    "# YOUR CODE HERE\n",
    "# Load the dataset\n",
    "train_data, test_data = load_train_test_imdb_data('data/aclImdb/')\n",
    "# YOUR CODE HERE"
   ]
  },
  {
   "cell_type": "markdown",
   "metadata": {},
   "source": [
    "Print out the first five entries and the shapes of the **train_data** and **test_data** datasets."
   ]
  },
  {
   "cell_type": "code",
   "execution_count": 4,
   "metadata": {
    "scrolled": false
   },
   "outputs": [
    {
     "name": "stdout",
     "output_type": "stream",
     "text": [
      "train data: \n",
      "                                                text  sentiment\n",
      "0  The comedic might of Pryor and Gleason couldn'...          0\n",
      "1  For a while I was caught in the trap where I f...          1\n",
      "2  When I started to watch this movie on VH-1 I c...          1\n",
      "3  My introduction into Yoji Yamada's cinematic w...          1\n",
      "4  I am not an artistically inclined individual. ...          0 \n",
      "train data shape: (25000, 2) \n",
      " test data: \n",
      "                                                 text  sentiment\n",
      "0  Stay FAR AWAY from this film. The fact that yo...          0\n",
      "1  A good, but not great film, \"The Great Dictato...          1\n",
      "2  **SPOILERS** Extremely brutal police drama set...          1\n",
      "3  This film is a fun little private eye detectiv...          1\n",
      "4  Centres on Czech WW2 pilots  the older Franti...          1 \n",
      "test data shape: (25000, 2)\n"
     ]
    }
   ],
   "source": [
    "# YOUR CODE HERE\n",
    "print('train data: \\n{} \\ntrain data shape: {} \\n test data: \\n {} \\ntest data shape: {}'.\n",
    "      format(train_data.head(5), train_data.shape, test_data.head(5), test_data.shape))\n",
    "# YOUR CODE HERE"
   ]
  },
  {
   "cell_type": "markdown",
   "metadata": {},
   "source": [
    "### Pre-processing reviews\n",
    "We have a **clean_text** function to clean the reviews so we can train the model more easily. Here we do some cleaning like removing HTML tags, removing punctuation, lowering text."
   ]
  },
  {
   "cell_type": "code",
   "execution_count": 5,
   "metadata": {},
   "outputs": [
    {
     "data": {
      "text/plain": [
       "['this', 'is', 'not', 'a', 'sentence']"
      ]
     },
     "execution_count": 5,
     "metadata": {},
     "output_type": "execute_result"
    }
   ],
   "source": [
    "def clean_text(text):\n",
    "    \"\"\"\n",
    "    Applies some pre-processing on the given text.\n",
    "\n",
    "    Steps :\n",
    "    - Removing HTML tags\n",
    "    - Removing punctuation\n",
    "    - Lowering text\n",
    "    \"\"\"\n",
    "    \n",
    "    # remove HTML tags\n",
    "    text = re.sub(r'<.*?>', '', text)\n",
    "    \n",
    "    # remove the characters [\\], ['] and [\"]\n",
    "    text = re.sub(r\"\\\\\", \"\", text)    \n",
    "    text = re.sub(r\"\\'\", \"\", text)    \n",
    "    text = re.sub(r\"\\\"\", \"\", text)    \n",
    "    \n",
    "    # convert text to lowercase\n",
    "    text = text.strip().lower()\n",
    "    \n",
    "    # replace punctuation characters with spaces\n",
    "    filters='!\"\\'#$%&()*+,-./:;<=>?@[\\\\]^_`{|}~\\t\\n'\n",
    "    translate_dict = dict((c, \" \") for c in filters)\n",
    "    translate_map = str.maketrans(translate_dict)\n",
    "    text = text.translate(translate_map)\n",
    "\n",
    "    return text\n",
    "\n",
    "# Example\n",
    "clean_text(\"<html>This is not a sentence.<\\html>\").split()"
   ]
  },
  {
   "cell_type": "markdown",
   "metadata": {},
   "source": [
    "### Representing reviews as vectors\n",
    "In order to train our reviews with a machine learning model we need convert them into vectors. There are many way to convert a review into a vector (a text in general), here we use the [bag-of-words](https://en.wikipedia.org/wiki/Bag-of-words_model) model which is commonly use when training with traditional machine learning algorithms. We use the sickit-learn [CountVectorizer](https://scikit-learn.org/stable/modules/generated/sklearn.feature_extraction.text.CountVectorizer.html) to help us create the bag-of-words more easily. Run the below cell the see an example."
   ]
  },
  {
   "cell_type": "code",
   "execution_count": 6,
   "metadata": {},
   "outputs": [
    {
     "data": {
      "text/html": [
       "<div>\n",
       "<style scoped>\n",
       "    .dataframe tbody tr th:only-of-type {\n",
       "        vertical-align: middle;\n",
       "    }\n",
       "\n",
       "    .dataframe tbody tr th {\n",
       "        vertical-align: top;\n",
       "    }\n",
       "\n",
       "    .dataframe thead th {\n",
       "        text-align: right;\n",
       "    }\n",
       "</style>\n",
       "<table border=\"1\" class=\"dataframe\">\n",
       "  <thead>\n",
       "    <tr style=\"text-align: right;\">\n",
       "      <th></th>\n",
       "      <th>bad</th>\n",
       "      <th>cat</th>\n",
       "      <th>day</th>\n",
       "      <th>good</th>\n",
       "    </tr>\n",
       "  </thead>\n",
       "  <tbody>\n",
       "    <tr>\n",
       "      <th>test sentence</th>\n",
       "      <td>0</td>\n",
       "      <td>0</td>\n",
       "      <td>2</td>\n",
       "      <td>1</td>\n",
       "    </tr>\n",
       "  </tbody>\n",
       "</table>\n",
       "</div>"
      ],
      "text/plain": [
       "               bad  cat  day  good\n",
       "test sentence    0    0    2     1"
      ]
     },
     "execution_count": 6,
     "metadata": {},
     "output_type": "execute_result"
    }
   ],
   "source": [
    "from sklearn.feature_extraction.text import CountVectorizer\n",
    "\n",
    "training_texts = [\n",
    "    \"This is a good cat\",\n",
    "    \"This is a bad day\"\n",
    "]\n",
    "\n",
    "test_texts = [\n",
    "    \"This day is a good day\"\n",
    "]\n",
    "\n",
    "# this vectorizer will skip stop words\n",
    "vectorizer = CountVectorizer(\n",
    "    stop_words=\"english\",\n",
    "    preprocessor=clean_text\n",
    ")\n",
    "\n",
    "# fit the vectorizer on the training text\n",
    "vectorizer.fit(training_texts)\n",
    "\n",
    "# get the vectorizer's vocabulary\n",
    "inv_vocab = {v: k for k, v in vectorizer.vocabulary_.items()}\n",
    "vocabulary = [inv_vocab[i] for i in range(len(inv_vocab))]\n",
    "# vectorization example\n",
    "pd.DataFrame(\n",
    "    data=vectorizer.transform(test_texts).toarray(),\n",
    "    index=[\"test sentence\"],\n",
    "    columns=vocabulary\n",
    ")"
   ]
  },
  {
   "cell_type": "markdown",
   "metadata": {},
   "source": [
    "### Create CountVectorizer\n",
    "This vectorier is used to vectorize the reviews."
   ]
  },
  {
   "cell_type": "code",
   "execution_count": 7,
   "metadata": {},
   "outputs": [],
   "source": [
    "# Transform each text into a vector of word counts\n",
    "vectorizer = CountVectorizer(stop_words=\"english\",\n",
    "                             preprocessor=clean_text)"
   ]
  },
  {
   "cell_type": "markdown",
   "metadata": {},
   "source": [
    "### Transform reviews into vectors"
   ]
  },
  {
   "cell_type": "markdown",
   "metadata": {},
   "source": [
    "Use the **fit_transform** function of the **vectorizer** to convert **train_data[\"text\"]** and **test_data[\"text\"]** into vectors."
   ]
  },
  {
   "cell_type": "code",
   "execution_count": 8,
   "metadata": {},
   "outputs": [],
   "source": [
    "# YOUR CODE HERE\n",
    "# Convert our reviews into vectors\n",
    "training_features = vectorizer.fit_transform(train_data['text'])\n",
    "test_features = vectorizer.transform(test_data['text'])\n",
    "# YOUR CODE HERE"
   ]
  },
  {
   "cell_type": "markdown",
   "metadata": {},
   "source": [
    "### Create and train the model\n",
    "There are many machine learning algorithms we can use in this case. Here we use Logistic Regression, which is very fast to train and commonly use for text classification problem when the dataset is small. You can learn more about the details of the algorithm and many other algorithms in the later course of this machine learning specialization. Run the cell below to create and train our model."
   ]
  },
  {
   "cell_type": "code",
   "execution_count": 9,
   "metadata": {},
   "outputs": [
    {
     "name": "stderr",
     "output_type": "stream",
     "text": [
      "/home/leanh/anaconda3/envs/ml-301x/lib/python3.7/site-packages/sklearn/svm/_base.py:947: ConvergenceWarning: Liblinear failed to converge, increase the number of iterations.\n",
      "  \"the number of iterations.\", ConvergenceWarning)\n"
     ]
    },
    {
     "data": {
      "text/plain": [
       "LinearSVC(C=1.0, class_weight=None, dual=True, fit_intercept=True,\n",
       "          intercept_scaling=1, loss='squared_hinge', max_iter=1000,\n",
       "          multi_class='ovr', penalty='l2', random_state=None, tol=0.0001,\n",
       "          verbose=0)"
      ]
     },
     "execution_count": 9,
     "metadata": {},
     "output_type": "execute_result"
    }
   ],
   "source": [
    "from sklearn.svm import LinearSVC\n",
    "\n",
    "# Training\n",
    "model = LinearSVC()\n",
    "\n",
    "model.fit(training_features, train_data[\"sentiment\"])"
   ]
  },
  {
   "cell_type": "markdown",
   "metadata": {},
   "source": [
    "### Evaluate the model\n",
    "Use the **accuracy_score** to evaluate our model on the **test_data**. Check the [accuracy_score](https://scikit-learn.org/stable/modules/generated/sklearn.metrics.accuracy_score.html) documentation here. Complete the code below to calculate the accuracy of our model on the **test_data**."
   ]
  },
  {
   "cell_type": "code",
   "execution_count": 10,
   "metadata": {},
   "outputs": [
    {
     "name": "stdout",
     "output_type": "stream",
     "text": [
      "Accuracy on the IMDB dataset: 83.68%\n"
     ]
    }
   ],
   "source": [
    "from sklearn.metrics import accuracy_score\n",
    "\n",
    "y_pred = model.predict(test_features)\n",
    "\n",
    "# YOUR CODE HERE\n",
    "# Evaluation\n",
    "acc = accuracy_score(test_data[\"sentiment\"], y_pred)\n",
    "# YOUR CODE HERE\n",
    "\n",
    "print(\"Accuracy on the IMDB dataset: {:.2f}%\".format(acc*100))"
   ]
  },
  {
   "cell_type": "markdown",
   "metadata": {},
   "source": [
    "**Quizz:** What is the accuracy of the model on the test set ?\n",
    "<br>\n",
    "**Your answer:** 83.68%"
   ]
  },
  {
   "cell_type": "markdown",
   "metadata": {},
   "source": [
    "### (Optional) Evaluate the model using f1 score\n",
    "Complete the cell below to get bonus points. Use the f1 score to evaluate the model."
   ]
  },
  {
   "cell_type": "code",
   "execution_count": 11,
   "metadata": {},
   "outputs": [
    {
     "name": "stdout",
     "output_type": "stream",
     "text": [
      "F1 on the IMDB dataset: 0.84\n"
     ]
    }
   ],
   "source": [
    "from sklearn.metrics import f1_score\n",
    "\n",
    "# YOUR CODE HERE\n",
    "# Evaluation using f1\n",
    "f1 = f1_score(test_data['sentiment'], y_pred) # average='binary' default\n",
    "# YOUR CODE HERE\n",
    "\n",
    "print(\"F1 on the IMDB dataset: {:.2f}\".format(f1))"
   ]
  },
  {
   "cell_type": "markdown",
   "metadata": {},
   "source": [
    "### Improve the model\n",
    "Now, lets try to improve our model accuracy on the test set. There are many way you can improve a machine learing model like, here we try a different method to represent our reviews into vectors which is [tf-idf](https://en.wikipedia.org/wiki/Tf%E2%80%93idf) with [n-gram](https://en.wikipedia.org/wiki/N-gram). Run the following cell the train our new model and see the accuracy."
   ]
  },
  {
   "cell_type": "code",
   "execution_count": 12,
   "metadata": {},
   "outputs": [
    {
     "name": "stdout",
     "output_type": "stream",
     "text": [
      "Accuracy on the IMDB dataset: 88.66 %\n"
     ]
    }
   ],
   "source": [
    "from sklearn.svm import LinearSVC\n",
    "from sklearn.metrics import accuracy_score\n",
    "from sklearn.feature_extraction.text import TfidfVectorizer\n",
    "\n",
    "\n",
    "# Transform each text into a vector of word counts\n",
    "vectorizer = TfidfVectorizer(stop_words=\"english\",\n",
    "                             preprocessor=clean_text,\n",
    "                             ngram_range=(1, 2))\n",
    "\n",
    "training_features = vectorizer.fit_transform(train_data[\"text\"])    \n",
    "test_features = vectorizer.transform(test_data[\"text\"])\n",
    "\n",
    "# Training\n",
    "model = LinearSVC()\n",
    "model.fit(training_features, train_data[\"sentiment\"])\n",
    "y_pred = model.predict(test_features)\n",
    "\n",
    "# Evaluation\n",
    "acc = accuracy_score(test_data[\"sentiment\"], y_pred)\n",
    "\n",
    "print(\"Accuracy on the IMDB dataset: {:.2f} %\".format(acc*100))"
   ]
  },
  {
   "cell_type": "markdown",
   "metadata": {},
   "source": [
    "**Quizz:** What is the accuracy of the model on the testset ?\n",
    "<br>\n",
    "**Your answer:** 88.66 %"
   ]
  },
  {
   "cell_type": "markdown",
   "metadata": {},
   "source": [
    "### (Optional) Evaluate the improved model using f1 score\n",
    "Complete the cell below to get bonus points. Use the f1 score to evaluate the model."
   ]
  },
  {
   "cell_type": "code",
   "execution_count": 13,
   "metadata": {},
   "outputs": [
    {
     "name": "stdout",
     "output_type": "stream",
     "text": [
      "F1 on the IMDB dataset: 0.89\n"
     ]
    }
   ],
   "source": [
    "from sklearn.metrics import f1_score\n",
    "\n",
    "# YOUR CODE HERE\n",
    "# Evaluation using f1\n",
    "f1 = f1_score(test_data['sentiment'], y_pred)\n",
    "# YOUR CODE HERE\n",
    "\n",
    "print(\"F1 on the IMDB dataset: {:.2f}\".format(f1))"
   ]
  },
  {
   "cell_type": "markdown",
   "metadata": {},
   "source": [
    "## Dog cat image classification\n",
    "Lets build our second dog-cat image classifer. Here we will use Neural Network algorithm for this image classification problem. There are many types of Neural Network architectures for different problems. The simplest one is **Feed forward Neural Network (FNN)**. For image classification problems, right now, **Convolutional Neural Network (CNN)** is the best suite. But, since this course is designed to introduce to you fundamental Machine Learning algorithms, **CNN** is kind of an advanced algorithm and also the framework we use through all the specification is **scikit-learn** which doesn't support **CNN** so here we just use **FNN** for this problem to illustrate then image classification problem."
   ]
  },
  {
   "cell_type": "markdown",
   "metadata": {},
   "source": [
    "### Import some libs"
   ]
  },
  {
   "cell_type": "code",
   "execution_count": 14,
   "metadata": {},
   "outputs": [],
   "source": [
    "import cv2"
   ]
  },
  {
   "cell_type": "markdown",
   "metadata": {},
   "source": [
    "### Download the dataset\n",
    "We will use the [Dog vs Cats](https://www.kaggle.com/c/dogs-vs-cats/data) dataset from Kaggle.\n",
    "<br>\n",
    "Download the dataset from the link above (your need to create a Kaggle account first in order to download the data).\n",
    "<br>\n",
    "After downloading you will get a zip file named **dogs-vs-cats.zip**, extract it.\n",
    "<br>\n",
    "After extracting you will get 3 files. You only need the **train.zip** file for this assignment.\n",
    "<br>\n",
    "Extract all the images inside the **train.zip** file into a folder named **dog_cat_train**.\n",
    "<br>\n",
    "Copy the **dog_cat_train** in to the **data** folder of this assignment."
   ]
  },
  {
   "cell_type": "markdown",
   "metadata": {},
   "source": [
    "### Load the data"
   ]
  },
  {
   "cell_type": "code",
   "execution_count": 15,
   "metadata": {},
   "outputs": [],
   "source": [
    "def get_cat_dog_data(folder, image_size):\n",
    "    \"\"\"\n",
    "    Get the cat dog data\n",
    "    Inputs: folder: The folder path\n",
    "            image_size: Resize all the image sizes to image_size\n",
    "    \n",
    "    Output: images, labels numpy array\n",
    "    \"\"\"\n",
    "    images, labels = [], []\n",
    "    \n",
    "    for file in os.listdir(folder):\n",
    "#         image_data = cv2.imread(os.path.join(folder, file), cv2.COLOR_BGR2GRAY)\n",
    "        image_data = cv2.imread(os.path.join(folder, file))\n",
    "\n",
    "        image_data = cv2.resize(image_data, (image_size, image_size))\n",
    "        images.append(image_data)\n",
    "        \n",
    "        if file.startswith(\"dog\"):\n",
    "            labels.append(1)\n",
    "        else:\n",
    "            labels.append(0)\n",
    "            \n",
    "    return np.array(images), np.array(labels) "
   ]
  },
  {
   "cell_type": "markdown",
   "metadata": {},
   "source": [
    "Use the **get_cat_dog_data** function to load the data inside the **dog_cat_train** folder.\n",
    "<br>\n",
    "Use **image_size=28** when loading the data. Here we scale all the images to 28x28 size.\n",
    "<br>\n",
    "It might takes a few minutes to load the images."
   ]
  },
  {
   "cell_type": "code",
   "execution_count": 16,
   "metadata": {
    "scrolled": false
   },
   "outputs": [],
   "source": [
    "# YOUR CODE HERE\n",
    "images, labels = get_cat_dog_data('data/dog_cat_train/', image_size=28)\n",
    "# YOUR CODE HERE"
   ]
  },
  {
   "cell_type": "markdown",
   "metadata": {},
   "source": [
    "### Print out the shape of **images** and **labels** variables"
   ]
  },
  {
   "cell_type": "code",
   "execution_count": 17,
   "metadata": {},
   "outputs": [
    {
     "name": "stdout",
     "output_type": "stream",
     "text": [
      "images shape:  (25000, 28, 28, 3)\n",
      "labels shape:  (25000,)\n"
     ]
    }
   ],
   "source": [
    "# YOUR CODE HERE\n",
    "print('images shape: ', images.shape)\n",
    "print('labels shape: ', labels.shape)\n",
    "# YOUR CODE HERE"
   ]
  },
  {
   "cell_type": "markdown",
   "metadata": {},
   "source": [
    "Lets show some of the images."
   ]
  },
  {
   "cell_type": "code",
   "execution_count": 18,
   "metadata": {
    "scrolled": true
   },
   "outputs": [
    {
     "data": {
      "image/png": "[encoded data removed]",
      "text/plain": [
       "<Figure size 576x576 with 20 Axes>"
      ]
     },
     "metadata": {
      "needs_background": "light"
     },
     "output_type": "display_data"
    }
   ],
   "source": [
    "w=10\n",
    "h=10\n",
    "fig=plt.figure(figsize=(8, 8))\n",
    "columns = 4\n",
    "rows = 5\n",
    "for i in range(1, columns*rows +1):\n",
    "#     img = np.random.randint(10, size=(h,w))\n",
    "    fig.add_subplot(rows, columns, i)\n",
    "    plt.imshow(images[i+12490])\n",
    "plt.show()"
   ]
  },
  {
   "cell_type": "markdown",
   "metadata": {},
   "source": [
    "### Pre-processing the images\n",
    "So each image has the shape 28x28x3 which is a three dimensional array, in order to feed our images to the **FNN** algorithm we need to convert them to one dimensional array so the will have the shape 2352. We also scale image pixel values to the range [0, 1].\n",
    "<br>\n",
    "Complete the cell below. Reshpare the **images** variable to the shape (number of images, 28*28*3). Scale all the values into the range [0, 1] by dividing to 255."
   ]
  },
  {
   "cell_type": "code",
   "execution_count": 19,
   "metadata": {
    "scrolled": false
   },
   "outputs": [],
   "source": [
    "# YOUR CODE HERE\n",
    "# Reshape the images, flatten all the images\n",
    "# use the reshape function\n",
    "images = np.reshape(images, (len(images), 28*28*3))\n",
    "# print (images.shape)\n",
    "\n",
    "# Scale all the pixel values to have between 0 and 1\n",
    "images = np.divide(images, 255)\n",
    "# YOUR CODE HERE"
   ]
  },
  {
   "cell_type": "markdown",
   "metadata": {},
   "source": [
    "### Split our dataset\n",
    "Lets split our dataset into train/test with the ratio 9:1. Run the cell below to split the dataset."
   ]
  },
  {
   "cell_type": "code",
   "execution_count": 20,
   "metadata": {},
   "outputs": [],
   "source": [
    "from sklearn.model_selection import train_test_split\n",
    "\n",
    "X_train, X_test, y_train, y_test = train_test_split(images, labels, test_size=0.1, random_state=42)"
   ]
  },
  {
   "cell_type": "markdown",
   "metadata": {},
   "source": [
    "Print out the shape of **X_train, X_test, y_train, y_test** varialbes.\n",
    "<br>\n",
    "Print out the number of dog, cat for train and test datasets using the **y_train** and **y_test** variables."
   ]
  },
  {
   "cell_type": "code",
   "execution_count": 21,
   "metadata": {
    "scrolled": false
   },
   "outputs": [
    {
     "name": "stdout",
     "output_type": "stream",
     "text": [
      "X_train shape:(22500, 2352) \n",
      "X_test shape: (2500, 2352) \n",
      "y_train shape: (22500,) \n",
      "y_test shape: (2500,)\n",
      "Number of y_train's dogs: 11298 \n",
      "Number of y_train's cats: 11202 \n",
      "Number of y_test's dogs: 1202 \n",
      "Number of y_test's cats: 1298\n"
     ]
    }
   ],
   "source": [
    "# YOUR CODE HERE\n",
    "print(\"X_train shape:{} \\nX_test shape: {} \\ny_train shape: {} \\ny_test shape: {}\".\n",
    "      format(X_train.shape, X_test.shape, y_train.shape, y_test.shape))\n",
    "print(\"Number of y_train's dogs: {} \\nNumber of y_train's cats: {} \\nNumber of y_test's dogs: {} \\nNumber of y_test's cats: {}\".\n",
    "      format(np.sum(y_train), len(y_train)-np.sum(y_train), np.sum(y_test), len(y_test)-np.sum(y_test)))\n",
    "# YOUR CODE HERE"
   ]
  },
  {
   "cell_type": "markdown",
   "metadata": {},
   "source": [
    "### Create and train the model\n",
    "Lets create and train our model using **scikit-learn**. Dont worry too much about the details of the model for now, we will learn more about it in later course. Run the cell below to create and train our model."
   ]
  },
  {
   "cell_type": "code",
   "execution_count": 22,
   "metadata": {},
   "outputs": [
    {
     "data": {
      "text/plain": [
       "MLPClassifier(activation='relu', alpha=1e-05, batch_size='auto', beta_1=0.9,\n",
       "              beta_2=0.999, early_stopping=False, epsilon=1e-08,\n",
       "              hidden_layer_sizes=(64, 64), learning_rate='constant',\n",
       "              learning_rate_init=0.001, max_fun=15000, max_iter=500,\n",
       "              momentum=0.9, n_iter_no_change=10, nesterovs_momentum=True,\n",
       "              power_t=0.5, random_state=1, shuffle=True, solver='adam',\n",
       "              tol=0.0001, validation_fraction=0.1, verbose=False,\n",
       "              warm_start=False)"
      ]
     },
     "execution_count": 22,
     "metadata": {},
     "output_type": "execute_result"
    }
   ],
   "source": [
    "from sklearn.neural_network import MLPClassifier\n",
    "\n",
    "# create the feed forward nerual network model\n",
    "nn_model = MLPClassifier(solver='adam', alpha=1e-5, activation='relu',\n",
    "                         hidden_layer_sizes=(64, 64), random_state=1,\n",
    "                         max_iter=500)\n",
    "\n",
    "# train the model\n",
    "nn_model.fit(X_train, y_train)"
   ]
  },
  {
   "cell_type": "markdown",
   "metadata": {},
   "source": [
    "### Evaluate the model\n",
    "Use the **score** function of the [MLPClassifier](https://scikit-learn.org/stable/modules/generated/sklearn.neural_network.MLPClassifier.html) class to evaluate accuracies of **X_train** and **X_test**."
   ]
  },
  {
   "cell_type": "code",
   "execution_count": 23,
   "metadata": {},
   "outputs": [
    {
     "name": "stdout",
     "output_type": "stream",
     "text": [
      "train_accuracy: 0.86\n",
      "test_accuracy: 0.63\n"
     ]
    }
   ],
   "source": [
    "# YOUR CODE HERE\n",
    "# evaluate the model\n",
    "train_accuracy = nn_model.score(X_train, y_train)\n",
    "test_accuracy = nn_model.score(X_test, y_test)\n",
    "# YOUR CODE HERE\n",
    "\n",
    "print (\"train_accuracy: {:.2f}\".format(train_accuracy))\n",
    "print (\"test_accuracy: {:.2f}\".format(test_accuracy))"
   ]
  },
  {
   "cell_type": "markdown",
   "metadata": {},
   "source": [
    "**Quizz:** What is the accuracy of the model on the train set ?\n",
    "<br>\n",
    "**Your answer:** 0.86\n",
    "<br>\n",
    "**Quizz:** What is the accuracy of the model on the test set ?\n",
    "<br>\n",
    "**Your answer:** 0.63"
   ]
  },
  {
   "cell_type": "markdown",
   "metadata": {},
   "source": [
    "### (Optional) Evaluate the model using f1 score\n",
    "Complete the cell below to get bonus points."
   ]
  },
  {
   "cell_type": "code",
   "execution_count": 24,
   "metadata": {},
   "outputs": [
    {
     "name": "stdout",
     "output_type": "stream",
     "text": [
      "Test f1: 0.57\n"
     ]
    }
   ],
   "source": [
    "from sklearn.metrics import f1_score\n",
    "\n",
    "# YOUR CODE HERE\n",
    "y_test_pred = nn_model.predict(X_test)\n",
    "f1 = f1_score(y_test, y_test_pred)\n",
    "# YOUR CODE HERE\n",
    "\n",
    "print (\"Test f1: {:.2f}\".format(f1))"
   ]
  }
 ],
 "metadata": {
  "kernelspec": {
   "display_name": "Python [conda env:ml-301x] *",
   "language": "python",
   "name": "conda-env-ml-301x-py"
  },
  "language_info": {
   "codemirror_mode": {
    "name": "ipython",
    "version": 3
   },
   "file_extension": ".py",
   "mimetype": "text/x-python",
   "name": "python",
   "nbconvert_exporter": "python",
   "pygments_lexer": "ipython3",
   "version": "3.7.6"
  }
 },
 "nbformat": 4,
 "nbformat_minor": 2
}
