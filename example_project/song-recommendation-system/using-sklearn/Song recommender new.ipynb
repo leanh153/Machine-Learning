{
 "cells": [
  {
   "cell_type": "markdown",
   "metadata": {},
   "source": [
    "#Building a song recommender\n",
    "\n",
    "\n",
    "#Fire up GraphLab Create"
   ]
  },
  {
   "cell_type": "code",
   "execution_count": 1,
   "metadata": {},
   "outputs": [],
   "source": [
    "import sklearn, pandas\n",
    "import numpy as np"
   ]
  },
  {
   "cell_type": "markdown",
   "metadata": {},
   "source": [
    "#Load music data"
   ]
  },
  {
   "cell_type": "code",
   "execution_count": 2,
   "metadata": {},
   "outputs": [],
   "source": [
    "#song_data = graphlab.SFrame('song_data.gl/')\n",
    "song_data = pandas.read_csv('song_data.csv')"
   ]
  },
  {
   "cell_type": "markdown",
   "metadata": {},
   "source": [
    "#Explore data\n",
    "\n",
    "Music data shows how many times a user listened to a song, as well as the details of the song."
   ]
  },
  {
   "cell_type": "code",
   "execution_count": 3,
   "metadata": {},
   "outputs": [
    {
     "data": {
      "text/html": [
       "<div>\n",
       "<style scoped>\n",
       "    .dataframe tbody tr th:only-of-type {\n",
       "        vertical-align: middle;\n",
       "    }\n",
       "\n",
       "    .dataframe tbody tr th {\n",
       "        vertical-align: top;\n",
       "    }\n",
       "\n",
       "    .dataframe thead th {\n",
       "        text-align: right;\n",
       "    }\n",
       "</style>\n",
       "<table border=\"1\" class=\"dataframe\">\n",
       "  <thead>\n",
       "    <tr style=\"text-align: right;\">\n",
       "      <th></th>\n",
       "      <th>user_id</th>\n",
       "      <th>song_id</th>\n",
       "      <th>listen_count</th>\n",
       "      <th>title</th>\n",
       "      <th>artist</th>\n",
       "      <th>song</th>\n",
       "    </tr>\n",
       "  </thead>\n",
       "  <tbody>\n",
       "    <tr>\n",
       "      <th>0</th>\n",
       "      <td>b80344d063b5ccb3212f76538f3d9e43d87dca9e</td>\n",
       "      <td>SOAKIMP12A8C130995</td>\n",
       "      <td>1</td>\n",
       "      <td>The Cove</td>\n",
       "      <td>Jack Johnson</td>\n",
       "      <td>The Cove - Jack Johnson</td>\n",
       "    </tr>\n",
       "    <tr>\n",
       "      <th>1</th>\n",
       "      <td>b80344d063b5ccb3212f76538f3d9e43d87dca9e</td>\n",
       "      <td>SOBBMDR12A8C13253B</td>\n",
       "      <td>2</td>\n",
       "      <td>Entre Dos Aguas</td>\n",
       "      <td>Paco De Lucia</td>\n",
       "      <td>Entre Dos Aguas - Paco De Lucia</td>\n",
       "    </tr>\n",
       "    <tr>\n",
       "      <th>2</th>\n",
       "      <td>b80344d063b5ccb3212f76538f3d9e43d87dca9e</td>\n",
       "      <td>SOBXHDL12A81C204C0</td>\n",
       "      <td>1</td>\n",
       "      <td>Stronger</td>\n",
       "      <td>Kanye West</td>\n",
       "      <td>Stronger - Kanye West</td>\n",
       "    </tr>\n",
       "    <tr>\n",
       "      <th>3</th>\n",
       "      <td>b80344d063b5ccb3212f76538f3d9e43d87dca9e</td>\n",
       "      <td>SOBYHAJ12A6701BF1D</td>\n",
       "      <td>1</td>\n",
       "      <td>Constellations</td>\n",
       "      <td>Jack Johnson</td>\n",
       "      <td>Constellations - Jack Johnson</td>\n",
       "    </tr>\n",
       "    <tr>\n",
       "      <th>4</th>\n",
       "      <td>b80344d063b5ccb3212f76538f3d9e43d87dca9e</td>\n",
       "      <td>SODACBL12A8C13C273</td>\n",
       "      <td>1</td>\n",
       "      <td>Learn To Fly</td>\n",
       "      <td>Foo Fighters</td>\n",
       "      <td>Learn To Fly - Foo Fighters</td>\n",
       "    </tr>\n",
       "  </tbody>\n",
       "</table>\n",
       "</div>"
      ],
      "text/plain": [
       "                                    user_id             song_id  listen_count  \\\n",
       "0  b80344d063b5ccb3212f76538f3d9e43d87dca9e  SOAKIMP12A8C130995             1   \n",
       "1  b80344d063b5ccb3212f76538f3d9e43d87dca9e  SOBBMDR12A8C13253B             2   \n",
       "2  b80344d063b5ccb3212f76538f3d9e43d87dca9e  SOBXHDL12A81C204C0             1   \n",
       "3  b80344d063b5ccb3212f76538f3d9e43d87dca9e  SOBYHAJ12A6701BF1D             1   \n",
       "4  b80344d063b5ccb3212f76538f3d9e43d87dca9e  SODACBL12A8C13C273             1   \n",
       "\n",
       "             title         artist                             song  \n",
       "0         The Cove   Jack Johnson          The Cove - Jack Johnson  \n",
       "1  Entre Dos Aguas  Paco De Lucia  Entre Dos Aguas - Paco De Lucia  \n",
       "2         Stronger     Kanye West            Stronger - Kanye West  \n",
       "3   Constellations   Jack Johnson    Constellations - Jack Johnson  \n",
       "4     Learn To Fly   Foo Fighters      Learn To Fly - Foo Fighters  "
      ]
     },
     "execution_count": 3,
     "metadata": {},
     "output_type": "execute_result"
    }
   ],
   "source": [
    "song_data.head()"
   ]
  },
  {
   "cell_type": "markdown",
   "metadata": {},
   "source": [
    "##Showing the most popular songs in the dataset"
   ]
  },
  {
   "cell_type": "code",
   "execution_count": 4,
   "metadata": {},
   "outputs": [],
   "source": [
    "#graphlab.canvas.set_target('ipynb')\n",
    "import matplotlib.pyplot as plt\n",
    "%matplotlib inline"
   ]
  },
  {
   "cell_type": "code",
   "execution_count": 5,
   "metadata": {},
   "outputs": [
    {
     "data": {
      "image/png": "[encoded data removed]",
      "text/plain": [
       "<Figure size 432x288 with 1 Axes>"
      ]
     },
     "metadata": {
      "needs_background": "light"
     },
     "output_type": "display_data"
    }
   ],
   "source": [
    "#song_data['song'].show()\n",
    "# most listened time on ONE user\n",
    "best_songs = song_data.sort_values('listen_count', ascending=False).head(20)\n",
    "counter_labels = best_songs['title']\n",
    "counts = best_songs['listen_count']\n",
    "counter_pos = np.arange(20)\n",
    "plt.barh(counter_pos, counts)\n",
    "plt.yticks(counter_pos, counter_labels)\n",
    "plt.show()"
   ]
  },
  {
   "cell_type": "code",
   "execution_count": 6,
   "metadata": {},
   "outputs": [
    {
     "data": {
      "text/plain": [
       "1116609"
      ]
     },
     "execution_count": 6,
     "metadata": {},
     "output_type": "execute_result"
    }
   ],
   "source": [
    "len(song_data)"
   ]
  },
  {
   "cell_type": "markdown",
   "metadata": {},
   "source": [
    "##Count number of unique users in the dataset"
   ]
  },
  {
   "cell_type": "code",
   "execution_count": 7,
   "metadata": {},
   "outputs": [],
   "source": [
    "users = song_data['user_id'].unique()"
   ]
  },
  {
   "cell_type": "code",
   "execution_count": 8,
   "metadata": {},
   "outputs": [
    {
     "data": {
      "text/plain": [
       "66346"
      ]
     },
     "execution_count": 8,
     "metadata": {},
     "output_type": "execute_result"
    }
   ],
   "source": [
    "len(users)"
   ]
  },
  {
   "cell_type": "markdown",
   "metadata": {},
   "source": [
    "<b>Quiz: Who has the most listeners? Most listen count? Least listen count?<b>"
   ]
  },
  {
   "cell_type": "code",
   "execution_count": null,
   "metadata": {},
   "outputs": [],
   "source": []
  },
  {
   "cell_type": "markdown",
   "metadata": {},
   "source": [
    "#Create a song recommender"
   ]
  },
  {
   "cell_type": "code",
   "execution_count": 9,
   "metadata": {},
   "outputs": [
    {
     "name": "stdout",
     "output_type": "stream",
     "text": [
      "893287 223322\n"
     ]
    }
   ],
   "source": [
    "from sklearn.model_selection import train_test_split\n",
    "train_data, test_data = train_test_split(song_data, train_size=0.8, test_size=0.2, random_state=0)\n",
    "print(len(train_data), len(test_data))\n",
    "#train_data,test_data = song_data.random_split(.8,seed=0)"
   ]
  },
  {
   "cell_type": "markdown",
   "metadata": {},
   "source": [
    "##Simple popularity-based recommender"
   ]
  },
  {
   "cell_type": "code",
   "execution_count": 10,
   "metadata": {},
   "outputs": [],
   "source": [
    "#popularity_model = graphlab.popularity_recommender.create(train_data,\n",
    "#                                                         user_id='user_id',\n",
    "#                                                         item_id='song')\n",
    "popularity = pandas.DataFrame(song_data).groupby('song')['listen_count'].agg('sum').to_frame('total_listen_count')\n",
    "popularity = popularity.sort_values('total_listen_count', ascending=False)"
   ]
  },
  {
   "cell_type": "markdown",
   "metadata": {},
   "source": [
    "###Use the popularity model to make some predictions\n",
    "\n",
    "A popularity model makes the same prediction for all users, so provides no personalization."
   ]
  },
  {
   "cell_type": "code",
   "execution_count": 11,
   "metadata": {},
   "outputs": [
    {
     "data": {
      "text/html": [
       "<div>\n",
       "<style scoped>\n",
       "    .dataframe tbody tr th:only-of-type {\n",
       "        vertical-align: middle;\n",
       "    }\n",
       "\n",
       "    .dataframe tbody tr th {\n",
       "        vertical-align: top;\n",
       "    }\n",
       "\n",
       "    .dataframe thead th {\n",
       "        text-align: right;\n",
       "    }\n",
       "</style>\n",
       "<table border=\"1\" class=\"dataframe\">\n",
       "  <thead>\n",
       "    <tr style=\"text-align: right;\">\n",
       "      <th></th>\n",
       "      <th>total_listen_count</th>\n",
       "    </tr>\n",
       "    <tr>\n",
       "      <th>song</th>\n",
       "      <th></th>\n",
       "    </tr>\n",
       "  </thead>\n",
       "  <tbody>\n",
       "    <tr>\n",
       "      <th>You\\'re The One - Dwight Yoakam</th>\n",
       "      <td>40619</td>\n",
       "    </tr>\n",
       "    <tr>\n",
       "      <th>Undo - Björk</th>\n",
       "      <td>36059</td>\n",
       "    </tr>\n",
       "    <tr>\n",
       "      <th>Revelry - Kings Of Leon</th>\n",
       "      <td>30391</td>\n",
       "    </tr>\n",
       "    <tr>\n",
       "      <th>Horn Concerto No. 4 in E flat K495: II. Romance (Andante cantabile) - Barry Tuckwell/Academy of St Martin-in-the-Fields/Sir Neville Marriner</th>\n",
       "      <td>21953</td>\n",
       "    </tr>\n",
       "    <tr>\n",
       "      <th>Sehr kosmisch - Harmonia</th>\n",
       "      <td>21646</td>\n",
       "    </tr>\n",
       "    <tr>\n",
       "      <th>Dog Days Are Over (Radio Edit) - Florence + The Machine</th>\n",
       "      <td>15889</td>\n",
       "    </tr>\n",
       "    <tr>\n",
       "      <th>Secrets - OneRepublic</th>\n",
       "      <td>14149</td>\n",
       "    </tr>\n",
       "    <tr>\n",
       "      <th>Ain\\'t Misbehavin - Sam Cooke</th>\n",
       "      <td>14029</td>\n",
       "    </tr>\n",
       "    <tr>\n",
       "      <th>Invalid - Tub Ring</th>\n",
       "      <td>13701</td>\n",
       "    </tr>\n",
       "    <tr>\n",
       "      <th>Catch You Baby (Steve Pitron &amp; Max Sanna Radio Edit) - Lonnie Gordon</th>\n",
       "      <td>12506</td>\n",
       "    </tr>\n",
       "  </tbody>\n",
       "</table>\n",
       "</div>"
      ],
      "text/plain": [
       "                                                    total_listen_count\n",
       "song                                                                  \n",
       "You\\'re The One - Dwight Yoakam                                  40619\n",
       "Undo - Björk                                                     36059\n",
       "Revelry - Kings Of Leon                                          30391\n",
       "Horn Concerto No. 4 in E flat K495: II. Romance...               21953\n",
       "Sehr kosmisch - Harmonia                                         21646\n",
       "Dog Days Are Over (Radio Edit) - Florence + The...               15889\n",
       "Secrets - OneRepublic                                            14149\n",
       "Ain\\'t Misbehavin - Sam Cooke                                    14029\n",
       "Invalid - Tub Ring                                               13701\n",
       "Catch You Baby (Steve Pitron & Max Sanna Radio ...               12506"
      ]
     },
     "execution_count": 11,
     "metadata": {},
     "output_type": "execute_result"
    }
   ],
   "source": [
    "popularity.head(10)\n",
    "#popularity_model.recommend(users=[users[0]])"
   ]
  },
  {
   "cell_type": "code",
   "execution_count": 12,
   "metadata": {},
   "outputs": [],
   "source": [
    "#popularity_model.recommend(users=[users[1]])"
   ]
  },
  {
   "cell_type": "markdown",
   "metadata": {},
   "source": [
    "##Build a song recommender with personalization\n",
    "\n",
    "We now create a model that allows us to make personalized recommendations to each user. \n",
    "\n",
    "Be patient, the song-to-user mapping is very large, so calculation of similarity onto itself is expensive"
   ]
  },
  {
   "cell_type": "code",
   "execution_count": 13,
   "metadata": {},
   "outputs": [
    {
     "name": "stdout",
     "output_type": "stream",
     "text": [
      "(9952, 1000)\n",
      "(9952, 9952)\n"
     ]
    }
   ],
   "source": [
    "#personalized_model = graphlab.item_similarity_recommender.create(train_data,\n",
    "#                                                                user_id='user_id',\n",
    "#                                                                item_id='song')\n",
    "# First, create data of songs listeners. We can use a customized word-count for this task. First, we group the data by the song\n",
    "song_data_grouped = song_data.groupby(\"song\")[\"user_id\"].agg(lambda val: \" \".join(val.values))\n",
    "# song_data_grouped.head()\n",
    "# Now we convert the ids using CountVectorizer.\n",
    "from sklearn.feature_extraction.text import CountVectorizer\n",
    "values = CountVectorizer(max_features=1000).fit_transform(song_data_grouped.values)\n",
    "dense_values = values.todense()\n",
    "print(dense_values.shape)\n",
    "# Calculate songs similarity using Jaccard \n",
    "from scipy.spatial.distance import cdist\n",
    "similarity = cdist(dense_values, dense_values, 'jaccard')\n",
    "print(similarity.shape)"
   ]
  },
  {
   "cell_type": "code",
   "execution_count": 14,
   "metadata": {},
   "outputs": [
    {
     "name": "stdout",
     "output_type": "stream",
     "text": [
      "Random song name: Disco Heaven - Lady GaGa\n",
      "List of 10 similar songs:\n",
      "Hope For The Hopeless - A Fine Frenzy\n",
      "The Medallion Calls - Klaus Badelt\n",
      "They Do_ They Don\\'t - Jack Johnson\n",
      "Anything But Ordinary - Avril Lavigne\n",
      "City Of The Dead - The Clash\n",
      "FANTASY - Mariah Carey\n",
      "That\\'s How You Like It - Beyoncé feat. Jay-Z\n",
      "Ain\\'t Talkin\\'  \\'Bout Love (Remastered Version) - Van Halen\n",
      "Amsterdam - Coldplay\n",
      "Mediocre Bad Guys - Jack Johnson\n"
     ]
    }
   ],
   "source": [
    "# the similarity above is 0 for absolute match to 1 for no match. Let's use a random song:\n",
    "random_song = 2010\n",
    "print(\"Random song name: {:s}\".format(song_data_grouped.index[random_song]))\n",
    "# get the most similar, excluding the first (because obviously one song is most similar to itself)\n",
    "def retrieve_similar_items(song_id, values_kept=20):\n",
    "    return np.argsort(similarity[song_id])[1:1+values_kept]\n",
    "similar_10 = retrieve_similar_items(random_song, values_kept=10)\n",
    "print(\"List of 10 similar songs:\\n{}\".format(\"\\n\".join((song_data_grouped.index[similar_10]))))"
   ]
  },
  {
   "cell_type": "code",
   "execution_count": 15,
   "metadata": {},
   "outputs": [],
   "source": [
    "# Now, we build the recommender basing on the song similarity and the user's own listening history.\n",
    "song_lookup_dict = {name: i for i, name in enumerate(song_data_grouped.index)}\n",
    "def congregate_song(row, values_kept=20):\n",
    "    songs_data = similarity[row[\"song\"]]\n",
    "    song_and_listen = songs_data * np.expand_dims(row[\"listen_count\"], axis=1)\n",
    "    song_and_listen = np.argsort(np.sum(song_and_listen, axis=0))\n",
    "    #print(song_and_listen.shape)\n",
    "    if(values_kept is not None and values_kept != 0):\n",
    "        return song_and_listen[:values_kept]\n",
    "    else:\n",
    "        return song_and_listen\n",
    "\n",
    "def recommend(users, song_number=20):\n",
    "    # filter the data\n",
    "    users_data_id = song_data[\"user_id\"].isin(users)\n",
    "    users_data = song_data.loc[users_data_id].groupby(\"user_id\")[\"song\", \"listen_count\"].agg({\n",
    "        \"song\": lambda x: np.vectorize(song_lookup_dict.get)(x.values).tolist(),\n",
    "        \"listen_count\": lambda x: x.values.tolist()\n",
    "    })\n",
    "    users_data[\"recommend\"] = users_data.apply(lambda x: congregate_song(x, values_kept=song_number), axis=1)\n",
    "    return users_data\n",
    "\n",
    "def show_songs_list(users_data):\n",
    "    #users_data.reindex(columns=[\"song\", \"listen_count\"])\n",
    "    for row in users_data.iterrows():\n",
    "        print(\"User {:s}'s recommended songs:'\\n{:s}\".format(\n",
    "            row[0], \n",
    "            \"\\n\".join( (song_data_grouped.index[song_id] for song_id in row[-1][\"recommend\"]))\n",
    "        ))\n",
    "#recommend(users[:2])"
   ]
  },
  {
   "cell_type": "markdown",
   "metadata": {},
   "source": [
    "###Applying the personalized model to make song recommendations\n",
    "\n",
    "As you can see, different users get different recommendations now."
   ]
  },
  {
   "cell_type": "code",
   "execution_count": 16,
   "metadata": {},
   "outputs": [
    {
     "name": "stdout",
     "output_type": "stream",
     "text": [
      "User b80344d063b5ccb3212f76538f3d9e43d87dca9e's recommended songs:'\n",
      "Moonshine - Jack Johnson\n",
      "Behind The Sea [Live In Chicago] - Panic At The Disco\n",
      "I\\'ll Be Missing You (Featuring Faith Evans & 112)(Album Version) - Puff Daddy\n",
      "I?\\'m A Steady Rollin? Man - Robert Johnson\n",
      "Por La Noche - Mala Rodriguez\n",
      "Apuesta Por El Rock \\'N\\' Roll - Héroes del Silencio\n",
      "Ya No Sos Igual - 2 Minutos\n",
      "Bigger Isn\\'t Better - The String Cheese Incident\n",
      "The Cove - Jack Johnson\n",
      "Constellations - Jack Johnson\n",
      "Holes To Heaven - Jack Johnson\n",
      "Héroe De Leyenda - Héroes del Silencio\n",
      "Love Song For No One - John Mayer\n",
      "People Watching - Jack Johnson\n",
      "Ghost Dream - Hymie\\'s Basement\n",
      "Neon - John Mayer\n",
      "Danse Pour Moi - M. Pokora\n",
      "Flashdance... What A Feeling - Irene Cara\n",
      "B.I.G. (Interlude)(Amended Version) - The Notorious B.I.G.\n",
      "The Message/ Outro - Dr. Dre / Thomas Chong / Mary J. Blige / Rell\n"
     ]
    },
    {
     "name": "stderr",
     "output_type": "stream",
     "text": [
      "/home/leanh/anaconda3/envs/ml-301x/lib/python3.7/site-packages/ipykernel_launcher.py:16: FutureWarning: Indexing with multiple keys (implicitly converted to a tuple of keys) will be deprecated, use a list instead.\n",
      "  app.launch_new_instance()\n"
     ]
    }
   ],
   "source": [
    "show_songs_list(recommend(users=[users[0]]))"
   ]
  },
  {
   "cell_type": "code",
   "execution_count": 17,
   "metadata": {},
   "outputs": [
    {
     "name": "stdout",
     "output_type": "stream",
     "text": [
      "User 85c1f87fea955d09b4bec2e36aee110927aedf9a's recommended songs:'\n",
      "The Best of Times - Sage Francis\n",
      "Side To Side (Featuring Lateef & Pigeon John) (Album Version) - Blackalicious\n",
      "Big Munny - Swizz Beatz\n",
      "Southside - Common / Kanye West\n",
      "It\\'s Me B*#@hes - Swizz Beatz\n",
      "You Know Your Boy Did That - Swizz Beatz\n",
      "Work (Explicit) - Gang Starr\n",
      "Diamonds From Sierra Leone - Kanye West / Jay-Z\n",
      "Never Let Me Down - Kanye West / Jay-Z / J. Ivy\n",
      "The Food - Common\n",
      "Ringing Bells - Masta Killa\n",
      "Bring The Noize - DMX\n",
      "In Between The Years - Ulrich Schnauss\n",
      "Down And Out (Album Version) - The Academy Is...\n",
      "Mutha\\'uckas (Album Version) - Flight Of The Conchords\n",
      "The Choice Is Yours - Black Sheep\n",
      "Maxine - Traveling Wilburys\n",
      "Is She Weird - Pixies\n",
      "Kick In The Door (Soundtrack Version) (Explicit) - Notorious B.I.G.\n",
      "Beloved Kitty and the Piercing Bolts of Amor - Ordo Rosarius Equilibrio\n"
     ]
    },
    {
     "name": "stderr",
     "output_type": "stream",
     "text": [
      "/home/leanh/anaconda3/envs/ml-301x/lib/python3.7/site-packages/ipykernel_launcher.py:16: FutureWarning: Indexing with multiple keys (implicitly converted to a tuple of keys) will be deprecated, use a list instead.\n",
      "  app.launch_new_instance()\n"
     ]
    }
   ],
   "source": [
    "show_songs_list(recommend(users=[users[1]]))"
   ]
  },
  {
   "cell_type": "markdown",
   "metadata": {},
   "source": [
    "###We can also apply the model to find similar songs to any song in the dataset"
   ]
  },
  {
   "cell_type": "code",
   "execution_count": 18,
   "metadata": {},
   "outputs": [
    {
     "name": "stdout",
     "output_type": "stream",
     "text": [
      "List of 5 similar songs:\n",
      "Decisiones - Ruben Blades\n",
      "What I Want - Dead Or Alive\n",
      "You Are A Knife - Veto\n",
      "Dead Man (Carry Me) - Jars Of Clay\n",
      "A Kind Of Hope - Pilot Speed\n"
     ]
    }
   ],
   "source": [
    "u2_similar_index = retrieve_similar_items(song_lookup_dict['With Or Without You - U2'], values_kept=5)\n",
    "print(\"List of 5 similar songs:\\n{}\".format(\"\\n\".join(song_data_grouped.index[u2_similar_index])))"
   ]
  },
  {
   "cell_type": "code",
   "execution_count": 19,
   "metadata": {},
   "outputs": [
    {
     "name": "stdout",
     "output_type": "stream",
     "text": [
      "List of 20 similar songs:\n",
      "Amor de Loca Juventud - Buena Vista Social Club\n",
      "Murmullo - Buena Vista Social Club\n",
      "Shaman\\'s Blues ( LP Version ) - The Doors\n",
      "Until The Morning - Thievery Corporation\n",
      "La Bayamesa - Buena Vista Social Club\n"
     ]
    }
   ],
   "source": [
    "bvsc_similar_index = retrieve_similar_items(song_lookup_dict['Chan Chan (Live) - Buena Vista Social Club'], values_kept=5)\n",
    "print(\"List of 20 similar songs:\\n{}\".format(\"\\n\".join(song_data_grouped.index[bvsc_similar_index])))"
   ]
  },
  {
   "cell_type": "markdown",
   "metadata": {},
   "source": [
    "#Quantitative comparison between the models\n",
    "\n",
    "We now formally compare the popularity and the personalized models using precision-recall curves. This may take a while to be done. First of all, we trim the test data and create the functions to check if the songs listened by any users are predicted using our models."
   ]
  },
  {
   "cell_type": "code",
   "execution_count": 20,
   "metadata": {},
   "outputs": [],
   "source": [
    "#if graphlab.version[:3] >= \"1.6\":\n",
    "#    model_performance = graphlab.compare(test_data, [popularity_model, personalized_model], user_sample=0.05)\n",
    "#    graphlab.show_comparison(model_performance,[popularity_model, personalized_model])\n",
    "#else:\n",
    "#    %matplotlib inline\n",
    "#    model_performance = graphlab.recommender.util.compare_models(test_data, [popularity_model, personalized_model], user_sample=.05)\n",
    "\n",
    "# remove all users that have no data in the training set, just to make sure\n",
    "sample_test_data = test_data.loc[test_data[\"user_id\"].isin(train_data[\"user_id\"])]\n",
    "sample_test_data = sample_test_data.groupby(\"user_id\")[\"song\"].agg(\n",
    "        lambda x: np.vectorize(song_lookup_dict.get)(x.values).tolist() #x.values.tolist() \n",
    "    )\n",
    "#print(sample_test_data.iloc[0])\n",
    "def recommend_popularity(user):\n",
    "    return np.vectorize(song_lookup_dict.get)(popularity.index.values).to_list()\n",
    "\n",
    "def recommend_personalized(user, song_number=1000):\n",
    "    return recommend([user], song_number=song_number)[\"recommend\"].to_list()[0]"
   ]
  },
  {
   "cell_type": "markdown",
   "metadata": {},
   "source": [
    "Now we calculate the Precision/Recall values for a sample of first 1000 users. Remain patient, preferably with a cup of tea."
   ]
  },
  {
   "cell_type": "code",
   "execution_count": 21,
   "metadata": {},
   "outputs": [
    {
     "name": "stderr",
     "output_type": "stream",
     "text": [
      "/home/leanh/anaconda3/envs/ml-301x/lib/python3.7/site-packages/ipykernel_launcher.py:16: FutureWarning: Indexing with multiple keys (implicitly converted to a tuple of keys) will be deprecated, use a list instead.\n",
      "  app.launch_new_instance()\n"
     ]
    },
    {
     "name": "stdout",
     "output_type": "stream",
     "text": [
      "Done calculation for general recommendation.\n"
     ]
    },
    {
     "data": {
      "text/html": [
       "<div>\n",
       "<style scoped>\n",
       "    .dataframe tbody tr th:only-of-type {\n",
       "        vertical-align: middle;\n",
       "    }\n",
       "\n",
       "    .dataframe tbody tr th {\n",
       "        vertical-align: top;\n",
       "    }\n",
       "\n",
       "    .dataframe thead th {\n",
       "        text-align: right;\n",
       "    }\n",
       "</style>\n",
       "<table border=\"1\" class=\"dataframe\">\n",
       "  <thead>\n",
       "    <tr style=\"text-align: right;\">\n",
       "      <th></th>\n",
       "      <th>song</th>\n",
       "      <th>rec_personalized</th>\n",
       "    </tr>\n",
       "    <tr>\n",
       "      <th>user_id</th>\n",
       "      <th></th>\n",
       "      <th></th>\n",
       "    </tr>\n",
       "  </thead>\n",
       "  <tbody>\n",
       "    <tr>\n",
       "      <th>00003a4459f33b92906be11abe0e93efc423c0ff</th>\n",
       "      <td>[4831, 6139]</td>\n",
       "      <td>[2051, 9201, 5948, 9862, 7718, 4831, 4, 769, 2...</td>\n",
       "    </tr>\n",
       "    <tr>\n",
       "      <th>00030033e3a2f904a48ec1dd53019c9969b6ef1f</th>\n",
       "      <td>[1139]</td>\n",
       "      <td>[7110, 1436, 9873, 4402, 47, 7122, 2062, 9077,...</td>\n",
       "    </tr>\n",
       "    <tr>\n",
       "      <th>0007235c769e610e3d339a17818a5708e41008d9</th>\n",
       "      <td>[3006]</td>\n",
       "      <td>[3006, 7858, 5469, 183, 1998, 9829, 9338, 3308...</td>\n",
       "    </tr>\n",
       "    <tr>\n",
       "      <th>0007c0e74728ca9ef0fe4eb7f75732e8026a278b</th>\n",
       "      <td>[8159]</td>\n",
       "      <td>[8170, 9825, 3256, 4225, 3340, 8159, 2087, 522...</td>\n",
       "    </tr>\n",
       "    <tr>\n",
       "      <th>000a5c8b4d8b2c98f7a205219181d039edcd4506</th>\n",
       "      <td>[7743, 309, 8374]</td>\n",
       "      <td>[8374, 1996, 959, 7743, 9345, 309, 5779, 4568,...</td>\n",
       "    </tr>\n",
       "  </tbody>\n",
       "</table>\n",
       "</div>"
      ],
      "text/plain": [
       "                                                       song  \\\n",
       "user_id                                                       \n",
       "00003a4459f33b92906be11abe0e93efc423c0ff       [4831, 6139]   \n",
       "00030033e3a2f904a48ec1dd53019c9969b6ef1f             [1139]   \n",
       "0007235c769e610e3d339a17818a5708e41008d9             [3006]   \n",
       "0007c0e74728ca9ef0fe4eb7f75732e8026a278b             [8159]   \n",
       "000a5c8b4d8b2c98f7a205219181d039edcd4506  [7743, 309, 8374]   \n",
       "\n",
       "                                                                           rec_personalized  \n",
       "user_id                                                                                      \n",
       "00003a4459f33b92906be11abe0e93efc423c0ff  [2051, 9201, 5948, 9862, 7718, 4831, 4, 769, 2...  \n",
       "00030033e3a2f904a48ec1dd53019c9969b6ef1f  [7110, 1436, 9873, 4402, 47, 7122, 2062, 9077,...  \n",
       "0007235c769e610e3d339a17818a5708e41008d9  [3006, 7858, 5469, 183, 1998, 9829, 9338, 3308...  \n",
       "0007c0e74728ca9ef0fe4eb7f75732e8026a278b  [8170, 9825, 3256, 4225, 3340, 8159, 2087, 522...  \n",
       "000a5c8b4d8b2c98f7a205219181d039edcd4506  [8374, 1996, 959, 7743, 9345, 309, 5779, 4568,...  "
      ]
     },
     "execution_count": 21,
     "metadata": {},
     "output_type": "execute_result"
    }
   ],
   "source": [
    "sample_test_data_frame = pandas.DataFrame(data=sample_test_data[:1000])\n",
    "sample_test_data_frame[\"rec_personalized\"] = sample_test_data_frame.index.to_series().apply(recommend_personalized)\n",
    "print(\"Done calculation for general recommendation.\")\n",
    "#print(type(sample_test_data))\n",
    "sample_test_data_frame.head()"
   ]
  },
  {
   "cell_type": "markdown",
   "metadata": {},
   "source": [
    "<b>Optional: Can we optimize this process?<b>\n",
    "Recall our recommend() function can take in an iterable (list/Series) of users. Can we use a better mapping for rec_personalized? and is it faster?"
   ]
  },
  {
   "cell_type": "code",
   "execution_count": 22,
   "metadata": {},
   "outputs": [
    {
     "name": "stdout",
     "output_type": "stream",
     "text": [
      "================= sample test data frame=================                                                        song  \\\n",
      "user_id                                                       \n",
      "00003a4459f33b92906be11abe0e93efc423c0ff       [4831, 6139]   \n",
      "00030033e3a2f904a48ec1dd53019c9969b6ef1f             [1139]   \n",
      "0007235c769e610e3d339a17818a5708e41008d9             [3006]   \n",
      "0007c0e74728ca9ef0fe4eb7f75732e8026a278b             [8159]   \n",
      "000a5c8b4d8b2c98f7a205219181d039edcd4506  [7743, 309, 8374]   \n",
      "\n",
      "                                                                           rec_personalized  \n",
      "user_id                                                                                      \n",
      "00003a4459f33b92906be11abe0e93efc423c0ff  [2051, 9201, 5948, 9862, 7718, 4831, 4, 769, 2...  \n",
      "00030033e3a2f904a48ec1dd53019c9969b6ef1f  [7110, 1436, 9873, 4402, 47, 7122, 2062, 9077,...  \n",
      "0007235c769e610e3d339a17818a5708e41008d9  [3006, 7858, 5469, 183, 1998, 9829, 9338, 3308...  \n",
      "0007c0e74728ca9ef0fe4eb7f75732e8026a278b  [8170, 9825, 3256, 4225, 3340, 8159, 2087, 522...  \n",
      "000a5c8b4d8b2c98f7a205219181d039edcd4506  [8374, 1996, 959, 7743, 9345, 309, 5779, 4568,...  \n",
      "popularity_recommendation: \n",
      " [9873 9077 6769 3608 7122 2062 7110  243 4217 1384 6750 1331 7358 3480\n",
      " 8840 2712 8325 5146 5217 2221 3727 2869   37 5963 9133 5317 7533  374\n",
      "  905 6569  269 5073 7846 2882 7880 7367 3181 2927 1214 8528 4425  862\n",
      " 4570 4699 7065 9562 5233   71 9403  980 9088 8468 3790 5029 8095 9747\n",
      " 1524 3253 4325 4891 1161 1718 1667 9197 5911  821  351 7045 6696 9172\n",
      " 5095 8944 3582 1858 5416 4256 5675 3371 9126 5142 6294 2334 3445 1121\n",
      " 7156 9878 9467 1506 2733 2748 2800 2302 7016 8415 9658 4702 9037  922\n",
      " 4188 3623]\n",
      "================precision_recall_popularity================\n",
      " user_id\n",
      "00003a4459f33b92906be11abe0e93efc423c0ff    (0, 2, 100)\n",
      "00030033e3a2f904a48ec1dd53019c9969b6ef1f    (0, 1, 100)\n",
      "0007235c769e610e3d339a17818a5708e41008d9    (0, 1, 100)\n",
      "0007c0e74728ca9ef0fe4eb7f75732e8026a278b    (0, 1, 100)\n",
      "000a5c8b4d8b2c98f7a205219181d039edcd4506    (0, 3, 100)\n",
      "                                               ...     \n",
      "047d9d8e97627fd4c5c702a31ff60bbdbb233a7f    (0, 2, 100)\n",
      "047e1f894ebab042e1426793c7d3ba0b9aa2eb64    (0, 2, 100)\n",
      "047e24022b5c42333deaa62e698dc19b8a0c06d5    (1, 2, 100)\n",
      "047f2820352fee3abc70b221f89c009fa9d6e2cd    (0, 1, 100)\n",
      "047fc0f072d6aa682020c908178bceee6926538d    (0, 1, 100)\n",
      "Length: 1000, dtype: object\n",
      "Popularity: precision: 13.2090, recall: 0.5100, 510.0-3861.0-100000.0\n",
      "Personalized: precision: 67.5214, recall: 2.6070, 2607.0-3861.0-100000.0\n",
      "popularity_recommendation: \n",
      " [9873 9077 6769 3608 7122 2062 7110  243 4217 1384 6750 1331 7358 3480\n",
      " 8840 2712 8325 5146 5217 2221 3727 2869   37 5963 9133 5317 7533  374\n",
      "  905 6569  269 5073 7846 2882 7880 7367 3181 2927 1214 8528 4425  862\n",
      " 4570 4699 7065 9562 5233   71 9403  980 9088 8468 3790 5029 8095 9747\n",
      " 1524 3253 4325 4891 1161 1718 1667 9197 5911  821  351 7045 6696 9172\n",
      " 5095 8944 3582 1858 5416 4256 5675 3371 9126 5142 6294 2334 3445 1121\n",
      " 7156 9878 9467 1506 2733 2748]\n",
      "================precision_recall_popularity================\n",
      " user_id\n",
      "00003a4459f33b92906be11abe0e93efc423c0ff    (0, 2, 90)\n",
      "00030033e3a2f904a48ec1dd53019c9969b6ef1f    (0, 1, 90)\n",
      "0007235c769e610e3d339a17818a5708e41008d9    (0, 1, 90)\n",
      "0007c0e74728ca9ef0fe4eb7f75732e8026a278b    (0, 1, 90)\n",
      "000a5c8b4d8b2c98f7a205219181d039edcd4506    (0, 3, 90)\n",
      "                                               ...    \n",
      "047d9d8e97627fd4c5c702a31ff60bbdbb233a7f    (0, 2, 90)\n",
      "047e1f894ebab042e1426793c7d3ba0b9aa2eb64    (0, 2, 90)\n",
      "047e24022b5c42333deaa62e698dc19b8a0c06d5    (1, 2, 90)\n",
      "047f2820352fee3abc70b221f89c009fa9d6e2cd    (0, 1, 90)\n",
      "047fc0f072d6aa682020c908178bceee6926538d    (0, 1, 90)\n",
      "Length: 1000, dtype: object\n",
      "Popularity: precision: 12.5874, recall: 0.5400, 486.0-3861.0-90000.0\n",
      "Personalized: precision: 66.5890, recall: 2.8567, 2571.0-3861.0-90000.0\n",
      "popularity_recommendation: \n",
      " [9873 9077 6769 3608 7122 2062 7110  243 4217 1384 6750 1331 7358 3480\n",
      " 8840 2712 8325 5146 5217 2221 3727 2869   37 5963 9133 5317 7533  374\n",
      "  905 6569  269 5073 7846 2882 7880 7367 3181 2927 1214 8528 4425  862\n",
      " 4570 4699 7065 9562 5233   71 9403  980 9088 8468 3790 5029 8095 9747\n",
      " 1524 3253 4325 4891 1161 1718 1667 9197 5911  821  351 7045 6696 9172\n",
      " 5095 8944 3582 1858 5416 4256 5675 3371 9126 5142]\n",
      "================precision_recall_popularity================\n",
      " user_id\n",
      "00003a4459f33b92906be11abe0e93efc423c0ff    (0, 2, 80)\n",
      "00030033e3a2f904a48ec1dd53019c9969b6ef1f    (0, 1, 80)\n",
      "0007235c769e610e3d339a17818a5708e41008d9    (0, 1, 80)\n",
      "0007c0e74728ca9ef0fe4eb7f75732e8026a278b    (0, 1, 80)\n",
      "000a5c8b4d8b2c98f7a205219181d039edcd4506    (0, 3, 80)\n",
      "                                               ...    \n",
      "047d9d8e97627fd4c5c702a31ff60bbdbb233a7f    (0, 2, 80)\n",
      "047e1f894ebab042e1426793c7d3ba0b9aa2eb64    (0, 2, 80)\n",
      "047e24022b5c42333deaa62e698dc19b8a0c06d5    (1, 2, 80)\n",
      "047f2820352fee3abc70b221f89c009fa9d6e2cd    (0, 1, 80)\n",
      "047fc0f072d6aa682020c908178bceee6926538d    (0, 1, 80)\n",
      "Length: 1000, dtype: object\n",
      "Popularity: precision: 11.5773, recall: 0.5587, 447.0-3861.0-80000.0\n",
      "Personalized: precision: 65.1645, recall: 3.1450, 2516.0-3861.0-80000.0\n",
      "popularity_recommendation: \n",
      " [9873 9077 6769 3608 7122 2062 7110  243 4217 1384 6750 1331 7358 3480\n",
      " 8840 2712 8325 5146 5217 2221 3727 2869   37 5963 9133 5317 7533  374\n",
      "  905 6569  269 5073 7846 2882 7880 7367 3181 2927 1214 8528 4425  862\n",
      " 4570 4699 7065 9562 5233   71 9403  980 9088 8468 3790 5029 8095 9747\n",
      " 1524 3253 4325 4891 1161 1718 1667 9197 5911  821  351 7045 6696 9172]\n",
      "================precision_recall_popularity================\n",
      " user_id\n",
      "00003a4459f33b92906be11abe0e93efc423c0ff    (0, 2, 70)\n",
      "00030033e3a2f904a48ec1dd53019c9969b6ef1f    (0, 1, 70)\n",
      "0007235c769e610e3d339a17818a5708e41008d9    (0, 1, 70)\n",
      "0007c0e74728ca9ef0fe4eb7f75732e8026a278b    (0, 1, 70)\n",
      "000a5c8b4d8b2c98f7a205219181d039edcd4506    (0, 3, 70)\n",
      "                                               ...    \n",
      "047d9d8e97627fd4c5c702a31ff60bbdbb233a7f    (0, 2, 70)\n",
      "047e1f894ebab042e1426793c7d3ba0b9aa2eb64    (0, 2, 70)\n",
      "047e24022b5c42333deaa62e698dc19b8a0c06d5    (1, 2, 70)\n",
      "047f2820352fee3abc70b221f89c009fa9d6e2cd    (0, 1, 70)\n",
      "047fc0f072d6aa682020c908178bceee6926538d    (0, 1, 70)\n",
      "Length: 1000, dtype: object\n",
      "Popularity: precision: 10.7226, recall: 0.5914, 414.0-3861.0-70000.0\n",
      "Personalized: precision: 63.4810, recall: 3.5014, 2451.0-3861.0-70000.0\n",
      "popularity_recommendation: \n",
      " [9873 9077 6769 3608 7122 2062 7110  243 4217 1384 6750 1331 7358 3480\n",
      " 8840 2712 8325 5146 5217 2221 3727 2869   37 5963 9133 5317 7533  374\n",
      "  905 6569  269 5073 7846 2882 7880 7367 3181 2927 1214 8528 4425  862\n",
      " 4570 4699 7065 9562 5233   71 9403  980 9088 8468 3790 5029 8095 9747\n",
      " 1524 3253 4325 4891]\n",
      "================precision_recall_popularity================\n",
      " user_id\n",
      "00003a4459f33b92906be11abe0e93efc423c0ff    (0, 2, 60)\n",
      "00030033e3a2f904a48ec1dd53019c9969b6ef1f    (0, 1, 60)\n",
      "0007235c769e610e3d339a17818a5708e41008d9    (0, 1, 60)\n",
      "0007c0e74728ca9ef0fe4eb7f75732e8026a278b    (0, 1, 60)\n",
      "000a5c8b4d8b2c98f7a205219181d039edcd4506    (0, 3, 60)\n",
      "                                               ...    \n",
      "047d9d8e97627fd4c5c702a31ff60bbdbb233a7f    (0, 2, 60)\n",
      "047e1f894ebab042e1426793c7d3ba0b9aa2eb64    (0, 2, 60)\n",
      "047e24022b5c42333deaa62e698dc19b8a0c06d5    (1, 2, 60)\n",
      "047f2820352fee3abc70b221f89c009fa9d6e2cd    (0, 1, 60)\n",
      "047fc0f072d6aa682020c908178bceee6926538d    (0, 1, 60)\n",
      "Length: 1000, dtype: object\n",
      "Popularity: precision: 9.8938, recall: 0.6367, 382.0-3861.0-60000.0\n",
      "Personalized: precision: 61.9529, recall: 3.9867, 2392.0-3861.0-60000.0\n",
      "popularity_recommendation: \n",
      " [9873 9077 6769 3608 7122 2062 7110  243 4217 1384 6750 1331 7358 3480\n",
      " 8840 2712 8325 5146 5217 2221 3727 2869   37 5963 9133 5317 7533  374\n",
      "  905 6569  269 5073 7846 2882 7880 7367 3181 2927 1214 8528 4425  862\n",
      " 4570 4699 7065 9562 5233   71 9403  980]\n",
      "================precision_recall_popularity================\n",
      " user_id\n",
      "00003a4459f33b92906be11abe0e93efc423c0ff    (0, 2, 50)\n",
      "00030033e3a2f904a48ec1dd53019c9969b6ef1f    (0, 1, 50)\n",
      "0007235c769e610e3d339a17818a5708e41008d9    (0, 1, 50)\n",
      "0007c0e74728ca9ef0fe4eb7f75732e8026a278b    (0, 1, 50)\n",
      "000a5c8b4d8b2c98f7a205219181d039edcd4506    (0, 3, 50)\n",
      "                                               ...    \n",
      "047d9d8e97627fd4c5c702a31ff60bbdbb233a7f    (0, 2, 50)\n",
      "047e1f894ebab042e1426793c7d3ba0b9aa2eb64    (0, 2, 50)\n",
      "047e24022b5c42333deaa62e698dc19b8a0c06d5    (1, 2, 50)\n",
      "047f2820352fee3abc70b221f89c009fa9d6e2cd    (0, 1, 50)\n",
      "047fc0f072d6aa682020c908178bceee6926538d    (0, 1, 50)\n",
      "Length: 1000, dtype: object\n",
      "Popularity: precision: 8.8319, recall: 0.6820, 341.0-3861.0-50000.0\n"
     ]
    },
    {
     "name": "stdout",
     "output_type": "stream",
     "text": [
      "Personalized: precision: 59.5183, recall: 4.5960, 2298.0-3861.0-50000.0\n",
      "popularity_recommendation: \n",
      " [9873 9077 6769 3608 7122 2062 7110  243 4217 1384 6750 1331 7358 3480\n",
      " 8840 2712 8325 5146 5217 2221 3727 2869   37 5963 9133 5317 7533  374\n",
      "  905 6569  269 5073 7846 2882 7880 7367 3181 2927 1214 8528]\n",
      "================precision_recall_popularity================\n",
      " user_id\n",
      "00003a4459f33b92906be11abe0e93efc423c0ff    (0, 2, 40)\n",
      "00030033e3a2f904a48ec1dd53019c9969b6ef1f    (0, 1, 40)\n",
      "0007235c769e610e3d339a17818a5708e41008d9    (0, 1, 40)\n",
      "0007c0e74728ca9ef0fe4eb7f75732e8026a278b    (0, 1, 40)\n",
      "000a5c8b4d8b2c98f7a205219181d039edcd4506    (0, 3, 40)\n",
      "                                               ...    \n",
      "047d9d8e97627fd4c5c702a31ff60bbdbb233a7f    (0, 2, 40)\n",
      "047e1f894ebab042e1426793c7d3ba0b9aa2eb64    (0, 2, 40)\n",
      "047e24022b5c42333deaa62e698dc19b8a0c06d5    (1, 2, 40)\n",
      "047f2820352fee3abc70b221f89c009fa9d6e2cd    (0, 1, 40)\n",
      "047fc0f072d6aa682020c908178bceee6926538d    (0, 1, 40)\n",
      "Length: 1000, dtype: object\n",
      "Popularity: precision: 7.6664, recall: 0.7400, 296.0-3861.0-40000.0\n",
      "Personalized: precision: 55.7369, recall: 5.3800, 2152.0-3861.0-40000.0\n",
      "popularity_recommendation: \n",
      " [9873 9077 6769 3608 7122 2062 7110  243 4217 1384 6750 1331 7358 3480\n",
      " 8840 2712 8325 5146 5217 2221 3727 2869   37 5963 9133 5317 7533  374\n",
      "  905 6569]\n",
      "================precision_recall_popularity================\n",
      " user_id\n",
      "00003a4459f33b92906be11abe0e93efc423c0ff    (0, 2, 30)\n",
      "00030033e3a2f904a48ec1dd53019c9969b6ef1f    (0, 1, 30)\n",
      "0007235c769e610e3d339a17818a5708e41008d9    (0, 1, 30)\n",
      "0007c0e74728ca9ef0fe4eb7f75732e8026a278b    (0, 1, 30)\n",
      "000a5c8b4d8b2c98f7a205219181d039edcd4506    (0, 3, 30)\n",
      "                                               ...    \n",
      "047d9d8e97627fd4c5c702a31ff60bbdbb233a7f    (0, 2, 30)\n",
      "047e1f894ebab042e1426793c7d3ba0b9aa2eb64    (0, 2, 30)\n",
      "047e24022b5c42333deaa62e698dc19b8a0c06d5    (1, 2, 30)\n",
      "047f2820352fee3abc70b221f89c009fa9d6e2cd    (0, 1, 30)\n",
      "047fc0f072d6aa682020c908178bceee6926538d    (0, 1, 30)\n",
      "Length: 1000, dtype: object\n",
      "Popularity: precision: 6.6822, recall: 0.8600, 258.0-3861.0-30000.0\n",
      "Personalized: precision: 50.8936, recall: 6.5500, 1965.0-3861.0-30000.0\n",
      "popularity_recommendation: \n",
      " [9873 9077 6769 3608 7122 2062 7110  243 4217 1384 6750 1331 7358 3480\n",
      " 8840 2712 8325 5146 5217 2221]\n",
      "================precision_recall_popularity================\n",
      " user_id\n",
      "00003a4459f33b92906be11abe0e93efc423c0ff    (0, 2, 20)\n",
      "00030033e3a2f904a48ec1dd53019c9969b6ef1f    (0, 1, 20)\n",
      "0007235c769e610e3d339a17818a5708e41008d9    (0, 1, 20)\n",
      "0007c0e74728ca9ef0fe4eb7f75732e8026a278b    (0, 1, 20)\n",
      "000a5c8b4d8b2c98f7a205219181d039edcd4506    (0, 3, 20)\n",
      "                                               ...    \n",
      "047d9d8e97627fd4c5c702a31ff60bbdbb233a7f    (0, 2, 20)\n",
      "047e1f894ebab042e1426793c7d3ba0b9aa2eb64    (0, 2, 20)\n",
      "047e24022b5c42333deaa62e698dc19b8a0c06d5    (1, 2, 20)\n",
      "047f2820352fee3abc70b221f89c009fa9d6e2cd    (0, 1, 20)\n",
      "047fc0f072d6aa682020c908178bceee6926538d    (0, 1, 20)\n",
      "Length: 1000, dtype: object\n",
      "Popularity: precision: 5.3872, recall: 1.0400, 208.0-3861.0-20000.0\n",
      "Personalized: precision: 43.6674, recall: 8.4300, 1686.0-3861.0-20000.0\n"
     ]
    }
   ],
   "source": [
    "popularity_data, personalized_data = [], []\n",
    "def count_correct(songs, recs):\n",
    "    return sum( (1 if song in recs else 0 for song in songs) )\n",
    "print(\"================= sample test data frame=================\", sample_test_data_frame.head()) \n",
    "for num_recommend in np.arange(100, 10, -10):\n",
    "    #num_recommend = int(float(len(popularity)) * p)\n",
    "    popularity_recommendation = np.vectorize(song_lookup_dict.get)(popularity.index.values)[:num_recommend]\n",
    "    print('popularity_recommendation: \\n', popularity_recommendation)\n",
    "    popular_fn = lambda row: (count_correct(row[\"song\"], popularity_recommendation), len(row[\"song\"]), num_recommend)\n",
    "    precision_recall_popularity = sample_test_data_frame.apply(popular_fn, axis=1, result_type='reduce')\n",
    "    \n",
    "    print(\"================precision_recall_popularity================\\n\", precision_recall_popularity)\n",
    "\n",
    "    correct, all_entry, all_guesses = (float(sum(x)) for x in zip(*precision_recall_popularity))\n",
    "    precision = correct / all_entry\n",
    "    recall = correct / all_guesses\n",
    "    popularity_data.append( (precision, recall) )\n",
    "    print(\"Popularity: precision: {:.4f}, recall: {:.4f}, {}-{}-{}\".format(precision * 100.0, recall * 100.0, correct, all_entry, all_guesses))\n",
    "    \n",
    "    sample_test_data_frame[\"rec_personalized\"] = sample_test_data_frame[\"rec_personalized\"].apply(lambda row: row[:num_recommend])\n",
    "    precision_recall_personalized = sample_test_data_frame.apply(lambda row: (count_correct(row[\"song\"], row[\"rec_personalized\"]), len(row[\"song\"]), num_recommend), axis=1, result_type='reduce')\n",
    "    correct, all_entry, all_guesses = (float(sum(x)) for x in zip(*precision_recall_personalized))\n",
    "    precision = correct / all_entry\n",
    "    recall = correct / all_guesses\n",
    "    personalized_data.append( (precision, recall) )\n",
    "    print(\"Personalized: precision: {:.4f}, recall: {:.4f}, {}-{}-{}\".format(precision * 100.0, recall * 100.0, correct, all_entry, all_guesses))\n",
    "    \n",
    "popularity_data.append((0.0, 1.0))\n",
    "personalized_data.append((0.0, 1.0))"
   ]
  },
  {
   "cell_type": "markdown",
   "metadata": {},
   "source": []
  },
  {
   "cell_type": "code",
   "execution_count": 23,
   "metadata": {},
   "outputs": [
    {
     "data": {
      "image/png": "[encoded data removed]",
      "text/plain": [
       "<Figure size 432x288 with 1 Axes>"
      ]
     },
     "metadata": {
      "needs_background": "light"
     },
     "output_type": "display_data"
    }
   ],
   "source": [
    "lw=0.5\n",
    "plt.figure()\n",
    "popularity_precisions, popularity_recall = zip(*popularity_data)\n",
    "plt.plot([1.0 - r for r in popularity_recall], list(popularity_precisions), color='darkorange',\n",
    "         lw=lw, label='ROC curve (popularity)')\n",
    "personal_precisions, personal_recall= zip(*personalized_data)\n",
    "plt.plot([1.0 - r for r in personal_recall], list(personal_precisions), color='green',\n",
    "         lw=lw, label='ROC curve (personalized)')\n",
    "plt.plot([0.0, 0.5], [0.0, 0.5], color='navy', linestyle='--')\n",
    "plt.xlabel('False Positive Rate')\n",
    "plt.ylabel('True Positive Rate')\n",
    "plt.title('Receiver operating characteristic example')\n",
    "plt.legend(loc=\"lower right\")\n",
    "plt.show()"
   ]
  },
  {
   "cell_type": "markdown",
   "metadata": {
    "collapsed": true
   },
   "source": [
    "The curve shows that the personalized model provides much better performance, since the accuracy increased constantly as we raise the number of recommendations being made."
   ]
  },
  {
   "cell_type": "code",
   "execution_count": null,
   "metadata": {},
   "outputs": [],
   "source": []
  }
 ],
 "metadata": {
  "kernelspec": {
   "display_name": "Python 3",
   "language": "python",
   "name": "python3"
  },
  "language_info": {
   "codemirror_mode": {
    "name": "ipython",
    "version": 3
   },
   "file_extension": ".py",
   "mimetype": "text/x-python",
   "name": "python",
   "nbconvert_exporter": "python",
   "pygments_lexer": "ipython3",
   "version": "3.7.6"
  }
 },
 "nbformat": 4,
 "nbformat_minor": 1
}
